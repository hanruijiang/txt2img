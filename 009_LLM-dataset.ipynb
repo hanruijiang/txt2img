{
 "cells": [
  {
   "cell_type": "code",
   "execution_count": 21,
   "id": "df8daeb9-553e-43c1-81be-d974e7a2c48c",
   "metadata": {
    "tags": []
   },
   "outputs": [],
   "source": [
    "import os\n",
    "import datasets\n",
    "\n",
    "import json\n",
    "import re\n",
    "import hashlib\n",
    "\n",
    "import numpy as np\n",
    "import pandas as pd\n",
    "\n",
    "from tqdm.auto import tqdm\n",
    "\n",
    "from matplotlib import pyplot"
   ]
  },
  {
   "cell_type": "code",
   "execution_count": 2,
   "id": "d0e4ebf2-50f4-45e4-bfb7-bab468811cd4",
   "metadata": {
    "tags": []
   },
   "outputs": [],
   "source": [
    "from prompt_process import is_ascii_string, check_complexity, check_word_redundancy, format_prompt, hash_prompt\n",
    "from prompt_process import contains_cfg, contains_info, contains_junk, contains_link\n",
    "from prompt_process import remove_weight, remove_extra, remove_redundant_tags"
   ]
  },
  {
   "cell_type": "code",
   "execution_count": 3,
   "id": "8d648ee3-86b4-416f-9d44-cc3b8e4d66cd",
   "metadata": {
    "tags": []
   },
   "outputs": [],
   "source": [
    "MAX_LENGTH = 500\n",
    "MAX_TAG_LENGTH = 150"
   ]
  },
  {
   "cell_type": "code",
   "execution_count": 4,
   "id": "376053d0-ea0f-452c-8541-d868f6fee498",
   "metadata": {
    "tags": []
   },
   "outputs": [],
   "source": [
    "def single_worker(items, prompt_worker):\n",
    "    \n",
    "    results = list()\n",
    "\n",
    "    for index, positive_prompt in tqdm(items):\n",
    "\n",
    "        positive_raw_length = len(positive_prompt)\n",
    "\n",
    "        positive_prompt = prompt_worker(positive_prompt)\n",
    "\n",
    "        if len(positive_prompt) == 0:\n",
    "            continue\n",
    "            \n",
    "        positive_hash = hash_prompt(positive_prompt)\n",
    "\n",
    "        results.append((index, positive_prompt, positive_hash, positive_raw_length))\n",
    "            \n",
    "    results = pd.DataFrame(results, columns=['index', 'positive_prompt', 'positive_hash', 'positive_raw_length'])\n",
    "    results.drop_duplicates('positive_hash', inplace=True)\n",
    "\n",
    "    return results\n",
    "\n",
    "def pair_worker(items, prompt_worker):\n",
    "    \n",
    "    results = list()\n",
    "\n",
    "    for index, positive_prompt, negative_prompt in tqdm(items):\n",
    "\n",
    "        positive_raw_length = len(positive_prompt)\n",
    "\n",
    "        positive_prompt = prompt_worker(positive_prompt)\n",
    "\n",
    "        positive_hash = ''\n",
    "        if len(positive_prompt) > 0:\n",
    "            positive_hash = hash_prompt(positive_prompt)\n",
    "\n",
    "        negative_raw_length = len(negative_prompt)\n",
    "\n",
    "        negative_prompt = prompt_worker(negative_prompt)\n",
    "\n",
    "        negative_hash = ''\n",
    "        if len(negative_prompt) > 0:\n",
    "            negative_hash = hash_prompt(negative_prompt)\n",
    "\n",
    "        if len(positive_hash) > 0 or len(negative_hash) > 0:\n",
    "            results.append((index, positive_prompt, positive_hash, positive_raw_length, negative_prompt, negative_hash, negative_raw_length))\n",
    "            \n",
    "    results = pd.DataFrame(results, columns=['index', 'positive_prompt', 'positive_hash', 'positive_raw_length', 'negative_prompt', 'negative_hash', 'negative_raw_length'])\n",
    "    results.drop_duplicates(['positive_hash', 'negative_hash'], keep='last', inplace=True)\n",
    "\n",
    "    return results"
   ]
  },
  {
   "cell_type": "code",
   "execution_count": 5,
   "id": "3af6b29f-301f-4dfb-89a3-23f01c0bf4d2",
   "metadata": {
    "tags": []
   },
   "outputs": [],
   "source": [
    "def civitai_worker(prompt):\n",
    "    \n",
    "    # check midjourney prompts\n",
    "    if '::' in prompt:\n",
    "        return ''\n",
    "        \n",
    "    if prompt[:2] == '**':\n",
    "        return ''\n",
    "        \n",
    "    if '--' in prompt:\n",
    "        return ''\n",
    "    \n",
    "    # extra prompt info\n",
    "        \n",
    "    if 'prompt' in prompt.lower():\n",
    "        return ''\n",
    "        \n",
    "    if contains_cfg(prompt):\n",
    "        return ''\n",
    "    #\n",
    "        \n",
    "    if contains_link(prompt):\n",
    "        return ''\n",
    "    \n",
    "    # if not check_brackets(positive_prompt)[0]:\n",
    "    #     return ''\n",
    "    \n",
    "    prompt = remove_extra(prompt)\n",
    "    \n",
    "    if check_complexity(prompt):\n",
    "        return ''\n",
    "            \n",
    "    prompt = format_prompt(prompt)\n",
    "\n",
    "    prompt = remove_weight(prompt)\n",
    "\n",
    "    prompt = prompt.lower()\n",
    "\n",
    "    prompt = format_prompt(prompt)\n",
    "\n",
    "    prompt = remove_redundant_tags(prompt)\n",
    "\n",
    "    prompt = format_prompt(prompt)\n",
    "\n",
    "    if not contains_info(prompt):\n",
    "        return ''\n",
    "    \n",
    "    if check_word_redundancy(prompt):\n",
    "        return ''\n",
    "    \n",
    "    if contains_junk(prompt):\n",
    "        return ''\n",
    "\n",
    "    return prompt"
   ]
  },
  {
   "cell_type": "markdown",
   "id": "dcfbbe8c-b85b-43c7-a41b-ba16230b8266",
   "metadata": {
    "tags": []
   },
   "source": [
    "# discord"
   ]
  },
  {
   "cell_type": "code",
   "execution_count": 11,
   "id": "1c96e4ff-7003-4bb2-a829-fd72d7367e4e",
   "metadata": {
    "tags": []
   },
   "outputs": [
    {
     "name": "stderr",
     "output_type": "stream",
     "text": [
      "/home/xhxie/.conda/envs/llama_factory/lib/python3.10/site-packages/datasets/table.py:1421: FutureWarning: promote has been superseded by mode='default'.\n",
      "  table = cls._concat_blocks(blocks, axis=0)\n"
     ]
    }
   ],
   "source": [
    "dataset = datasets.load_dataset(\"parquet\", data_files={'train': '../dataset/diffusiondb/metadata-large.parquet'})"
   ]
  },
  {
   "cell_type": "code",
   "execution_count": 7,
   "id": "54dfdf37-852d-473d-9b0f-21a8bb797b50",
   "metadata": {
    "tags": []
   },
   "outputs": [
    {
     "data": {
      "text/plain": [
       "DatasetDict({\n",
       "    train: Dataset({\n",
       "        features: ['image_name', 'prompt', 'part_id', 'seed', 'step', 'cfg', 'sampler', 'width', 'height', 'user_name', 'timestamp', 'image_nsfw', 'prompt_nsfw'],\n",
       "        num_rows: 14000000\n",
       "    })\n",
       "})"
      ]
     },
     "execution_count": 7,
     "metadata": {},
     "output_type": "execute_result"
    }
   ],
   "source": [
    "dataset"
   ]
  },
  {
   "cell_type": "code",
   "execution_count": 8,
   "id": "373ae9cc-185d-46a3-894e-3701e056e388",
   "metadata": {
    "tags": []
   },
   "outputs": [
    {
     "data": {
      "application/vnd.jupyter.widget-view+json": {
       "model_id": "ddf5a07c68474ab39879da9b54aff7fd",
       "version_major": 2,
       "version_minor": 0
      },
      "text/plain": [
       "0it [00:00, ?it/s]"
      ]
     },
     "metadata": {},
     "output_type": "display_data"
    }
   ],
   "source": [
    "items = list()\n",
    "\n",
    "raw_hashs = set()\n",
    "\n",
    "for i, item in tqdm(enumerate(dataset['train'])):\n",
    "    \n",
    "    if not is_ascii_string(item.get('prompt')):\n",
    "        continue\n",
    "\n",
    "    raw_hash = hash_prompt(item['prompt'])\n",
    "    if raw_hash in raw_hashs:\n",
    "        continue\n",
    "    raw_hashs.add(raw_hash)\n",
    "        \n",
    "    positive_prompt = item['prompt']\n",
    "\n",
    "    items.append((i, positive_prompt))"
   ]
  },
  {
   "cell_type": "code",
   "execution_count": 9,
   "id": "cf477008-af14-44be-8fb9-96aa45d1ade0",
   "metadata": {
    "tags": []
   },
   "outputs": [
    {
     "data": {
      "application/vnd.jupyter.widget-view+json": {
       "model_id": "2cafaa05adc44063a9f56d4f80b5dab1",
       "version_major": 2,
       "version_minor": 0
      },
      "text/plain": [
       "  0%|          | 0/1763386 [00:00<?, ?it/s]"
      ]
     },
     "metadata": {},
     "output_type": "display_data"
    },
    {
     "data": {
      "text/html": [
       "<div>\n",
       "<style scoped>\n",
       "    .dataframe tbody tr th:only-of-type {\n",
       "        vertical-align: middle;\n",
       "    }\n",
       "\n",
       "    .dataframe tbody tr th {\n",
       "        vertical-align: top;\n",
       "    }\n",
       "\n",
       "    .dataframe thead th {\n",
       "        text-align: right;\n",
       "    }\n",
       "</style>\n",
       "<table border=\"1\" class=\"dataframe\">\n",
       "  <thead>\n",
       "    <tr style=\"text-align: right;\">\n",
       "      <th></th>\n",
       "      <th>index</th>\n",
       "      <th>positive_prompt</th>\n",
       "      <th>positive_hash</th>\n",
       "      <th>positive_raw_length</th>\n",
       "    </tr>\n",
       "  </thead>\n",
       "  <tbody>\n",
       "    <tr>\n",
       "      <th>0</th>\n",
       "      <td>0</td>\n",
       "      <td>beautiful porcelain ivory fair face woman biom...</td>\n",
       "      <td>35e00c6cc4f7cdc8fbd4c1e97415084c</td>\n",
       "      <td>262</td>\n",
       "    </tr>\n",
       "    <tr>\n",
       "      <th>1</th>\n",
       "      <td>1</td>\n",
       "      <td>complex 3 d render hyper detailed ultra sharp ...</td>\n",
       "      <td>99122ff8e047cf8ff8e1b2b4609af60c</td>\n",
       "      <td>329</td>\n",
       "    </tr>\n",
       "    <tr>\n",
       "      <th>2</th>\n",
       "      <td>15</td>\n",
       "      <td>complex 3 d render hyper detailed ultra sharp ...</td>\n",
       "      <td>c0ec51b309a3d81e251d01371b8500cd</td>\n",
       "      <td>345</td>\n",
       "    </tr>\n",
       "    <tr>\n",
       "      <th>3</th>\n",
       "      <td>16</td>\n",
       "      <td>complex 3 d render hyper detailed ultra sharp ...</td>\n",
       "      <td>afe380f2f9b46392d99f156bc370c37c</td>\n",
       "      <td>338</td>\n",
       "    </tr>\n",
       "    <tr>\n",
       "      <th>4</th>\n",
       "      <td>33</td>\n",
       "      <td>complex 3 d render hyper detailed ultra sharp ...</td>\n",
       "      <td>644fe0a5da6abba388beb68567b73024</td>\n",
       "      <td>338</td>\n",
       "    </tr>\n",
       "    <tr>\n",
       "      <th>...</th>\n",
       "      <td>...</td>\n",
       "      <td>...</td>\n",
       "      <td>...</td>\n",
       "      <td>...</td>\n",
       "    </tr>\n",
       "    <tr>\n",
       "      <th>1743992</th>\n",
       "      <td>13999977</td>\n",
       "      <td>dreaming electric bicycle and electric car by ...</td>\n",
       "      <td>965c0c4fb20f0c7413c9a94ff61ea14f</td>\n",
       "      <td>54</td>\n",
       "    </tr>\n",
       "    <tr>\n",
       "      <th>1743993</th>\n",
       "      <td>13999978</td>\n",
       "      <td>riding neon bycicles in the woods, painted by ...</td>\n",
       "      <td>4dec3e891e2a86cd3d981b0acaabacbb</td>\n",
       "      <td>96</td>\n",
       "    </tr>\n",
       "    <tr>\n",
       "      <th>1743994</th>\n",
       "      <td>13999987</td>\n",
       "      <td>ibai llanos dressed as willy wonka, highly det...</td>\n",
       "      <td>39916ba8edba64c95161fdb3757a2e4c</td>\n",
       "      <td>66</td>\n",
       "    </tr>\n",
       "    <tr>\n",
       "      <th>1743995</th>\n",
       "      <td>13999993</td>\n",
       "      <td>ibai berto romero as willy wonka, highly detai...</td>\n",
       "      <td>16c26bd944f4c77820d52119d653e67e</td>\n",
       "      <td>64</td>\n",
       "    </tr>\n",
       "    <tr>\n",
       "      <th>1743996</th>\n",
       "      <td>13999999</td>\n",
       "      <td>paella by studio ghibli</td>\n",
       "      <td>51ac17319ff44b980415726d633d2fe3</td>\n",
       "      <td>23</td>\n",
       "    </tr>\n",
       "  </tbody>\n",
       "</table>\n",
       "<p>1731648 rows × 4 columns</p>\n",
       "</div>"
      ],
      "text/plain": [
       "            index                                    positive_prompt  \\\n",
       "0               0  beautiful porcelain ivory fair face woman biom...   \n",
       "1               1  complex 3 d render hyper detailed ultra sharp ...   \n",
       "2              15  complex 3 d render hyper detailed ultra sharp ...   \n",
       "3              16  complex 3 d render hyper detailed ultra sharp ...   \n",
       "4              33  complex 3 d render hyper detailed ultra sharp ...   \n",
       "...           ...                                                ...   \n",
       "1743992  13999977  dreaming electric bicycle and electric car by ...   \n",
       "1743993  13999978  riding neon bycicles in the woods, painted by ...   \n",
       "1743994  13999987  ibai llanos dressed as willy wonka, highly det...   \n",
       "1743995  13999993  ibai berto romero as willy wonka, highly detai...   \n",
       "1743996  13999999                            paella by studio ghibli   \n",
       "\n",
       "                            positive_hash  positive_raw_length  \n",
       "0        35e00c6cc4f7cdc8fbd4c1e97415084c                  262  \n",
       "1        99122ff8e047cf8ff8e1b2b4609af60c                  329  \n",
       "2        c0ec51b309a3d81e251d01371b8500cd                  345  \n",
       "3        afe380f2f9b46392d99f156bc370c37c                  338  \n",
       "4        644fe0a5da6abba388beb68567b73024                  338  \n",
       "...                                   ...                  ...  \n",
       "1743992  965c0c4fb20f0c7413c9a94ff61ea14f                   54  \n",
       "1743993  4dec3e891e2a86cd3d981b0acaabacbb                   96  \n",
       "1743994  39916ba8edba64c95161fdb3757a2e4c                   66  \n",
       "1743995  16c26bd944f4c77820d52119d653e67e                   64  \n",
       "1743996  51ac17319ff44b980415726d633d2fe3                   23  \n",
       "\n",
       "[1731648 rows x 4 columns]"
      ]
     },
     "execution_count": 9,
     "metadata": {},
     "output_type": "execute_result"
    }
   ],
   "source": [
    "results = single_worker(items, civitai_worker)\n",
    "results"
   ]
  },
  {
   "cell_type": "code",
   "execution_count": 10,
   "id": "ac4fa5ee-219f-4522-8f94-ef035957a42b",
   "metadata": {
    "tags": []
   },
   "outputs": [],
   "source": [
    "results.to_csv('../dataset/nonredundant-discord_prompts.tsv', sep='\\t', index=False)"
   ]
  },
  {
   "cell_type": "markdown",
   "id": "e21e9eed-2555-42ad-831b-81d198d897a1",
   "metadata": {},
   "source": [
    "# civitai"
   ]
  },
  {
   "cell_type": "markdown",
   "id": "87161d03-0c00-420d-b5e9-3c129499cfb9",
   "metadata": {},
   "source": [
    "## scrap"
   ]
  },
  {
   "cell_type": "code",
   "execution_count": 11,
   "id": "430edd46-9243-4f79-a268-cdc67964ff4b",
   "metadata": {
    "tags": []
   },
   "outputs": [],
   "source": [
    "import requests\n",
    "import json\n",
    "import time\n",
    "from tqdm.auto import tqdm"
   ]
  },
  {
   "cell_type": "code",
   "execution_count": null,
   "id": "7746449c-ee68-473a-87a6-83e906fa0af2",
   "metadata": {
    "tags": []
   },
   "outputs": [],
   "source": [
    "proxies = {\n",
    "    # 'http': 'http://localhost:7890',\n",
    "    # 'https': 'http://localhost:7890'\n",
    "    'http': 'http://10.68.98.153:7890',\n",
    "    'https': 'http://10.68.98.153:7890'\n",
    "}\n",
    "\n",
    "headers = {'Content-Type': 'application/json'}"
   ]
  },
  {
   "cell_type": "code",
   "execution_count": null,
   "id": "7724acf6-0fed-4658-9e37-54c1bfb5cd52",
   "metadata": {},
   "outputs": [],
   "source": [
    "url = 'https://civitai.com/api/v1/images'\n",
    "\n",
    "results = list()"
   ]
  },
  {
   "cell_type": "code",
   "execution_count": null,
   "id": "f091a5c7-d3aa-480b-a03d-3a34e0cc716d",
   "metadata": {
    "tags": []
   },
   "outputs": [],
   "source": [
    "tbar = tqdm()\n",
    "\n",
    "wait_time = 2\n",
    "flag = True\n",
    "while flag:\n",
    "    \n",
    "    try:\n",
    "        data = requests.get(url, proxies=proxies)\n",
    "        data = json.loads(data.content)\n",
    "        url = data['metadata'].get('nextPage')\n",
    "    except KeyboardInterrupt:\n",
    "        break\n",
    "    except:\n",
    "        wait_time = min(60, wait_time * 2)\n",
    "        time.sleep(wait_time)\n",
    "        continue\n",
    "    \n",
    "    if url == None: break\n",
    "\n",
    "    items = data['items']\n",
    "    # now do whatever you want with data\n",
    "            \n",
    "    wait_time = 2\n",
    "    time.sleep(wait_time)\n",
    "    results.extend(items)\n",
    "    tbar.update()"
   ]
  },
  {
   "cell_type": "code",
   "execution_count": null,
   "id": "6323926d-e71b-40ac-bf2a-dafc2475dbf2",
   "metadata": {
    "tags": []
   },
   "outputs": [],
   "source": [
    "with open('../dataset/scrap/civitai-2023-11-14.jsonl', 'wt') as f:\n",
    "    for i in tqdm(results):\n",
    "        f.write(json.dumps(i) + '\\n')"
   ]
  },
  {
   "cell_type": "markdown",
   "id": "130d12be-5292-447a-a49c-ff8a0a0d0dd9",
   "metadata": {},
   "source": [
    "## from scrap"
   ]
  },
  {
   "cell_type": "code",
   "execution_count": 12,
   "id": "ef356453-b8f1-4f88-94ea-758ae54a6e5c",
   "metadata": {
    "tags": []
   },
   "outputs": [
    {
     "data": {
      "application/vnd.jupyter.widget-view+json": {
       "model_id": "95e23e2c2bd44a82a196989e7b2dd2ed",
       "version_major": 2,
       "version_minor": 0
      },
      "text/plain": [
       "0it [00:00, ?it/s]"
      ]
     },
     "metadata": {},
     "output_type": "display_data"
    }
   ],
   "source": [
    "items = list()\n",
    "\n",
    "sc_hashs = set()\n",
    "\n",
    "with open('../dataset/scrap/civitai-2023-11-14.jsonl') as f:\n",
    "    for i, line in tqdm(enumerate(f)):\n",
    "        item = json.loads(line)\n",
    "        \n",
    "        sc_hashs.add(item['hash'])\n",
    "        \n",
    "        item = item['meta']\n",
    "        \n",
    "        if item is None:\n",
    "            continue\n",
    "        \n",
    "        positive_prompt = ''\n",
    "        if is_ascii_string(item.get('prompt')):\n",
    "            positive_prompt = item['prompt']\n",
    "        \n",
    "        negative_prompt = ''\n",
    "        if is_ascii_string(item.get('negativePrompt')):\n",
    "            negative_prompt = item['negativePrompt']\n",
    "        \n",
    "        if len(positive_prompt) > 0 or len(negative_prompt) > 0:\n",
    "            items.append((i, positive_prompt, negative_prompt))"
   ]
  },
  {
   "cell_type": "markdown",
   "id": "33e0f099-a822-48b6-87b2-5bb43ac1469e",
   "metadata": {},
   "source": [
    "## from hugging face"
   ]
  },
  {
   "cell_type": "code",
   "execution_count": 13,
   "id": "a8211f73-df36-492a-939e-4917c58ee4d4",
   "metadata": {
    "tags": []
   },
   "outputs": [
    {
     "name": "stderr",
     "output_type": "stream",
     "text": [
      "/home/xhxie/.conda/envs/llama_factory/lib/python3.10/site-packages/datasets/table.py:1421: FutureWarning: promote has been superseded by mode='default'.\n",
      "  table = cls._concat_blocks(blocks, axis=0)\n"
     ]
    }
   ],
   "source": [
    "dataset = datasets.load_dataset(\"parquet\", data_files={'train': '../dataset/civitai-stable-diffusion-337k/data/train-00000-of-00001-ace5b28cebba25a7.parquet'})"
   ]
  },
  {
   "cell_type": "code",
   "execution_count": 14,
   "id": "15c853d1-66d3-4e63-8f3d-6369e26ff440",
   "metadata": {
    "tags": []
   },
   "outputs": [
    {
     "data": {
      "text/plain": [
       "DatasetDict({\n",
       "    train: Dataset({\n",
       "        features: ['id', 'prompt', 'negativePrompt', 'steps', 'sampler', 'seed', 'Model', 'url', 'hash', 'nsfw', 'width', 'height', 'Size', 'createdAt', 'postId', 'stats', 'meta', 'username'],\n",
       "        num_rows: 327138\n",
       "    })\n",
       "})"
      ]
     },
     "execution_count": 14,
     "metadata": {},
     "output_type": "execute_result"
    }
   ],
   "source": [
    "dataset"
   ]
  },
  {
   "cell_type": "code",
   "execution_count": 15,
   "id": "32cd52dd-12d9-4fa9-99c5-58a9b56ddf51",
   "metadata": {
    "tags": []
   },
   "outputs": [
    {
     "data": {
      "application/vnd.jupyter.widget-view+json": {
       "model_id": "4630471b2c8b4ef3a00ebe532c598023",
       "version_major": 2,
       "version_minor": 0
      },
      "text/plain": [
       "0it [00:00, ?it/s]"
      ]
     },
     "metadata": {},
     "output_type": "display_data"
    }
   ],
   "source": [
    "hf_hashs = set()\n",
    "\n",
    "for i, item in tqdm(enumerate(dataset['train'])):\n",
    "    \n",
    "    hf_hashs.add(item['hash'])\n",
    "\n",
    "    positive_prompt = ''\n",
    "    if is_ascii_string(item.get('prompt')):\n",
    "        positive_prompt = item['prompt']\n",
    "\n",
    "    negative_prompt = ''\n",
    "    if is_ascii_string(item.get('negativePrompt')):\n",
    "        negative_prompt = item['negativePrompt']\n",
    "\n",
    "    if len(positive_prompt) > 0 or len(negative_prompt) > 0:\n",
    "        items.append((i, positive_prompt, negative_prompt))"
   ]
  },
  {
   "cell_type": "code",
   "execution_count": 16,
   "id": "5bba096a-92e6-4c00-8953-d597560449b9",
   "metadata": {
    "tags": []
   },
   "outputs": [
    {
     "data": {
      "text/plain": [
       "297377"
      ]
     },
     "execution_count": 16,
     "metadata": {},
     "output_type": "execute_result"
    }
   ],
   "source": [
    "len(hf_hashs & sc_hashs)"
   ]
  },
  {
   "cell_type": "code",
   "execution_count": 17,
   "id": "b6161d56-866b-4796-93fd-6b3050aaa8a4",
   "metadata": {
    "tags": []
   },
   "outputs": [
    {
     "data": {
      "application/vnd.jupyter.widget-view+json": {
       "model_id": "f1ed7a5b6c7e43408cc3de576633451b",
       "version_major": 2,
       "version_minor": 0
      },
      "text/plain": [
       "  0%|          | 0/2561325 [00:00<?, ?it/s]"
      ]
     },
     "metadata": {},
     "output_type": "display_data"
    },
    {
     "data": {
      "text/html": [
       "<div>\n",
       "<style scoped>\n",
       "    .dataframe tbody tr th:only-of-type {\n",
       "        vertical-align: middle;\n",
       "    }\n",
       "\n",
       "    .dataframe tbody tr th {\n",
       "        vertical-align: top;\n",
       "    }\n",
       "\n",
       "    .dataframe thead th {\n",
       "        text-align: right;\n",
       "    }\n",
       "</style>\n",
       "<table border=\"1\" class=\"dataframe\">\n",
       "  <thead>\n",
       "    <tr style=\"text-align: right;\">\n",
       "      <th></th>\n",
       "      <th>index</th>\n",
       "      <th>positive_prompt</th>\n",
       "      <th>positive_hash</th>\n",
       "      <th>positive_raw_length</th>\n",
       "      <th>negative_prompt</th>\n",
       "      <th>negative_hash</th>\n",
       "      <th>negative_raw_length</th>\n",
       "    </tr>\n",
       "  </thead>\n",
       "  <tbody>\n",
       "    <tr>\n",
       "      <th>28</th>\n",
       "      <td>43</td>\n",
       "      <td>ultra-realistic 8k cg, masterpiece, best quali...</td>\n",
       "      <td>70b886cea194b03aeb065b91eb5cdae3</td>\n",
       "      <td>642</td>\n",
       "      <td>easynegative, worst quality, low quality, norm...</td>\n",
       "      <td>43a0c1dcfef3551b6ebe46a8e4bd76ff</td>\n",
       "      <td>245</td>\n",
       "    </tr>\n",
       "    <tr>\n",
       "      <th>30</th>\n",
       "      <td>45</td>\n",
       "      <td>onoff, a dog in a vest</td>\n",
       "      <td>189609bbee1dd9be136973bd736ae48b</td>\n",
       "      <td>42</td>\n",
       "      <td></td>\n",
       "      <td></td>\n",
       "      <td>0</td>\n",
       "    </tr>\n",
       "    <tr>\n",
       "      <th>36</th>\n",
       "      <td>55</td>\n",
       "      <td>sex, on floor, squatting cowgirl position, gir...</td>\n",
       "      <td>ab0037482a0499da81b41f19888ceb8e</td>\n",
       "      <td>573</td>\n",
       "      <td>worst quality, bad quality, low quality, norma...</td>\n",
       "      <td>c83850626f176f2838dadfd434726c5b</td>\n",
       "      <td>961</td>\n",
       "    </tr>\n",
       "    <tr>\n",
       "      <th>39</th>\n",
       "      <td>59</td>\n",
       "      <td>nsfw, 1girl, 1boy, a girl fucked by a boy, eks...</td>\n",
       "      <td>c5347fbee6fb83d36135f37bb9981644</td>\n",
       "      <td>358</td>\n",
       "      <td>easynegativev2, worst quality, low quality, ba...</td>\n",
       "      <td>d93d163b6935a1f6bfc402393d3ad86c</td>\n",
       "      <td>182</td>\n",
       "    </tr>\n",
       "    <tr>\n",
       "      <th>42</th>\n",
       "      <td>63</td>\n",
       "      <td>masterpiece, best quality, beautiful, extremel...</td>\n",
       "      <td>7e282e7767adaa9d2b9586498b89c98f</td>\n",
       "      <td>239</td>\n",
       "      <td></td>\n",
       "      <td></td>\n",
       "      <td>1754</td>\n",
       "    </tr>\n",
       "    <tr>\n",
       "      <th>...</th>\n",
       "      <td>...</td>\n",
       "      <td>...</td>\n",
       "      <td>...</td>\n",
       "      <td>...</td>\n",
       "      <td>...</td>\n",
       "      <td>...</td>\n",
       "      <td>...</td>\n",
       "    </tr>\n",
       "    <tr>\n",
       "      <th>2507983</th>\n",
       "      <td>326599</td>\n",
       "      <td>portrait of a ancient greek medium carmine dra...</td>\n",
       "      <td>9ae651f2f78951e49a680abb8d3fddaf</td>\n",
       "      <td>204</td>\n",
       "      <td>cartoon, anime, horns</td>\n",
       "      <td>c1e03cb1b3996398a0f8e93bb1a6292a</td>\n",
       "      <td>22</td>\n",
       "    </tr>\n",
       "    <tr>\n",
       "      <th>2507984</th>\n",
       "      <td>326619</td>\n",
       "      <td>samdoesarts style drunken beautiful woman as d...</td>\n",
       "      <td>1165adbda1f896b6f320e0b13da9ff48</td>\n",
       "      <td>236</td>\n",
       "      <td>cartoon, disfigured, bad art, deformed, poorly...</td>\n",
       "      <td>61e970afe2d6fc3d8ae61becc707bd3e</td>\n",
       "      <td>130</td>\n",
       "    </tr>\n",
       "    <tr>\n",
       "      <th>2507985</th>\n",
       "      <td>326620</td>\n",
       "      <td>samdoesarts style woman by agnes cecile, lumin...</td>\n",
       "      <td>d344645b87ea82a301165439307acc0f</td>\n",
       "      <td>98</td>\n",
       "      <td>cartoon, disfigured, bad art, deformed, poorly...</td>\n",
       "      <td>61e970afe2d6fc3d8ae61becc707bd3e</td>\n",
       "      <td>130</td>\n",
       "    </tr>\n",
       "    <tr>\n",
       "      <th>2507988</th>\n",
       "      <td>326623</td>\n",
       "      <td>samdoesarts style symmetry, portrait of floral...</td>\n",
       "      <td>a2395962a5420d633e2dce3868189865</td>\n",
       "      <td>343</td>\n",
       "      <td>cartoon, disfigured, bad art, deformed, poorly...</td>\n",
       "      <td>61e970afe2d6fc3d8ae61becc707bd3e</td>\n",
       "      <td>130</td>\n",
       "    </tr>\n",
       "    <tr>\n",
       "      <th>2507989</th>\n",
       "      <td>326795</td>\n",
       "      <td>samdoesarts style photorealistic painting full...</td>\n",
       "      <td>baef827cebe57e315fc65a8aa869dbd8</td>\n",
       "      <td>374</td>\n",
       "      <td>cartoon, disfigured, bad art, deformed, poorly...</td>\n",
       "      <td>61e970afe2d6fc3d8ae61becc707bd3e</td>\n",
       "      <td>130</td>\n",
       "    </tr>\n",
       "  </tbody>\n",
       "</table>\n",
       "<p>1348061 rows × 7 columns</p>\n",
       "</div>"
      ],
      "text/plain": [
       "          index                                    positive_prompt  \\\n",
       "28           43  ultra-realistic 8k cg, masterpiece, best quali...   \n",
       "30           45                             onoff, a dog in a vest   \n",
       "36           55  sex, on floor, squatting cowgirl position, gir...   \n",
       "39           59  nsfw, 1girl, 1boy, a girl fucked by a boy, eks...   \n",
       "42           63  masterpiece, best quality, beautiful, extremel...   \n",
       "...         ...                                                ...   \n",
       "2507983  326599  portrait of a ancient greek medium carmine dra...   \n",
       "2507984  326619  samdoesarts style drunken beautiful woman as d...   \n",
       "2507985  326620  samdoesarts style woman by agnes cecile, lumin...   \n",
       "2507988  326623  samdoesarts style symmetry, portrait of floral...   \n",
       "2507989  326795  samdoesarts style photorealistic painting full...   \n",
       "\n",
       "                            positive_hash  positive_raw_length  \\\n",
       "28       70b886cea194b03aeb065b91eb5cdae3                  642   \n",
       "30       189609bbee1dd9be136973bd736ae48b                   42   \n",
       "36       ab0037482a0499da81b41f19888ceb8e                  573   \n",
       "39       c5347fbee6fb83d36135f37bb9981644                  358   \n",
       "42       7e282e7767adaa9d2b9586498b89c98f                  239   \n",
       "...                                   ...                  ...   \n",
       "2507983  9ae651f2f78951e49a680abb8d3fddaf                  204   \n",
       "2507984  1165adbda1f896b6f320e0b13da9ff48                  236   \n",
       "2507985  d344645b87ea82a301165439307acc0f                   98   \n",
       "2507988  a2395962a5420d633e2dce3868189865                  343   \n",
       "2507989  baef827cebe57e315fc65a8aa869dbd8                  374   \n",
       "\n",
       "                                           negative_prompt  \\\n",
       "28       easynegative, worst quality, low quality, norm...   \n",
       "30                                                           \n",
       "36       worst quality, bad quality, low quality, norma...   \n",
       "39       easynegativev2, worst quality, low quality, ba...   \n",
       "42                                                           \n",
       "...                                                    ...   \n",
       "2507983                              cartoon, anime, horns   \n",
       "2507984  cartoon, disfigured, bad art, deformed, poorly...   \n",
       "2507985  cartoon, disfigured, bad art, deformed, poorly...   \n",
       "2507988  cartoon, disfigured, bad art, deformed, poorly...   \n",
       "2507989  cartoon, disfigured, bad art, deformed, poorly...   \n",
       "\n",
       "                            negative_hash  negative_raw_length  \n",
       "28       43a0c1dcfef3551b6ebe46a8e4bd76ff                  245  \n",
       "30                                                           0  \n",
       "36       c83850626f176f2838dadfd434726c5b                  961  \n",
       "39       d93d163b6935a1f6bfc402393d3ad86c                  182  \n",
       "42                                                        1754  \n",
       "...                                   ...                  ...  \n",
       "2507983  c1e03cb1b3996398a0f8e93bb1a6292a                   22  \n",
       "2507984  61e970afe2d6fc3d8ae61becc707bd3e                  130  \n",
       "2507985  61e970afe2d6fc3d8ae61becc707bd3e                  130  \n",
       "2507988  61e970afe2d6fc3d8ae61becc707bd3e                  130  \n",
       "2507989  61e970afe2d6fc3d8ae61becc707bd3e                  130  \n",
       "\n",
       "[1348061 rows x 7 columns]"
      ]
     },
     "execution_count": 17,
     "metadata": {},
     "output_type": "execute_result"
    }
   ],
   "source": [
    "results = pair_worker(items, civitai_worker)\n",
    "results"
   ]
  },
  {
   "cell_type": "code",
   "execution_count": 18,
   "id": "7fb20fa1-89e4-4d25-a309-06a37304e47d",
   "metadata": {
    "tags": []
   },
   "outputs": [],
   "source": [
    "results.to_csv('../dataset/nonredundant-civitai_prompts.tsv', sep='\\t', index=False)"
   ]
  },
  {
   "cell_type": "markdown",
   "id": "c70e2d1c-a0eb-479d-b114-7f79fef0ea4d",
   "metadata": {},
   "source": [
    "## add id"
   ]
  },
  {
   "cell_type": "code",
   "execution_count": 23,
   "id": "9e32c092-7cf0-48f3-a0d3-9d2ab66d501f",
   "metadata": {
    "tags": []
   },
   "outputs": [],
   "source": [
    "df = pd.read_csv('../dataset/nonredundant-civitai_prompts.tsv', sep='\\t')"
   ]
  },
  {
   "cell_type": "code",
   "execution_count": 24,
   "id": "9bbffc41-dd53-427a-ba3b-7440d3606a47",
   "metadata": {
    "tags": []
   },
   "outputs": [],
   "source": [
    "last = 0\n",
    "for offset, index in enumerate(df['index']):\n",
    "    if index < last:\n",
    "        break\n",
    "    last = index"
   ]
  },
  {
   "cell_type": "code",
   "execution_count": 43,
   "id": "d70b60b9-a051-43d3-8bcd-23e15d1423fe",
   "metadata": {
    "tags": []
   },
   "outputs": [
    {
     "data": {
      "application/vnd.jupyter.widget-view+json": {
       "model_id": "4047e69ec0354a868dac384f70e9e6a5",
       "version_major": 2,
       "version_minor": 0
      },
      "text/plain": [
       "0it [00:00, ?it/s]"
      ]
     },
     "metadata": {},
     "output_type": "display_data"
    }
   ],
   "source": [
    "indices = list(reversed(list(df['index'].iloc[:offset])))\n",
    "\n",
    "index = indices.pop()\n",
    "\n",
    "ids = list()\n",
    "has_controlnets = list()\n",
    "\n",
    "with open('../dataset/scrap/civitai-2023-11-14.jsonl') as f:\n",
    "    for i, line in tqdm(enumerate(f)):\n",
    "        item = json.loads(line)\n",
    "    \n",
    "        if i > index:\n",
    "            break\n",
    "        if i < index:\n",
    "            continue\n",
    "\n",
    "        ids.append(item['id'])\n",
    "        \n",
    "        has_controlnet = False\n",
    "        for key in item['meta'].keys():\n",
    "            if 'control' in key.lower():\n",
    "                has_controlnet = True\n",
    "                break\n",
    "        \n",
    "        has_controlnets.append(has_controlnet)\n",
    "        \n",
    "        try:\n",
    "            index = indices.pop()\n",
    "        except:\n",
    "            break"
   ]
  },
  {
   "cell_type": "code",
   "execution_count": 44,
   "id": "94244119-e4fb-4cbd-9760-c09443385ac5",
   "metadata": {
    "tags": []
   },
   "outputs": [
    {
     "name": "stderr",
     "output_type": "stream",
     "text": [
      "/home/xhxie/.conda/envs/llama_factory/lib/python3.10/site-packages/datasets/table.py:1421: FutureWarning: promote has been superseded by mode='default'.\n",
      "  table = cls._concat_blocks(blocks, axis=0)\n"
     ]
    }
   ],
   "source": [
    "dataset = datasets.load_dataset(\"parquet\", data_files={'train': '../dataset/civitai-stable-diffusion-337k/data/train-00000-of-00001-ace5b28cebba25a7.parquet'})"
   ]
  },
  {
   "cell_type": "code",
   "execution_count": 55,
   "id": "0848df16-eaf0-4e7e-a94b-6a99e816bac4",
   "metadata": {
    "tags": []
   },
   "outputs": [
    {
     "data": {
      "application/vnd.jupyter.widget-view+json": {
       "model_id": "fda83d5eebb8441c946c8ab7d89d4ce2",
       "version_major": 2,
       "version_minor": 0
      },
      "text/plain": [
       "0it [00:00, ?it/s]"
      ]
     },
     "metadata": {},
     "output_type": "display_data"
    }
   ],
   "source": [
    "indices = list(reversed(list(df['index'].iloc[offset:])))\n",
    "\n",
    "index = indices.pop()\n",
    "\n",
    "for i, item in tqdm(enumerate(dataset['train'])):\n",
    "    \n",
    "    if i > index:\n",
    "        break\n",
    "    if i < index:\n",
    "        continue\n",
    "    \n",
    "    ids.append(item['id'])\n",
    "\n",
    "    has_controlnet = False\n",
    "    for key in eval(item['meta']).keys():\n",
    "        if 'control' in key.lower():\n",
    "            has_controlnet = True\n",
    "            break\n",
    "\n",
    "    has_controlnets.append(has_controlnet)\n",
    "    \n",
    "    try:\n",
    "        index = indices.pop()\n",
    "    except:\n",
    "        break"
   ]
  },
  {
   "cell_type": "code",
   "execution_count": 56,
   "id": "188ebee4-d8c4-4f6f-a42c-55409dede317",
   "metadata": {
    "tags": []
   },
   "outputs": [],
   "source": [
    "df['id'] = ids\n",
    "df['has_controlnet'] = has_controlnets"
   ]
  },
  {
   "cell_type": "code",
   "execution_count": 57,
   "id": "fea00c76-90c4-4db1-b563-8b251a669c1e",
   "metadata": {
    "tags": []
   },
   "outputs": [],
   "source": [
    "df.to_csv('../dataset/nonredundant-civitai_prompts.tsv', sep='\\t', index=False)"
   ]
  },
  {
   "cell_type": "markdown",
   "id": "e8693406-978d-47e8-a03e-9c2c4a64c315",
   "metadata": {},
   "source": [
    "## download paired images"
   ]
  },
  {
   "cell_type": "code",
   "execution_count": 3,
   "id": "d265a428-c18d-460d-8dbd-11def15352f8",
   "metadata": {
    "tags": []
   },
   "outputs": [],
   "source": [
    "save_dir = '../dataset/civitai-stable-diffusion-337k/images/'"
   ]
  },
  {
   "cell_type": "code",
   "execution_count": 4,
   "id": "056fee23-7daf-4df4-9e7a-a8fbc0b5d9eb",
   "metadata": {
    "tags": []
   },
   "outputs": [],
   "source": [
    "df = pd.read_csv('../dataset/nonredundant-civitai_prompts.tsv', sep='\\t')\n",
    "\n",
    "df.dropna(inplace=True)\n",
    "\n",
    "df['positive_length'] = df['positive_prompt'].str.len()\n",
    "df['negative_length'] = df['negative_prompt'].str.len()"
   ]
  },
  {
   "cell_type": "code",
   "execution_count": 5,
   "id": "c4f796a2-58dd-43b4-b36c-ca76d5725cf8",
   "metadata": {
    "tags": []
   },
   "outputs": [],
   "source": [
    "selected = df.query('positive_length > 25 and negative_length > 25').query('not has_controlnet')\n",
    "# selected = selected.query('positive_length < 250 and negative_length < 250')\n",
    "# selected = selected.query('positive_raw_length - positive_length < 100').query('negative_raw_length - negative_length < 100')\n",
    "# selected = selected.query('positive_raw_length / positive_length < 1.5').query('negative_raw_length / negative_length < 1.5')\n",
    "selected = selected.drop_duplicates('positive_prompt', keep='last').drop_duplicates('negative_prompt', keep='last')"
   ]
  },
  {
   "cell_type": "code",
   "execution_count": 6,
   "id": "3469f99d-7a42-4263-b22c-9b2fcfde1115",
   "metadata": {
    "tags": []
   },
   "outputs": [],
   "source": [
    "import requests\n",
    "\n",
    "from io import BytesIO\n",
    "from PIL import Image\n",
    "import time\n",
    "\n",
    "proxies = {\n",
    "    # 'http': 'http://localhost:7890',\n",
    "    # 'https': 'http://localhost:7890'\n",
    "    'http': 'http://10.68.98.153:7890',\n",
    "    'https': 'http://10.68.98.153:7890'\n",
    "}"
   ]
  },
  {
   "cell_type": "code",
   "execution_count": 19,
   "id": "a2706eaf-c72e-4bc6-921d-27beeeefe9af",
   "metadata": {
    "tags": []
   },
   "outputs": [
    {
     "data": {
      "application/vnd.jupyter.widget-view+json": {
       "model_id": "033f7ca9c80644a8b86da1bd5be73251",
       "version_major": 2,
       "version_minor": 0
      },
      "text/plain": [
       "0it [00:00, ?it/s]"
      ]
     },
     "metadata": {},
     "output_type": "display_data"
    }
   ],
   "source": [
    "ids = set(selected['index'])\n",
    "\n",
    "with open('../dataset/scrap/civitai-2023-11-14-sorted.jsonl') as f:\n",
    "    for i, line in tqdm(enumerate(f)):\n",
    "        item = json.loads(line)\n",
    "        \n",
    "        if item is None:\n",
    "            continue\n",
    "            \n",
    "        if item['id'] not in ids:\n",
    "            continue\n",
    "        \n",
    "        if item['width'] * item['height'] > 2e6:\n",
    "            continue\n",
    "        \n",
    "        if item['width'] != item['height']:\n",
    "            continue\n",
    "        \n",
    "        output_path = os.path.join(save_dir, f'{item[\"id\"]}.jpeg')\n",
    "\n",
    "        if os.path.exists(output_path):\n",
    "            continue\n",
    "        \n",
    "        try:\n",
    "\n",
    "            data = requests.get(item['url'], proxies=proxies, timeout=(3.0, 10.0))\n",
    "\n",
    "            if data.status_code == 200:\n",
    "                Image.open(BytesIO(data.content)).save(output_path)\n",
    "            else:\n",
    "                continue\n",
    "\n",
    "        except KeyboardInterrupt:\n",
    "            break\n",
    "        except:\n",
    "            continue"
   ]
  },
  {
   "cell_type": "markdown",
   "id": "6b95fb06-09e2-4cb3-aaa2-a47d9960fce6",
   "metadata": {},
   "source": [
    "## stats"
   ]
  },
  {
   "cell_type": "code",
   "execution_count": 12,
   "id": "ab35ff6c-9835-46a5-bc8d-d47b440cb889",
   "metadata": {
    "tags": []
   },
   "outputs": [
    {
     "data": {
      "application/vnd.jupyter.widget-view+json": {
       "model_id": "",
       "version_major": 2,
       "version_minor": 0
      },
      "text/plain": [
       "  0%|          | 0/327138 [00:00<?, ?it/s]"
      ]
     },
     "metadata": {},
     "output_type": "display_data"
    }
   ],
   "source": [
    "metas = list()\n",
    "\n",
    "for item in tqdm(dataset['train']):\n",
    "    \n",
    "    try:\n",
    "        meta = eval(item['meta'])\n",
    "    except:\n",
    "        continue\n",
    "    \n",
    "    metas.append({\n",
    "        'steps': meta.get('steps'),\n",
    "        'sampler': meta.get('sampler'),\n",
    "        'cfgScale': meta.get('cfgScale'),\n",
    "        'Clip skip': meta.get('Clip skip'),\n",
    "        'Denoising strength': meta.get('Denoising strength'),\n",
    "    })"
   ]
  },
  {
   "cell_type": "code",
   "execution_count": 14,
   "id": "967fff1c-77ff-430d-a548-1601d9d7a28d",
   "metadata": {
    "tags": []
   },
   "outputs": [],
   "source": [
    "metas = pd.DataFrame(metas)"
   ]
  },
  {
   "cell_type": "markdown",
   "id": "95187c1c-2945-4e95-830f-e90d78e4a8fa",
   "metadata": {},
   "source": [
    "## get tags"
   ]
  },
  {
   "cell_type": "code",
   "execution_count": 26,
   "id": "8f6f746d-1656-4525-8605-07d49cf194f1",
   "metadata": {
    "tags": []
   },
   "outputs": [
    {
     "data": {
      "application/vnd.jupyter.widget-view+json": {
       "model_id": "d7795d3ee4fb42f59779cb5881c79d9a",
       "version_major": 2,
       "version_minor": 0
      },
      "text/plain": [
       "0it [00:00, ?it/s]"
      ]
     },
     "metadata": {},
     "output_type": "display_data"
    }
   ],
   "source": [
    "nsfws = list()\n",
    "nsfwLevels = list()\n",
    "\n",
    "ids = list()\n",
    "has_controlnets = list()\n",
    "\n",
    "with open('../dataset/scrap/civitai-2023-11-14.jsonl') as f:\n",
    "    for i, line in tqdm(enumerate(f)):\n",
    "        \n",
    "        item = json.loads(line)\n",
    "        \n",
    "        nsfws.append(item['nsfw'])\n",
    "        nsfwLevels.append(item['nsfwLevel'])\n",
    "\n",
    "        ids.append(item['id'])\n",
    "        \n",
    "        has_controlnet = False\n",
    "        if item['meta'] is not None:\n",
    "            for key in item['meta'].keys():\n",
    "                if 'control' in key.lower():\n",
    "                    has_controlnet = True\n",
    "                    break\n",
    "        has_controlnets.append(has_controlnet)"
   ]
  },
  {
   "cell_type": "code",
   "execution_count": 27,
   "id": "0e2da8e9-94c4-4471-9d4c-9581cffbeef3",
   "metadata": {
    "tags": []
   },
   "outputs": [],
   "source": [
    "np.savez_compressed(\n",
    "    '../dataset/scrap/civitai-2023-11-14.npz', \n",
    "    nsfw=np.array(nsfws).astype(bool), \n",
    "    nsfwLevel=np.array(nsfwLevels), \n",
    "    id=np.array(ids).astype('int32'), \n",
    "    has_controlnet=np.array(has_controlnet).astype(bool)\n",
    ")"
   ]
  },
  {
   "cell_type": "markdown",
   "id": "962d2f82-fc94-4cea-987c-ac03680569b9",
   "metadata": {},
   "source": [
    "# leonardo ai"
   ]
  },
  {
   "cell_type": "code",
   "execution_count": 19,
   "id": "bc06927f-7524-4bc7-b3bb-8f6f7849b937",
   "metadata": {
    "tags": []
   },
   "outputs": [
    {
     "data": {
      "application/vnd.jupyter.widget-view+json": {
       "model_id": "dc2b3b48890b4138ab28d5129f37f91a",
       "version_major": 2,
       "version_minor": 0
      },
      "text/plain": [
       "0it [00:00, ?it/s]"
      ]
     },
     "metadata": {},
     "output_type": "display_data"
    }
   ],
   "source": [
    "items = list()\n",
    "with open('../dataset/scrap/leonardo-text-data.jsonl') as f:\n",
    "    for i, line in tqdm(enumerate(f)):\n",
    "        item = json.loads(line)\n",
    "        item = item['generation']\n",
    "        \n",
    "        positive_prompt = ''\n",
    "        if is_ascii_string(item['prompt']):\n",
    "            positive_prompt = item['prompt']\n",
    "        \n",
    "        negative_prompt = ''\n",
    "        if is_ascii_string(item['negativePrompt']):\n",
    "            negative_prompt = item['negativePrompt']\n",
    "        \n",
    "        if len(positive_prompt) > 0 or len(negative_prompt) > 0:\n",
    "            items.append((i, positive_prompt, negative_prompt))"
   ]
  },
  {
   "cell_type": "code",
   "execution_count": 20,
   "id": "58185d18-b929-4ad5-b1f3-e7747807d3da",
   "metadata": {
    "tags": []
   },
   "outputs": [
    {
     "data": {
      "application/vnd.jupyter.widget-view+json": {
       "model_id": "c9eca30686ce4bb491666f45e5e39032",
       "version_major": 2,
       "version_minor": 0
      },
      "text/plain": [
       "  0%|          | 0/701684 [00:00<?, ?it/s]"
      ]
     },
     "metadata": {},
     "output_type": "display_data"
    },
    {
     "data": {
      "text/html": [
       "<div>\n",
       "<style scoped>\n",
       "    .dataframe tbody tr th:only-of-type {\n",
       "        vertical-align: middle;\n",
       "    }\n",
       "\n",
       "    .dataframe tbody tr th {\n",
       "        vertical-align: top;\n",
       "    }\n",
       "\n",
       "    .dataframe thead th {\n",
       "        text-align: right;\n",
       "    }\n",
       "</style>\n",
       "<table border=\"1\" class=\"dataframe\">\n",
       "  <thead>\n",
       "    <tr style=\"text-align: right;\">\n",
       "      <th></th>\n",
       "      <th>index</th>\n",
       "      <th>positive_prompt</th>\n",
       "      <th>positive_hash</th>\n",
       "      <th>positive_raw_length</th>\n",
       "      <th>negative_prompt</th>\n",
       "      <th>negative_hash</th>\n",
       "      <th>negative_raw_length</th>\n",
       "    </tr>\n",
       "  </thead>\n",
       "  <tbody>\n",
       "    <tr>\n",
       "      <th>3</th>\n",
       "      <td>3</td>\n",
       "      <td>bohemian florals, t-shirt graphic, white backg...</td>\n",
       "      <td>54f5662d66804655c00261169767b139</td>\n",
       "      <td>51</td>\n",
       "      <td></td>\n",
       "      <td></td>\n",
       "      <td>0</td>\n",
       "    </tr>\n",
       "    <tr>\n",
       "      <th>35</th>\n",
       "      <td>37</td>\n",
       "      <td>cute stickers, style cartoon, cute super defor...</td>\n",
       "      <td>2557eea36a8a3ec3a5486370babc04f9</td>\n",
       "      <td>246</td>\n",
       "      <td></td>\n",
       "      <td></td>\n",
       "      <td>0</td>\n",
       "    </tr>\n",
       "    <tr>\n",
       "      <th>59</th>\n",
       "      <td>62</td>\n",
       "      <td>orange cat, drinking beer, bar, cute</td>\n",
       "      <td>ba4a2727c0c1e5bdc40d2389834b5bfd</td>\n",
       "      <td>36</td>\n",
       "      <td></td>\n",
       "      <td></td>\n",
       "      <td>0</td>\n",
       "    </tr>\n",
       "    <tr>\n",
       "      <th>61</th>\n",
       "      <td>64</td>\n",
       "      <td>delegates from britain and zanzibar sit down a...</td>\n",
       "      <td>275f2c69573028216fb9cfd8245f0132</td>\n",
       "      <td>158</td>\n",
       "      <td></td>\n",
       "      <td></td>\n",
       "      <td>0</td>\n",
       "    </tr>\n",
       "    <tr>\n",
       "      <th>66</th>\n",
       "      <td>69</td>\n",
       "      <td>high quality, 8k ultra hd, high detailed, ench...</td>\n",
       "      <td>2233de0b246b2a6f62214618cb512bdd</td>\n",
       "      <td>665</td>\n",
       "      <td></td>\n",
       "      <td></td>\n",
       "      <td>0</td>\n",
       "    </tr>\n",
       "    <tr>\n",
       "      <th>...</th>\n",
       "      <td>...</td>\n",
       "      <td>...</td>\n",
       "      <td>...</td>\n",
       "      <td>...</td>\n",
       "      <td>...</td>\n",
       "      <td>...</td>\n",
       "      <td>...</td>\n",
       "    </tr>\n",
       "    <tr>\n",
       "      <th>670500</th>\n",
       "      <td>751077</td>\n",
       "      <td>indian emperor</td>\n",
       "      <td>272a10a54499605a3ee63bb5034fb5b4</td>\n",
       "      <td>14</td>\n",
       "      <td></td>\n",
       "      <td></td>\n",
       "      <td>0</td>\n",
       "    </tr>\n",
       "    <tr>\n",
       "      <th>670503</th>\n",
       "      <td>751080</td>\n",
       "      <td>dark-skinned man, brown eyes, blackpower afro ...</td>\n",
       "      <td>c206bcd9641e729b7f7757f4195d6ae7</td>\n",
       "      <td>94</td>\n",
       "      <td>low quality, ugly, crooked hands, ugly hair, c...</td>\n",
       "      <td>1e014bde2ff23b15cc87b72be75c9591</td>\n",
       "      <td>151</td>\n",
       "    </tr>\n",
       "    <tr>\n",
       "      <th>670505</th>\n",
       "      <td>751082</td>\n",
       "      <td>backgroung, tarot card, high quality, 8k ultra...</td>\n",
       "      <td>124a78ce5d8ea952304f0162ececa4e3</td>\n",
       "      <td>144</td>\n",
       "      <td></td>\n",
       "      <td></td>\n",
       "      <td>0</td>\n",
       "    </tr>\n",
       "    <tr>\n",
       "      <th>670506</th>\n",
       "      <td>751083</td>\n",
       "      <td>mechanical worker with blue overall holding a ...</td>\n",
       "      <td>4013e002e70399f79c08dafb4891a375</td>\n",
       "      <td>139</td>\n",
       "      <td></td>\n",
       "      <td></td>\n",
       "      <td>0</td>\n",
       "    </tr>\n",
       "    <tr>\n",
       "      <th>670507</th>\n",
       "      <td>751084</td>\n",
       "      <td>interior of a stylish shop selling an assortme...</td>\n",
       "      <td>3cd1746b2ad2518bc88a2f05d8fdc8ff</td>\n",
       "      <td>57</td>\n",
       "      <td></td>\n",
       "      <td></td>\n",
       "      <td>0</td>\n",
       "    </tr>\n",
       "  </tbody>\n",
       "</table>\n",
       "<p>249489 rows × 7 columns</p>\n",
       "</div>"
      ],
      "text/plain": [
       "         index                                    positive_prompt  \\\n",
       "3            3  bohemian florals, t-shirt graphic, white backg...   \n",
       "35          37  cute stickers, style cartoon, cute super defor...   \n",
       "59          62               orange cat, drinking beer, bar, cute   \n",
       "61          64  delegates from britain and zanzibar sit down a...   \n",
       "66          69  high quality, 8k ultra hd, high detailed, ench...   \n",
       "...        ...                                                ...   \n",
       "670500  751077                                     indian emperor   \n",
       "670503  751080  dark-skinned man, brown eyes, blackpower afro ...   \n",
       "670505  751082  backgroung, tarot card, high quality, 8k ultra...   \n",
       "670506  751083  mechanical worker with blue overall holding a ...   \n",
       "670507  751084  interior of a stylish shop selling an assortme...   \n",
       "\n",
       "                           positive_hash  positive_raw_length  \\\n",
       "3       54f5662d66804655c00261169767b139                   51   \n",
       "35      2557eea36a8a3ec3a5486370babc04f9                  246   \n",
       "59      ba4a2727c0c1e5bdc40d2389834b5bfd                   36   \n",
       "61      275f2c69573028216fb9cfd8245f0132                  158   \n",
       "66      2233de0b246b2a6f62214618cb512bdd                  665   \n",
       "...                                  ...                  ...   \n",
       "670500  272a10a54499605a3ee63bb5034fb5b4                   14   \n",
       "670503  c206bcd9641e729b7f7757f4195d6ae7                   94   \n",
       "670505  124a78ce5d8ea952304f0162ececa4e3                  144   \n",
       "670506  4013e002e70399f79c08dafb4891a375                  139   \n",
       "670507  3cd1746b2ad2518bc88a2f05d8fdc8ff                   57   \n",
       "\n",
       "                                          negative_prompt  \\\n",
       "3                                                           \n",
       "35                                                          \n",
       "59                                                          \n",
       "61                                                          \n",
       "66                                                          \n",
       "...                                                   ...   \n",
       "670500                                                      \n",
       "670503  low quality, ugly, crooked hands, ugly hair, c...   \n",
       "670505                                                      \n",
       "670506                                                      \n",
       "670507                                                      \n",
       "\n",
       "                           negative_hash  negative_raw_length  \n",
       "3                                                           0  \n",
       "35                                                          0  \n",
       "59                                                          0  \n",
       "61                                                          0  \n",
       "66                                                          0  \n",
       "...                                  ...                  ...  \n",
       "670500                                                      0  \n",
       "670503  1e014bde2ff23b15cc87b72be75c9591                  151  \n",
       "670505                                                      0  \n",
       "670506                                                      0  \n",
       "670507                                                      0  \n",
       "\n",
       "[249489 rows x 7 columns]"
      ]
     },
     "execution_count": 20,
     "metadata": {},
     "output_type": "execute_result"
    }
   ],
   "source": [
    "results = pair_worker(items, civitai_worker)\n",
    "results"
   ]
  },
  {
   "cell_type": "code",
   "execution_count": 21,
   "id": "12c20852-f442-42c6-8868-6de5ecb0db9b",
   "metadata": {
    "tags": []
   },
   "outputs": [],
   "source": [
    "results.to_csv('../dataset/nonredundant-leonardo_prompts.tsv', sep='\\t', index=False)"
   ]
  },
  {
   "cell_type": "markdown",
   "id": "822d0189-749c-4394-b936-ecb559f6a758",
   "metadata": {},
   "source": [
    "## download paired images"
   ]
  },
  {
   "cell_type": "code",
   "execution_count": 10,
   "id": "6a7a24a5-7da3-47a7-9eee-5c66348393e5",
   "metadata": {
    "tags": []
   },
   "outputs": [],
   "source": [
    "df = pd.read_csv('../dataset/nonredundant-leonardo_prompts.tsv', sep='\\t')\n",
    "\n",
    "df.dropna(inplace=True)\n",
    "\n",
    "df['positive_length'] = df['positive_prompt'].str.len()\n",
    "df['negative_length'] = df['negative_prompt'].str.len()"
   ]
  },
  {
   "cell_type": "code",
   "execution_count": 30,
   "id": "a6936ae5-5b99-4f32-b1eb-54a9b95069fd",
   "metadata": {
    "tags": []
   },
   "outputs": [
    {
     "data": {
      "text/html": [
       "<div>\n",
       "<style scoped>\n",
       "    .dataframe tbody tr th:only-of-type {\n",
       "        vertical-align: middle;\n",
       "    }\n",
       "\n",
       "    .dataframe tbody tr th {\n",
       "        vertical-align: top;\n",
       "    }\n",
       "\n",
       "    .dataframe thead th {\n",
       "        text-align: right;\n",
       "    }\n",
       "</style>\n",
       "<table border=\"1\" class=\"dataframe\">\n",
       "  <thead>\n",
       "    <tr style=\"text-align: right;\">\n",
       "      <th></th>\n",
       "      <th>index</th>\n",
       "      <th>positive_prompt</th>\n",
       "      <th>positive_hash</th>\n",
       "      <th>positive_raw_length</th>\n",
       "      <th>negative_prompt</th>\n",
       "      <th>negative_hash</th>\n",
       "      <th>negative_raw_length</th>\n",
       "      <th>positive_length</th>\n",
       "      <th>negative_length</th>\n",
       "    </tr>\n",
       "  </thead>\n",
       "  <tbody>\n",
       "    <tr>\n",
       "      <th>5</th>\n",
       "      <td>6</td>\n",
       "      <td>in a cozy room, the curtains danced in the nig...</td>\n",
       "      <td>49d15617dd592c398d7ffd37275fefd6</td>\n",
       "      <td>135</td>\n",
       "      <td>realistic, photo-real, multiple limbs, abnorma...</td>\n",
       "      <td>eb2c04d972b4547a3c7bde3edceef2a1</td>\n",
       "      <td>52</td>\n",
       "      <td>133</td>\n",
       "      <td>52</td>\n",
       "    </tr>\n",
       "    <tr>\n",
       "      <th>20</th>\n",
       "      <td>22</td>\n",
       "      <td>beautiful light watercolor cute baby rabbit su...</td>\n",
       "      <td>61217ad2bf6de962dada8d503d09b3dd</td>\n",
       "      <td>136</td>\n",
       "      <td>dark colors, tree branches</td>\n",
       "      <td>e3d6efa04e36df02103b2c9ef1665622</td>\n",
       "      <td>27</td>\n",
       "      <td>136</td>\n",
       "      <td>26</td>\n",
       "    </tr>\n",
       "    <tr>\n",
       "      <th>32</th>\n",
       "      <td>39</td>\n",
       "      <td>ultra detailed illustration in a psychedelic s...</td>\n",
       "      <td>ae4d704ee1ab7924519dc8330f523599</td>\n",
       "      <td>219</td>\n",
       "      <td>3d, low saturation, nudity, boobs, nipples, do...</td>\n",
       "      <td>0c420536151f03a094e1aeb2c5895001</td>\n",
       "      <td>794</td>\n",
       "      <td>219</td>\n",
       "      <td>785</td>\n",
       "    </tr>\n",
       "    <tr>\n",
       "      <th>36</th>\n",
       "      <td>43</td>\n",
       "      <td>ultra detailed photography of a dark room illu...</td>\n",
       "      <td>54022294fa231a42a4060502ab072262</td>\n",
       "      <td>316</td>\n",
       "      <td>3d, low saturation, nudity, boobs, nipples, do...</td>\n",
       "      <td>0c420536151f03a094e1aeb2c5895001</td>\n",
       "      <td>794</td>\n",
       "      <td>316</td>\n",
       "      <td>785</td>\n",
       "    </tr>\n",
       "    <tr>\n",
       "      <th>41</th>\n",
       "      <td>48</td>\n",
       "      <td>ultra detailed illustration of a extremely bea...</td>\n",
       "      <td>bbaa549793d3503eb4342c60d3fba36a</td>\n",
       "      <td>323</td>\n",
       "      <td>3d, low saturation, nudity, boobs, nipples, do...</td>\n",
       "      <td>0c420536151f03a094e1aeb2c5895001</td>\n",
       "      <td>794</td>\n",
       "      <td>303</td>\n",
       "      <td>785</td>\n",
       "    </tr>\n",
       "    <tr>\n",
       "      <th>...</th>\n",
       "      <td>...</td>\n",
       "      <td>...</td>\n",
       "      <td>...</td>\n",
       "      <td>...</td>\n",
       "      <td>...</td>\n",
       "      <td>...</td>\n",
       "      <td>...</td>\n",
       "      <td>...</td>\n",
       "      <td>...</td>\n",
       "    </tr>\n",
       "    <tr>\n",
       "      <th>249471</th>\n",
       "      <td>750974</td>\n",
       "      <td>dark-skinned man, brown eyes, blackpower afro ...</td>\n",
       "      <td>c206bcd9641e729b7f7757f4195d6ae7</td>\n",
       "      <td>94</td>\n",
       "      <td>low quality, ugly, crooked hands, ugly hair, c...</td>\n",
       "      <td>1e014bde2ff23b15cc87b72be75c9591</td>\n",
       "      <td>151</td>\n",
       "      <td>94</td>\n",
       "      <td>151</td>\n",
       "    </tr>\n",
       "    <tr>\n",
       "      <th>249474</th>\n",
       "      <td>750982</td>\n",
       "      <td>an finely detailed image of lady astor shoutin...</td>\n",
       "      <td>ba55c918fe1a7c8bfca801bbbcac3284</td>\n",
       "      <td>117</td>\n",
       "      <td>distorted face, distorted eyes, distorted legs...</td>\n",
       "      <td>90bd69c0a0c0053795ba1047ad910322</td>\n",
       "      <td>84</td>\n",
       "      <td>116</td>\n",
       "      <td>79</td>\n",
       "    </tr>\n",
       "    <tr>\n",
       "      <th>249476</th>\n",
       "      <td>750986</td>\n",
       "      <td>disney pixar movie posters. a chubby young man...</td>\n",
       "      <td>af044103a69022ed39951a868fbeffa6</td>\n",
       "      <td>304</td>\n",
       "      <td>double body, double face, double features, inc...</td>\n",
       "      <td>52178f49ebe397769e8a0c9cc191bbb0</td>\n",
       "      <td>933</td>\n",
       "      <td>304</td>\n",
       "      <td>893</td>\n",
       "    </tr>\n",
       "    <tr>\n",
       "      <th>249480</th>\n",
       "      <td>750999</td>\n",
       "      <td>masterpiece, photography of beautiful 20 years...</td>\n",
       "      <td>ebeb7be366dd98ff22199ab106dca950</td>\n",
       "      <td>421</td>\n",
       "      <td>2 heads, western, duplicate, malformed hand, d...</td>\n",
       "      <td>1562ea7205cb90f18088d469ac1e2303</td>\n",
       "      <td>733</td>\n",
       "      <td>419</td>\n",
       "      <td>697</td>\n",
       "    </tr>\n",
       "    <tr>\n",
       "      <th>249485</th>\n",
       "      <td>751019</td>\n",
       "      <td>cute young blonde women completely nudde. show...</td>\n",
       "      <td>ee7a43bf52962953a35a5f0ebe0dcd00</td>\n",
       "      <td>58</td>\n",
       "      <td>low quality. poorly drawn. deformation. extra ...</td>\n",
       "      <td>8fb360637e9f868d113b3cd3846aec36</td>\n",
       "      <td>73</td>\n",
       "      <td>58</td>\n",
       "      <td>73</td>\n",
       "    </tr>\n",
       "  </tbody>\n",
       "</table>\n",
       "<p>23737 rows × 9 columns</p>\n",
       "</div>"
      ],
      "text/plain": [
       "         index                                    positive_prompt  \\\n",
       "5            6  in a cozy room, the curtains danced in the nig...   \n",
       "20          22  beautiful light watercolor cute baby rabbit su...   \n",
       "32          39  ultra detailed illustration in a psychedelic s...   \n",
       "36          43  ultra detailed photography of a dark room illu...   \n",
       "41          48  ultra detailed illustration of a extremely bea...   \n",
       "...        ...                                                ...   \n",
       "249471  750974  dark-skinned man, brown eyes, blackpower afro ...   \n",
       "249474  750982  an finely detailed image of lady astor shoutin...   \n",
       "249476  750986  disney pixar movie posters. a chubby young man...   \n",
       "249480  750999  masterpiece, photography of beautiful 20 years...   \n",
       "249485  751019  cute young blonde women completely nudde. show...   \n",
       "\n",
       "                           positive_hash  positive_raw_length  \\\n",
       "5       49d15617dd592c398d7ffd37275fefd6                  135   \n",
       "20      61217ad2bf6de962dada8d503d09b3dd                  136   \n",
       "32      ae4d704ee1ab7924519dc8330f523599                  219   \n",
       "36      54022294fa231a42a4060502ab072262                  316   \n",
       "41      bbaa549793d3503eb4342c60d3fba36a                  323   \n",
       "...                                  ...                  ...   \n",
       "249471  c206bcd9641e729b7f7757f4195d6ae7                   94   \n",
       "249474  ba55c918fe1a7c8bfca801bbbcac3284                  117   \n",
       "249476  af044103a69022ed39951a868fbeffa6                  304   \n",
       "249480  ebeb7be366dd98ff22199ab106dca950                  421   \n",
       "249485  ee7a43bf52962953a35a5f0ebe0dcd00                   58   \n",
       "\n",
       "                                          negative_prompt  \\\n",
       "5       realistic, photo-real, multiple limbs, abnorma...   \n",
       "20                             dark colors, tree branches   \n",
       "32      3d, low saturation, nudity, boobs, nipples, do...   \n",
       "36      3d, low saturation, nudity, boobs, nipples, do...   \n",
       "41      3d, low saturation, nudity, boobs, nipples, do...   \n",
       "...                                                   ...   \n",
       "249471  low quality, ugly, crooked hands, ugly hair, c...   \n",
       "249474  distorted face, distorted eyes, distorted legs...   \n",
       "249476  double body, double face, double features, inc...   \n",
       "249480  2 heads, western, duplicate, malformed hand, d...   \n",
       "249485  low quality. poorly drawn. deformation. extra ...   \n",
       "\n",
       "                           negative_hash  negative_raw_length  \\\n",
       "5       eb2c04d972b4547a3c7bde3edceef2a1                   52   \n",
       "20      e3d6efa04e36df02103b2c9ef1665622                   27   \n",
       "32      0c420536151f03a094e1aeb2c5895001                  794   \n",
       "36      0c420536151f03a094e1aeb2c5895001                  794   \n",
       "41      0c420536151f03a094e1aeb2c5895001                  794   \n",
       "...                                  ...                  ...   \n",
       "249471  1e014bde2ff23b15cc87b72be75c9591                  151   \n",
       "249474  90bd69c0a0c0053795ba1047ad910322                   84   \n",
       "249476  52178f49ebe397769e8a0c9cc191bbb0                  933   \n",
       "249480  1562ea7205cb90f18088d469ac1e2303                  733   \n",
       "249485  8fb360637e9f868d113b3cd3846aec36                   73   \n",
       "\n",
       "        positive_length  negative_length  \n",
       "5                   133               52  \n",
       "20                  136               26  \n",
       "32                  219              785  \n",
       "36                  316              785  \n",
       "41                  303              785  \n",
       "...                 ...              ...  \n",
       "249471               94              151  \n",
       "249474              116               79  \n",
       "249476              304              893  \n",
       "249480              419              697  \n",
       "249485               58               73  \n",
       "\n",
       "[23737 rows x 9 columns]"
      ]
     },
     "execution_count": 30,
     "metadata": {},
     "output_type": "execute_result"
    }
   ],
   "source": [
    "selected = df.query('positive_length > 25 and negative_length > 25')#.query('not has_controlnet')\n",
    "# selected = selected.query('positive_length < 500 and negative_length < 500')\n",
    "selected = selected.query('positive_raw_length - positive_length < 100').query('negative_raw_length - negative_length < 100')\n",
    "selected = selected.query('positive_raw_length / positive_length < 1.5').query('negative_raw_length / negative_length < 1.5')\n",
    "# selected = selected.drop_duplicates('positive_prompt', keep='first').drop_duplicates('negative_prompt', keep='first')\n",
    "\n",
    "selected"
   ]
  },
  {
   "cell_type": "code",
   "execution_count": 20,
   "id": "659f6d77",
   "metadata": {
    "tags": []
   },
   "outputs": [],
   "source": [
    "import requests\n",
    "\n",
    "from io import BytesIO\n",
    "from PIL import Image\n",
    "import time\n",
    "\n",
    "proxies = {\n",
    "    # 'http': 'http://localhost:7890',\n",
    "    # 'https': 'http://localhost:7890'\n",
    "    'http': 'http://10.68.98.153:7890',\n",
    "    'https': 'http://10.68.98.153:7890'\n",
    "}"
   ]
  },
  {
   "cell_type": "code",
   "execution_count": 21,
   "id": "679570b7-ca97-42b6-9376-ac6883015248",
   "metadata": {
    "tags": []
   },
   "outputs": [],
   "source": [
    "save_dir = '../dataset/scrap/images/'"
   ]
  },
  {
   "cell_type": "code",
   "execution_count": 15,
   "id": "3fb26d6e",
   "metadata": {
    "tags": []
   },
   "outputs": [
    {
     "data": {
      "application/vnd.jupyter.widget-view+json": {
       "model_id": "",
       "version_major": 2,
       "version_minor": 0
      },
      "text/plain": [
       "0it [00:00, ?it/s]"
      ]
     },
     "metadata": {},
     "output_type": "display_data"
    }
   ],
   "source": [
    "ids = set(selected['index'])\n",
    "\n",
    "with open('../dataset/scrap/leonardo-text-data.jsonl') as f:\n",
    "    for i, line in tqdm(enumerate(f)):\n",
    "        item = json.loads(line)\n",
    "        \n",
    "        if item is None:\n",
    "            continue\n",
    "            \n",
    "        if i not in ids:\n",
    "            continue\n",
    "            \n",
    "#         if item['generation']['imageWidth'] != item['generation']['imageHeight']:\n",
    "#             continue\n",
    "            \n",
    "        for info in item['images']:\n",
    "            \n",
    "            file_name = info['path']\n",
    "        \n",
    "            output_path = os.path.join(save_dir, file_name)\n",
    "\n",
    "            if os.path.exists(output_path):\n",
    "                continue\n",
    "        \n",
    "            try:\n",
    "\n",
    "                data = requests.get(info['url'], proxies=proxies, timeout=(3.0, 10.0))\n",
    "\n",
    "                if data.status_code == 200:\n",
    "                    Image.open(BytesIO(data.content)).save(output_path)\n",
    "                else:\n",
    "                    continue\n",
    "\n",
    "            except KeyboardInterrupt:\n",
    "                break\n",
    "            except:\n",
    "                continue"
   ]
  },
  {
   "cell_type": "markdown",
   "id": "6bb5f269-fc14-4a99-86b3-8f92b84cd7f2",
   "metadata": {},
   "source": [
    "# lexica"
   ]
  },
  {
   "cell_type": "code",
   "execution_count": 22,
   "id": "c0205363-90f5-4ff6-9cb2-33b34413a992",
   "metadata": {
    "tags": []
   },
   "outputs": [],
   "source": [
    "dataset = datasets.load_dataset(\"parquet\", data_files={\n",
    "    'train': '../dataset/Stable-Diffusion-Prompts/data/train.parquet',\n",
    "    'eval': '../dataset/Stable-Diffusion-Prompts/data/eval.parquet'\n",
    "})"
   ]
  },
  {
   "cell_type": "code",
   "execution_count": 23,
   "id": "afda8839-0da8-4553-b246-010236aec51a",
   "metadata": {
    "tags": []
   },
   "outputs": [
    {
     "data": {
      "text/plain": [
       "DatasetDict({\n",
       "    train: Dataset({\n",
       "        features: ['Prompt'],\n",
       "        num_rows: 73718\n",
       "    })\n",
       "    eval: Dataset({\n",
       "        features: ['Prompt'],\n",
       "        num_rows: 8192\n",
       "    })\n",
       "})"
      ]
     },
     "execution_count": 23,
     "metadata": {},
     "output_type": "execute_result"
    }
   ],
   "source": [
    "dataset"
   ]
  },
  {
   "cell_type": "code",
   "execution_count": 24,
   "id": "524126e5-3ef3-483a-afd7-9100d2e0c903",
   "metadata": {
    "tags": []
   },
   "outputs": [
    {
     "data": {
      "application/vnd.jupyter.widget-view+json": {
       "model_id": "b003220ce45d481d86da6d687be26ae4",
       "version_major": 2,
       "version_minor": 0
      },
      "text/plain": [
       "0it [00:00, ?it/s]"
      ]
     },
     "metadata": {},
     "output_type": "display_data"
    }
   ],
   "source": [
    "items = list()\n",
    "\n",
    "for i, item in tqdm(enumerate(dataset['train'])):\n",
    "    \n",
    "    if not is_ascii_string(item.get('Prompt')):\n",
    "        continue\n",
    "        \n",
    "    positive_prompt = item['Prompt']\n",
    "\n",
    "    items.append((i, positive_prompt))"
   ]
  },
  {
   "cell_type": "code",
   "execution_count": 25,
   "id": "edfc37af-252c-4b74-92ac-b9b6be17755e",
   "metadata": {
    "tags": []
   },
   "outputs": [
    {
     "data": {
      "application/vnd.jupyter.widget-view+json": {
       "model_id": "12147eb4abf0441ab28ac0985372a59d",
       "version_major": 2,
       "version_minor": 0
      },
      "text/plain": [
       "  0%|          | 0/72206 [00:00<?, ?it/s]"
      ]
     },
     "metadata": {},
     "output_type": "display_data"
    },
    {
     "data": {
      "text/html": [
       "<div>\n",
       "<style scoped>\n",
       "    .dataframe tbody tr th:only-of-type {\n",
       "        vertical-align: middle;\n",
       "    }\n",
       "\n",
       "    .dataframe tbody tr th {\n",
       "        vertical-align: top;\n",
       "    }\n",
       "\n",
       "    .dataframe thead th {\n",
       "        text-align: right;\n",
       "    }\n",
       "</style>\n",
       "<table border=\"1\" class=\"dataframe\">\n",
       "  <thead>\n",
       "    <tr style=\"text-align: right;\">\n",
       "      <th></th>\n",
       "      <th>index</th>\n",
       "      <th>positive_prompt</th>\n",
       "      <th>positive_hash</th>\n",
       "      <th>positive_raw_length</th>\n",
       "    </tr>\n",
       "  </thead>\n",
       "  <tbody>\n",
       "    <tr>\n",
       "      <th>0</th>\n",
       "      <td>0</td>\n",
       "      <td>realistic car 3 d render sci - fi car and sci ...</td>\n",
       "      <td>9e1a7202a7dc32e8f6768a2a91f69c1b</td>\n",
       "      <td>431</td>\n",
       "    </tr>\n",
       "    <tr>\n",
       "      <th>1</th>\n",
       "      <td>1</td>\n",
       "      <td>a comic potrait of a female necromamcer with b...</td>\n",
       "      <td>a969789be9274f9090ec8800b87a1c19</td>\n",
       "      <td>336</td>\n",
       "    </tr>\n",
       "    <tr>\n",
       "      <th>2</th>\n",
       "      <td>2</td>\n",
       "      <td>steampunk market interior, colorful, 3 d scene...</td>\n",
       "      <td>d5972456b82dbda080542af28126b54c</td>\n",
       "      <td>182</td>\n",
       "    </tr>\n",
       "    <tr>\n",
       "      <th>3</th>\n",
       "      <td>4</td>\n",
       "      <td>a full portrait of a beautiful post apocalypti...</td>\n",
       "      <td>4e922e02af2202868766035850596c5e</td>\n",
       "      <td>244</td>\n",
       "    </tr>\n",
       "    <tr>\n",
       "      <th>4</th>\n",
       "      <td>5</td>\n",
       "      <td>beautiful victorian raven digital painting, ar...</td>\n",
       "      <td>6ed6649b76454b18bb82dea130295d3c</td>\n",
       "      <td>104</td>\n",
       "    </tr>\n",
       "    <tr>\n",
       "      <th>...</th>\n",
       "      <td>...</td>\n",
       "      <td>...</td>\n",
       "      <td>...</td>\n",
       "      <td>...</td>\n",
       "    </tr>\n",
       "    <tr>\n",
       "      <th>72006</th>\n",
       "      <td>73713</td>\n",
       "      <td>ismail inceoglu epic oil on canvas painting of...</td>\n",
       "      <td>de0b9b7c1c4367bf54fe114a5b11a4d4</td>\n",
       "      <td>397</td>\n",
       "    </tr>\n",
       "    <tr>\n",
       "      <th>72007</th>\n",
       "      <td>73714</td>\n",
       "      <td>eating crayons and being reborn in the loving ...</td>\n",
       "      <td>a5edefd2488c52ce874f796ee109f93a</td>\n",
       "      <td>258</td>\n",
       "    </tr>\n",
       "    <tr>\n",
       "      <th>72008</th>\n",
       "      <td>73715</td>\n",
       "      <td>ilya kuvshinov with long hair, sky blue hair, ...</td>\n",
       "      <td>97a2db4bb697ae13665e296ebcbcf447</td>\n",
       "      <td>251</td>\n",
       "    </tr>\n",
       "    <tr>\n",
       "      <th>72009</th>\n",
       "      <td>73716</td>\n",
       "      <td>cyberpunk woman with green hair wearing futuri...</td>\n",
       "      <td>f72ca702b285aed42dd3a6d6634bbd22</td>\n",
       "      <td>198</td>\n",
       "    </tr>\n",
       "    <tr>\n",
       "      <th>72010</th>\n",
       "      <td>73717</td>\n",
       "      <td>zulu cyborg, male, green eyes, red diodes, sci...</td>\n",
       "      <td>9c5e6a37147bf9fd66f4158ff8f85f12</td>\n",
       "      <td>236</td>\n",
       "    </tr>\n",
       "  </tbody>\n",
       "</table>\n",
       "<p>59942 rows × 4 columns</p>\n",
       "</div>"
      ],
      "text/plain": [
       "       index                                    positive_prompt  \\\n",
       "0          0  realistic car 3 d render sci - fi car and sci ...   \n",
       "1          1  a comic potrait of a female necromamcer with b...   \n",
       "2          2  steampunk market interior, colorful, 3 d scene...   \n",
       "3          4  a full portrait of a beautiful post apocalypti...   \n",
       "4          5  beautiful victorian raven digital painting, ar...   \n",
       "...      ...                                                ...   \n",
       "72006  73713  ismail inceoglu epic oil on canvas painting of...   \n",
       "72007  73714  eating crayons and being reborn in the loving ...   \n",
       "72008  73715  ilya kuvshinov with long hair, sky blue hair, ...   \n",
       "72009  73716  cyberpunk woman with green hair wearing futuri...   \n",
       "72010  73717  zulu cyborg, male, green eyes, red diodes, sci...   \n",
       "\n",
       "                          positive_hash  positive_raw_length  \n",
       "0      9e1a7202a7dc32e8f6768a2a91f69c1b                  431  \n",
       "1      a969789be9274f9090ec8800b87a1c19                  336  \n",
       "2      d5972456b82dbda080542af28126b54c                  182  \n",
       "3      4e922e02af2202868766035850596c5e                  244  \n",
       "4      6ed6649b76454b18bb82dea130295d3c                  104  \n",
       "...                                 ...                  ...  \n",
       "72006  de0b9b7c1c4367bf54fe114a5b11a4d4                  397  \n",
       "72007  a5edefd2488c52ce874f796ee109f93a                  258  \n",
       "72008  97a2db4bb697ae13665e296ebcbcf447                  251  \n",
       "72009  f72ca702b285aed42dd3a6d6634bbd22                  198  \n",
       "72010  9c5e6a37147bf9fd66f4158ff8f85f12                  236  \n",
       "\n",
       "[59942 rows x 4 columns]"
      ]
     },
     "execution_count": 25,
     "metadata": {},
     "output_type": "execute_result"
    }
   ],
   "source": [
    "results = single_worker(items, civitai_worker)\n",
    "results"
   ]
  },
  {
   "cell_type": "code",
   "execution_count": 26,
   "id": "b0d4b32d-4181-4340-8615-2448c3aeabbf",
   "metadata": {
    "tags": []
   },
   "outputs": [],
   "source": [
    "results.to_csv('../dataset/nonredundant-lexica_prompts-train.tsv', sep='\\t', index=False)"
   ]
  },
  {
   "cell_type": "code",
   "execution_count": 27,
   "id": "2794b548-50eb-427d-869a-b56bab1c95df",
   "metadata": {
    "tags": []
   },
   "outputs": [
    {
     "data": {
      "application/vnd.jupyter.widget-view+json": {
       "model_id": "c7732741773e4c97bd82c840b5cfc1e0",
       "version_major": 2,
       "version_minor": 0
      },
      "text/plain": [
       "0it [00:00, ?it/s]"
      ]
     },
     "metadata": {},
     "output_type": "display_data"
    }
   ],
   "source": [
    "items = list()\n",
    "\n",
    "for i, item in tqdm(enumerate(dataset['eval'])):\n",
    "    \n",
    "    if not is_ascii_string(item.get('Prompt')):\n",
    "        continue\n",
    "        \n",
    "    positive_prompt = item['Prompt']\n",
    "\n",
    "    items.append((i, positive_prompt))"
   ]
  },
  {
   "cell_type": "code",
   "execution_count": 28,
   "id": "00434c34-5a6e-4a88-8ea3-0f08a7b5d550",
   "metadata": {
    "tags": []
   },
   "outputs": [
    {
     "data": {
      "application/vnd.jupyter.widget-view+json": {
       "model_id": "342b12f6b8d0401eb92817b3b878591e",
       "version_major": 2,
       "version_minor": 0
      },
      "text/plain": [
       "  0%|          | 0/8024 [00:00<?, ?it/s]"
      ]
     },
     "metadata": {},
     "output_type": "display_data"
    },
    {
     "data": {
      "text/html": [
       "<div>\n",
       "<style scoped>\n",
       "    .dataframe tbody tr th:only-of-type {\n",
       "        vertical-align: middle;\n",
       "    }\n",
       "\n",
       "    .dataframe tbody tr th {\n",
       "        vertical-align: top;\n",
       "    }\n",
       "\n",
       "    .dataframe thead th {\n",
       "        text-align: right;\n",
       "    }\n",
       "</style>\n",
       "<table border=\"1\" class=\"dataframe\">\n",
       "  <thead>\n",
       "    <tr style=\"text-align: right;\">\n",
       "      <th></th>\n",
       "      <th>index</th>\n",
       "      <th>positive_prompt</th>\n",
       "      <th>positive_hash</th>\n",
       "      <th>positive_raw_length</th>\n",
       "    </tr>\n",
       "  </thead>\n",
       "  <tbody>\n",
       "    <tr>\n",
       "      <th>0</th>\n",
       "      <td>0</td>\n",
       "      <td>young, curly haired, redhead natalie portman a...</td>\n",
       "      <td>1badf27e234909094c8b0e256a92f9bf</td>\n",
       "      <td>244</td>\n",
       "    </tr>\n",
       "    <tr>\n",
       "      <th>1</th>\n",
       "      <td>1</td>\n",
       "      <td>a mystical tribal goddess adorned with feather...</td>\n",
       "      <td>4317874d9990cd94cac73cb9b986d1e4</td>\n",
       "      <td>304</td>\n",
       "    </tr>\n",
       "    <tr>\n",
       "      <th>2</th>\n",
       "      <td>2</td>\n",
       "      <td>molly millions, portrait of a beautiful cyberp...</td>\n",
       "      <td>beb676ffc28813c3ae1e71157be28152</td>\n",
       "      <td>296</td>\n",
       "    </tr>\n",
       "    <tr>\n",
       "      <th>3</th>\n",
       "      <td>3</td>\n",
       "      <td>cyborg sweating water, big drops of sweat, for...</td>\n",
       "      <td>0a92b67f63cb3e3cca15d93abc117ceb</td>\n",
       "      <td>230</td>\n",
       "    </tr>\n",
       "    <tr>\n",
       "      <th>4</th>\n",
       "      <td>4</td>\n",
       "      <td>max headroom in a perfume advertisement, magic...</td>\n",
       "      <td>1cc3de04bf5d44c962eb122305ec97db</td>\n",
       "      <td>269</td>\n",
       "    </tr>\n",
       "    <tr>\n",
       "      <th>...</th>\n",
       "      <td>...</td>\n",
       "      <td>...</td>\n",
       "      <td>...</td>\n",
       "      <td>...</td>\n",
       "    </tr>\n",
       "    <tr>\n",
       "      <th>7994</th>\n",
       "      <td>8187</td>\n",
       "      <td>portrait of samuel jackson as gandalf, by alan...</td>\n",
       "      <td>6ad38b9e3c1f97420e27c9d733f36752</td>\n",
       "      <td>171</td>\n",
       "    </tr>\n",
       "    <tr>\n",
       "      <th>7995</th>\n",
       "      <td>8188</td>\n",
       "      <td>a photorealistic hyperrealistic render of an i...</td>\n",
       "      <td>09343d3ecb95cce22b18903b67fb2761</td>\n",
       "      <td>248</td>\n",
       "    </tr>\n",
       "    <tr>\n",
       "      <th>7996</th>\n",
       "      <td>8189</td>\n",
       "      <td>occult leader by artgerm, tooth wu, dan mumfor...</td>\n",
       "      <td>0d3d5d3037bce4c4239f1d12d96c9187</td>\n",
       "      <td>225</td>\n",
       "    </tr>\n",
       "    <tr>\n",
       "      <th>7997</th>\n",
       "      <td>8190</td>\n",
       "      <td>front shot of an alien cargo ship, intricate, ...</td>\n",
       "      <td>2fce18a1047c3ba2d98c5424bcf48570</td>\n",
       "      <td>312</td>\n",
       "    </tr>\n",
       "    <tr>\n",
       "      <th>7998</th>\n",
       "      <td>8191</td>\n",
       "      <td>portrait of a young ruggedly handsome but joyf...</td>\n",
       "      <td>cdfcee1ee2376967d0bcd15afd43b5ca</td>\n",
       "      <td>296</td>\n",
       "    </tr>\n",
       "  </tbody>\n",
       "</table>\n",
       "<p>7842 rows × 4 columns</p>\n",
       "</div>"
      ],
      "text/plain": [
       "      index                                    positive_prompt  \\\n",
       "0         0  young, curly haired, redhead natalie portman a...   \n",
       "1         1  a mystical tribal goddess adorned with feather...   \n",
       "2         2  molly millions, portrait of a beautiful cyberp...   \n",
       "3         3  cyborg sweating water, big drops of sweat, for...   \n",
       "4         4  max headroom in a perfume advertisement, magic...   \n",
       "...     ...                                                ...   \n",
       "7994   8187  portrait of samuel jackson as gandalf, by alan...   \n",
       "7995   8188  a photorealistic hyperrealistic render of an i...   \n",
       "7996   8189  occult leader by artgerm, tooth wu, dan mumfor...   \n",
       "7997   8190  front shot of an alien cargo ship, intricate, ...   \n",
       "7998   8191  portrait of a young ruggedly handsome but joyf...   \n",
       "\n",
       "                         positive_hash  positive_raw_length  \n",
       "0     1badf27e234909094c8b0e256a92f9bf                  244  \n",
       "1     4317874d9990cd94cac73cb9b986d1e4                  304  \n",
       "2     beb676ffc28813c3ae1e71157be28152                  296  \n",
       "3     0a92b67f63cb3e3cca15d93abc117ceb                  230  \n",
       "4     1cc3de04bf5d44c962eb122305ec97db                  269  \n",
       "...                                ...                  ...  \n",
       "7994  6ad38b9e3c1f97420e27c9d733f36752                  171  \n",
       "7995  09343d3ecb95cce22b18903b67fb2761                  248  \n",
       "7996  0d3d5d3037bce4c4239f1d12d96c9187                  225  \n",
       "7997  2fce18a1047c3ba2d98c5424bcf48570                  312  \n",
       "7998  cdfcee1ee2376967d0bcd15afd43b5ca                  296  \n",
       "\n",
       "[7842 rows x 4 columns]"
      ]
     },
     "execution_count": 28,
     "metadata": {},
     "output_type": "execute_result"
    }
   ],
   "source": [
    "results = single_worker(items, civitai_worker)\n",
    "results"
   ]
  },
  {
   "cell_type": "code",
   "execution_count": 29,
   "id": "3ff3063b-b886-4cbc-9398-4366cbf5edfd",
   "metadata": {
    "tags": []
   },
   "outputs": [],
   "source": [
    "results.to_csv('../dataset/nonredundant-lexica_prompts-eval.tsv', sep='\\t', index=False)"
   ]
  },
  {
   "cell_type": "markdown",
   "id": "66609b97-0d92-49e8-85a5-7315c45ac21a",
   "metadata": {},
   "source": [
    "# laion2B-aesthetic"
   ]
  },
  {
   "cell_type": "code",
   "execution_count": 4,
   "id": "cd07dbbf-f3b0-439d-a1a2-a4ba5ee49521",
   "metadata": {
    "tags": []
   },
   "outputs": [
    {
     "data": {
      "application/vnd.jupyter.widget-view+json": {
       "model_id": "6395fd17ea3645cbb0c35e8c2217905d",
       "version_major": 2,
       "version_minor": 0
      },
      "text/plain": [
       "Resolving data files:   0%|          | 0/24 [00:00<?, ?it/s]"
      ]
     },
     "metadata": {},
     "output_type": "display_data"
    },
    {
     "name": "stderr",
     "output_type": "stream",
     "text": [
      "/home/xhxie/.conda/envs/llama_factory/lib/python3.10/site-packages/datasets/table.py:1421: FutureWarning: promote has been superseded by mode='default'.\n",
      "  table = cls._concat_blocks(blocks, axis=0)\n"
     ]
    }
   ],
   "source": [
    "dataset = datasets.load_dataset('../dataset/laion2B-en-aesthetic/')"
   ]
  },
  {
   "cell_type": "code",
   "execution_count": null,
   "id": "7423d9a3-bf1f-43e9-908f-e469b88b1632",
   "metadata": {
    "tags": []
   },
   "outputs": [],
   "source": [
    "def worker(prompt):\n",
    "    \n",
    "    prompt = remove_extra(prompt)\n",
    "    \n",
    "    prompt = remove_weight(prompt)\n",
    "    \n",
    "    prompt = remove_complex(prompt)\n",
    "    \n",
    "    prompt = remove_brackets(prompt)\n",
    "    \n",
    "    prompt = format_prompt(prompt)\n",
    "    \n",
    "    prompt = prompt.lower()\n",
    "    \n",
    "    prompt = remove_redundancy(prompt)\n",
    "    \n",
    "    prompt = format_prompt(prompt)\n",
    "    \n",
    "    return prompt"
   ]
  },
  {
   "cell_type": "code",
   "execution_count": 117,
   "id": "e7a735d5-32a8-4a65-ae1c-cf3c00822e58",
   "metadata": {
    "tags": []
   },
   "outputs": [
    {
     "name": "stderr",
     "output_type": "stream",
     "text": [
      "100%|██████████| 52068913/52068913 [47:24<00:00, 18303.02it/s] \n"
     ]
    },
    {
     "data": {
      "text/plain": [
       "48768"
      ]
     },
     "execution_count": 117,
     "metadata": {},
     "output_type": "execute_result"
    }
   ],
   "source": [
    "results = list()\n",
    "\n",
    "raw_hashs = set()\n",
    "\n",
    "for i, item in tqdm(enumerate(dataset['train']), total=len(dataset['train'])):\n",
    "    \n",
    "    if item['TEXT'] is None:\n",
    "        continue\n",
    "        \n",
    "    if not is_long(item['TEXT']):\n",
    "        continue\n",
    "\n",
    "    raw_hash = hash_prompt(item['TEXT'])\n",
    "    if raw_hash in raw_hashs:\n",
    "        continue\n",
    "    raw_hashs.add(raw_hash)\n",
    "        \n",
    "    if not validate_prompt(item['TEXT']):\n",
    "        continue\n",
    "        \n",
    "    positive_raw_length = len(item['TEXT'])\n",
    "    \n",
    "    positive_prompt = format_prompt(item['TEXT'])\n",
    "    \n",
    "    positive_prompt = positive_prompt.replace('\"', ', ')\n",
    "        \n",
    "    positive_prompt = re.sub('[^,\\s]*\\.(co)|(org)[^,\\s]+', ', ', positive_prompt)\n",
    "    positive_prompt = re.sub('[^,\\s]*[\\d\\s]{5,}[^,\\s]*', ',', positive_prompt)\n",
    "\n",
    "    positive_prompt = worker(positive_prompt)\n",
    "    \n",
    "    if not is_long(positive_prompt):\n",
    "        continue\n",
    "        \n",
    "    results.append((i, positive_prompt, positive_hash, positive_raw_length))\n",
    "    \n",
    "len(results)"
   ]
  },
  {
   "cell_type": "code",
   "execution_count": null,
   "id": "984d8a29-c676-4770-9827-1b4682a58924",
   "metadata": {
    "tags": []
   },
   "outputs": [],
   "source": [
    "results = pd.DataFrame(results, columns=['index', 'positive_prompt', 'positive_hash', 'positive_raw_length'])\n",
    "results.drop_duplicates(['positive_hash'], inplace=True)\n",
    "\n",
    "print(results.shape[0])\n",
    "\n",
    "results.to_csv('../dataset/nonredundant-laion2B_aesthetic.tsv', sep='\\t', index=False)"
   ]
  },
  {
   "cell_type": "code",
   "execution_count": null,
   "id": "b0709c72-124f-44b4-878e-85de8d9a1dea",
   "metadata": {
    "tags": []
   },
   "outputs": [],
   "source": [
    "df = pd.read_csv('../dataset/nonredundant-laion2B_aesthetic.tsv', sep='\\t')"
   ]
  },
  {
   "cell_type": "markdown",
   "id": "4363415d-bbe7-401a-8b75-de1de0a39ee6",
   "metadata": {},
   "source": [
    "## long"
   ]
  },
  {
   "cell_type": "code",
   "execution_count": 115,
   "id": "78229a8f",
   "metadata": {
    "tags": []
   },
   "outputs": [
    {
     "data": {
      "text/plain": [
       "DatasetDict({\n",
       "    train: Dataset({\n",
       "        features: ['URL', 'TEXT', 'WIDTH', 'HEIGHT', 'similarity', 'hash', 'punsafe', 'pwatermark', 'aesthetic'],\n",
       "        num_rows: 52068913\n",
       "    })\n",
       "})"
      ]
     },
     "execution_count": 115,
     "metadata": {},
     "output_type": "execute_result"
    }
   ],
   "source": [
    "def worker(prompt):\n",
    "    \n",
    "    prompt = remove_extra(prompt)\n",
    "    \n",
    "    prompt = remove_weight(prompt)\n",
    "    \n",
    "    prompt = remove_complex(prompt)\n",
    "    \n",
    "    prompt = remove_brackets(prompt)\n",
    "    \n",
    "    prompt = format_prompt(prompt)\n",
    "    \n",
    "    prompt = prompt.lower()\n",
    "    \n",
    "    prompt = remove_redundancy(prompt)\n",
    "    \n",
    "    prompt = format_prompt(prompt)\n",
    "    \n",
    "    return prompt"
   ]
  },
  {
   "cell_type": "code",
   "execution_count": 117,
   "id": "4088045f",
   "metadata": {
    "tags": []
   },
   "outputs": [
    {
     "name": "stderr",
     "output_type": "stream",
     "text": [
      "100%|██████████| 52068913/52068913 [47:24<00:00, 18303.02it/s] \n"
     ]
    },
    {
     "data": {
      "text/plain": [
       "48768"
      ]
     },
     "execution_count": 117,
     "metadata": {},
     "output_type": "execute_result"
    }
   ],
   "source": [
    "results = list()\n",
    "\n",
    "raw_hashs = set()\n",
    "\n",
    "for i, item in tqdm(enumerate(dataset['train']), total=len(dataset['train'])):\n",
    "    \n",
    "    if item['TEXT'] is None:\n",
    "        continue\n",
    "        \n",
    "    if not is_long(item['TEXT']):\n",
    "        continue\n",
    "\n",
    "    raw_hash = hash_prompt(item['TEXT'])\n",
    "    if raw_hash in raw_hashs:\n",
    "        continue\n",
    "    raw_hashs.add(raw_hash)\n",
    "        \n",
    "    if not validate_prompt(item['TEXT']):\n",
    "        continue\n",
    "        \n",
    "    positive_raw_length = len(item['TEXT'])\n",
    "    \n",
    "    positive_prompt = format_prompt(item['TEXT'])\n",
    "    \n",
    "    positive_prompt = positive_prompt.replace('\"', ', ')\n",
    "        \n",
    "    positive_prompt = re.sub('[^,\\s]*\\.(co)|(org)[^,\\s]+', ', ', positive_prompt)\n",
    "    positive_prompt = re.sub('[^,\\s]*[\\d\\s]{5,}[^,\\s]*', ',', positive_prompt)\n",
    "\n",
    "    positive_prompt = worker(positive_prompt)\n",
    "    \n",
    "    if not is_long(positive_prompt):\n",
    "        continue\n",
    "        \n",
    "    results.append((i, positive_prompt, positive_hash, positive_raw_length))\n",
    "    \n",
    "len(results)"
   ]
  },
  {
   "cell_type": "code",
   "execution_count": 151,
   "id": "8a17a010-37d5-4194-ad42-82efcc313b3c",
   "metadata": {
    "tags": []
   },
   "outputs": [
    {
     "data": {
      "text/html": [
       "<div>\n",
       "<style scoped>\n",
       "    .dataframe tbody tr th:only-of-type {\n",
       "        vertical-align: middle;\n",
       "    }\n",
       "\n",
       "    .dataframe tbody tr th {\n",
       "        vertical-align: top;\n",
       "    }\n",
       "\n",
       "    .dataframe thead th {\n",
       "        text-align: right;\n",
       "    }\n",
       "</style>\n",
       "<table border=\"1\" class=\"dataframe\">\n",
       "  <thead>\n",
       "    <tr style=\"text-align: right;\">\n",
       "      <th></th>\n",
       "      <th>index</th>\n",
       "      <th>positive_prompt</th>\n",
       "      <th>positive_hash</th>\n",
       "      <th>positive_raw_length</th>\n",
       "    </tr>\n",
       "  </thead>\n",
       "  <tbody>\n",
       "    <tr>\n",
       "      <th>0</th>\n",
       "      <td>240</td>\n",
       "      <td>walt disney company chairman and ceo michael e...</td>\n",
       "      <td>a23bd335ca09dd8a3f1fd946379e5618</td>\n",
       "      <td>73</td>\n",
       "    </tr>\n",
       "    <tr>\n",
       "      <th>1</th>\n",
       "      <td>2509</td>\n",
       "      <td>wooden bowl teak red hwb19 sold viafrika tagss...</td>\n",
       "      <td>041fd059667762c2268f382f7e4de831</td>\n",
       "      <td>73</td>\n",
       "    </tr>\n",
       "    <tr>\n",
       "      <th>2</th>\n",
       "      <td>2861</td>\n",
       "      <td>patterson custom homes - boy's rooms - bunk ro...</td>\n",
       "      <td>5ae01696c035bbedd273ab4ee58f4deb</td>\n",
       "      <td>73</td>\n",
       "    </tr>\n",
       "    <tr>\n",
       "      <th>3</th>\n",
       "      <td>4946</td>\n",
       "      <td>mice cream truck driver arrested for dui. hey ...</td>\n",
       "      <td>73dba67db6970fb55e277a505d88db8c</td>\n",
       "      <td>73</td>\n",
       "    </tr>\n",
       "    <tr>\n",
       "      <th>4</th>\n",
       "      <td>5617</td>\n",
       "      <td>writes dalrymple, 'the asylum notes show richa...</td>\n",
       "      <td>edb54f66e2a7e9a1e9dd1ba0be6eab77</td>\n",
       "      <td>73</td>\n",
       "    </tr>\n",
       "    <tr>\n",
       "      <th>...</th>\n",
       "      <td>...</td>\n",
       "      <td>...</td>\n",
       "      <td>...</td>\n",
       "      <td>...</td>\n",
       "    </tr>\n",
       "    <tr>\n",
       "      <th>33208</th>\n",
       "      <td>52061219</td>\n",
       "      <td>angela holt, sunset at storm's pass, sandia cr...</td>\n",
       "      <td>321027869964f13a2f4906adb6115dd7</td>\n",
       "      <td>73</td>\n",
       "    </tr>\n",
       "    <tr>\n",
       "      <th>33209</th>\n",
       "      <td>52063478</td>\n",
       "      <td>motorcycle craftsman xanti garcia corb motorcy...</td>\n",
       "      <td>f54a642795e208542e2c21a49036f507</td>\n",
       "      <td>73</td>\n",
       "    </tr>\n",
       "    <tr>\n",
       "      <th>33210</th>\n",
       "      <td>52063710</td>\n",
       "      <td>all students in, degree nursing class at east ...</td>\n",
       "      <td>7e015ab94bc9135d9a8d1f0e4a202915</td>\n",
       "      <td>73</td>\n",
       "    </tr>\n",
       "    <tr>\n",
       "      <th>33211</th>\n",
       "      <td>52067088</td>\n",
       "      <td>this vertical still life painting shows a gran...</td>\n",
       "      <td>0139ffb8725e2c88800b36df60d44c58</td>\n",
       "      <td>73</td>\n",
       "    </tr>\n",
       "    <tr>\n",
       "      <th>33212</th>\n",
       "      <td>52067433</td>\n",
       "      <td>harvest tag wallpapersautumn farm season world...</td>\n",
       "      <td>07bf2f6b3e32f9a1825c994f5217a43a</td>\n",
       "      <td>73</td>\n",
       "    </tr>\n",
       "  </tbody>\n",
       "</table>\n",
       "<p>33213 rows × 4 columns</p>\n",
       "</div>"
      ],
      "text/plain": [
       "          index                                    positive_prompt  \\\n",
       "0           240  walt disney company chairman and ceo michael e...   \n",
       "1          2509  wooden bowl teak red hwb19 sold viafrika tagss...   \n",
       "2          2861  patterson custom homes - boy's rooms - bunk ro...   \n",
       "3          4946  mice cream truck driver arrested for dui. hey ...   \n",
       "4          5617  writes dalrymple, 'the asylum notes show richa...   \n",
       "...         ...                                                ...   \n",
       "33208  52061219  angela holt, sunset at storm's pass, sandia cr...   \n",
       "33209  52063478  motorcycle craftsman xanti garcia corb motorcy...   \n",
       "33210  52063710  all students in, degree nursing class at east ...   \n",
       "33211  52067088  this vertical still life painting shows a gran...   \n",
       "33212  52067433  harvest tag wallpapersautumn farm season world...   \n",
       "\n",
       "                          positive_hash  positive_raw_length  \n",
       "0      a23bd335ca09dd8a3f1fd946379e5618                   73  \n",
       "1      041fd059667762c2268f382f7e4de831                   73  \n",
       "2      5ae01696c035bbedd273ab4ee58f4deb                   73  \n",
       "3      73dba67db6970fb55e277a505d88db8c                   73  \n",
       "4      edb54f66e2a7e9a1e9dd1ba0be6eab77                   73  \n",
       "...                                 ...                  ...  \n",
       "33208  321027869964f13a2f4906adb6115dd7                   73  \n",
       "33209  f54a642795e208542e2c21a49036f507                   73  \n",
       "33210  7e015ab94bc9135d9a8d1f0e4a202915                   73  \n",
       "33211  0139ffb8725e2c88800b36df60d44c58                   73  \n",
       "33212  07bf2f6b3e32f9a1825c994f5217a43a                   73  \n",
       "\n",
       "[33213 rows x 4 columns]"
      ]
     },
     "execution_count": 151,
     "metadata": {},
     "output_type": "execute_result"
    }
   ],
   "source": [
    "results = pd.DataFrame(results, columns=['index', 'positive_prompt', 'positive_hash', 'positive_raw_length'])\n",
    "results.drop_duplicates(['positive_hash'], inplace=True)\n",
    "\n",
    "results"
   ]
  },
  {
   "cell_type": "code",
   "execution_count": 152,
   "id": "e994fa19-3949-44b4-9396-28f0dc6c2d47",
   "metadata": {
    "tags": []
   },
   "outputs": [],
   "source": [
    "results.to_csv('../dataset/long-laion2B-en-aesthetic.tsv', sep='\\t', index=False)"
   ]
  },
  {
   "cell_type": "markdown",
   "id": "aecd9ea3-88af-467c-81d6-d2a3bc10271b",
   "metadata": {},
   "source": [
    "# midjourney"
   ]
  },
  {
   "cell_type": "code",
   "execution_count": 30,
   "id": "a9925a1f-8235-4dfb-8db1-a128300ec430",
   "metadata": {
    "tags": []
   },
   "outputs": [
    {
     "data": {
      "application/vnd.jupyter.widget-view+json": {
       "model_id": "d8a5f674e0534de39a1e725ef80e8519",
       "version_major": 2,
       "version_minor": 0
      },
      "text/plain": [
       "Resolving data files:   0%|          | 0/59 [00:00<?, ?it/s]"
      ]
     },
     "metadata": {},
     "output_type": "display_data"
    },
    {
     "name": "stderr",
     "output_type": "stream",
     "text": [
      "/home/xhxie/.conda/envs/llama_factory/lib/python3.10/site-packages/datasets/table.py:1421: FutureWarning: promote has been superseded by mode='default'.\n",
      "  table = cls._concat_blocks(blocks, axis=0)\n"
     ]
    }
   ],
   "source": [
    "dataset = datasets.load_dataset('../dataset/midjourney-messages/')"
   ]
  },
  {
   "cell_type": "code",
   "execution_count": 31,
   "id": "26fc3e02-5ac7-4330-9822-79edeacccd37",
   "metadata": {
    "tags": []
   },
   "outputs": [
    {
     "data": {
      "text/plain": [
       "DatasetDict({\n",
       "    train: Dataset({\n",
       "        features: ['id', 'channel_id', 'content', 'timestamp', 'image_id', 'height', 'width', 'url', 'size'],\n",
       "        num_rows: 55082563\n",
       "    })\n",
       "})"
      ]
     },
     "execution_count": 31,
     "metadata": {},
     "output_type": "execute_result"
    }
   ],
   "source": [
    "dataset"
   ]
  },
  {
   "cell_type": "code",
   "execution_count": 32,
   "id": "64157fa1-2147-4ef6-89d9-3e853f4b6653",
   "metadata": {
    "tags": []
   },
   "outputs": [],
   "source": [
    "def extract_prompt(prompt):\n",
    "    result = re.search('\\*\\*(.+)\\*\\*', prompt)\n",
    "    if result is None:\n",
    "        return ''\n",
    "    return result.group(1)\n",
    "\n",
    "def validate_prompt(prompt):\n",
    "    if len(prompt) == 0:\n",
    "        return False\n",
    "    return max(map(ord, prompt)) <= 127"
   ]
  },
  {
   "cell_type": "code",
   "execution_count": null,
   "id": "70ca2c56-8e01-4c08-9541-a28ac58e2e95",
   "metadata": {
    "tags": []
   },
   "outputs": [
    {
     "data": {
      "application/vnd.jupyter.widget-view+json": {
       "model_id": "f062b3f6535d47b8a5105caa88758935",
       "version_major": 2,
       "version_minor": 0
      },
      "text/plain": [
       "0it [00:00, ?it/s]"
      ]
     },
     "metadata": {},
     "output_type": "display_data"
    }
   ],
   "source": [
    "results = list()\n",
    "\n",
    "hashs = set()\n",
    "\n",
    "pairs = list()\n",
    "\n",
    "for i, item in tqdm(enumerate(dataset['train'])):\n",
    "    \n",
    "    if not validate_prompt(item['content']):\n",
    "        continue\n",
    "    \n",
    "    if contains_link(item['content']):\n",
    "        continue\n",
    "        \n",
    "    positive_prompt = extract_prompt(item['content']).strip()\n",
    "        \n",
    "    positive_hash = hash_prompt(positive_prompt)\n",
    "    if positive_hash in hashs:\n",
    "        continue\n",
    "    hashs.add(positive_hash)\n",
    "    \n",
    "    # if not check_brackets(positive_prompt)[0]:\n",
    "    #     continue\n",
    "        \n",
    "    positive_raw_length = len(positive_prompt)\n",
    "    \n",
    "    positive_prompt = re.sub('[\\x00-\\x08]', '', positive_prompt)\n",
    "    \n",
    "    if '--no ' in positive_prompt.lower() or '::-' in positive_prompt:\n",
    "        pairs.append((i, positive_prompt, positive_raw_length))\n",
    "        continue\n",
    "\n",
    "    positive_prompt = positive_prompt.split('--')[0]\n",
    "        \n",
    "    positive_prompt = positive_prompt.replace('\\\\', ', ')\n",
    "        \n",
    "    positive_prompt = format_prompt(positive_prompt)\n",
    "    \n",
    "    if len(positive_prompt) == 0:\n",
    "        continue\n",
    "        \n",
    "    positive_hash = hash_prompt(positive_prompt)\n",
    "        \n",
    "    results.append((i, positive_prompt, positive_hash, positive_raw_length))"
   ]
  },
  {
   "cell_type": "markdown",
   "id": "04fa264d-ac9a-4eec-a70c-46bcf37b39e6",
   "metadata": {},
   "source": [
    "## paired"
   ]
  },
  {
   "cell_type": "code",
   "execution_count": 42,
   "id": "a0365f2a-5183-4055-8b32-a19a5a07def6",
   "metadata": {
    "tags": []
   },
   "outputs": [
    {
     "data": {
      "application/vnd.jupyter.widget-view+json": {
       "model_id": "5058a1ab68414977b91040d461f0eb98",
       "version_major": 2,
       "version_minor": 0
      },
      "text/plain": [
       "  0%|          | 0/257735 [00:00<?, ?it/s]"
      ]
     },
     "metadata": {},
     "output_type": "display_data"
    }
   ],
   "source": [
    "paired_results = list()\n",
    "\n",
    "for index, positive_prompt, positive_raw_length in tqdm(pairs):\n",
    "\n",
    "    if type(positive_prompt) != str:\n",
    "        continue\n",
    "    \n",
    "    if '|' in positive_prompt:\n",
    "        continue\n",
    "        \n",
    "    parts = re.findall('[a-zA-Z]+:[^:\\.]+\\.', positive_prompt)\n",
    "    if len(parts) > 0:\n",
    "        continue\n",
    "        \n",
    "    positive_prompt = positive_prompt.replace('\"', ', ')\n",
    "    \n",
    "    negs = list()\n",
    "    \n",
    "    for i, part in enumerate(positive_prompt.split('--')):\n",
    "        if i == 0:\n",
    "            positive_prompt = part\n",
    "        elif part.lower().startswith('no '):\n",
    "            negs.append(' '.join(part.split()[1:]))\n",
    "            \n",
    "    if re.search(':\\s*-[0-9,\\.\\s]*', positive_prompt):\n",
    "        negs.extend(re.findall('([^,:]+):\\s*:\\s*-[0-9,\\.\\s]*', positive_prompt))\n",
    "        positive_prompt = re.sub('([^,:]+):\\s*:\\s*-[0-9,\\.\\s]*', ', ', positive_prompt)\n",
    "    \n",
    "    positive_prompt = remove_weight(positive_prompt)\n",
    "    positive_prompt = positive_prompt.lower()\n",
    "    positive_prompt = format_prompt(positive_prompt)\n",
    "    positive_prompt = remove_redundant_tags(positive_prompt)\n",
    "    positive_prompt = format_prompt(positive_prompt)\n",
    "    \n",
    "    if len(positive_prompt) == 0:\n",
    "        continue\n",
    "        \n",
    "    positive_hash = hash_prompt(positive_prompt)\n",
    "    \n",
    "    if len(negs) == 0:\n",
    "        results.append((index, positive_prompt, positive_hash, positive_raw_length))\n",
    "        continue\n",
    "    \n",
    "    negative_prompt = ', '.join(negs)\n",
    "    \n",
    "    negative_prompt = remove_weight(negative_prompt)\n",
    "    negative_prompt = negative_prompt.lower()\n",
    "    negative_prompt = format_prompt(negative_prompt)\n",
    "    negative_prompt = remove_redundant_tags(negative_prompt)\n",
    "    negative_prompt = format_prompt(negative_prompt)\n",
    "    \n",
    "    if len(negative_prompt) == 0:\n",
    "        continue\n",
    "        \n",
    "    negative_hash = hash_prompt(negative_prompt)\n",
    "        \n",
    "    negative_raw_length = len(negative_prompt)\n",
    "        \n",
    "    paired_results.append((index, positive_prompt, positive_hash, positive_raw_length, negative_prompt, negative_hash, negative_raw_length))"
   ]
  },
  {
   "cell_type": "code",
   "execution_count": 43,
   "id": "ab899f4d-284e-4534-98a4-b4eb45944793",
   "metadata": {
    "tags": []
   },
   "outputs": [
    {
     "data": {
      "text/html": [
       "<div>\n",
       "<style scoped>\n",
       "    .dataframe tbody tr th:only-of-type {\n",
       "        vertical-align: middle;\n",
       "    }\n",
       "\n",
       "    .dataframe tbody tr th {\n",
       "        vertical-align: top;\n",
       "    }\n",
       "\n",
       "    .dataframe thead th {\n",
       "        text-align: right;\n",
       "    }\n",
       "</style>\n",
       "<table border=\"1\" class=\"dataframe\">\n",
       "  <thead>\n",
       "    <tr style=\"text-align: right;\">\n",
       "      <th></th>\n",
       "      <th>index</th>\n",
       "      <th>positive_prompt</th>\n",
       "      <th>positive_hash</th>\n",
       "      <th>positive_raw_length</th>\n",
       "      <th>negative_prompt</th>\n",
       "      <th>negative_hash</th>\n",
       "      <th>negative_raw_length</th>\n",
       "    </tr>\n",
       "  </thead>\n",
       "  <tbody>\n",
       "    <tr>\n",
       "      <th>0</th>\n",
       "      <td>2026</td>\n",
       "      <td>teamwork, garden, happiness, sunset, house</td>\n",
       "      <td>fc83d8514dee80f4373fac06c3e80d01</td>\n",
       "      <td>64</td>\n",
       "      <td>hands, white</td>\n",
       "      <td>3e80f433334416e843cc61080c51ec60</td>\n",
       "      <td>12</td>\n",
       "    </tr>\n",
       "    <tr>\n",
       "      <th>1</th>\n",
       "      <td>2073</td>\n",
       "      <td>boy helping a girl to escape from danger, scar...</td>\n",
       "      <td>9c26b159e7c8b1717234a07075cc686d</td>\n",
       "      <td>94</td>\n",
       "      <td>hands, white</td>\n",
       "      <td>3e80f433334416e843cc61080c51ec60</td>\n",
       "      <td>12</td>\n",
       "    </tr>\n",
       "    <tr>\n",
       "      <th>2</th>\n",
       "      <td>2140</td>\n",
       "      <td>help</td>\n",
       "      <td>657f8b8da628ef83cf69101b6817150a</td>\n",
       "      <td>26</td>\n",
       "      <td>hands, white</td>\n",
       "      <td>3e80f433334416e843cc61080c51ec60</td>\n",
       "      <td>12</td>\n",
       "    </tr>\n",
       "    <tr>\n",
       "      <th>3</th>\n",
       "      <td>2184</td>\n",
       "      <td>help each other, supporting people, nature</td>\n",
       "      <td>7a56829fb6592e123273d3b7bc9814df</td>\n",
       "      <td>53</td>\n",
       "      <td>hands</td>\n",
       "      <td>6c8d61508321ac444175370124200350</td>\n",
       "      <td>5</td>\n",
       "    </tr>\n",
       "    <tr>\n",
       "      <th>4</th>\n",
       "      <td>2217</td>\n",
       "      <td>sunset, nature, lovely house and people</td>\n",
       "      <td>eae284a91e5e1e8954ef8c5d1ff46b83</td>\n",
       "      <td>61</td>\n",
       "      <td>hands, white</td>\n",
       "      <td>3e80f433334416e843cc61080c51ec60</td>\n",
       "      <td>12</td>\n",
       "    </tr>\n",
       "    <tr>\n",
       "      <th>...</th>\n",
       "      <td>...</td>\n",
       "      <td>...</td>\n",
       "      <td>...</td>\n",
       "      <td>...</td>\n",
       "      <td>...</td>\n",
       "      <td>...</td>\n",
       "      <td>...</td>\n",
       "    </tr>\n",
       "    <tr>\n",
       "      <th>250809</th>\n",
       "      <td>55082056</td>\n",
       "      <td>coloring book page, an illustration of a witch...</td>\n",
       "      <td>66688c434d225cb6ac8f4dd910232c65</td>\n",
       "      <td>410</td>\n",
       "      <td>noise, book, logo, page, letters, words, marke...</td>\n",
       "      <td>3ae9f136b7632f2580526e138d818165</td>\n",
       "      <td>77</td>\n",
       "    </tr>\n",
       "    <tr>\n",
       "      <th>250810</th>\n",
       "      <td>55082128</td>\n",
       "      <td>coloring book page, detailed illustration of a...</td>\n",
       "      <td>d8c378869987b80994e7d69db98b71a4</td>\n",
       "      <td>415</td>\n",
       "      <td>noise, book, logo, page, letters, words, marke...</td>\n",
       "      <td>3ae9f136b7632f2580526e138d818165</td>\n",
       "      <td>77</td>\n",
       "    </tr>\n",
       "    <tr>\n",
       "      <th>250811</th>\n",
       "      <td>55082296</td>\n",
       "      <td>coloring book page, different types of protect...</td>\n",
       "      <td>af637e73e10902a5d9aeed9cf9a0e73b</td>\n",
       "      <td>384</td>\n",
       "      <td>noise, book, logo, page, letters, words, marke...</td>\n",
       "      <td>3ae9f136b7632f2580526e138d818165</td>\n",
       "      <td>77</td>\n",
       "    </tr>\n",
       "    <tr>\n",
       "      <th>250812</th>\n",
       "      <td>55082364</td>\n",
       "      <td>coloring book page, detailed illustration of a...</td>\n",
       "      <td>14c337ee9b25620acbfde8d65e49b009</td>\n",
       "      <td>405</td>\n",
       "      <td>noise, book, logo, page, letters, words, marke...</td>\n",
       "      <td>3ae9f136b7632f2580526e138d818165</td>\n",
       "      <td>77</td>\n",
       "    </tr>\n",
       "    <tr>\n",
       "      <th>250813</th>\n",
       "      <td>55082551</td>\n",
       "      <td>coloring book page, an illustration of a witch...</td>\n",
       "      <td>a7d4af729e8d7ac3479e18ca719a9f74</td>\n",
       "      <td>413</td>\n",
       "      <td>noise, book, logo, page, letters, words, marke...</td>\n",
       "      <td>3ae9f136b7632f2580526e138d818165</td>\n",
       "      <td>77</td>\n",
       "    </tr>\n",
       "  </tbody>\n",
       "</table>\n",
       "<p>234647 rows × 7 columns</p>\n",
       "</div>"
      ],
      "text/plain": [
       "           index                                    positive_prompt  \\\n",
       "0           2026         teamwork, garden, happiness, sunset, house   \n",
       "1           2073  boy helping a girl to escape from danger, scar...   \n",
       "2           2140                                               help   \n",
       "3           2184         help each other, supporting people, nature   \n",
       "4           2217            sunset, nature, lovely house and people   \n",
       "...          ...                                                ...   \n",
       "250809  55082056  coloring book page, an illustration of a witch...   \n",
       "250810  55082128  coloring book page, detailed illustration of a...   \n",
       "250811  55082296  coloring book page, different types of protect...   \n",
       "250812  55082364  coloring book page, detailed illustration of a...   \n",
       "250813  55082551  coloring book page, an illustration of a witch...   \n",
       "\n",
       "                           positive_hash  positive_raw_length  \\\n",
       "0       fc83d8514dee80f4373fac06c3e80d01                   64   \n",
       "1       9c26b159e7c8b1717234a07075cc686d                   94   \n",
       "2       657f8b8da628ef83cf69101b6817150a                   26   \n",
       "3       7a56829fb6592e123273d3b7bc9814df                   53   \n",
       "4       eae284a91e5e1e8954ef8c5d1ff46b83                   61   \n",
       "...                                  ...                  ...   \n",
       "250809  66688c434d225cb6ac8f4dd910232c65                  410   \n",
       "250810  d8c378869987b80994e7d69db98b71a4                  415   \n",
       "250811  af637e73e10902a5d9aeed9cf9a0e73b                  384   \n",
       "250812  14c337ee9b25620acbfde8d65e49b009                  405   \n",
       "250813  a7d4af729e8d7ac3479e18ca719a9f74                  413   \n",
       "\n",
       "                                          negative_prompt  \\\n",
       "0                                            hands, white   \n",
       "1                                            hands, white   \n",
       "2                                            hands, white   \n",
       "3                                                   hands   \n",
       "4                                            hands, white   \n",
       "...                                                   ...   \n",
       "250809  noise, book, logo, page, letters, words, marke...   \n",
       "250810  noise, book, logo, page, letters, words, marke...   \n",
       "250811  noise, book, logo, page, letters, words, marke...   \n",
       "250812  noise, book, logo, page, letters, words, marke...   \n",
       "250813  noise, book, logo, page, letters, words, marke...   \n",
       "\n",
       "                           negative_hash  negative_raw_length  \n",
       "0       3e80f433334416e843cc61080c51ec60                   12  \n",
       "1       3e80f433334416e843cc61080c51ec60                   12  \n",
       "2       3e80f433334416e843cc61080c51ec60                   12  \n",
       "3       6c8d61508321ac444175370124200350                    5  \n",
       "4       3e80f433334416e843cc61080c51ec60                   12  \n",
       "...                                  ...                  ...  \n",
       "250809  3ae9f136b7632f2580526e138d818165                   77  \n",
       "250810  3ae9f136b7632f2580526e138d818165                   77  \n",
       "250811  3ae9f136b7632f2580526e138d818165                   77  \n",
       "250812  3ae9f136b7632f2580526e138d818165                   77  \n",
       "250813  3ae9f136b7632f2580526e138d818165                   77  \n",
       "\n",
       "[234647 rows x 7 columns]"
      ]
     },
     "execution_count": 43,
     "metadata": {},
     "output_type": "execute_result"
    }
   ],
   "source": [
    "paired_results = pd.DataFrame(paired_results, columns=['index', 'positive_prompt', 'positive_hash', 'positive_raw_length', 'negative_prompt', 'negative_hash', 'negative_raw_length'])\n",
    "paired_results.drop_duplicates(['positive_hash', 'negative_hash'], inplace=True)\n",
    "\n",
    "paired_results"
   ]
  },
  {
   "cell_type": "code",
   "execution_count": 44,
   "id": "c18d2aba-3d4d-49f8-a899-1e953c93f724",
   "metadata": {
    "tags": []
   },
   "outputs": [],
   "source": [
    "paired_results.to_csv('../dataset/nonredundant-midjourney_prompts-paired.tsv', sep='\\t', index=False)"
   ]
  },
  {
   "cell_type": "code",
   "execution_count": 45,
   "id": "7757a6ad-92e5-4042-8880-571bbceb14d9",
   "metadata": {
    "tags": []
   },
   "outputs": [
    {
     "data": {
      "text/html": [
       "<div>\n",
       "<style scoped>\n",
       "    .dataframe tbody tr th:only-of-type {\n",
       "        vertical-align: middle;\n",
       "    }\n",
       "\n",
       "    .dataframe tbody tr th {\n",
       "        vertical-align: top;\n",
       "    }\n",
       "\n",
       "    .dataframe thead th {\n",
       "        text-align: right;\n",
       "    }\n",
       "</style>\n",
       "<table border=\"1\" class=\"dataframe\">\n",
       "  <thead>\n",
       "    <tr style=\"text-align: right;\">\n",
       "      <th></th>\n",
       "      <th>index</th>\n",
       "      <th>positive_prompt</th>\n",
       "      <th>positive_hash</th>\n",
       "      <th>positive_raw_length</th>\n",
       "    </tr>\n",
       "  </thead>\n",
       "  <tbody>\n",
       "    <tr>\n",
       "      <th>0</th>\n",
       "      <td>0</td>\n",
       "      <td>adult Goku in Dragonball Z, walking on a beach...</td>\n",
       "      <td>44fa41e731d78cdf1c47b02b99f0e094</td>\n",
       "      <td>79</td>\n",
       "    </tr>\n",
       "    <tr>\n",
       "      <th>1</th>\n",
       "      <td>1</td>\n",
       "      <td>hyperrealism,In the valley, there lies a laven...</td>\n",
       "      <td>93fbc69be2d2de98f3efd5ce619a2e2c</td>\n",
       "      <td>430</td>\n",
       "    </tr>\n",
       "    <tr>\n",
       "      <th>2</th>\n",
       "      <td>2</td>\n",
       "      <td>thai chicken bowl</td>\n",
       "      <td>b64f2f2dbbe9e243dff262bb4b87fe6c</td>\n",
       "      <td>17</td>\n",
       "    </tr>\n",
       "    <tr>\n",
       "      <th>3</th>\n",
       "      <td>6</td>\n",
       "      <td>hyperrealism, In the valley lies a lavender ga...</td>\n",
       "      <td>345b236dc8e4c65012d653f25e1ed59d</td>\n",
       "      <td>305</td>\n",
       "    </tr>\n",
       "    <tr>\n",
       "      <th>4</th>\n",
       "      <td>11</td>\n",
       "      <td>a Scandinavian modern-style sauna, front on vi...</td>\n",
       "      <td>8f2ff7168016b70f700734de3229f597</td>\n",
       "      <td>191</td>\n",
       "    </tr>\n",
       "    <tr>\n",
       "      <th>...</th>\n",
       "      <td>...</td>\n",
       "      <td>...</td>\n",
       "      <td>...</td>\n",
       "      <td>...</td>\n",
       "    </tr>\n",
       "    <tr>\n",
       "      <th>17072568</th>\n",
       "      <td>54704620</td>\n",
       "      <td>inflated, oversized, gas pump with person stan...</td>\n",
       "      <td>936d3caba360fd8f94d96e04ff65b484</td>\n",
       "      <td>68</td>\n",
       "    </tr>\n",
       "    <tr>\n",
       "      <th>17072569</th>\n",
       "      <td>54878665</td>\n",
       "      <td>a mars outpost</td>\n",
       "      <td>b50a8d7bf8689762a2b683fde222ecb2</td>\n",
       "      <td>305</td>\n",
       "    </tr>\n",
       "    <tr>\n",
       "      <th>17072570</th>\n",
       "      <td>55013640</td>\n",
       "      <td>lion as human wearing a leather jacket, smoke ...</td>\n",
       "      <td>d06b4a8ff0023a67abe6eca22d5f7f15</td>\n",
       "      <td>112</td>\n",
       "    </tr>\n",
       "    <tr>\n",
       "      <th>17072571</th>\n",
       "      <td>55013685</td>\n",
       "      <td>lion as human wearing a white shirt, portrait ...</td>\n",
       "      <td>01cb4118b59a773f450f68dced87c8ab</td>\n",
       "      <td>80</td>\n",
       "    </tr>\n",
       "    <tr>\n",
       "      <th>17072572</th>\n",
       "      <td>55030474</td>\n",
       "      <td>two characeter sitting on a bench. one is an e...</td>\n",
       "      <td>7f1de4f23973ce08b430536d87908a73</td>\n",
       "      <td>125</td>\n",
       "    </tr>\n",
       "  </tbody>\n",
       "</table>\n",
       "<p>16595447 rows × 4 columns</p>\n",
       "</div>"
      ],
      "text/plain": [
       "             index                                    positive_prompt  \\\n",
       "0                0  adult Goku in Dragonball Z, walking on a beach...   \n",
       "1                1  hyperrealism,In the valley, there lies a laven...   \n",
       "2                2                                  thai chicken bowl   \n",
       "3                6  hyperrealism, In the valley lies a lavender ga...   \n",
       "4               11  a Scandinavian modern-style sauna, front on vi...   \n",
       "...            ...                                                ...   \n",
       "17072568  54704620  inflated, oversized, gas pump with person stan...   \n",
       "17072569  54878665                                     a mars outpost   \n",
       "17072570  55013640  lion as human wearing a leather jacket, smoke ...   \n",
       "17072571  55013685  lion as human wearing a white shirt, portrait ...   \n",
       "17072572  55030474  two characeter sitting on a bench. one is an e...   \n",
       "\n",
       "                             positive_hash  positive_raw_length  \n",
       "0         44fa41e731d78cdf1c47b02b99f0e094                   79  \n",
       "1         93fbc69be2d2de98f3efd5ce619a2e2c                  430  \n",
       "2         b64f2f2dbbe9e243dff262bb4b87fe6c                   17  \n",
       "3         345b236dc8e4c65012d653f25e1ed59d                  305  \n",
       "4         8f2ff7168016b70f700734de3229f597                  191  \n",
       "...                                    ...                  ...  \n",
       "17072568  936d3caba360fd8f94d96e04ff65b484                   68  \n",
       "17072569  b50a8d7bf8689762a2b683fde222ecb2                  305  \n",
       "17072570  d06b4a8ff0023a67abe6eca22d5f7f15                  112  \n",
       "17072571  01cb4118b59a773f450f68dced87c8ab                   80  \n",
       "17072572  7f1de4f23973ce08b430536d87908a73                  125  \n",
       "\n",
       "[16595447 rows x 4 columns]"
      ]
     },
     "execution_count": 45,
     "metadata": {},
     "output_type": "execute_result"
    }
   ],
   "source": [
    "results = pd.DataFrame(results, columns=['index', 'positive_prompt', 'positive_hash', 'positive_raw_length'])\n",
    "results.drop_duplicates(['positive_hash'], inplace=True)\n",
    "\n",
    "results"
   ]
  },
  {
   "cell_type": "code",
   "execution_count": 46,
   "id": "db08f159-a065-42c0-a7cc-24ee8151b503",
   "metadata": {
    "tags": []
   },
   "outputs": [],
   "source": [
    "results.to_csv('../dataset/midjourney_prompts.tsv', sep='\\t', index=False)"
   ]
  },
  {
   "cell_type": "markdown",
   "id": "8b2e31c0-ec47-4a02-b18c-ba461a5e461c",
   "metadata": {},
   "source": [
    "## download paired images"
   ]
  },
  {
   "cell_type": "code",
   "execution_count": null,
   "id": "494fce0f-6afa-4e75-8ec2-dcb4f3c329be",
   "metadata": {
    "tags": []
   },
   "outputs": [],
   "source": [
    "import requests\n",
    "\n",
    "from io import BytesIO\n",
    "from PIL import Image\n",
    "import time\n",
    "\n",
    "proxies = {\n",
    "    # 'http': 'http://localhost:7890',\n",
    "    # 'https': 'http://localhost:7890'\n",
    "    'http': 'http://10.68.98.153:7890',\n",
    "    'https': 'http://10.68.98.153:7890'\n",
    "}"
   ]
  },
  {
   "cell_type": "code",
   "execution_count": null,
   "id": "a2726892-a79e-47ea-97a4-160090708f3e",
   "metadata": {
    "tags": []
   },
   "outputs": [],
   "source": [
    "df = pd.read_csv('../dataset/nonredundant-midjourney_prompts-paired.tsv', sep='\\t')\n",
    "selected = df.query('positive_raw_length > 25 and positive_raw_length < 250 and negative_raw_length > 25 and negative_raw_length < 250')\n",
    "selected"
   ]
  },
  {
   "cell_type": "code",
   "execution_count": null,
   "id": "3eb677a4-4903-4c15-8bbf-9bc057fcbe60",
   "metadata": {
    "tags": []
   },
   "outputs": [],
   "source": [
    "save_dir = '../dataset/midjourney-messages/images/'\n",
    "os.makedirs(save_dir, exist_ok=True)"
   ]
  },
  {
   "cell_type": "code",
   "execution_count": null,
   "id": "6d51dee8-4a01-4fa9-87bd-1412745faf36",
   "metadata": {
    "tags": []
   },
   "outputs": [],
   "source": [
    "indices = list(reversed(list(selected['index'])))\n",
    "\n",
    "index = indices.pop()\n",
    "\n",
    "errors = list()\n",
    "\n",
    "for i, item in tqdm(enumerate(dataset['train'])):\n",
    "    \n",
    "    if i > index:\n",
    "        break\n",
    "    if i < index:\n",
    "        continue\n",
    "        \n",
    "    output_path = os.path.join(save_dir, f'{index}.jpg')\n",
    "    \n",
    "    if not os.path.exists(output_path):\n",
    "        \n",
    "        try:\n",
    "\n",
    "            data = requests.get(item['url'], proxies=proxies, timeout=(3.0, 10.0))\n",
    "\n",
    "            if data.status_code == 200:\n",
    "                Image.open(BytesIO(data.content)).save(output_path)\n",
    "            else:\n",
    "                errors.append(index)\n",
    "\n",
    "        except KeyboardInterrupt:\n",
    "            break\n",
    "        except:\n",
    "            errors.append(index)\n",
    "        \n",
    "    try:\n",
    "        index = indices.pop()\n",
    "    except:\n",
    "        break\n",
    "        \n",
    "    time.sleep(0.5)"
   ]
  },
  {
   "cell_type": "markdown",
   "id": "3c6361ed-1ec1-4918-a6ff-b743c2a0ae5a",
   "metadata": {},
   "source": [
    "## step2"
   ]
  },
  {
   "cell_type": "code",
   "execution_count": 47,
   "id": "963f7683-74fa-4712-943a-8e561228650c",
   "metadata": {
    "tags": []
   },
   "outputs": [],
   "source": [
    "# df = pd.read_csv('../dataset/midjourney_prompts.tsv', sep='\\t')\n",
    "df = results"
   ]
  },
  {
   "cell_type": "code",
   "execution_count": 49,
   "id": "790ca0e7-72e6-4388-86c0-18de2613de3c",
   "metadata": {
    "tags": []
   },
   "outputs": [],
   "source": [
    "def remove_brackets(prompt):\n",
    "    \n",
    "    while re.search(r'\\([^\\)]*\\)', prompt):\n",
    "        prompt = re.sub(r'\\(([^\\)]*)\\)', r', \\1,', prompt)\n",
    "    \n",
    "    while re.search(r'\\[[^\\]]*\\]', prompt):\n",
    "        prompt = re.sub(r'\\[([^\\]]*)\\]', r', \\1,', prompt)\n",
    "    \n",
    "    while re.search(r'\\{[^\\}]*\\}', prompt):\n",
    "        prompt = re.sub(r'\\{([^\\}]*)\\}', r', \\1,', prompt)\n",
    "    \n",
    "    while re.search(r'\\<[^\\>]*\\>', prompt):\n",
    "        prompt = re.sub(r'\\<([^\\>]*)\\>', r', \\1,', prompt)\n",
    "    \n",
    "    return prompt"
   ]
  },
  {
   "cell_type": "code",
   "execution_count": null,
   "id": "947588dd-4afd-4148-93d5-917f7ca39fa3",
   "metadata": {
    "tags": []
   },
   "outputs": [
    {
     "data": {
      "application/vnd.jupyter.widget-view+json": {
       "model_id": "9f774c1874b448ec8552f27d00086a0d",
       "version_major": 2,
       "version_minor": 0
      },
      "text/plain": [
       "0it [00:00, ?it/s]"
      ]
     },
     "metadata": {},
     "output_type": "display_data"
    }
   ],
   "source": [
    "results = list()\n",
    "\n",
    "complexs = list()\n",
    "\n",
    "for index, positive_prompt, positive_hash, positive_raw_length in tqdm(df.itertuples(index=False, name=None)):\n",
    "\n",
    "    if type(positive_prompt) != str:\n",
    "        continue\n",
    "\n",
    "    if '|' in positive_prompt:\n",
    "        continue\n",
    "    \n",
    "    if '\"' in positive_prompt:\n",
    "        continue\n",
    "    \n",
    "    if contains_link(positive_prompt):\n",
    "        continue\n",
    "        \n",
    "    # remove neg weighted tags\n",
    "    positive_prompt = re.sub('([^,:]+)[:\\s]{2,}-[0-9,\\.]*', ', ', positive_prompt)\n",
    "    # remove weight\n",
    "    positive_prompt = re.sub('(:\\s?){2,}[0-9,\\.]*', ', ', positive_prompt)\n",
    "    \n",
    "    positive_prompt = re.sub('[^,\\s]*[\\d\\s]{5,}[^,\\s]*', ',', positive_prompt)\n",
    "    \n",
    "    parts = re.findall('[a-zA-Z]+:[^:\\.]+\\.', positive_prompt)\n",
    "    \n",
    "    if len(parts) > 0:\n",
    "        complexs.append((index, positive_prompt, positive_raw_length))\n",
    "        continue\n",
    "        \n",
    "    positive_prompt = remove_brackets(positive_prompt)\n",
    "        \n",
    "    positive_prompt = format_prompt(positive_prompt)\n",
    "\n",
    "    positive_prompt = positive_prompt.lower()\n",
    "\n",
    "    positive_prompt = remove_redundant_tags(positive_prompt)\n",
    "\n",
    "    if len(positive_prompt) == 0:\n",
    "        continue\n",
    "\n",
    "    positive_hash = hash_prompt(positive_prompt)\n",
    "\n",
    "    results.append((index, positive_prompt, positive_hash, positive_raw_length))"
   ]
  },
  {
   "cell_type": "code",
   "execution_count": null,
   "id": "d24ca07d-3270-4885-b463-d3a554f5b97d",
   "metadata": {
    "tags": []
   },
   "outputs": [],
   "source": [
    "results = pd.DataFrame(results, columns=['index', 'positive_prompt', 'positive_hash', 'positive_raw_length'])\n",
    "results.drop_duplicates(['positive_hash'], inplace=True)\n",
    "\n",
    "results"
   ]
  },
  {
   "cell_type": "code",
   "execution_count": null,
   "id": "c39b0054-472b-471f-b2f0-a6ec4ba420a1",
   "metadata": {
    "tags": []
   },
   "outputs": [],
   "source": [
    "results.to_csv('../dataset/nonredundant-midjourney_prompts.tsv', sep='\\t', index=False)"
   ]
  },
  {
   "cell_type": "markdown",
   "id": "266cdb88-a00c-43d2-a521-57fdacca9714",
   "metadata": {},
   "source": [
    "# dalle"
   ]
  },
  {
   "cell_type": "code",
   "execution_count": null,
   "id": "21770095-1ecf-4dfb-95a2-6fa966ae28cc",
   "metadata": {
    "tags": []
   },
   "outputs": [],
   "source": [
    "dataset = datasets.load_dataset('../dataset/dalle-3-contrastive-captions/')"
   ]
  },
  {
   "cell_type": "code",
   "execution_count": null,
   "id": "2a0926b1-34a3-4195-9f7e-d3a8f1d1adf3",
   "metadata": {
    "tags": []
   },
   "outputs": [],
   "source": [
    "dataset"
   ]
  },
  {
   "cell_type": "code",
   "execution_count": null,
   "id": "b847dafe-24ef-40fe-8b6f-39a87af7441e",
   "metadata": {
    "tags": []
   },
   "outputs": [],
   "source": [
    "results = list()\n",
    "\n",
    "for i, item in tqdm(enumerate(dataset['train'])):\n",
    "    \n",
    "    for key in ['caption', 'dense_caption_1', 'dense_caption_2', 'dense_caption_3', 'dense_caption_4', 'dense_caption_5', 'dense_caption_6', 'dense_caption_7', 'dense_caption_8', 'dense_caption_9', 'dense_caption_10']:\n",
    "        \n",
    "        positive_prompt = item[key]\n",
    "    \n",
    "        if not validate_prompt(positive_prompt):\n",
    "            continue\n",
    "\n",
    "        if not check_brackets(positive_prompt)[0]:\n",
    "            continue\n",
    "\n",
    "        positive_raw_length = len(positive_prompt)\n",
    "\n",
    "        positive_prompt = format_prompt(positive_prompt)\n",
    "\n",
    "        if len(positive_prompt) == 0:\n",
    "            continue\n",
    "\n",
    "        positive_hash = hash_prompt(positive_prompt)\n",
    "\n",
    "        results.append((i, positive_prompt, positive_hash, positive_raw_length))"
   ]
  },
  {
   "cell_type": "code",
   "execution_count": null,
   "id": "e82be61e-78ea-4205-b012-1f1edd10ee70",
   "metadata": {
    "tags": []
   },
   "outputs": [],
   "source": [
    "results = pd.DataFrame(results, columns=['index', 'positive_prompt', 'positive_hash', 'positive_raw_length'])\n",
    "results.drop_duplicates(['positive_hash'], inplace=True)\n",
    "\n",
    "results"
   ]
  },
  {
   "cell_type": "code",
   "execution_count": null,
   "id": "174754c0-3e3b-449f-be1b-b73e8937248f",
   "metadata": {
    "tags": []
   },
   "outputs": [],
   "source": [
    "results.to_csv('../dataset/dalle_prompts.tsv', sep='\\t', index=False)"
   ]
  },
  {
   "cell_type": "code",
   "execution_count": null,
   "id": "2224bd02-06be-4d3a-8e52-0d3404028b45",
   "metadata": {
    "tags": []
   },
   "outputs": [],
   "source": [
    "df = pd.read_csv('../dataset/dalle_prompts.tsv', sep='\\t')"
   ]
  },
  {
   "cell_type": "code",
   "execution_count": null,
   "id": "897dc78c-be2f-4d9c-b530-f8dda3bf6656",
   "metadata": {
    "tags": []
   },
   "outputs": [],
   "source": [
    "results = list()\n",
    "\n",
    "for index, positive_prompt, positive_hash, positive_raw_length in tqdm(df.itertuples(index=False, name=None)):\n",
    "\n",
    "    if type(positive_prompt) != str:\n",
    "        continue\n",
    "        \n",
    "    positive_prompt = remove_brackets(positive_prompt)\n",
    "        \n",
    "    positive_prompt = format_prompt(positive_prompt)\n",
    "\n",
    "    positive_prompt = positive_prompt.lower()\n",
    "\n",
    "    redundant, max_tag_length = check_redundancy(positive_prompt)\n",
    "\n",
    "    if redundant or max_tag_length > MAX_TAG_LENGTH or len(positive_prompt) == 0:\n",
    "        continue\n",
    "\n",
    "    positive_hash = hash_prompt(positive_prompt)\n",
    "\n",
    "    results.append((index, positive_prompt, positive_hash, positive_raw_length))"
   ]
  },
  {
   "cell_type": "code",
   "execution_count": null,
   "id": "ddd6f8b5-3284-4e12-96ff-d6b37fc1b406",
   "metadata": {
    "tags": []
   },
   "outputs": [],
   "source": [
    "results = pd.DataFrame(results, columns=['index', 'positive_prompt', 'positive_hash', 'positive_raw_length'])\n",
    "results.drop_duplicates(['positive_hash'], inplace=True)\n",
    "\n",
    "results"
   ]
  },
  {
   "cell_type": "code",
   "execution_count": null,
   "id": "ac92363f-d5d4-4df5-aa9f-2a30a2e45b67",
   "metadata": {
    "tags": []
   },
   "outputs": [],
   "source": [
    "results.to_csv('../dataset/nonredundant-dalle_captions.tsv', sep='\\t', index=False)"
   ]
  },
  {
   "cell_type": "markdown",
   "id": "14e4dba5-b3f2-4c75-92c0-5b8495469178",
   "metadata": {},
   "source": [
    "# dalle gpt"
   ]
  },
  {
   "cell_type": "code",
   "execution_count": null,
   "id": "3963e394-1baa-496e-b785-cf1333394d20",
   "metadata": {
    "tags": []
   },
   "outputs": [],
   "source": [
    "dataset = datasets.load_dataset('arrow', data_files={'train': '../dataset/DALL-E-Prompts-OpenAI-ChatGPT/train/data-00000-of-00001.arrow'})"
   ]
  },
  {
   "cell_type": "code",
   "execution_count": null,
   "id": "34123cff-e121-4036-b85f-1f2839bcdfd7",
   "metadata": {
    "tags": []
   },
   "outputs": [],
   "source": [
    "dataset"
   ]
  },
  {
   "cell_type": "code",
   "execution_count": null,
   "id": "4aef54e7-b46d-4555-9dc9-aa7cedca0d7a",
   "metadata": {
    "tags": []
   },
   "outputs": [],
   "source": [
    "dataset['train'][0]"
   ]
  },
  {
   "cell_type": "code",
   "execution_count": null,
   "id": "5e504037-2d5a-4aef-8394-1dcbbb0974b3",
   "metadata": {},
   "outputs": [],
   "source": [
    "results = list()\n",
    "\n",
    "for i, item in tqdm(enumerate(dataset['train'])):\n",
    "    \n",
    "    positive_prompt, positive_hash = '', ''\n",
    "    if item['Prompt'] is not None and validate_prompt(item['Prompt']):\n",
    "        positive_prompt = format_prompt(item['Prompt'])\n",
    "        positive_hash = hash_prompt(positive_prompt)\n",
    "    \n",
    "    if len(positive_prompt) == 0:\n",
    "        continue\n",
    "        \n",
    "    positive_raw_length = len(item['Prompt'])\n",
    "    \n",
    "    results.append((i, positive_prompt, positive_hash, positive_raw_length))\n",
    "    \n",
    "len(results)"
   ]
  },
  {
   "cell_type": "code",
   "execution_count": null,
   "id": "fe0a757a-bd3a-44b3-8612-333d247a1213",
   "metadata": {
    "tags": []
   },
   "outputs": [],
   "source": [
    "results = pd.DataFrame(results, columns=['index', 'positive_prompt', 'positive_hash', 'positive_raw_length'])\n",
    "results.drop_duplicates(['positive_hash'], inplace=True)\n",
    "\n",
    "results"
   ]
  },
  {
   "cell_type": "code",
   "execution_count": null,
   "id": "dcabbb4c-d0ff-4003-b1fb-05677adaadd5",
   "metadata": {
    "tags": []
   },
   "outputs": [],
   "source": [
    "results.to_csv('../dataset/dalle_chatgpt_prompts.tsv', sep='\\t', index=False)"
   ]
  },
  {
   "cell_type": "markdown",
   "id": "9c735f3f-bf60-41fc-b363-c5539ac47ffa",
   "metadata": {},
   "source": [
    "## step2"
   ]
  },
  {
   "cell_type": "code",
   "execution_count": null,
   "id": "deaf8a74-a42f-46cc-bd8d-09b41f8d9950",
   "metadata": {
    "tags": []
   },
   "outputs": [],
   "source": [
    "df = pd.read_csv('../dataset/dalle_chatgpt_prompts.tsv', sep='\\t')"
   ]
  },
  {
   "cell_type": "code",
   "execution_count": null,
   "id": "5700ada3-ff12-4d24-96ed-515f87f2316a",
   "metadata": {
    "tags": []
   },
   "outputs": [],
   "source": [
    "results = list()\n",
    "\n",
    "for index, positive_prompt, positive_hash, positive_raw_length in tqdm(df.itertuples(index=False, name=None)):\n",
    "\n",
    "    if type(positive_prompt) != str:\n",
    "        continue\n",
    "        \n",
    "    positive_prompt = positive_prompt.lower()\n",
    "\n",
    "    redundant, max_tag_length = check_redundancy(positive_prompt)\n",
    "\n",
    "    if redundant or max_tag_length > MAX_TAG_LENGTH or len(positive_prompt) == 0:\n",
    "        continue\n",
    "\n",
    "    positive_hash = hash_prompt(positive_prompt)\n",
    "\n",
    "    results.append((index, positive_prompt, positive_hash, positive_raw_length))"
   ]
  },
  {
   "cell_type": "code",
   "execution_count": null,
   "id": "ba8c43f5-6b07-4dbd-94fc-fb9e1129a13f",
   "metadata": {
    "tags": []
   },
   "outputs": [],
   "source": [
    "results = pd.DataFrame(results, columns=['index', 'positive_prompt', 'positive_hash', 'positive_raw_length'])\n",
    "results.drop_duplicates(['positive_hash'], inplace=True)\n",
    "\n",
    "results"
   ]
  },
  {
   "cell_type": "code",
   "execution_count": null,
   "id": "748ec324-e8bc-4071-adc7-650822b8141d",
   "metadata": {
    "tags": []
   },
   "outputs": [],
   "source": [
    "results.to_csv('../dataset/nonredundant-dalle_chatgpt_prompts.tsv', sep='\\t', index=False)"
   ]
  },
  {
   "cell_type": "markdown",
   "id": "404a553d-d718-4f01-b67f-1aea6bba0f82",
   "metadata": {},
   "source": [
    "# dalle discord"
   ]
  },
  {
   "cell_type": "code",
   "execution_count": null,
   "id": "2200f845-67bb-4649-b6a3-1fccb39ee931",
   "metadata": {
    "tags": []
   },
   "outputs": [],
   "source": [
    "df = pd.read_csv('../dataset/dalle_discord_prompts.tsv', sep='\\t')"
   ]
  },
  {
   "cell_type": "code",
   "execution_count": null,
   "id": "94c78390-ac24-4d71-aad4-9fbba50c066e",
   "metadata": {
    "tags": []
   },
   "outputs": [],
   "source": [
    "df"
   ]
  },
  {
   "cell_type": "code",
   "execution_count": null,
   "id": "dc914b0a-1347-4629-86e4-ecb8215c32b0",
   "metadata": {
    "tags": []
   },
   "outputs": [],
   "source": [
    "results = list()\n",
    "\n",
    "for index, positive_prompt in tqdm(enumerate(df['caption'])):\n",
    "\n",
    "    if type(positive_prompt) != str or not validate_prompt(positive_prompt):\n",
    "        continue\n",
    "        \n",
    "    positive_raw_length = len(positive_prompt)\n",
    "        \n",
    "    positive_prompt = format_prompt(positive_prompt)\n",
    "    \n",
    "    if '|' in positive_prompt:\n",
    "        continue\n",
    "    if '\"' in positive_prompt:\n",
    "        continue\n",
    "    \n",
    "    if len(positive_prompt) == 0:\n",
    "        continue\n",
    "        \n",
    "    positive_prompt = positive_prompt.lower()\n",
    "\n",
    "    redundant, max_tag_length = check_redundancy(positive_prompt)\n",
    "\n",
    "    if redundant or max_tag_length > MAX_TAG_LENGTH or len(positive_prompt) == 0:\n",
    "        continue\n",
    "\n",
    "    positive_hash = hash_prompt(positive_prompt)\n",
    "\n",
    "    results.append((index, positive_prompt, positive_hash, positive_raw_length))"
   ]
  },
  {
   "cell_type": "code",
   "execution_count": null,
   "id": "9d8d7534-9f35-422e-b2f8-e367c67ff161",
   "metadata": {
    "tags": []
   },
   "outputs": [],
   "source": [
    "results = pd.DataFrame(results, columns=['index', 'positive_prompt', 'positive_hash', 'positive_raw_length'])\n",
    "results.drop_duplicates(['positive_hash'], inplace=True)\n",
    "\n",
    "results"
   ]
  },
  {
   "cell_type": "code",
   "execution_count": null,
   "id": "df35150f-88a2-4ba8-863b-99068c981778",
   "metadata": {
    "tags": []
   },
   "outputs": [],
   "source": [
    "results.to_csv('../dataset/nonredundant-dalle_discord_prompts.tsv', sep='\\t', index=False)"
   ]
  },
  {
   "cell_type": "code",
   "execution_count": null,
   "id": "2222a18d-ca96-460d-974f-0c3af80bcfc2",
   "metadata": {},
   "outputs": [],
   "source": []
  },
  {
   "cell_type": "code",
   "execution_count": null,
   "id": "00e25336-7c2f-4d1f-ae1e-614f3ec5cc8c",
   "metadata": {},
   "outputs": [],
   "source": []
  }
 ],
 "metadata": {
  "kernelspec": {
   "display_name": "llama-factory",
   "language": "python",
   "name": "llama-factory"
  },
  "language_info": {
   "codemirror_mode": {
    "name": "ipython",
    "version": 3
   },
   "file_extension": ".py",
   "mimetype": "text/x-python",
   "name": "python",
   "nbconvert_exporter": "python",
   "pygments_lexer": "ipython3",
   "version": "3.10.13"
  }
 },
 "nbformat": 4,
 "nbformat_minor": 5
}
