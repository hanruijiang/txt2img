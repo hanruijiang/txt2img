{
 "cells": [
  {
   "cell_type": "code",
   "execution_count": 1,
   "id": "9821c2f1-de42-41ed-b40f-7358184a9ce1",
   "metadata": {
    "tags": []
   },
   "outputs": [],
   "source": [
    "import os\n",
    "# os.environ['CUDA_VISIBLE_DEVICES'] = '7'\n",
    "\n",
    "model_device = 0\n",
    "paired_model_device = 0\n",
    "\n",
    "\n",
    "import sys\n",
    "\n",
    "from transformers import pipeline, AutoModelForCausalLM, AutoTokenizer, AutoModel\n",
    "# from peft import PeftConfig, PeftModel\n",
    "\n",
    "import torch\n",
    "\n",
    "import numpy as np\n",
    "import pandas as pd\n",
    "import re\n",
    "\n",
    "from matplotlib import pyplot\n",
    "\n",
    "from tqdm.auto import tqdm"
   ]
  },
  {
   "cell_type": "code",
   "execution_count": 2,
   "id": "fb7eb67b-8366-4309-8680-c713bce5a0b8",
   "metadata": {
    "tags": []
   },
   "outputs": [],
   "source": [
    "OUTPUT_DIR = './generated/prompt/'"
   ]
  },
  {
   "cell_type": "code",
   "execution_count": 3,
   "id": "8bb65d5a-9b43-46da-b4f4-3bab6293fabe",
   "metadata": {
    "tags": []
   },
   "outputs": [],
   "source": [
    "os.makedirs(OUTPUT_DIR, exist_ok=True)"
   ]
  },
  {
   "cell_type": "markdown",
   "id": "2fbd8f73-af18-4d40-a1da-60d8a2b02c8e",
   "metadata": {
    "tags": []
   },
   "source": [
    "# build model"
   ]
  },
  {
   "cell_type": "code",
   "execution_count": 4,
   "id": "9ec242a2-eed3-48bc-90bf-86b684481601",
   "metadata": {
    "tags": []
   },
   "outputs": [
    {
     "name": "stderr",
     "output_type": "stream",
     "text": [
      "Xformers is not installed correctly. If you want to use memorry_efficient_attention to accelerate training use the following command to install Xformers\n",
      "pip install xformers.\n"
     ]
    }
   ],
   "source": [
    "# model_name = \"weight/distilgpt2-long\"\n",
    "# model_name = 'weight/distilgpt2-extend'\n",
    "# model_name = 'weight/distilgpt2-new'\n",
    "# model_name = 'weight/distilgpt2-paired'\n",
    "# model_name = \"weight/bloom-560m-shuffle/\"\n",
    "model_name = 'GPT2-extend/checkpoint-25000/'\n",
    "# model_name = 'BLOOM-extend/checkpoint-15000/'\n",
    "# model_name = 'GPT2-new/checkpoint-35000/'\n",
    "# model_name = 'GPT2-paired/checkpoint-5000/'\n",
    "\n",
    "tokenizer = AutoTokenizer.from_pretrained(model_name, local_files_only=True)\n",
    "model = AutoModelForCausalLM.from_pretrained(model_name, local_files_only=True, torch_dtype=torch.bfloat16).to(model_device).eval()\n",
    "# model = model.to_bettertransformer()\n",
    "\n",
    "# Load the transformer model\n",
    "prompt_pipe = pipeline(\"text-generation\", model=model, tokenizer=tokenizer, device=model.device, batch_size=512)"
   ]
  },
  {
   "cell_type": "code",
   "execution_count": 5,
   "id": "9bcf9f2b-f52e-4955-9528-95044960ac4b",
   "metadata": {
    "tags": []
   },
   "outputs": [],
   "source": [
    "paired_tokenizer = tokenizer\n",
    "paired_model = model\n",
    "paired_prompt_pipe = prompt_pipe"
   ]
  },
  {
   "cell_type": "code",
   "execution_count": 6,
   "id": "4cc3158b-f30c-43fc-adcf-7416e933e463",
   "metadata": {
    "tags": []
   },
   "outputs": [],
   "source": [
    "# # model_name = 'GPT2-new/checkpoint-35000/'\n",
    "# # model_name = 'GPT2-paired/checkpoint-15000/'\n",
    "# model_name = 'weight/distilgpt2-new'\n",
    "\n",
    "# paired_tokenizer = AutoTokenizer.from_pretrained(model_name, local_files_only=True)\n",
    "# paired_model = AutoModelForCausalLM.from_pretrained(model_name, local_files_only=True, torch_dtype=torch.bfloat16).to(paired_model_device).eval()\n",
    "# # paired_model = paired_model.to_bettertransformer()\n",
    "\n",
    "# # paired_model = PeftModel.from_pretrained(paired_model, model_name)\n",
    "\n",
    "# # Load the transformer model\n",
    "# paired_prompt_pipe = pipeline(\"text-generation\", model=paired_model, tokenizer=paired_tokenizer, device=paired_model.device, batch_size=256)"
   ]
  },
  {
   "cell_type": "code",
   "execution_count": 7,
   "id": "2f37eb5d-5be5-4a57-82a2-b41b344c7abc",
   "metadata": {
    "tags": []
   },
   "outputs": [],
   "source": [
    "def process_input(base, length=None, condition=None):\n",
    "    \n",
    "    if type(base) == str:\n",
    "        \n",
    "        base =  [base]\n",
    "        if length is None:\n",
    "            length = [None]\n",
    "        elif type(length) == str:\n",
    "            length = [length]\n",
    "        else:\n",
    "            base = base * len(length)\n",
    "        \n",
    "    else:\n",
    "        \n",
    "        if length is None:\n",
    "            length = [None] * len(base)\n",
    "        elif type(length) == str:\n",
    "            length = [length] * len(base)\n",
    "        else:\n",
    "            assert len(base) == len(length)\n",
    "            \n",
    "    if condition is None:\n",
    "        return base, length\n",
    "\n",
    "    if type(condition) == str:\n",
    "        condition = [condition] * len(base)\n",
    "    else:\n",
    "        assert len(base) == len(condition)\n",
    "        \n",
    "    return base, length, condition\n",
    "    \n",
    "\n",
    "def get_inputs(input_type, bases, lengths, conditions=None):\n",
    "    \n",
    "    prompts = list()\n",
    "    \n",
    "    for i, (base, length) in enumerate(zip(bases, lengths)):\n",
    "        \n",
    "        if length is None:\n",
    "            prompt = f'<{input_type} prompt>:{base}'.lower()\n",
    "        else:\n",
    "            prompt = f'<{length} {input_type} prompt>:{base}'.lower()\n",
    "            \n",
    "        if conditions is not None:\n",
    "            condition = re.sub(';\\s*$', '', conditions[i])\n",
    "            prompt = f'{\"{{\"}{condition}{\"}}\"}{prompt}'\n",
    "            \n",
    "        prompt = f'<|endoftext|>{prompt}'\n",
    "            \n",
    "        prompts.append(prompt)\n",
    "        \n",
    "    return prompts\n",
    "    \n",
    "\n",
    "pattern_positive = re.compile(r'<[a-z\\s]*positive prompt\\>:\\s*(.+)$')\n",
    "pattern_negative = re.compile(r'<[a-z\\s]*negative prompt\\>:\\s*(.+)$')\n",
    "        \n",
    "def get_outputs(input_type, outputs):\n",
    "    \n",
    "    prompts = list()\n",
    "    \n",
    "    for item in outputs:\n",
    "        \n",
    "        results = list()\n",
    "        \n",
    "        for i in item:\n",
    "            \n",
    "            if input_type == 'positive':\n",
    "                \n",
    "                result = pattern_positive.search(i['generated_text']).groups()[0]\n",
    "                \n",
    "            elif input_type == 'negative':\n",
    "                \n",
    "                result = pattern_negative.search(i['generated_text']).groups()[0]\n",
    "                \n",
    "            results.append(result)\n",
    "        \n",
    "        prompts.append(results)\n",
    "    \n",
    "    return prompts\n",
    "\n",
    "def extend(input_type, base='', length=None, do_sample=True, num_beams=1, top_k=50, max_length=100, num_return_sequences=1, return_dict=False):\n",
    "    \n",
    "    bases, lengths = process_input(base=base, length=length)\n",
    "    \n",
    "    inputs = get_inputs(input_type, bases, lengths)\n",
    "\n",
    "#     if len(inputs) > 1:\n",
    "#         inputs = InferenceDataset(inputs)\n",
    "\n",
    "    with torch.no_grad():\n",
    "        # with torch.backends.cuda.sdp_kernel(enable_flash=True, enable_math=False, enable_mem_efficient=False):\n",
    "            outputs = prompt_pipe(\n",
    "                inputs, \n",
    "                do_sample=do_sample, num_beams=num_beams, num_return_sequences=num_return_sequences, top_k=top_k, \n",
    "                max_length=max_length, #min_new_tokens=15,\n",
    "                # early_stopping=True, use_cache=True,\n",
    "                # suppress_tokens=[tokenizer.vocab['{{'], tokenizer.vocab['}}'], tokenizer.vocab['positive'], tokenizer.vocab['<']]\n",
    "            )\n",
    "\n",
    "    prompts = get_outputs(input_type, outputs)\n",
    "    \n",
    "    if not return_dict:\n",
    "        return prompts\n",
    "    \n",
    "    return [{\n",
    "        f'{input_type}_base': base, \n",
    "        f'{input_type}_length': length, \n",
    "        f'{input_type}_prompts': prompt\n",
    "    } for base, length, prompt in zip(bases, lengths, prompts)]\n",
    "\n",
    "def paired_extend(input_type, base='', condition='', length=None, do_sample=True, num_beams=1, top_k=50, max_length=200, num_return_sequences=1, return_dict=False):\n",
    "    \n",
    "    bases, lengths, conditions = process_input(base=base, length=length, condition=condition)\n",
    "    \n",
    "    inputs = get_inputs(input_type, bases, lengths, conditions)\n",
    "\n",
    "#     if len(inputs) > 1:\n",
    "#         inputs = InferenceDataset(inputs)\n",
    "        \n",
    "    with torch.no_grad():\n",
    "        # with torch.backends.cuda.sdp_kernel(enable_flash=True, enable_math=False, enable_mem_efficient=False):\n",
    "            outputs = paired_prompt_pipe(\n",
    "                inputs, \n",
    "                do_sample=do_sample, num_beams=num_beams, num_return_sequences=num_return_sequences, top_k=top_k, \n",
    "                max_length=max_length, #min_new_tokens=15, #min_new_tokens=15,\n",
    "                # early_stopping=True, use_cache=True,\n",
    "                # suppress_tokens=[tokenizer.vocab['{{'], tokenizer.vocab['}}'], tokenizer.vocab['positive'], tokenizer.vocab['<']]\n",
    "            )\n",
    "\n",
    "    prompts = get_outputs(input_type, outputs)\n",
    "    \n",
    "    if not return_dict:\n",
    "        return prompts\n",
    "    \n",
    "    return [{\n",
    "        f'{input_type}_base': base, \n",
    "        f'{input_type}_length': length, \n",
    "        f'condition': condition, \n",
    "        f'{input_type}_prompts': prompt\n",
    "    } for base, condition, length, prompt in zip(bases, conditions, lengths, prompts)]"
   ]
  },
  {
   "cell_type": "markdown",
   "id": "7605588d-cbb9-40e6-892e-2afb94b5d928",
   "metadata": {
    "tags": []
   },
   "source": [
    "# demo"
   ]
  },
  {
   "cell_type": "code",
   "execution_count": 8,
   "id": "76146d2e-d3d7-4483-aadc-27985036bd87",
   "metadata": {
    "tags": []
   },
   "outputs": [],
   "source": [
    "positive_length = None\n",
    "positive_base = \"nsfw,\"\n",
    "negative_length = None\n",
    "negative_base = \"\""
   ]
  },
  {
   "cell_type": "code",
   "execution_count": 13,
   "id": "32706af9-93c2-41e7-ba4c-a92721c46521",
   "metadata": {
    "tags": []
   },
   "outputs": [
    {
     "data": {
      "text/plain": [
       "[['nsfw, masterpiece, best quality, 1girl, solo, standing split leg up, huge breasts, short hair;',\n",
       "  'nsfw, masterpiece top quality, best quality, extreme detailed illustration, highest detailed ultra-detailed, 8k wallpaper;',\n",
       "  'nsfw, best quality, masterpiece, highres, solo, simple background, standing, nude, completely nude;',\n",
       "  'nsfw, highres, best quality, masterpiece, 1girl, solo, looking at viewer, simple background;']]"
      ]
     },
     "execution_count": 13,
     "metadata": {},
     "output_type": "execute_result"
    }
   ],
   "source": [
    "extended = extend('positive', [positive_base], positive_length, num_beams=1, do_sample=True, num_return_sequences=4)\n",
    "extended"
   ]
  },
  {
   "cell_type": "code",
   "execution_count": 11,
   "id": "16eaabb0-dfdf-4175-945b-9d868447f8ba",
   "metadata": {
    "tags": []
   },
   "outputs": [
    {
     "data": {
      "text/plain": [
       "[['worst quality, low quality, greyscale, monochrome, comic, sketch, blurry;',\n",
       "  'extra limbs, missing legs, poorly drawn feet, ugly, cross-eye, bad art, bad hands, deformed, blurry, bad anatomy, extra limbs, cloned face,asian, chinese;',\n",
       "  'worst quality, low quality, blurry, deformed fingers, long fingers, interlocked fingers, watermark;',\n",
       "  'bad hands, missing fingers, extra digit, fewer digits, cropped, worst quality, low quality, normal quality;']]"
      ]
     },
     "execution_count": 11,
     "metadata": {},
     "output_type": "execute_result"
    }
   ],
   "source": [
    "extended = extend('negative', [negative_base], negative_length, num_beams=1, do_sample=True, num_return_sequences=4)\n",
    "extended"
   ]
  },
  {
   "cell_type": "code",
   "execution_count": 10,
   "id": "c31b2b4c-1782-4651-8563-bb2961a5dd02",
   "metadata": {
    "tags": []
   },
   "outputs": [],
   "source": [
    "positive_base = extended[0][2]"
   ]
  },
  {
   "cell_type": "code",
   "execution_count": null,
   "id": "dbe8dbb0-4761-454f-ade7-796db9a38098",
   "metadata": {
    "tags": []
   },
   "outputs": [],
   "source": [
    "extended = paired_extend('negative', negative_base, positive_base, negative_length, num_beams=1, do_sample=True, num_return_sequences=4)\n",
    "extended"
   ]
  },
  {
   "cell_type": "markdown",
   "id": "fbebcd6b-04af-41c1-b79a-1a9577ecebb9",
   "metadata": {
    "tags": []
   },
   "source": [
    "# generate batch"
   ]
  },
  {
   "cell_type": "markdown",
   "id": "898da34c-65ce-46ff-9d07-0f1a0a3d0e3a",
   "metadata": {
    "tags": []
   },
   "source": [
    "## from empty"
   ]
  },
  {
   "cell_type": "code",
   "execution_count": 23,
   "id": "743dd3b1-872d-489a-8810-c1e6cfde100c",
   "metadata": {
    "tags": []
   },
   "outputs": [
    {
     "data": {
      "application/vnd.jupyter.widget-view+json": {
       "model_id": "09d7dd62fe3c408d9f339d350256482b",
       "version_major": 2,
       "version_minor": 0
      },
      "text/plain": [
       "  0%|          | 0/128 [00:00<?, ?it/s]"
      ]
     },
     "metadata": {},
     "output_type": "display_data"
    }
   ],
   "source": [
    "num_batch = 128\n",
    "num_return_sequences = 128\n",
    "\n",
    "positive_base = ''\n",
    "\n",
    "results = list()\n",
    "\n",
    "# for positive_length in ['short', 'medium', 'long', 'full', None]:\n",
    "for positive_length in [None]:\n",
    "    for _ in tqdm(range(num_batch)):\n",
    "        extended = extend('positive', positive_base, positive_length, num_beams=1, do_sample=True, num_return_sequences=num_return_sequences)\n",
    "        results.extend([(i,) for i in extended[0]])\n",
    "\n",
    "positive_prompts = zip(* results)"
   ]
  },
  {
   "cell_type": "code",
   "execution_count": 24,
   "id": "853c0bbc-3ae9-44bd-ba90-280537f478cc",
   "metadata": {
    "tags": []
   },
   "outputs": [
    {
     "data": {
      "application/vnd.jupyter.widget-view+json": {
       "model_id": "",
       "version_major": 2,
       "version_minor": 0
      },
      "text/plain": [
       "  0%|          | 0/342 [00:00<?, ?it/s]"
      ]
     },
     "metadata": {},
     "output_type": "display_data"
    }
   ],
   "source": [
    "num_return_sequences = 2\n",
    "\n",
    "batch_size = 48\n",
    "\n",
    "negative_base = ''\n",
    "\n",
    "negative_bases = [negative_base] * len(positive_prompts)\n",
    "\n",
    "\n",
    "results = list()\n",
    "\n",
    "for i in tqdm(range(0, len(positive_prompts), batch_size), leave=False):\n",
    "    \n",
    "    conditions_i = positive_prompts[i:i+batch_size]\n",
    "    \n",
    "    extended = paired_extend(\n",
    "        'negative', \n",
    "        negative_bases[i:i+batch_size], conditions_i, None, \n",
    "        num_beams=1, do_sample=True, num_return_sequences=num_return_sequences, return_dict=True\n",
    "    )\n",
    "    for result in extended:\n",
    "        results.extend([(result['condition'], i) for i in result['negative_prompts']])\n",
    "        \n",
    "positive_prompts, negative_prompts = zip(* results)"
   ]
  },
  {
   "cell_type": "code",
   "execution_count": 32,
   "id": "b1f1bd25-6774-49fd-a0de-8d5602258c5b",
   "metadata": {
    "tags": []
   },
   "outputs": [
    {
     "data": {
      "application/vnd.jupyter.widget-view+json": {
       "model_id": "",
       "version_major": 2,
       "version_minor": 0
      },
      "text/plain": [
       "  0%|          | 0/512 [00:00<?, ?it/s]"
      ]
     },
     "metadata": {},
     "output_type": "display_data"
    },
    {
     "name": "stderr",
     "output_type": "stream",
     "text": [
      "/sunjie/kk-digital/kcg-ml-image-pipeline/venv/lib/python3.10/site-packages/transformers/pipelines/base.py:1080: UserWarning: You seem to be using the pipelines sequentially on GPU. In order to maximize efficiency please use a dataset\n",
      "  warnings.warn(\n"
     ]
    }
   ],
   "source": [
    "num_return_sequences = 1\n",
    "\n",
    "batch_size = 64\n",
    "\n",
    "results = list()\n",
    "\n",
    "for i in tqdm(range(0, len(positive_prompts), batch_size), leave=False):\n",
    "    \n",
    "#     extended = paired_extend(\n",
    "#         'positive', \n",
    "#         positive_prompts[i:i+batch_size], negative_prompts[i:i+batch_size], None, \n",
    "#         num_beams=1, do_sample=True, num_return_sequences=num_return_sequences, return_dict=True\n",
    "#     )\n",
    "#     for result in extended:\n",
    "#         results.extend([(i, result['condition']) for i in result['positive_prompts']])\n",
    "    \n",
    "    extended = paired_extend(\n",
    "        'negative', \n",
    "        negative_prompts[i:i+batch_size], positive_prompts[i:i+batch_size], None, \n",
    "        num_beams=1, do_sample=True, num_return_sequences=num_return_sequences, return_dict=True\n",
    "    )\n",
    "    for result in extended:\n",
    "        results.extend([(result['condition'], i) for i in result['negative_prompts']])"
   ]
  },
  {
   "cell_type": "code",
   "execution_count": 33,
   "id": "e2025d6d-cf76-41a8-a979-82d37cafc758",
   "metadata": {
    "tags": []
   },
   "outputs": [
    {
     "data": {
      "text/html": [
       "<div>\n",
       "<style scoped>\n",
       "    .dataframe tbody tr th:only-of-type {\n",
       "        vertical-align: middle;\n",
       "    }\n",
       "\n",
       "    .dataframe tbody tr th {\n",
       "        vertical-align: top;\n",
       "    }\n",
       "\n",
       "    .dataframe thead th {\n",
       "        text-align: right;\n",
       "    }\n",
       "</style>\n",
       "<table border=\"1\" class=\"dataframe\">\n",
       "  <thead>\n",
       "    <tr style=\"text-align: right;\">\n",
       "      <th></th>\n",
       "      <th>positive_prompt</th>\n",
       "      <th>negative_prompt</th>\n",
       "    </tr>\n",
       "  </thead>\n",
       "  <tbody>\n",
       "    <tr>\n",
       "      <th>0</th>\n",
       "      <td>a candybar made out of rubber in a zen garden,...</td>\n",
       "      <td>ng_deepnagetive_v1_75t;bodybuilder bad-hands-5...</td>\n",
       "    </tr>\n",
       "    <tr>\n",
       "      <th>1</th>\n",
       "      <td>a candybar made out of rubber in a zen garden,...</td>\n",
       "      <td>ng_deepnagetive_v1_75t;bersecar;</td>\n",
       "    </tr>\n",
       "    <tr>\n",
       "      <th>2</th>\n",
       "      <td>a logo of a smiling cartoon tiger, vector;</td>\n",
       "      <td>neg no text realistic photo details;okeh defoc...</td>\n",
       "    </tr>\n",
       "    <tr>\n",
       "      <th>3</th>\n",
       "      <td>a logo of a smiling cartoon tiger, vector;</td>\n",
       "      <td>coffee beans;professional t-shirt design graphic;</td>\n",
       "    </tr>\n",
       "    <tr>\n",
       "      <th>4</th>\n",
       "      <td>the most beautiful woman in the world, profess...</td>\n",
       "      <td>ng_deepnagetive_v1_75t;weirdcore worst quality...</td>\n",
       "    </tr>\n",
       "    <tr>\n",
       "      <th>...</th>\n",
       "      <td>...</td>\n",
       "      <td>...</td>\n",
       "    </tr>\n",
       "    <tr>\n",
       "      <th>32763</th>\n",
       "      <td>a bag of marbles sitting on top of a camera in...</td>\n",
       "      <td>structurezoov21;body out of frame, broken limb...</td>\n",
       "    </tr>\n",
       "    <tr>\n",
       "      <th>32764</th>\n",
       "      <td>realistic, photorealism 3d model of a baby on ...</td>\n",
       "      <td>neg_facelift768;structurezoov21 structurezoov2...</td>\n",
       "    </tr>\n",
       "    <tr>\n",
       "      <th>32765</th>\n",
       "      <td>realistic, photorealism 3d model of a baby on ...</td>\n",
       "      <td>bad-picture-chill-, bad_pictures;body out of f...</td>\n",
       "    </tr>\n",
       "    <tr>\n",
       "      <th>32766</th>\n",
       "      <td>the first picture of the world's largest tree ...</td>\n",
       "      <td>onsenaken;ahnk, surrealist nft style a man sta...</td>\n",
       "    </tr>\n",
       "    <tr>\n",
       "      <th>32767</th>\n",
       "      <td>the first picture of the world's largest tree ...</td>\n",
       "      <td>normal quality; hand drawn style with bold lin...</td>\n",
       "    </tr>\n",
       "  </tbody>\n",
       "</table>\n",
       "<p>32705 rows × 2 columns</p>\n",
       "</div>"
      ],
      "text/plain": [
       "                                         positive_prompt  \\\n",
       "0      a candybar made out of rubber in a zen garden,...   \n",
       "1      a candybar made out of rubber in a zen garden,...   \n",
       "2             a logo of a smiling cartoon tiger, vector;   \n",
       "3             a logo of a smiling cartoon tiger, vector;   \n",
       "4      the most beautiful woman in the world, profess...   \n",
       "...                                                  ...   \n",
       "32763  a bag of marbles sitting on top of a camera in...   \n",
       "32764  realistic, photorealism 3d model of a baby on ...   \n",
       "32765  realistic, photorealism 3d model of a baby on ...   \n",
       "32766  the first picture of the world's largest tree ...   \n",
       "32767  the first picture of the world's largest tree ...   \n",
       "\n",
       "                                         negative_prompt  \n",
       "0      ng_deepnagetive_v1_75t;bodybuilder bad-hands-5...  \n",
       "1                       ng_deepnagetive_v1_75t;bersecar;  \n",
       "2      neg no text realistic photo details;okeh defoc...  \n",
       "3      coffee beans;professional t-shirt design graphic;  \n",
       "4      ng_deepnagetive_v1_75t;weirdcore worst quality...  \n",
       "...                                                  ...  \n",
       "32763  structurezoov21;body out of frame, broken limb...  \n",
       "32764  neg_facelift768;structurezoov21 structurezoov2...  \n",
       "32765  bad-picture-chill-, bad_pictures;body out of f...  \n",
       "32766  onsenaken;ahnk, surrealist nft style a man sta...  \n",
       "32767  normal quality; hand drawn style with bold lin...  \n",
       "\n",
       "[32705 rows x 2 columns]"
      ]
     },
     "execution_count": 33,
     "metadata": {},
     "output_type": "execute_result"
    }
   ],
   "source": [
    "df = pd.DataFrame(results, columns=['positive_prompt', 'negative_prompt'])\n",
    "# df[['positive_base', 'negative_base']] = None\n",
    "\n",
    "df.drop_duplicates(['positive_prompt', 'negative_prompt'], inplace=True)\n",
    "\n",
    "# df.to_csv(os.path.join(OUTPUT_DIR, 'empty.tsv'), sep='\\t', index=False)\n",
    "\n",
    "df"
   ]
  },
  {
   "cell_type": "code",
   "execution_count": 34,
   "id": "d8212d73-49fc-4ec0-97b1-edac9622b9e5",
   "metadata": {
    "tags": []
   },
   "outputs": [
    {
     "data": {
      "image/png": "[encoded data removed]",
      "text/plain": [
       "<Figure size 640x480 with 1 Axes>"
      ]
     },
     "metadata": {},
     "output_type": "display_data"
    }
   ],
   "source": [
    "_ = df['negative_prompt'].str.len().hist(bins=100)"
   ]
  },
  {
   "cell_type": "code",
   "execution_count": 35,
   "id": "95e2c7b1-d47d-4c69-a844-5659fdfa72df",
   "metadata": {
    "tags": []
   },
   "outputs": [
    {
     "data": {
      "image/png": "[encoded data removed]",
      "text/plain": [
       "<Figure size 640x480 with 1 Axes>"
      ]
     },
     "metadata": {},
     "output_type": "display_data"
    }
   ],
   "source": [
    "_ = df['positive_prompt'].str.len().hist(bins=100)"
   ]
  },
  {
   "cell_type": "markdown",
   "id": "e92d186a-5523-45e7-a123-424aeafd1eea",
   "metadata": {},
   "source": [
    "## from high score positive base"
   ]
  },
  {
   "cell_type": "code",
   "execution_count": 10,
   "id": "dc9bc789-45e4-41f5-9c29-a63a48c42e11",
   "metadata": {
    "tags": []
   },
   "outputs": [],
   "source": [
    "positive_freq_path = './data/environmental/positive_freqs.csv'\n",
    "\n",
    "df = pd.read_csv(positive_freq_path)\n",
    "\n",
    "positive_tags = df.query('num_select > 50 and num_unselect > 50 and p_value < 5e-2').sort_values('odds_ratio').tail(100)['tag']\n",
    "\n",
    "negative_freq_path = './data/environmental/negative_freqs.csv'\n",
    "\n",
    "df = pd.read_csv(negative_freq_path)\n",
    "\n",
    "negative_tags = df.query('num_select > 50 and num_unselect > 50 and p_value < 5e-2').sort_values('odds_ratio').tail(100)['tag']"
   ]
  },
  {
   "cell_type": "code",
   "execution_count": 11,
   "id": "69ba2dc9-0e52-4daf-83d4-9e80d036fcd6",
   "metadata": {
    "tags": []
   },
   "outputs": [
    {
     "data": {
      "application/vnd.jupyter.widget-view+json": {
       "model_id": "",
       "version_major": 2,
       "version_minor": 0
      },
      "text/plain": [
       "  0%|          | 0/5 [00:00<?, ?it/s]"
      ]
     },
     "metadata": {},
     "output_type": "display_data"
    },
    {
     "name": "stderr",
     "output_type": "stream",
     "text": [
      "/sunjie/kk-digital/kcg-ml-image-pipeline/venv/lib/python3.10/site-packages/transformers/pipelines/base.py:1080: UserWarning: You seem to be using the pipelines sequentially on GPU. In order to maximize efficiency please use a dataset\n",
      "  warnings.warn(\n"
     ]
    }
   ],
   "source": [
    "num_return_sequences = 32\n",
    "\n",
    "batch_size = 16\n",
    "\n",
    "positive_bases = list(positive_tags)\n",
    "\n",
    "results = list()\n",
    "\n",
    "for positive_length in tqdm(['short', 'medium', 'long', 'full', None], leave=False):\n",
    "\n",
    "    for i in range(0, len(positive_bases), batch_size):\n",
    "\n",
    "        positive_bases_i = positive_bases[i:i+batch_size]\n",
    "        positive_bases_i = [f'{i},' for i in positive_bases_i]\n",
    "        \n",
    "        extended = extend(\n",
    "            'positive', \n",
    "            positive_bases_i, positive_length, \n",
    "            num_beams=1, do_sample=True, num_return_sequences=num_return_sequences, return_dict=True\n",
    "        )\n",
    "\n",
    "        for result in extended:\n",
    "            results.extend([(result['positive_base'], positive_length, i) for i in result['positive_prompts']])\n",
    "\n",
    "_, positive_lengths, positive_prompts = zip(*results)\n",
    "\n",
    "step1 = pd.DataFrame(results, columns=['positive_base', 'positive_length', 'positive_prompt'])"
   ]
  },
  {
   "cell_type": "code",
   "execution_count": 12,
   "id": "8547cddd-6d26-4625-b6b3-bb9d575d1702",
   "metadata": {
    "tags": []
   },
   "outputs": [
    {
     "data": {
      "application/vnd.jupyter.widget-view+json": {
       "model_id": "",
       "version_major": 2,
       "version_minor": 0
      },
      "text/plain": [
       "  0%|          | 0/334 [00:00<?, ?it/s]"
      ]
     },
     "metadata": {},
     "output_type": "display_data"
    }
   ],
   "source": [
    "num_return_sequences = 5\n",
    "\n",
    "batch_size = 48\n",
    "\n",
    "negative_lengths = positive_lengths\n",
    "\n",
    "negative_bases = np.random.choice(negative_tags, len(positive_prompts), True)\n",
    "negative_bases = [f'{i},' for i in negative_bases]\n",
    "\n",
    "\n",
    "results = list()\n",
    "\n",
    "for i in tqdm(range(0, len(positive_prompts), batch_size), leave=False):\n",
    "    \n",
    "    extended = paired_extend(\n",
    "        'negative', \n",
    "        negative_bases[i:i+batch_size], positive_prompts[i:i+batch_size], negative_lengths[i:i+batch_size], \n",
    "        num_beams=1, do_sample=True, num_return_sequences=num_return_sequences, return_dict=True\n",
    "    )\n",
    "    \n",
    "    for result in extended:\n",
    "        results.extend([(result['negative_base'], result['negative_length'], result['condition'], i) for i in result['negative_prompts']])\n",
    "        \n",
    "step2 = pd.DataFrame(results, columns=['negative_base', 'negative_length', 'positive_prompt', 'negative_prompt'])"
   ]
  },
  {
   "cell_type": "code",
   "execution_count": 13,
   "id": "8e5fd8a3-92af-49a2-983f-ebcbd1ceae4f",
   "metadata": {
    "tags": []
   },
   "outputs": [
    {
     "data": {
      "text/html": [
       "<div>\n",
       "<style scoped>\n",
       "    .dataframe tbody tr th:only-of-type {\n",
       "        vertical-align: middle;\n",
       "    }\n",
       "\n",
       "    .dataframe tbody tr th {\n",
       "        vertical-align: top;\n",
       "    }\n",
       "\n",
       "    .dataframe thead th {\n",
       "        text-align: right;\n",
       "    }\n",
       "</style>\n",
       "<table border=\"1\" class=\"dataframe\">\n",
       "  <thead>\n",
       "    <tr style=\"text-align: right;\">\n",
       "      <th></th>\n",
       "      <th>positive_base</th>\n",
       "      <th>positive_length</th>\n",
       "      <th>positive_prompt</th>\n",
       "      <th>negative_base</th>\n",
       "      <th>negative_length</th>\n",
       "      <th>negative_prompt</th>\n",
       "    </tr>\n",
       "  </thead>\n",
       "  <tbody>\n",
       "    <tr>\n",
       "      <th>0</th>\n",
       "      <td>romanticism,</td>\n",
       "      <td>short</td>\n",
       "      <td>romanticism, long exposure photo of a dark blu...</td>\n",
       "      <td>low quality lowres black tongue,</td>\n",
       "      <td>short</td>\n",
       "      <td>low quality lowres black tongue,weird image sp...</td>\n",
       "    </tr>\n",
       "    <tr>\n",
       "      <th>1</th>\n",
       "      <td>romanticism,</td>\n",
       "      <td>short</td>\n",
       "      <td>romanticism, long exposure photo of a dark blu...</td>\n",
       "      <td>low quality lowres black tongue,</td>\n",
       "      <td>short</td>\n",
       "      <td>low quality lowres black tongue,weird eyes 1.5...</td>\n",
       "    </tr>\n",
       "    <tr>\n",
       "      <th>2</th>\n",
       "      <td>romanticism,</td>\n",
       "      <td>short</td>\n",
       "      <td>romanticism, long exposure photo of a dark blu...</td>\n",
       "      <td>low quality lowres black tongue,</td>\n",
       "      <td>short</td>\n",
       "      <td>low quality lowres black tongue,weird eyes car...</td>\n",
       "    </tr>\n",
       "    <tr>\n",
       "      <th>3</th>\n",
       "      <td>romanticism,</td>\n",
       "      <td>short</td>\n",
       "      <td>romanticism, long exposure photo of a dark blu...</td>\n",
       "      <td>low quality lowres black tongue,</td>\n",
       "      <td>short</td>\n",
       "      <td>low quality lowres black tongue,weird eyes, ch...</td>\n",
       "    </tr>\n",
       "    <tr>\n",
       "      <th>4</th>\n",
       "      <td>romanticism,</td>\n",
       "      <td>short</td>\n",
       "      <td>romanticism, long exposure photo of a dark blu...</td>\n",
       "      <td>low quality lowres black tongue,</td>\n",
       "      <td>short</td>\n",
       "      <td>low quality lowres black tongue,weird looking ...</td>\n",
       "    </tr>\n",
       "    <tr>\n",
       "      <th>...</th>\n",
       "      <td>...</td>\n",
       "      <td>...</td>\n",
       "      <td>...</td>\n",
       "      <td>...</td>\n",
       "      <td>...</td>\n",
       "      <td>...</td>\n",
       "    </tr>\n",
       "    <tr>\n",
       "      <th>96425</th>\n",
       "      <td>2D environmental side scrolling,</td>\n",
       "      <td>None</td>\n",
       "      <td>2d environmental side scrolling,website design...</td>\n",
       "      <td>low_quality,</td>\n",
       "      <td>None</td>\n",
       "      <td>low_quality,talented green and blue colors tex...</td>\n",
       "    </tr>\n",
       "    <tr>\n",
       "      <th>96426</th>\n",
       "      <td>2D environmental side scrolling,</td>\n",
       "      <td>None</td>\n",
       "      <td>2d environmental side scrolling,website design...</td>\n",
       "      <td>low_quality,</td>\n",
       "      <td>None</td>\n",
       "      <td>low_quality,oscar-winning landing page with te...</td>\n",
       "    </tr>\n",
       "    <tr>\n",
       "      <th>96427</th>\n",
       "      <td>2D environmental side scrolling,</td>\n",
       "      <td>None</td>\n",
       "      <td>2d environmental side scrolling,website design...</td>\n",
       "      <td>low_quality,</td>\n",
       "      <td>None</td>\n",
       "      <td>low_quality,embeddingm4nts0n1-400xl monochrome...</td>\n",
       "    </tr>\n",
       "    <tr>\n",
       "      <th>96428</th>\n",
       "      <td>2D environmental side scrolling,</td>\n",
       "      <td>None</td>\n",
       "      <td>2d environmental side scrolling,website design...</td>\n",
       "      <td>low_quality,</td>\n",
       "      <td>None</td>\n",
       "      <td>low_quality,okra badhandsv5-neg by bad artist ...</td>\n",
       "    </tr>\n",
       "    <tr>\n",
       "      <th>96429</th>\n",
       "      <td>2D environmental side scrolling,</td>\n",
       "      <td>None</td>\n",
       "      <td>2d environmental side scrolling,website design...</td>\n",
       "      <td>low_quality,</td>\n",
       "      <td>None</td>\n",
       "      <td>low_quality,embeddingname-neg baddream unreali...</td>\n",
       "    </tr>\n",
       "  </tbody>\n",
       "</table>\n",
       "<p>79947 rows × 6 columns</p>\n",
       "</div>"
      ],
      "text/plain": [
       "                          positive_base positive_length  \\\n",
       "0                          romanticism,           short   \n",
       "1                          romanticism,           short   \n",
       "2                          romanticism,           short   \n",
       "3                          romanticism,           short   \n",
       "4                          romanticism,           short   \n",
       "...                                 ...             ...   \n",
       "96425  2D environmental side scrolling,            None   \n",
       "96426  2D environmental side scrolling,            None   \n",
       "96427  2D environmental side scrolling,            None   \n",
       "96428  2D environmental side scrolling,            None   \n",
       "96429  2D environmental side scrolling,            None   \n",
       "\n",
       "                                         positive_prompt  \\\n",
       "0      romanticism, long exposure photo of a dark blu...   \n",
       "1      romanticism, long exposure photo of a dark blu...   \n",
       "2      romanticism, long exposure photo of a dark blu...   \n",
       "3      romanticism, long exposure photo of a dark blu...   \n",
       "4      romanticism, long exposure photo of a dark blu...   \n",
       "...                                                  ...   \n",
       "96425  2d environmental side scrolling,website design...   \n",
       "96426  2d environmental side scrolling,website design...   \n",
       "96427  2d environmental side scrolling,website design...   \n",
       "96428  2d environmental side scrolling,website design...   \n",
       "96429  2d environmental side scrolling,website design...   \n",
       "\n",
       "                          negative_base negative_length  \\\n",
       "0      low quality lowres black tongue,           short   \n",
       "1      low quality lowres black tongue,           short   \n",
       "2      low quality lowres black tongue,           short   \n",
       "3      low quality lowres black tongue,           short   \n",
       "4      low quality lowres black tongue,           short   \n",
       "...                                 ...             ...   \n",
       "96425                      low_quality,            None   \n",
       "96426                      low_quality,            None   \n",
       "96427                      low_quality,            None   \n",
       "96428                      low_quality,            None   \n",
       "96429                      low_quality,            None   \n",
       "\n",
       "                                         negative_prompt  \n",
       "0      low quality lowres black tongue,weird image sp...  \n",
       "1      low quality lowres black tongue,weird eyes 1.5...  \n",
       "2      low quality lowres black tongue,weird eyes car...  \n",
       "3      low quality lowres black tongue,weird eyes, ch...  \n",
       "4      low quality lowres black tongue,weird looking ...  \n",
       "...                                                  ...  \n",
       "96425  low_quality,talented green and blue colors tex...  \n",
       "96426  low_quality,oscar-winning landing page with te...  \n",
       "96427  low_quality,embeddingm4nts0n1-400xl monochrome...  \n",
       "96428  low_quality,okra badhandsv5-neg by bad artist ...  \n",
       "96429  low_quality,embeddingname-neg baddream unreali...  \n",
       "\n",
       "[79947 rows x 6 columns]"
      ]
     },
     "execution_count": 13,
     "metadata": {},
     "output_type": "execute_result"
    }
   ],
   "source": [
    "df = pd.merge(step1, step2, on=['positive_prompt'], how='inner').drop_duplicates(['positive_prompt', 'negative_prompt'], keep='first')\n",
    "\n",
    "df.to_csv(os.path.join(OUTPUT_DIR, 'pos2neg.tsv'), sep='\\t', index=False)\n",
    "\n",
    "df"
   ]
  },
  {
   "cell_type": "markdown",
   "id": "776b68ad-82f9-472e-99a0-8938fc9ffe91",
   "metadata": {},
   "source": [
    "## from high score negative base"
   ]
  },
  {
   "cell_type": "code",
   "execution_count": 14,
   "id": "8131e117-ce9a-4be3-935d-868aed7d94c4",
   "metadata": {
    "tags": []
   },
   "outputs": [],
   "source": [
    "pos2neg = pd.read_csv(os.path.join(OUTPUT_DIR, 'pos2neg.tsv'), sep='\\t')\n",
    "\n",
    "positive_bases, negative_bases, positive_lengths = zip(*pos2neg[['positive_base', 'negative_base', 'positive_length']].drop_duplicates(keep='first').itertuples(index=False, name=None))"
   ]
  },
  {
   "cell_type": "code",
   "execution_count": 15,
   "id": "7049d50e-41c0-4f7a-b0a4-4677257de4f1",
   "metadata": {
    "tags": []
   },
   "outputs": [
    {
     "data": {
      "application/vnd.jupyter.widget-view+json": {
       "model_id": "",
       "version_major": 2,
       "version_minor": 0
      },
      "text/plain": [
       "  0%|          | 0/569 [00:00<?, ?it/s]"
      ]
     },
     "metadata": {},
     "output_type": "display_data"
    },
    {
     "name": "stderr",
     "output_type": "stream",
     "text": [
      "/sunjie/kk-digital/kcg-ml-image-pipeline/venv/lib/python3.10/site-packages/transformers/pipelines/base.py:1080: UserWarning: You seem to be using the pipelines sequentially on GPU. In order to maximize efficiency please use a dataset\n",
      "  warnings.warn(\n"
     ]
    }
   ],
   "source": [
    "num_return_sequences = 2\n",
    "\n",
    "batch_size = 24\n",
    "\n",
    "results = list()\n",
    "\n",
    "for i in tqdm(range(0, len(positive_bases), batch_size), leave=False):\n",
    "\n",
    "    positive_bases_i = positive_bases[i:i+batch_size]\n",
    "    \n",
    "    negative_bases_i = negative_bases[i:i+batch_size]\n",
    "    negative_bases_i = [re.sub(r',\\s*$', ';', i) for i in negative_bases_i]\n",
    "    \n",
    "    positive_length_i = positive_lengths[i:i+batch_size]\n",
    "\n",
    "    extended = paired_extend(\n",
    "        'positive', \n",
    "        positive_bases_i, negative_bases_i, positive_length_i, \n",
    "        num_beams=1, do_sample=True, num_return_sequences=num_return_sequences, return_dict=True\n",
    "    )\n",
    "\n",
    "    for result in extended:\n",
    "        results.extend([(result['positive_base'], result['positive_length'], re.sub(r'[,;\\s]+$', ',', result['condition']), i) for i in result['positive_prompts']])\n",
    "\n",
    "positive_bases, positive_lengths, negative_bases, positive_prompts = zip(*results)\n",
    "            \n",
    "step1 = pd.DataFrame(results, columns=['positive_base', 'positive_length', 'negative_base', 'positive_prompt'])"
   ]
  },
  {
   "cell_type": "code",
   "execution_count": 16,
   "id": "84e9920c-3cda-44a6-b556-ae30f51f0a38",
   "metadata": {
    "tags": []
   },
   "outputs": [
    {
     "data": {
      "application/vnd.jupyter.widget-view+json": {
       "model_id": "",
       "version_major": 2,
       "version_minor": 0
      },
      "text/plain": [
       "  0%|          | 0/1138 [00:00<?, ?it/s]"
      ]
     },
     "metadata": {},
     "output_type": "display_data"
    }
   ],
   "source": [
    "num_return_sequences = 3\n",
    "\n",
    "batch_size = 24\n",
    "\n",
    "results = list()\n",
    "\n",
    "for i in tqdm(range(0, len(positive_prompts), batch_size), leave=False):\n",
    "    \n",
    "    negative_bases_i = negative_bases[i:i+batch_size]\n",
    "    negative_bases_i = [re.sub(r'[,;\\s]+$', ',', i) for i in negative_bases_i]\n",
    "    \n",
    "    negative_length_i = positive_lengths[i:i+batch_size]\n",
    "    \n",
    "    extended = paired_extend(\n",
    "        'negative', \n",
    "        negative_bases_i, positive_prompts[i:i+batch_size], negative_length_i, \n",
    "        num_beams=1, do_sample=True, num_return_sequences=num_return_sequences, return_dict=True, max_length=300\n",
    "    )\n",
    "    \n",
    "    for result in extended:\n",
    "        results.extend([(result['negative_base'], result['negative_length'], result['condition'], i) for i in result['negative_prompts']])\n",
    "        \n",
    "step2 = pd.DataFrame(results, columns=['negative_base', 'negative_length', 'positive_prompt', 'negative_prompt'])"
   ]
  },
  {
   "cell_type": "code",
   "execution_count": 17,
   "id": "60917ae8-7ef5-43f0-b10b-e489f58664ac",
   "metadata": {
    "tags": []
   },
   "outputs": [
    {
     "data": {
      "text/html": [
       "<div>\n",
       "<style scoped>\n",
       "    .dataframe tbody tr th:only-of-type {\n",
       "        vertical-align: middle;\n",
       "    }\n",
       "\n",
       "    .dataframe tbody tr th {\n",
       "        vertical-align: top;\n",
       "    }\n",
       "\n",
       "    .dataframe thead th {\n",
       "        text-align: right;\n",
       "    }\n",
       "</style>\n",
       "<table border=\"1\" class=\"dataframe\">\n",
       "  <thead>\n",
       "    <tr style=\"text-align: right;\">\n",
       "      <th></th>\n",
       "      <th>positive_base</th>\n",
       "      <th>positive_length</th>\n",
       "      <th>negative_base</th>\n",
       "      <th>positive_prompt</th>\n",
       "      <th>negative_length</th>\n",
       "      <th>negative_prompt</th>\n",
       "    </tr>\n",
       "  </thead>\n",
       "  <tbody>\n",
       "    <tr>\n",
       "      <th>0</th>\n",
       "      <td>romanticism,</td>\n",
       "      <td>short</td>\n",
       "      <td>low quality lowres black tongue,</td>\n",
       "      <td>romanticism,oscar winning hyperrealistic maste...</td>\n",
       "      <td>short</td>\n",
       "      <td>low quality lowres black tongue, bad anatomy;</td>\n",
       "    </tr>\n",
       "    <tr>\n",
       "      <th>1</th>\n",
       "      <td>romanticism,</td>\n",
       "      <td>short</td>\n",
       "      <td>low quality lowres black tongue,</td>\n",
       "      <td>romanticism,oscar winning hyperrealistic maste...</td>\n",
       "      <td>short</td>\n",
       "      <td>low quality lowres black tongue, two heads 2gi...</td>\n",
       "    </tr>\n",
       "    <tr>\n",
       "      <th>2</th>\n",
       "      <td>romanticism,</td>\n",
       "      <td>short</td>\n",
       "      <td>low quality lowres black tongue,</td>\n",
       "      <td>romanticism,oscar winning hyperrealistic maste...</td>\n",
       "      <td>short</td>\n",
       "      <td>low quality lowres black tongue, overexposed;</td>\n",
       "    </tr>\n",
       "    <tr>\n",
       "      <th>3</th>\n",
       "      <td>romanticism,</td>\n",
       "      <td>short</td>\n",
       "      <td>low quality lowres black tongue,</td>\n",
       "      <td>romanticism,whimsical and dreamy oil painting ...</td>\n",
       "      <td>short</td>\n",
       "      <td>low quality lowres black tongue,x-ray photogra...</td>\n",
       "    </tr>\n",
       "    <tr>\n",
       "      <th>4</th>\n",
       "      <td>romanticism,</td>\n",
       "      <td>short</td>\n",
       "      <td>low quality lowres black tongue,</td>\n",
       "      <td>romanticism,whimsical and dreamy oil painting ...</td>\n",
       "      <td>short</td>\n",
       "      <td>low quality lowres black tongue,weird hands, e...</td>\n",
       "    </tr>\n",
       "    <tr>\n",
       "      <th>...</th>\n",
       "      <td>...</td>\n",
       "      <td>...</td>\n",
       "      <td>...</td>\n",
       "      <td>...</td>\n",
       "      <td>...</td>\n",
       "      <td>...</td>\n",
       "    </tr>\n",
       "    <tr>\n",
       "      <th>81865</th>\n",
       "      <td>2D environmental side scrolling,</td>\n",
       "      <td>NaN</td>\n",
       "      <td>low_quality,</td>\n",
       "      <td>2d environmental side scrolling,whimsical colo...</td>\n",
       "      <td>NaN</td>\n",
       "      <td>low_quality, worst qu ality;</td>\n",
       "    </tr>\n",
       "    <tr>\n",
       "      <th>81866</th>\n",
       "      <td>2D environmental side scrolling,</td>\n",
       "      <td>NaN</td>\n",
       "      <td>low_quality,</td>\n",
       "      <td>2d environmental side scrolling,whimsical colo...</td>\n",
       "      <td>NaN</td>\n",
       "      <td>low_quality, easynegativev2 ng_deepnegativexl ...</td>\n",
       "    </tr>\n",
       "    <tr>\n",
       "      <th>81867</th>\n",
       "      <td>2D environmental side scrolling,</td>\n",
       "      <td>NaN</td>\n",
       "      <td>low_quality,</td>\n",
       "      <td>2d environmental side scrolling,whimsical wate...</td>\n",
       "      <td>NaN</td>\n",
       "      <td>low_quality, lowres blurry image from back to ...</td>\n",
       "    </tr>\n",
       "    <tr>\n",
       "      <th>81868</th>\n",
       "      <td>2D environmental side scrolling,</td>\n",
       "      <td>NaN</td>\n",
       "      <td>low_quality,</td>\n",
       "      <td>2d environmental side scrolling,whimsical wate...</td>\n",
       "      <td>NaN</td>\n",
       "      <td>low_quality,photonous color scheme limited edi...</td>\n",
       "    </tr>\n",
       "    <tr>\n",
       "      <th>81869</th>\n",
       "      <td>2D environmental side scrolling,</td>\n",
       "      <td>NaN</td>\n",
       "      <td>low_quality,</td>\n",
       "      <td>2d environmental side scrolling,whimsical wate...</td>\n",
       "      <td>NaN</td>\n",
       "      <td>low_quality,okawaiiprint official media \\style...</td>\n",
       "    </tr>\n",
       "  </tbody>\n",
       "</table>\n",
       "<p>80952 rows × 6 columns</p>\n",
       "</div>"
      ],
      "text/plain": [
       "                          positive_base positive_length  \\\n",
       "0                          romanticism,           short   \n",
       "1                          romanticism,           short   \n",
       "2                          romanticism,           short   \n",
       "3                          romanticism,           short   \n",
       "4                          romanticism,           short   \n",
       "...                                 ...             ...   \n",
       "81865  2D environmental side scrolling,             NaN   \n",
       "81866  2D environmental side scrolling,             NaN   \n",
       "81867  2D environmental side scrolling,             NaN   \n",
       "81868  2D environmental side scrolling,             NaN   \n",
       "81869  2D environmental side scrolling,             NaN   \n",
       "\n",
       "                          negative_base  \\\n",
       "0      low quality lowres black tongue,   \n",
       "1      low quality lowres black tongue,   \n",
       "2      low quality lowres black tongue,   \n",
       "3      low quality lowres black tongue,   \n",
       "4      low quality lowres black tongue,   \n",
       "...                                 ...   \n",
       "81865                      low_quality,   \n",
       "81866                      low_quality,   \n",
       "81867                      low_quality,   \n",
       "81868                      low_quality,   \n",
       "81869                      low_quality,   \n",
       "\n",
       "                                         positive_prompt negative_length  \\\n",
       "0      romanticism,oscar winning hyperrealistic maste...           short   \n",
       "1      romanticism,oscar winning hyperrealistic maste...           short   \n",
       "2      romanticism,oscar winning hyperrealistic maste...           short   \n",
       "3      romanticism,whimsical and dreamy oil painting ...           short   \n",
       "4      romanticism,whimsical and dreamy oil painting ...           short   \n",
       "...                                                  ...             ...   \n",
       "81865  2d environmental side scrolling,whimsical colo...             NaN   \n",
       "81866  2d environmental side scrolling,whimsical colo...             NaN   \n",
       "81867  2d environmental side scrolling,whimsical wate...             NaN   \n",
       "81868  2d environmental side scrolling,whimsical wate...             NaN   \n",
       "81869  2d environmental side scrolling,whimsical wate...             NaN   \n",
       "\n",
       "                                         negative_prompt  \n",
       "0          low quality lowres black tongue, bad anatomy;  \n",
       "1      low quality lowres black tongue, two heads 2gi...  \n",
       "2          low quality lowres black tongue, overexposed;  \n",
       "3      low quality lowres black tongue,x-ray photogra...  \n",
       "4      low quality lowres black tongue,weird hands, e...  \n",
       "...                                                  ...  \n",
       "81865                       low_quality, worst qu ality;  \n",
       "81866  low_quality, easynegativev2 ng_deepnegativexl ...  \n",
       "81867  low_quality, lowres blurry image from back to ...  \n",
       "81868  low_quality,photonous color scheme limited edi...  \n",
       "81869  low_quality,okawaiiprint official media \\style...  \n",
       "\n",
       "[80952 rows x 6 columns]"
      ]
     },
     "execution_count": 17,
     "metadata": {},
     "output_type": "execute_result"
    }
   ],
   "source": [
    "df = pd.merge(step1, step2, on=['negative_base', 'positive_prompt'], how='inner').drop_duplicates(['positive_prompt', 'negative_prompt'], keep='first')\n",
    "\n",
    "df.to_csv(os.path.join(OUTPUT_DIR, 'neg2pos.tsv'), sep='\\t', index=False)\n",
    "\n",
    "df"
   ]
  },
  {
   "cell_type": "code",
   "execution_count": null,
   "id": "60b44c47-10c9-40d1-b3ac-06e819574bcc",
   "metadata": {
    "tags": []
   },
   "outputs": [],
   "source": [
    "list(df.loc[df['negative_prompt'].str.contains('positive') + df['negative_prompt'].str.contains('prompt'), 'negative_prompt'])"
   ]
  },
  {
   "cell_type": "code",
   "execution_count": null,
   "id": "6a0b7430-2a6e-4650-b7ce-fc497bf798e2",
   "metadata": {},
   "outputs": [],
   "source": []
  }
 ],
 "metadata": {
  "kernelspec": {
   "display_name": "kk",
   "language": "python",
   "name": "kk"
  },
  "language_info": {
   "codemirror_mode": {
    "name": "ipython",
    "version": 3
   },
   "file_extension": ".py",
   "mimetype": "text/x-python",
   "name": "python",
   "nbconvert_exporter": "python",
   "pygments_lexer": "ipython3",
   "version": "3.10.13"
  }
 },
 "nbformat": 4,
 "nbformat_minor": 5
}
