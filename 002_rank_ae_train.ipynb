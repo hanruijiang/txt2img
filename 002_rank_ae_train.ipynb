{
 "cells": [
  {
   "cell_type": "code",
   "execution_count": null,
   "id": "e74b611f-26ad-441f-93e4-5850900b6693",
   "metadata": {
    "tags": []
   },
   "outputs": [],
   "source": [
    "import os\n",
    "os.environ['CUDA_VISIBLE_DEVICES'] = '4,5,6,7'\n",
    "\n",
    "import sys\n",
    "\n",
    "import numpy as np\n",
    "import torch\n",
    "\n",
    "from tqdm.auto import tqdm"
   ]
  },
  {
   "cell_type": "code",
   "execution_count": null,
   "id": "1c3204de-9735-4ae0-9855-a1130a74eb77",
   "metadata": {
    "tags": []
   },
   "outputs": [],
   "source": [
    "from optimizers import Adan, Lookahead, AGC"
   ]
  },
  {
   "cell_type": "code",
   "execution_count": null,
   "id": "46755eea-1c70-49dd-92f9-1966acc47da3",
   "metadata": {
    "tags": []
   },
   "outputs": [],
   "source": [
    "LR = 1e-3\n",
    "BATCH_SIZE = 512"
   ]
  },
  {
   "cell_type": "markdown",
   "id": "aa3c51cd-6e4c-42ca-a96c-b1ec5a0a3d51",
   "metadata": {},
   "source": [
    "## load"
   ]
  },
  {
   "cell_type": "code",
   "execution_count": null,
   "id": "ba5bf583-850b-4db8-89ce-cd8e794c9841",
   "metadata": {
    "tags": []
   },
   "outputs": [],
   "source": [
    "# pip install scikit-learn mega.py\n",
    "\n",
    "sys.path.append(os.path.abspath('../kcg-ml-vae-test/'))\n",
    "from utilities.utils import read_embedding_data, read_msg_pack"
   ]
  },
  {
   "cell_type": "code",
   "execution_count": null,
   "id": "ed9b7844-65f1-4e14-bb1f-2766c50946a6",
   "metadata": {
    "tags": []
   },
   "outputs": [],
   "source": [
    "import glob\n",
    "\n",
    "paths = sorted(glob.glob('/workspace/kk-digital/kcg-ml-image-pipeline/output/environmental/ranking_v2/embeddings/*_embedding.msgpack'))\n",
    "\n",
    "pos_embs = []\n",
    "for path in tqdm(paths):\n",
    "    pos_emb, neg_emb = read_embedding_data(path)\n",
    "    pos_embs.append(pos_emb)\n",
    "pos_embs = np.concatenate(pos_embs, axis=0)"
   ]
  },
  {
   "cell_type": "code",
   "execution_count": null,
   "id": "73f1c8ea-90b6-4969-a065-29b5f1500ec6",
   "metadata": {
    "tags": []
   },
   "outputs": [],
   "source": [
    "from sklearn.model_selection import train_test_split"
   ]
  },
  {
   "cell_type": "code",
   "execution_count": null,
   "id": "b0bf066c-a6ea-4345-8b14-f828a34d83af",
   "metadata": {
    "tags": []
   },
   "outputs": [],
   "source": [
    "train_data, val_data = train_test_split(pos_embs, test_size=0.2, random_state=42)"
   ]
  },
  {
   "cell_type": "code",
   "execution_count": 233,
   "id": "038565fa-2e9a-447f-b3f3-c187d2577c5e",
   "metadata": {
    "tags": []
   },
   "outputs": [],
   "source": [
    "class Model(torch.nn.Module):\n",
    "    def __init__(self, input_dim, seq_len, hidden_dim):\n",
    "        super().__init__()\n",
    "        \n",
    "        self.encoder = torch.nn.Sequential(\n",
    "            torch.nn.Conv1d(input_dim, 384, kernel_size=1, bias=False, padding='same'),\n",
    "            torch.nn.BatchNorm1d(384),\n",
    "            torch.nn.ReLU(),\n",
    "            torch.nn.Conv1d(384, 128, kernel_size=1, bias=False, padding='same'),\n",
    "            torch.nn.BatchNorm1d(128),\n",
    "            torch.nn.ReLU(),\n",
    "            torch.nn.Conv1d(128, 64, kernel_size=1, bias=False, padding='same'),\n",
    "            torch.nn.BatchNorm1d(64),\n",
    "            torch.nn.ReLU(),\n",
    "            torch.nn.Conv1d(64, 32, kernel_size=1, bias=False, padding='same'),\n",
    "            torch.nn.BatchNorm1d(32),\n",
    "            torch.nn.ReLU()\n",
    "        )\n",
    "        \n",
    "        self.encoder2 = torch.nn.Sequential(\n",
    "            torch.nn.Linear(seq_len * 32, hidden_dim, bias=False),\n",
    "            torch.nn.BatchNorm1d(hidden_dim),\n",
    "            torch.nn.ReLU()\n",
    "        )\n",
    "        \n",
    "        self.dropout = torch.nn.Dropout(0.5)\n",
    "        \n",
    "        self.decoder2 = torch.nn.Sequential(\n",
    "            torch.nn.Linear(hidden_dim, seq_len * 32, bias=False),\n",
    "            torch.nn.BatchNorm1d(seq_len * 32),\n",
    "            torch.nn.ReLU()\n",
    "        )\n",
    "        \n",
    "        self.decoder = torch.nn.Sequential(\n",
    "            torch.nn.Conv1d(32, 64, kernel_size=1, bias=False, padding='same'),\n",
    "            torch.nn.BatchNorm1d(64),\n",
    "            torch.nn.ReLU(),\n",
    "            torch.nn.Conv1d(64, 128, kernel_size=1, bias=False, padding='same'),\n",
    "            torch.nn.BatchNorm1d(128),\n",
    "            torch.nn.ReLU(),\n",
    "            torch.nn.Conv1d(128, 384, kernel_size=1, bias=False, padding='same'),\n",
    "            torch.nn.BatchNorm1d(384),\n",
    "            torch.nn.ReLU(),\n",
    "            torch.nn.Conv1d(384, input_dim, kernel_size=1, bias=False, padding='same')\n",
    "        )\n",
    "\n",
    "    def forward(self, x):\n",
    "\n",
    "        z = self.encoder(x)\n",
    "        seq_shape = z.shape\n",
    "        z = z.view(z.shape[0], -1)\n",
    "        z = self.dropout(z)\n",
    "        z = self.encoder2(z)\n",
    "        z = self.dropout(z)\n",
    "        z = self.decoder2(z)\n",
    "        z = z.view(*seq_shape)\n",
    "        y = self.decoder(z)\n",
    "\n",
    "        return y"
   ]
  },
  {
   "cell_type": "code",
   "execution_count": 234,
   "id": "7b33b359-b933-4c18-a899-99fe6da395c4",
   "metadata": {
    "tags": []
   },
   "outputs": [],
   "source": [
    "model = Model(768, 77, 1024)"
   ]
  },
  {
   "cell_type": "code",
   "execution_count": 235,
   "id": "97baa4d9-b1c2-4691-958f-0f0684cb26d2",
   "metadata": {
    "tags": []
   },
   "outputs": [
    {
     "data": {
      "text/plain": [
       "<All keys matched successfully>"
      ]
     },
     "execution_count": 235,
     "metadata": {},
     "output_type": "execute_result"
    }
   ],
   "source": [
    "model.encoder.load_state_dict(torch.load(os.path.join('weight/002/encoder.pt')))\n",
    "model.decoder.load_state_dict(torch.load(os.path.join('weight/002/decoder.pt')))"
   ]
  },
  {
   "cell_type": "code",
   "execution_count": 236,
   "id": "1dc48d80-9edd-4466-98ea-8e7406e6399c",
   "metadata": {
    "tags": []
   },
   "outputs": [
    {
     "data": {
      "text/plain": [
       "<All keys matched successfully>"
      ]
     },
     "execution_count": 236,
     "metadata": {},
     "output_type": "execute_result"
    }
   ],
   "source": [
    "model.encoder2.load_state_dict(torch.load(os.path.join('weight/002/encoder2.pt')))\n",
    "model.decoder2.load_state_dict(torch.load(os.path.join('weight/002/decoder2.pt')))"
   ]
  },
  {
   "cell_type": "code",
   "execution_count": 237,
   "id": "22d74fc8-575c-4266-ad6e-f10c650d8d4c",
   "metadata": {
    "tags": []
   },
   "outputs": [],
   "source": [
    "parameters = list(model.parameters())\n",
    "# parameters = list(model.encoder2.parameters()) + list(model.decoder2.parameters())\n",
    "\n",
    "optimizer = Adan(parameters, lr=LR, weight_decay=1e-3)\n",
    "optimizer = Lookahead(optimizer)\n",
    "optimizer = AGC(optimizer)\n",
    "warmup = torch.optim.lr_scheduler.LambdaLR(optimizer, [lambda step: step / 100. if step < 100 else 1.])"
   ]
  },
  {
   "cell_type": "code",
   "execution_count": 238,
   "id": "9c4e77e9-5c10-4c64-a718-9c4436713b50",
   "metadata": {
    "tags": []
   },
   "outputs": [],
   "source": [
    "model = torch.nn.DataParallel(model.cuda())"
   ]
  },
  {
   "cell_type": "code",
   "execution_count": 239,
   "id": "b5c03c97-1ec9-4f43-b5e8-3fa5d1c5a3dc",
   "metadata": {
    "tags": []
   },
   "outputs": [],
   "source": [
    "train_dataset = torch.utils.data.TensorDataset(torch.tensor(train_data).permute(0, 2, 1))\n",
    "val_dataset = torch.utils.data.TensorDataset(torch.tensor(val_data).permute(0, 2, 1))"
   ]
  },
  {
   "cell_type": "code",
   "execution_count": 240,
   "id": "cb313778-5194-41fe-9ba8-cf2acf8caf63",
   "metadata": {
    "tags": []
   },
   "outputs": [],
   "source": [
    "train_loader = torch.utils.data.DataLoader(train_dataset, batch_size=BATCH_SIZE, drop_last=True, shuffle=True)\n",
    "val_loader = torch.utils.data.DataLoader(val_dataset, batch_size=BATCH_SIZE)"
   ]
  },
  {
   "cell_type": "code",
   "execution_count": 261,
   "id": "724ac2b3-c285-4208-9a6e-4ce7bb6cef2a",
   "metadata": {
    "tags": []
   },
   "outputs": [
    {
     "data": {
      "application/vnd.jupyter.widget-view+json": {
       "model_id": "6fa700300c024a8a8fcb736251f833d3",
       "version_major": 2,
       "version_minor": 0
      },
      "text/plain": [
       "  0%|          | 0/1000 [00:00<?, ?it/s]"
      ]
     },
     "metadata": {},
     "output_type": "display_data"
    },
    {
     "name": "stdout",
     "output_type": "stream",
     "text": [
      "0.3718 0.7817 0.4585 0.7236\n",
      "0.3713 0.7822 0.4585 0.7236\n",
      "0.3708 0.7822 0.4597 0.7231\n",
      "0.3706 0.7827 0.4575 0.7246\n",
      "0.3701 0.7827 0.4590 0.7236\n",
      "0.3699 0.7832 0.4595 0.7236\n",
      "0.3694 0.7832 0.4590 0.7236\n",
      "0.3691 0.7837 0.4602 0.7227\n",
      "0.3687 0.7837 0.4600 0.7231\n",
      "0.3684 0.7842 0.4609 0.7227\n"
     ]
    }
   ],
   "source": [
    "scaler = torch.cuda.amp.GradScaler()\n",
    "    \n",
    "mses, coss = list(), list()\n",
    "\n",
    "for epoch in tqdm(range(1000)):\n",
    "    \n",
    "    model.train()\n",
    "    \n",
    "    for (x,) in train_loader:\n",
    "        \n",
    "        x = x.half().cuda()\n",
    "\n",
    "        optimizer.zero_grad()\n",
    "\n",
    "        with torch.cuda.amp.autocast(True):\n",
    "\n",
    "            y = model(x)\n",
    "\n",
    "        # backward\n",
    "\n",
    "        mse = torch.nn.functional.mse_loss(x, y)\n",
    "        \n",
    "        cos = torch.nn.functional.cosine_similarity(x, y).mean()\n",
    "        \n",
    "        loss = mse - cos\n",
    "\n",
    "        scaler.scale(loss).backward()\n",
    "        scaler.step(optimizer)\n",
    "        scaler.update()\n",
    "\n",
    "        warmup.step()\n",
    "        \n",
    "        mses.append(mse.detach().cpu().numpy())\n",
    "        coss.append(cos.detach().cpu().numpy())\n",
    "        \n",
    "    if (epoch + 1) % 100 == 0:\n",
    "        \n",
    "        model.eval()\n",
    "\n",
    "        val_mses, val_coss = list(), list()\n",
    "\n",
    "        with torch.no_grad():\n",
    "\n",
    "            for (x,) in val_loader:\n",
    "\n",
    "                x = x.half().cuda()\n",
    "\n",
    "                with torch.cuda.amp.autocast(True):\n",
    "\n",
    "                    y = model(x)\n",
    "\n",
    "                mse = torch.nn.functional.mse_loss(x, y)\n",
    "\n",
    "                cos = torch.nn.functional.cosine_similarity(x, y).mean()\n",
    "\n",
    "                val_mses.append(mse.detach().cpu().numpy())\n",
    "                val_coss.append(cos.detach().cpu().numpy())\n",
    "\n",
    "        print(f'{np.mean(mses):.4f} {np.mean(coss):.4f} {np.mean(val_mses):.4f} {np.mean(val_coss):.4f}')\n",
    "    \n",
    "        mses, coss = list(), list()"
   ]
  },
  {
   "cell_type": "code",
   "execution_count": 259,
   "id": "b0f8c78a-7701-43bc-b9c6-e691522f0f9b",
   "metadata": {
    "tags": []
   },
   "outputs": [],
   "source": [
    "torch.save(model.module.encoder.state_dict(), os.path.join('weight/002/encoder.pt'))\n",
    "torch.save(model.module.decoder.state_dict(), os.path.join('weight/002/decoder.pt'))"
   ]
  },
  {
   "cell_type": "code",
   "execution_count": 260,
   "id": "6e2fc1a2-aa07-4d59-aebd-9d295e72eb23",
   "metadata": {
    "tags": []
   },
   "outputs": [],
   "source": [
    "torch.save(model.module.encoder2.state_dict(), os.path.join('weight/002/encoder2.pt'))\n",
    "torch.save(model.module.decoder2.state_dict(), os.path.join('weight/002/decoder2.pt'))"
   ]
  },
  {
   "cell_type": "code",
   "execution_count": 138,
   "id": "ee8edd30-3b28-4d86-9fd7-a522ce3703b2",
   "metadata": {
    "tags": []
   },
   "outputs": [],
   "source": [
    "for i in model.module.encoder2:\n",
    "    model.module.encoder.add_module(str(len(model.module.encoder)), i)"
   ]
  },
  {
   "cell_type": "code",
   "execution_count": 139,
   "id": "db29c313-1511-4417-b24a-5d3614e1513f",
   "metadata": {
    "tags": []
   },
   "outputs": [],
   "source": [
    "for i in model.module.decoder:\n",
    "    model.module.decoder2.add_module(str(len(model.module.decoder2)), i)"
   ]
  },
  {
   "cell_type": "code",
   "execution_count": 209,
   "id": "159f204c-767a-44e2-a0c0-2341a11fecef",
   "metadata": {
    "tags": []
   },
   "outputs": [],
   "source": [
    "from sklearn.preprocessing import normalize"
   ]
  },
  {
   "cell_type": "code",
   "execution_count": 253,
   "id": "6a160003-b556-49e1-8269-225b7801e6f7",
   "metadata": {
    "tags": []
   },
   "outputs": [],
   "source": [
    "X = x.permute(0, 2, 1).detach().cpu().numpy()"
   ]
  },
  {
   "cell_type": "code",
   "execution_count": 254,
   "id": "a321bc67-7976-4b76-8b67-1ce159185952",
   "metadata": {
    "tags": []
   },
   "outputs": [],
   "source": [
    "X = X.reshape(-1, 768)\n",
    "Y, l2_norm = normalize(X, norm='l2', axis=1, return_norm=True)"
   ]
  },
  {
   "cell_type": "code",
   "execution_count": 255,
   "id": "dc7634f8-c17a-4f94-90d9-8e19010d8406",
   "metadata": {
    "tags": []
   },
   "outputs": [
    {
     "data": {
      "text/plain": [
       "(4543,)"
      ]
     },
     "execution_count": 255,
     "metadata": {},
     "output_type": "execute_result"
    }
   ],
   "source": [
    "l2_norm.shape"
   ]
  },
  {
   "cell_type": "code",
   "execution_count": 256,
   "id": "e1d84d1a-9bd5-4633-be48-f58a702b1662",
   "metadata": {
    "tags": []
   },
   "outputs": [
    {
     "data": {
      "text/plain": [
       "tensor(0.4646, device='cuda:0', dtype=torch.float16)"
      ]
     },
     "execution_count": 256,
     "metadata": {},
     "output_type": "execute_result"
    }
   ],
   "source": [
    "torch.nn.functional.mse_loss(x, y)"
   ]
  },
  {
   "cell_type": "code",
   "execution_count": 257,
   "id": "a99d81dd-0532-4277-a9d6-fe393ab27d01",
   "metadata": {
    "tags": []
   },
   "outputs": [],
   "source": [
    "norm = torch.tensor(l2_norm).cuda().view(x.shape[0], 1, x.shape[-1])"
   ]
  },
  {
   "cell_type": "code",
   "execution_count": 258,
   "id": "fb155440-f8e5-432a-8ae9-e2f724e6a2ba",
   "metadata": {
    "tags": []
   },
   "outputs": [
    {
     "data": {
      "text/plain": [
       "tensor(35.6875, device='cuda:0', dtype=torch.float16)"
      ]
     },
     "execution_count": 258,
     "metadata": {},
     "output_type": "execute_result"
    }
   ],
   "source": [
    "torch.nn.functional.mse_loss(x / norm, y / norm, reduction='sum') / x.shape[0]"
   ]
  },
  {
   "cell_type": "code",
   "execution_count": null,
   "id": "fb53ab13-e30b-49d8-a9ed-0cd1629b0ed7",
   "metadata": {},
   "outputs": [],
   "source": []
  }
 ],
 "metadata": {
  "kernelspec": {
   "display_name": "kk",
   "language": "python",
   "name": "kk"
  },
  "language_info": {
   "codemirror_mode": {
    "name": "ipython",
    "version": 3
   },
   "file_extension": ".py",
   "mimetype": "text/x-python",
   "name": "python",
   "nbconvert_exporter": "python",
   "pygments_lexer": "ipython3",
   "version": "3.10.13"
  }
 },
 "nbformat": 4,
 "nbformat_minor": 5
}
