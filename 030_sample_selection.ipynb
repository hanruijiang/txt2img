{
 "cells": [
  {
   "cell_type": "code",
   "execution_count": 1,
   "id": "29c9fb80-5fcc-4d0c-8b16-e513593a3f13",
   "metadata": {
    "tags": []
   },
   "outputs": [],
   "source": [
    "import os\n",
    "os.environ['CUDA_VISIBLE_DEVICES'] = '0'\n",
    "import sys\n",
    "import json\n",
    "import glob\n",
    "import torch\n",
    "\n",
    "import numpy as np\n",
    "import pandas as pd\n",
    "\n",
    "from PIL import Image\n",
    "from matplotlib import pyplot\n",
    "\n",
    "from tqdm.auto import tqdm\n",
    "\n",
    "from sklearn.metrics.pairwise import cosine_similarity"
   ]
  },
  {
   "cell_type": "code",
   "execution_count": 2,
   "id": "323d238e-7cb4-4133-af39-9472a927b99e",
   "metadata": {},
   "outputs": [],
   "source": [
    "from script.samples import representative_sample_selection, get_min_distance_to_representative_samples"
   ]
  },
  {
   "cell_type": "code",
   "execution_count": 3,
   "id": "0d2c7fd9-2b5c-48ad-b795-71498d0c0932",
   "metadata": {
    "tags": []
   },
   "outputs": [],
   "source": [
    "ROOT = '../kcg-ml-image-pipeline/output/dataset/'\n",
    "\n",
    "DATASETs = [\n",
    "    'environmental', \n",
    "    'character', \n",
    "    'icons', \n",
    "    'mech', \n",
    "    'waifu',\n",
    "    'propaganda-poster'\n",
    "]"
   ]
  },
  {
   "cell_type": "code",
   "execution_count": 4,
   "id": "92577e18-973e-4536-8eea-8ea05b3bfb8b",
   "metadata": {
    "tags": []
   },
   "outputs": [],
   "source": [
    "def save_representative_samples(dataset_name):\n",
    "\n",
    "    # load emb\n",
    "    \n",
    "    emb_path = os.path.join('./data', dataset_name, 'clip_vision_emb.npz')\n",
    "    \n",
    "    npz = np.load(emb_path, allow_pickle=True)\n",
    "    \n",
    "    file_paths = npz['file_paths']\n",
    "    file_paths = [os.path.splitext(file_path.split('_')[0])[0] for file_path in file_paths]\n",
    "    path_to_index = {file_path: i for i, file_path in enumerate(file_paths)}\n",
    "    \n",
    "    # load rank data\n",
    "    \n",
    "    paths = sorted(glob.glob(os.path.join(ROOT, 'ranking', dataset_name, '*.json')))\n",
    "    \n",
    "    rank_pairs = list()\n",
    "    for path in tqdm(paths, leave=False):\n",
    "        js = json.load(open(path))\n",
    "        \n",
    "        file_path_1 = os.path.splitext(js['image_1_metadata']['file_path'])[0].replace('datasets/', '')\n",
    "        file_path_2 = os.path.splitext(js['image_2_metadata']['file_path'])[0].replace('datasets/', '')\n",
    "        \n",
    "        if (file_path_1 not in path_to_index) or (file_path_2 not in path_to_index):\n",
    "            continue\n",
    "        rank_pairs.append((file_path_1, file_path_2, js['selected_image_index']))\n",
    "    \n",
    "    # build dataset\n",
    "    \n",
    "    rank_pairs = pd.DataFrame(rank_pairs, columns=['image_1', 'image_2', 'selected_image_index'])\n",
    "    \n",
    "    ordered_pairs = [((image_1, image_2) if selected_image_index == 0 else (image_2, image_1)) for image_1, image_2, selected_image_index in rank_pairs.itertuples(index=False, name=None)]\n",
    "    ordered_pairs = pd.DataFrame(ordered_pairs, columns=['image_1', 'image_2'])\n",
    "    \n",
    "    seleted_indices = list(map(path_to_index.get, ordered_pairs['image_1']))\n",
    "    un_seleted_indices = list(map(path_to_index.get, ordered_pairs['image_2']))\n",
    "    \n",
    "    indices = np.array(list(set(seleted_indices) | set(un_seleted_indices)))\n",
    "    \n",
    "    embs = npz['image_embeds'][indices]\n",
    "    \n",
    "    #\n",
    "    \n",
    "    selected = representative_sample_selection(samples=embs, threshold=0.25)\n",
    "    \n",
    "    # save\n",
    "    \n",
    "    representative_indices = indices[selected]\n",
    "    unused_indices = indices[list(set(range(len(indices))).difference(selected))]\n",
    "    \n",
    "    representative_names = [file_paths[i] for i in representative_indices]\n",
    "    unused_names = [file_paths[i] for i in unused_indices]\n",
    "    \n",
    "    json.dump({\n",
    "        'representative': representative_names,\n",
    "        'unused': unused_names\n",
    "    }, open(f'./data/{dataset_name}/representative.json', 'wt'))"
   ]
  },
  {
   "cell_type": "code",
   "execution_count": 5,
   "id": "7670a0ad-046c-4cd5-9e3a-dc12eccdedc7",
   "metadata": {},
   "outputs": [
    {
     "data": {
      "application/vnd.jupyter.widget-view+json": {
       "model_id": "",
       "version_major": 2,
       "version_minor": 0
      },
      "text/plain": [
       "  0%|          | 0/662 [00:00<?, ?it/s]"
      ]
     },
     "metadata": {},
     "output_type": "display_data"
    },
    {
     "data": {
      "application/vnd.jupyter.widget-view+json": {
       "model_id": "77dbb1687b754b9dbdb2b566d9163d21",
       "version_major": 2,
       "version_minor": 0
      },
      "text/plain": [
       "  0%|          | 0/1090 [00:00<?, ?it/s]"
      ]
     },
     "metadata": {},
     "output_type": "display_data"
    },
    {
     "data": {
      "application/vnd.jupyter.widget-view+json": {
       "model_id": "",
       "version_major": 2,
       "version_minor": 0
      },
      "text/plain": [
       "  0%|          | 0/1377 [00:00<?, ?it/s]"
      ]
     },
     "metadata": {},
     "output_type": "display_data"
    },
    {
     "data": {
      "application/vnd.jupyter.widget-view+json": {
       "model_id": "dd895373b22943d59c5727781be5f188",
       "version_major": 2,
       "version_minor": 0
      },
      "text/plain": [
       "  0%|          | 0/1969 [00:00<?, ?it/s]"
      ]
     },
     "metadata": {},
     "output_type": "display_data"
    },
    {
     "data": {
      "application/vnd.jupyter.widget-view+json": {
       "model_id": "",
       "version_major": 2,
       "version_minor": 0
      },
      "text/plain": [
       "  0%|          | 0/2879 [00:00<?, ?it/s]"
      ]
     },
     "metadata": {},
     "output_type": "display_data"
    },
    {
     "data": {
      "application/vnd.jupyter.widget-view+json": {
       "model_id": "b53706a26912411295b5cab2f9cfe543",
       "version_major": 2,
       "version_minor": 0
      },
      "text/plain": [
       "  0%|          | 0/2968 [00:00<?, ?it/s]"
      ]
     },
     "metadata": {},
     "output_type": "display_data"
    },
    {
     "data": {
      "application/vnd.jupyter.widget-view+json": {
       "model_id": "",
       "version_major": 2,
       "version_minor": 0
      },
      "text/plain": [
       "  0%|          | 0/529 [00:00<?, ?it/s]"
      ]
     },
     "metadata": {},
     "output_type": "display_data"
    },
    {
     "data": {
      "application/vnd.jupyter.widget-view+json": {
       "model_id": "2f985b6bcdc04c4eb89e9c2fcc0ad7c7",
       "version_major": 2,
       "version_minor": 0
      },
      "text/plain": [
       "  0%|          | 0/919 [00:00<?, ?it/s]"
      ]
     },
     "metadata": {},
     "output_type": "display_data"
    },
    {
     "data": {
      "application/vnd.jupyter.widget-view+json": {
       "model_id": "",
       "version_major": 2,
       "version_minor": 0
      },
      "text/plain": [
       "  0%|          | 0/798 [00:00<?, ?it/s]"
      ]
     },
     "metadata": {},
     "output_type": "display_data"
    },
    {
     "data": {
      "application/vnd.jupyter.widget-view+json": {
       "model_id": "2f4d6b3f7e6b4a17ac2f60cc7d9dc84e",
       "version_major": 2,
       "version_minor": 0
      },
      "text/plain": [
       "  0%|          | 0/1058 [00:00<?, ?it/s]"
      ]
     },
     "metadata": {},
     "output_type": "display_data"
    }
   ],
   "source": [
    "for dataset_name in DATASETs:\n",
    "    save_representative_samples(dataset_name)"
   ]
  },
  {
   "cell_type": "markdown",
   "id": "f3f06681-4669-417f-bc92-ac8a6cc04fb6",
   "metadata": {},
   "source": [
    "# continue"
   ]
  },
  {
   "cell_type": "code",
   "execution_count": 14,
   "id": "04d1a72e-a61e-462b-abc4-6ee50814d56c",
   "metadata": {},
   "outputs": [],
   "source": [
    "selected_names = json.load(open('./data/environmental/selected.json'))"
   ]
  },
  {
   "cell_type": "code",
   "execution_count": 15,
   "id": "27287f74-a0b4-4fae-b553-75fc63973deb",
   "metadata": {},
   "outputs": [],
   "source": [
    "selected_indices = list(map(path_to_index.get, selected_names))"
   ]
  },
  {
   "cell_type": "code",
   "execution_count": 21,
   "id": "a7bc05e5-e7cd-4949-8c5c-607504138314",
   "metadata": {},
   "outputs": [],
   "source": [
    "distances = get_min_distance_to_representative_samples(embs, npz['image_embeds'][selected_indices])"
   ]
  },
  {
   "cell_type": "code",
   "execution_count": null,
   "id": "81431334-7a3e-44af-ae5f-d59c2367243a",
   "metadata": {},
   "outputs": [],
   "source": []
  },
  {
   "cell_type": "code",
   "execution_count": 16,
   "id": "f93c13b3-2be3-4326-aa33-ec8dca126105",
   "metadata": {},
   "outputs": [
    {
     "data": {
      "application/vnd.jupyter.widget-view+json": {
       "model_id": "748f479bf15f4d6d80444d1da9ee0ee9",
       "version_major": 2,
       "version_minor": 0
      },
      "text/plain": [
       "  0%|          | 0/39750 [00:00<?, ?it/s]"
      ]
     },
     "metadata": {},
     "output_type": "display_data"
    }
   ],
   "source": [
    "selected = representative_sample_selection(samples=embs, threshold=0.25, existed_samples=npz['image_embeds'][selected_indices[:-10]])"
   ]
  },
  {
   "cell_type": "code",
   "execution_count": null,
   "id": "96e63478-2dff-46a3-a491-250de57ea444",
   "metadata": {},
   "outputs": [],
   "source": []
  },
  {
   "cell_type": "code",
   "execution_count": null,
   "id": "dc30c018-c5b6-4862-a122-c8dff7ea3bf5",
   "metadata": {},
   "outputs": [],
   "source": []
  }
 ],
 "metadata": {
  "kernelspec": {
   "display_name": "kk",
   "language": "python",
   "name": "kk"
  },
  "language_info": {
   "codemirror_mode": {
    "name": "ipython",
    "version": 3
   },
   "file_extension": ".py",
   "mimetype": "text/x-python",
   "name": "python",
   "nbconvert_exporter": "python",
   "pygments_lexer": "ipython3",
   "version": "3.10.13"
  }
 },
 "nbformat": 4,
 "nbformat_minor": 5
}
