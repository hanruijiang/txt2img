{
 "cells": [
  {
   "cell_type": "code",
   "execution_count": 1,
   "id": "2724f27b-806f-421a-9723-c9d27bdfb491",
   "metadata": {
    "tags": []
   },
   "outputs": [],
   "source": [
    "import os\n",
    "import sys\n",
    "\n",
    "import json\n",
    "\n",
    "from tqdm.auto import tqdm\n",
    "\n",
    "import time"
   ]
  },
  {
   "cell_type": "code",
   "execution_count": 2,
   "id": "ee3710e4-5b41-4027-9fe3-58b54d94d2f6",
   "metadata": {
    "tags": []
   },
   "outputs": [],
   "source": [
    "from minio import Minio\n",
    "import requests\n",
    "import msgpack\n",
    "import numpy as np"
   ]
  },
  {
   "cell_type": "code",
   "execution_count": 3,
   "id": "4af3679a-37e7-47df-b42f-195689c1e69b",
   "metadata": {},
   "outputs": [],
   "source": [
    "sys.path.append(os.path.abspath('../kcg-ml-image-pipeline/'))\n",
    "from utility.minio.cmd import connect_to_minio_client"
   ]
  },
  {
   "cell_type": "code",
   "execution_count": 33,
   "id": "bea01f41-fe89-45f5-b442-2e029b5fed0e",
   "metadata": {
    "tags": []
   },
   "outputs": [],
   "source": [
    "ROOT = '../kcg-ml-image-pipeline/output/dataset/'\n",
    "\n",
    "DATASETs = [\n",
    "    # 'environmental', \n",
    "    #'character', \n",
    "    #'icons', \n",
    "    # 'mech', \n",
    "    # 'waifu',\n",
    "    'propaganda-poster'\n",
    "]"
   ]
  },
  {
   "cell_type": "code",
   "execution_count": 5,
   "id": "5006c10c-6f19-40a3-9b7a-d2eac02e10c1",
   "metadata": {
    "tags": []
   },
   "outputs": [],
   "source": [
    "MINIO_ADDRESS = \"123.176.98.90:9000\"\n",
    "access_key = \"GXvqLWtthELCaROPITOG\"\n",
    "secret_key = \"DmlKgey5u0DnMHP30Vg7rkLT0NNbNIGaM8IwPckD\"\n",
    "bucket_name = 'datasets'"
   ]
  },
  {
   "cell_type": "code",
   "execution_count": 6,
   "id": "45e3011e-b999-4d0e-9a41-6e112b43afd2",
   "metadata": {
    "tags": []
   },
   "outputs": [
    {
     "name": "stdout",
     "output_type": "stream",
     "text": [
      "Connecting to minio client...\n",
      "Successfully connected to minio client...\n"
     ]
    }
   ],
   "source": [
    "client = connect_to_minio_client(MINIO_ADDRESS, access_key, secret_key)"
   ]
  },
  {
   "cell_type": "markdown",
   "id": "3e6abcaa-c5d5-48a4-a099-413a616024ff",
   "metadata": {},
   "source": [
    "# download rank data"
   ]
  },
  {
   "cell_type": "code",
   "execution_count": 23,
   "id": "c744c2df-88d4-4875-bd0d-eb8d46a53ebe",
   "metadata": {
    "tags": []
   },
   "outputs": [],
   "source": [
    "def download_rank_data(dataset_name):\n",
    "\n",
    "    objects = client.list_objects(bucket_name, f'{dataset_name}/data/ranking/aggregate/', recursive=False)\n",
    "    objects = list(tqdm(objects, leave=False))\n",
    "\n",
    "    for obj in tqdm(objects, leave=False):\n",
    "        \n",
    "        object_name = obj.object_name\n",
    "        \n",
    "        if not object_name.lower().endswith('.json'):\n",
    "            continue\n",
    "    \n",
    "        out_path = os.path.join(ROOT, 'ranking', object_name.replace('/data/ranking/aggregate/', '/'))\n",
    "        \n",
    "        if os.path.exists(out_path):\n",
    "            continue\n",
    "            \n",
    "        try:\n",
    "            client.fget_object(bucket_name, object_name, out_path)\n",
    "        except KeyboardInterrupt:\n",
    "            break\n",
    "        except:\n",
    "            continue"
   ]
  },
  {
   "cell_type": "code",
   "execution_count": null,
   "id": "6fc4349a-c2ec-4366-ab18-ed33816de15a",
   "metadata": {},
   "outputs": [],
   "source": [
    "for dataset_name in DATASETs:\n",
    "    download_rank_data(dataset_name)"
   ]
  },
  {
   "cell_type": "markdown",
   "id": "0ac2fb53-9543-4e24-b152-6bb05905a8c2",
   "metadata": {},
   "source": [
    "# download whole dataset"
   ]
  },
  {
   "cell_type": "code",
   "execution_count": null,
   "id": "280a6084-d26a-4703-aa4e-92de867d6727",
   "metadata": {},
   "outputs": [],
   "source": [
    "for dataset_name in DATASETs:\n",
    "    objects = list()\n",
    "    for i in tqdm(client.list_objects(bucket_name, dataset_name, recursive=True)):\n",
    "        objects.append(i)\n",
    "    # objects = sorted(objects, key=lambda x: x.object_name)"
   ]
  },
  {
   "cell_type": "code",
   "execution_count": 35,
   "id": "bc0bd6d0-73af-4f4a-b0e7-f40c009174e3",
   "metadata": {},
   "outputs": [
    {
     "data": {
      "text/plain": [
       "123053"
      ]
     },
     "execution_count": 35,
     "metadata": {},
     "output_type": "execute_result"
    }
   ],
   "source": [
    "len([i for i in objects if i.object_name.endswith('.jpg')])"
   ]
  },
  {
   "cell_type": "code",
   "execution_count": 36,
   "id": "d09eb77b-1cfa-4cc1-8c02-51f413cc0d24",
   "metadata": {
    "tags": []
   },
   "outputs": [
    {
     "data": {
      "application/vnd.jupyter.widget-view+json": {
       "model_id": "e44f9639419049878de864cba7cdc1aa",
       "version_major": 2,
       "version_minor": 0
      },
      "text/plain": [
       "  0%|          | 0/12306 [00:00<?, ?it/s]"
      ]
     },
     "metadata": {},
     "output_type": "display_data"
    }
   ],
   "source": [
    "for obj in tqdm([i for i in objects if i.object_name.endswith('.jpg')][::10]):\n",
    "# for obj in tqdm(objects):\n",
    "    \n",
    "    object_name = obj.object_name\n",
    "    \n",
    "    # if not object_name.lower().endswith((\".jpg\", \".png\", \".jpeg\")):\n",
    "    #     continue\n",
    "    # out_path = os.path.join(ROOT, 'image', object_name)\n",
    "    \n",
    "    # if not object_name.lower().endswith('_clip.msgpack'):\n",
    "    #     continue\n",
    "    # out_path = os.path.join(ROOT, 'clip', object_name)\n",
    "\n",
    "    if object_name.lower().endswith((\".jpg\", \".png\", \".jpeg\")):\n",
    "        out_path = os.path.join(ROOT, 'image', object_name)\n",
    "    # if object_name.lower().endswith('_clip.msgpack'):\n",
    "    #     out_path = os.path.join(ROOT, 'clip', object_name)\n",
    "    # elif object_name.lower().endswith('_data.msgpack'):\n",
    "    #     out_path = os.path.join(ROOT, 'data', object_name)\n",
    "    # elif object_name.lower().endswith('.json') and '/ranking/aggregate/' in object_name.lower():\n",
    "    #     out_path = os.path.join(ROOT, 'ranking', object_name.replace('/data/ranking/aggregate/', '/'))\n",
    "    else:\n",
    "        continue\n",
    "    \n",
    "    if os.path.exists(out_path):\n",
    "        continue\n",
    "    \n",
    "    try:\n",
    "        client.fget_object(bucket_name, object_name, out_path)\n",
    "    except KeyboardInterrupt:\n",
    "        break\n",
    "    except:\n",
    "        continue"
   ]
  },
  {
   "cell_type": "code",
   "execution_count": 37,
   "id": "82d81121-2cf4-445e-b8fc-6ec0e64cb3b9",
   "metadata": {
    "tags": []
   },
   "outputs": [],
   "source": [
    "image_paths = list()\n",
    "\n",
    "for dname in os.listdir(os.path.join(ROOT, 'image', dataset_name)):\n",
    "    for fname in os.listdir(os.path.join(ROOT, 'image', dataset_name, dname)):\n",
    "        if not fname.endswith('.jpg'):\n",
    "            continue\n",
    "        image_paths.append(os.path.join(dataset_name, dname, fname))\n",
    "\n",
    "# for dname in os.listdir(os.path.join(ROOT, 'clip', dataset_name)):\n",
    "#     for fname in os.listdir(os.path.join(ROOT, 'clip', dataset_name, dname)):\n",
    "#         if not fname.endswith('_clip.msgpack'):\n",
    "#             continue\n",
    "#         image_paths.append(os.path.join(dataset_name, dname, fname))"
   ]
  },
  {
   "cell_type": "code",
   "execution_count": 38,
   "id": "c1b1ae8d-ad46-47c5-b0fa-309e841b15ca",
   "metadata": {
    "tags": []
   },
   "outputs": [
    {
     "data": {
      "application/vnd.jupyter.widget-view+json": {
       "model_id": "0de26357f07641a19209fc3564c54164",
       "version_major": 2,
       "version_minor": 0
      },
      "text/plain": [
       "  0%|          | 0/8816 [00:00<?, ?it/s]"
      ]
     },
     "metadata": {},
     "output_type": "display_data"
    }
   ],
   "source": [
    "for path in tqdm(image_paths):\n",
    "    \n",
    "    # object_name = path.replace('_clip.msgpack', '_data.msgpack')\n",
    "    \n",
    "    object_name = path.replace('.jpg', '_data.msgpack')\n",
    "    out_path = os.path.join(ROOT, 'data', object_name)\n",
    "    \n",
    "    # object_name = path.replace('.jpg', '_clip.msgpack')\n",
    "    # out_path = os.path.join(ROOT, 'clip', object_name)\n",
    "    \n",
    "    if os.path.exists(out_path):\n",
    "        continue\n",
    "    \n",
    "    try:\n",
    "        client.fget_object(bucket_name, object_name, out_path)\n",
    "    except KeyboardInterrupt:\n",
    "        break\n",
    "    except:\n",
    "        continue\n",
    "    "
   ]
  },
  {
   "cell_type": "code",
   "execution_count": 39,
   "id": "fb48d9ad-4283-4230-aa6b-eb72740e2052",
   "metadata": {},
   "outputs": [
    {
     "data": {
      "application/vnd.jupyter.widget-view+json": {
       "model_id": "f2dfa5f5f7844ee3914a7c7ded9d2495",
       "version_major": 2,
       "version_minor": 0
      },
      "text/plain": [
       "  0%|          | 0/8816 [00:00<?, ?it/s]"
      ]
     },
     "metadata": {},
     "output_type": "display_data"
    }
   ],
   "source": [
    "for path in tqdm(image_paths):\n",
    "    \n",
    "    # object_name = path.replace('_clip.msgpack', '_data.msgpack')\n",
    "    \n",
    "    # object_name = path.replace('.jpg', '_data.msgpack')\n",
    "    # out_path = os.path.join(ROOT, 'data', object_name)\n",
    "    \n",
    "    object_name = path.replace('.jpg', '_clip.msgpack')\n",
    "    out_path = os.path.join(ROOT, 'clip', object_name)\n",
    "    \n",
    "    if os.path.exists(out_path):\n",
    "        continue\n",
    "    \n",
    "    try:\n",
    "        client.fget_object(bucket_name, object_name, out_path)\n",
    "    except KeyboardInterrupt:\n",
    "        break\n",
    "    except:\n",
    "        continue\n",
    "    "
   ]
  },
  {
   "cell_type": "code",
   "execution_count": 20,
   "id": "98344f36-3e96-4217-88b3-7f9348fb5328",
   "metadata": {
    "tags": []
   },
   "outputs": [],
   "source": [
    "msp_paths = list()\n",
    "vectors = list()\n",
    "\n",
    "for dname in os.listdir(os.path.join(ROOT, 'clip', dataset_name)):\n",
    "    for fname in os.listdir(os.path.join(ROOT, 'clip', dataset_name, dname)):\n",
    "        \n",
    "        msp_path = os.path.join(dataset_name, dname, fname)\n",
    "\n",
    "        with open(os.path.join(ROOT, 'clip', msp_path), 'rb') as f:\n",
    "            data = f.read()\n",
    "        decoded_data = msgpack.unpackb(data)\n",
    "        \n",
    "        msp_paths.append(msp_path)\n",
    "        vectors.append(np.array(decoded_data['clip-feature-vector']))"
   ]
  },
  {
   "cell_type": "code",
   "execution_count": 21,
   "id": "3b9139af-3f2f-42cf-941a-3d891b2d43e2",
   "metadata": {
    "tags": []
   },
   "outputs": [],
   "source": [
    "EMB_PATH = 'data/environmental/clip_vision_emb.npz'"
   ]
  },
  {
   "cell_type": "code",
   "execution_count": 22,
   "id": "37013b58-5277-47d6-96e5-d104d1d08775",
   "metadata": {
    "tags": []
   },
   "outputs": [],
   "source": [
    "np.savez(\n",
    "    EMB_PATH,\n",
    "    file_paths=np.array(msp_paths),\n",
    "    image_embeds=np.concatenate(vectors, axis=0)\n",
    ")"
   ]
  },
  {
   "cell_type": "markdown",
   "id": "45445d45-2556-4216-b9da-da6b169e6a84",
   "metadata": {},
   "source": [
    "# from rank"
   ]
  },
  {
   "cell_type": "code",
   "execution_count": 7,
   "id": "6bb2d8ad-cd42-4483-b8af-cdbd185fc9e4",
   "metadata": {
    "tags": []
   },
   "outputs": [],
   "source": [
    "def download_ranked_data(dataset_name):\n",
    "\n",
    "    file_paths = set()\n",
    "    \n",
    "    for fname in os.listdir(os.path.join(ROOT, 'ranking', dataset_name)):\n",
    "        \n",
    "        info = json.load(open(os.path.join(ROOT, 'ranking', dataset_name, fname)))\n",
    "        \n",
    "        image_path_1 = info['image_1_metadata']['file_path']\n",
    "        \n",
    "        file_paths.add(image_path_1)\n",
    "        \n",
    "        image_path_2 = info['image_2_metadata']['file_path']\n",
    "            \n",
    "        file_paths.add(image_path_2)\n",
    "    \n",
    "    for file_name in tqdm(file_paths, leave=False):\n",
    "            \n",
    "        # output_path = file_name.replace('.jpg', '_clip.msgpack').replace(f'datasets/{dataset_name}/', os.path.join(ROOT, f'clip/{dataset_name}/'))\n",
    "        # file_name = file_name.replace('.jpg', '_clip.msgpack').replace('datasets/', '')\n",
    "            \n",
    "        # output_path = file_name.replace('.jpg', '_data.msgpack').replace(f'datasets/{dataset_name}/', os.path.join(ROOT, f'data/{dataset_name}/'))\n",
    "        # file_name = file_name.replace('.jpg', '_data.msgpack').replace('datasets/', '')\n",
    "            \n",
    "        output_path = file_name.replace(f'datasets/{dataset_name}/', os.path.join(ROOT, f'image/{dataset_name}/'))\n",
    "        file_name = file_name.replace('datasets/', '')\n",
    "\n",
    "        if os.path.exists(output_path):\n",
    "            continue\n",
    "        \n",
    "        try:\n",
    "            client.fget_object(bucket_name, file_name, output_path)\n",
    "        except KeyboardInterrupt:\n",
    "            break\n",
    "        except:\n",
    "            continue\n",
    "        "
   ]
  },
  {
   "cell_type": "code",
   "execution_count": 8,
   "id": "b0637410-6323-4aa0-8356-2b5585aa2439",
   "metadata": {
    "tags": []
   },
   "outputs": [
    {
     "data": {
      "application/vnd.jupyter.widget-view+json": {
       "model_id": "",
       "version_major": 2,
       "version_minor": 0
      },
      "text/plain": [
       "  0%|          | 0/48515 [00:00<?, ?it/s]"
      ]
     },
     "metadata": {},
     "output_type": "display_data"
    },
    {
     "data": {
      "application/vnd.jupyter.widget-view+json": {
       "model_id": "",
       "version_major": 2,
       "version_minor": 0
      },
      "text/plain": [
       "  0%|          | 0/1091 [00:00<?, ?it/s]"
      ]
     },
     "metadata": {},
     "output_type": "display_data"
    },
    {
     "data": {
      "application/vnd.jupyter.widget-view+json": {
       "model_id": "",
       "version_major": 2,
       "version_minor": 0
      },
      "text/plain": [
       "  0%|          | 0/1970 [00:00<?, ?it/s]"
      ]
     },
     "metadata": {},
     "output_type": "display_data"
    },
    {
     "data": {
      "application/vnd.jupyter.widget-view+json": {
       "model_id": "",
       "version_major": 2,
       "version_minor": 0
      },
      "text/plain": [
       "  0%|          | 0/2983 [00:00<?, ?it/s]"
      ]
     },
     "metadata": {},
     "output_type": "display_data"
    },
    {
     "data": {
      "application/vnd.jupyter.widget-view+json": {
       "model_id": "",
       "version_major": 2,
       "version_minor": 0
      },
      "text/plain": [
       "  0%|          | 0/920 [00:00<?, ?it/s]"
      ]
     },
     "metadata": {},
     "output_type": "display_data"
    },
    {
     "data": {
      "application/vnd.jupyter.widget-view+json": {
       "model_id": "",
       "version_major": 2,
       "version_minor": 0
      },
      "text/plain": [
       "  0%|          | 0/1059 [00:00<?, ?it/s]"
      ]
     },
     "metadata": {},
     "output_type": "display_data"
    }
   ],
   "source": [
    "for dataset_name in DATASETs:\n",
    "    download_ranked_data(dataset_name)"
   ]
  },
  {
   "cell_type": "code",
   "execution_count": null,
   "id": "5e3e9d99-22e0-4392-9beb-1f7a7139aee5",
   "metadata": {},
   "outputs": [],
   "source": []
  }
 ],
 "metadata": {
  "kernelspec": {
   "display_name": "kk",
   "language": "python",
   "name": "kk"
  },
  "language_info": {
   "codemirror_mode": {
    "name": "ipython",
    "version": 3
   },
   "file_extension": ".py",
   "mimetype": "text/x-python",
   "name": "python",
   "nbconvert_exporter": "python",
   "pygments_lexer": "ipython3",
   "version": "3.10.13"
  }
 },
 "nbformat": 4,
 "nbformat_minor": 5
}
