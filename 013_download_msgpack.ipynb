{
 "cells": [
  {
   "cell_type": "code",
   "execution_count": 1,
   "id": "2724f27b-806f-421a-9723-c9d27bdfb491",
   "metadata": {
    "tags": []
   },
   "outputs": [],
   "source": [
    "import os\n",
    "\n",
    "import json\n",
    "\n",
    "from tqdm.auto import tqdm\n",
    "\n",
    "import time"
   ]
  },
  {
   "cell_type": "code",
   "execution_count": 2,
   "id": "ee3710e4-5b41-4027-9fe3-58b54d94d2f6",
   "metadata": {
    "tags": []
   },
   "outputs": [],
   "source": [
    "from minio import Minio\n",
    "import requests\n",
    "import msgpack\n",
    "import numpy as np"
   ]
  },
  {
   "cell_type": "code",
   "execution_count": 3,
   "id": "f4a3a885-8f5d-45a8-a416-02c9198d1be3",
   "metadata": {
    "tags": []
   },
   "outputs": [],
   "source": [
    "def connect_to_minio(minio_addr, access_key, secret_key):\n",
    "    # Initialize the MinIO client\n",
    "    client = Minio(minio_addr, access_key, secret_key, secure=False)\n",
    "\n",
    "    #Check server status\n",
    "    try:\n",
    "        response = requests.get(\"http://\" + minio_addr + \"/minio/health/live\", timeout=5)\n",
    "        if response.status_code == 200:\n",
    "            print(\"Connected to MinIO server.\")\n",
    "        else:\n",
    "            return None\n",
    "    except requests.RequestException as e:\n",
    "        return None\n",
    "    \n",
    "    return client"
   ]
  },
  {
   "cell_type": "code",
   "execution_count": 4,
   "id": "5006c10c-6f19-40a3-9b7a-d2eac02e10c1",
   "metadata": {
    "tags": []
   },
   "outputs": [],
   "source": [
    "MINIO_ADDRESS = \"123.176.98.90:9000\"\n",
    "access_key = \"GXvqLWtthELCaROPITOG\"\n",
    "secret_key = \"DmlKgey5u0DnMHP30Vg7rkLT0NNbNIGaM8IwPckD\""
   ]
  },
  {
   "cell_type": "code",
   "execution_count": 5,
   "id": "45e3011e-b999-4d0e-9a41-6e112b43afd2",
   "metadata": {
    "tags": []
   },
   "outputs": [
    {
     "name": "stdout",
     "output_type": "stream",
     "text": [
      "Connected to MinIO server.\n"
     ]
    }
   ],
   "source": [
    "client = connect_to_minio(MINIO_ADDRESS, access_key, secret_key)"
   ]
  },
  {
   "cell_type": "code",
   "execution_count": 6,
   "id": "c744c2df-88d4-4875-bd0d-eb8d46a53ebe",
   "metadata": {
    "tags": []
   },
   "outputs": [],
   "source": [
    "bucket_name = 'datasets'"
   ]
  },
  {
   "cell_type": "code",
   "execution_count": 7,
   "id": "bea01f41-fe89-45f5-b442-2e029b5fed0e",
   "metadata": {
    "tags": []
   },
   "outputs": [],
   "source": [
    "ROOT = '../kcg-ml-image-pipeline/output/dataset/'\n",
    "dataset_name = 'environmental'"
   ]
  },
  {
   "cell_type": "code",
   "execution_count": 13,
   "id": "a18e7c69-388e-44a9-b35e-08a43a47087e",
   "metadata": {
    "tags": []
   },
   "outputs": [],
   "source": [
    "objects = client.list_objects(bucket_name, dataset_name, recursive=True)"
   ]
  },
  {
   "cell_type": "code",
   "execution_count": null,
   "id": "2b991575-8840-4177-9025-dd976a42e6a9",
   "metadata": {
    "tags": []
   },
   "outputs": [
    {
     "data": {
      "application/vnd.jupyter.widget-view+json": {
       "model_id": "2134b8e91c694a5987f6d36f90009444",
       "version_major": 2,
       "version_minor": 0
      },
      "text/plain": [
       "0it [00:00, ?it/s]"
      ]
     },
     "metadata": {},
     "output_type": "display_data"
    }
   ],
   "source": [
    "objects = list(tqdm(objects))"
   ]
  },
  {
   "cell_type": "code",
   "execution_count": 15,
   "id": "d09eb77b-1cfa-4cc1-8c02-51f413cc0d24",
   "metadata": {
    "tags": []
   },
   "outputs": [
    {
     "data": {
      "application/vnd.jupyter.widget-view+json": {
       "model_id": "7413a16187d34579b2ae032d6c76262e",
       "version_major": 2,
       "version_minor": 0
      },
      "text/plain": [
       "  0%|          | 0/1354758 [00:00<?, ?it/s]"
      ]
     },
     "metadata": {},
     "output_type": "display_data"
    }
   ],
   "source": [
    "for obj in tqdm(objects):\n",
    "    \n",
    "    object_name = obj.object_name\n",
    "    \n",
    "    # if not object_name.lower().endswith((\".jpg\", \".png\", \".jpeg\")):\n",
    "    #     continue\n",
    "    # out_path = os.path.join(ROOT, 'image', object_name)\n",
    "    \n",
    "    if not object_name.lower().endswith('_clip.msgpack'):\n",
    "        continue\n",
    "    out_path = os.path.join(ROOT, 'clip', object_name)\n",
    "    \n",
    "    if os.path.exists(out_path):\n",
    "        continue\n",
    "        \n",
    "    try:\n",
    "        client.fget_object(bucket_name, object_name, out_path)\n",
    "    except KeyboardInterrupt:\n",
    "        break\n",
    "    except:\n",
    "        continue"
   ]
  },
  {
   "cell_type": "code",
   "execution_count": 20,
   "id": "82d81121-2cf4-445e-b8fc-6ec0e64cb3b9",
   "metadata": {
    "tags": []
   },
   "outputs": [],
   "source": [
    "image_paths = list()\n",
    "\n",
    "# for dname in os.listdir(os.path.join(ROOT, 'image', dataset_name)):\n",
    "#     for fname in os.listdir(os.path.join(ROOT, 'image', dataset_name, dname)):\n",
    "#         if not fname.endswith('.jpg'):\n",
    "#             continue\n",
    "#         image_paths.append(os.path.join(dataset_name, dname, fname))\n",
    "\n",
    "for dname in os.listdir(os.path.join(ROOT, 'clip', dataset_name)):\n",
    "    for fname in os.listdir(os.path.join(ROOT, 'clip', dataset_name, dname)):\n",
    "        if not fname.endswith('_clip.msgpack'):\n",
    "            continue\n",
    "        image_paths.append(os.path.join(dataset_name, dname, fname))"
   ]
  },
  {
   "cell_type": "code",
   "execution_count": 21,
   "id": "c1b1ae8d-ad46-47c5-b0fa-309e841b15ca",
   "metadata": {
    "tags": []
   },
   "outputs": [
    {
     "data": {
      "application/vnd.jupyter.widget-view+json": {
       "model_id": "8299bcf1a2a44a06b58aa6c70010a2cc",
       "version_major": 2,
       "version_minor": 0
      },
      "text/plain": [
       "  0%|          | 0/75898 [00:00<?, ?it/s]"
      ]
     },
     "metadata": {},
     "output_type": "display_data"
    }
   ],
   "source": [
    "for path in tqdm(image_paths):\n",
    "    \n",
    "    object_name = path.replace('_clip.msgpack', '_data.msgpack')\n",
    "    # object_name = path.replace('.jpg', '_data.msgpack')\n",
    "    out_path = os.path.join(ROOT, 'data', object_name)\n",
    "    \n",
    "#     object_name = path.replace('.jpg', '_clip.msgpack')\n",
    "#     out_path = os.path.join(ROOT, 'clip', object_name)\n",
    "    \n",
    "    if os.path.exists(out_path):\n",
    "        continue\n",
    "    \n",
    "    try:\n",
    "        client.fget_object(bucket_name, object_name, out_path)\n",
    "    except KeyboardInterrupt:\n",
    "        break\n",
    "    except:\n",
    "        continue\n",
    "    "
   ]
  },
  {
   "cell_type": "code",
   "execution_count": 20,
   "id": "fb48d9ad-4283-4230-aa6b-eb72740e2052",
   "metadata": {},
   "outputs": [],
   "source": []
  },
  {
   "cell_type": "code",
   "execution_count": 20,
   "id": "98344f36-3e96-4217-88b3-7f9348fb5328",
   "metadata": {
    "tags": []
   },
   "outputs": [],
   "source": [
    "msp_paths = list()\n",
    "vectors = list()\n",
    "\n",
    "for dname in os.listdir(os.path.join(ROOT, 'clip', dataset_name)):\n",
    "    for fname in os.listdir(os.path.join(ROOT, 'clip', dataset_name, dname)):\n",
    "        \n",
    "        msp_path = os.path.join(dataset_name, dname, fname)\n",
    "\n",
    "        with open(os.path.join(ROOT, 'clip', msp_path), 'rb') as f:\n",
    "            data = f.read()\n",
    "        decoded_data = msgpack.unpackb(data)\n",
    "        \n",
    "        msp_paths.append(msp_path)\n",
    "        vectors.append(np.array(decoded_data['clip-feature-vector']))"
   ]
  },
  {
   "cell_type": "code",
   "execution_count": 21,
   "id": "3b9139af-3f2f-42cf-941a-3d891b2d43e2",
   "metadata": {
    "tags": []
   },
   "outputs": [],
   "source": [
    "EMB_PATH = 'data/environmental/clip_vision_emb.npz'"
   ]
  },
  {
   "cell_type": "code",
   "execution_count": 22,
   "id": "37013b58-5277-47d6-96e5-d104d1d08775",
   "metadata": {
    "tags": []
   },
   "outputs": [],
   "source": [
    "np.savez(\n",
    "    EMB_PATH,\n",
    "    file_paths=np.array(msp_paths),\n",
    "    image_embeds=np.concatenate(vectors, axis=0)\n",
    ")"
   ]
  },
  {
   "cell_type": "markdown",
   "id": "45445d45-2556-4216-b9da-da6b169e6a84",
   "metadata": {},
   "source": [
    "# from rank"
   ]
  },
  {
   "cell_type": "code",
   "execution_count": 9,
   "id": "9e880279-58a0-4cd4-8fae-37488c6ca594",
   "metadata": {
    "tags": []
   },
   "outputs": [],
   "source": [
    "RANK_DIR = '../kcg-ml-image-pipeline/output/environmental/ranking_v1/ranking_data/'"
   ]
  },
  {
   "cell_type": "code",
   "execution_count": 10,
   "id": "6bb2d8ad-cd42-4483-b8af-cdbd185fc9e4",
   "metadata": {
    "tags": []
   },
   "outputs": [
    {
     "data": {
      "application/vnd.jupyter.widget-view+json": {
       "model_id": "",
       "version_major": 2,
       "version_minor": 0
      },
      "text/plain": [
       "  0%|          | 0/60764 [00:00<?, ?it/s]"
      ]
     },
     "metadata": {},
     "output_type": "display_data"
    }
   ],
   "source": [
    "file_paths = set()\n",
    "\n",
    "for fname in tqdm(os.listdir(RANK_DIR), leave=False):\n",
    "    \n",
    "    info = json.load(open(os.path.join(RANK_DIR, fname)))\n",
    "    \n",
    "    image_path_1 = info['image_1_metadata']['file_path']\n",
    "    \n",
    "    file_paths.add(image_path_1)\n",
    "    \n",
    "    image_path_2 = info['image_2_metadata']['file_path']\n",
    "        \n",
    "    file_paths.add(image_path_2)"
   ]
  },
  {
   "cell_type": "code",
   "execution_count": 12,
   "id": "b0637410-6323-4aa0-8356-2b5585aa2439",
   "metadata": {
    "tags": []
   },
   "outputs": [
    {
     "data": {
      "application/vnd.jupyter.widget-view+json": {
       "model_id": "990e464126314daaa942281af626f09b",
       "version_major": 2,
       "version_minor": 0
      },
      "text/plain": [
       "  0%|          | 0/39752 [00:00<?, ?it/s]"
      ]
     },
     "metadata": {},
     "output_type": "display_data"
    }
   ],
   "source": [
    "for file_name in tqdm(file_paths):\n",
    "        \n",
    "#     output_path = file_name.replace('.jpg', '_clip.msgpack').replace(f'datasets/{dataset_name}/', os.path.join(ROOT, f'clip/{dataset_name}/'))\n",
    "#     file_name = file_name.replace('.jpg', '_clip.msgpack').replace('datasets/', '')\n",
    "        \n",
    "#     output_path = file_name.replace('.jpg', '_data.msgpack').replace(f'datasets/{dataset_name}/', os.path.join(ROOT, f'data/{dataset_name}/'))\n",
    "#     file_name = file_name.replace('.jpg', '_data.msgpack').replace('datasets/', '')\n",
    "        \n",
    "    output_path = file_name.replace(f'datasets/{dataset_name}/', os.path.join(ROOT, f'image/{dataset_name}/'))\n",
    "    file_name = file_name.replace('datasets/', '')\n",
    "    \n",
    "    if os.path.exists(output_path):\n",
    "        continue\n",
    "    \n",
    "    try:\n",
    "        client.fget_object(bucket_name, file_name, output_path)\n",
    "    except KeyboardInterrupt:\n",
    "        break\n",
    "    except:\n",
    "        continue\n",
    "    "
   ]
  },
  {
   "cell_type": "code",
   "execution_count": null,
   "id": "3e4818d1-4b81-45bd-ac40-6e0f49531812",
   "metadata": {},
   "outputs": [],
   "source": []
  }
 ],
 "metadata": {
  "kernelspec": {
   "display_name": "kk",
   "language": "python",
   "name": "kk"
  },
  "language_info": {
   "codemirror_mode": {
    "name": "ipython",
    "version": 3
   },
   "file_extension": ".py",
   "mimetype": "text/x-python",
   "name": "python",
   "nbconvert_exporter": "python",
   "pygments_lexer": "ipython3",
   "version": "3.10.13"
  }
 },
 "nbformat": 4,
 "nbformat_minor": 5
}
