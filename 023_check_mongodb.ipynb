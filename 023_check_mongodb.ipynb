{
 "cells": [
  {
   "cell_type": "code",
   "execution_count": 1,
   "id": "091d2c6d-30c9-4548-971d-e16dd675b839",
   "metadata": {
    "tags": []
   },
   "outputs": [],
   "source": [
    "import os\n",
    "import re\n",
    "import sys\n",
    "\n",
    "import pandas as pd\n",
    "import numpy as np\n",
    "\n",
    "import requests\n",
    "import json\n",
    "import time\n",
    "from PIL import Image\n",
    "from matplotlib import pyplot\n",
    "from tqdm.auto import tqdm"
   ]
  },
  {
   "cell_type": "code",
   "execution_count": 2,
   "id": "3b47c334-d1ad-4cc8-bd2b-822ef0a24866",
   "metadata": {
    "tags": []
   },
   "outputs": [],
   "source": [
    "SAVE_DIR = './data/'\n",
    "\n",
    "DATASET = 'environmental'"
   ]
  },
  {
   "cell_type": "code",
   "execution_count": 3,
   "id": "e422af20-c82a-4806-8629-2d2e723f2d03",
   "metadata": {
    "tags": []
   },
   "outputs": [],
   "source": [
    "os.makedirs(os.path.join(SAVE_DIR, 'models/rank-embedding/list-models'), exist_ok=True)\n",
    "os.makedirs(os.path.join(SAVE_DIR, 'get-image-rank-sigma-scores-by-model-id'), exist_ok=True)"
   ]
  },
  {
   "cell_type": "markdown",
   "id": "c298f01f-e24e-4e25-ac0d-56388763a847",
   "metadata": {},
   "source": [
    "# get models"
   ]
  },
  {
   "cell_type": "code",
   "execution_count": 4,
   "id": "ce490606-d312-4f89-b88a-5f7cc46f610a",
   "metadata": {
    "tags": []
   },
   "outputs": [],
   "source": [
    "url = 'http://123.176.98.90:8764/models/rank-embedding/list-models'"
   ]
  },
  {
   "cell_type": "code",
   "execution_count": 5,
   "id": "0286dee5-735f-4fc7-8ee2-38911568b871",
   "metadata": {
    "tags": []
   },
   "outputs": [],
   "source": [
    "data = requests.get(f'{url}?dataset={DATASET}')"
   ]
  },
  {
   "cell_type": "code",
   "execution_count": 6,
   "id": "d34228d8-dad0-45aa-9f8b-564e42fb2e6d",
   "metadata": {
    "tags": []
   },
   "outputs": [],
   "source": [
    "model_list = eval(data.content)"
   ]
  },
  {
   "cell_type": "code",
   "execution_count": 7,
   "id": "54b506d5-a901-4fea-8881-52b25b4584cc",
   "metadata": {
    "tags": []
   },
   "outputs": [],
   "source": [
    "model_list = pd.DataFrame(model_list)\n",
    "model_list.set_index('model_file_hash', inplace=True)\n",
    "\n",
    "model_list.to_csv(os.path.join(SAVE_DIR, 'models/rank-embedding/list-models', f'{DATASET}.csv'))"
   ]
  },
  {
   "cell_type": "code",
   "execution_count": 8,
   "id": "e7b1d01a-80b6-48ea-9430-1822193c87bf",
   "metadata": {
    "tags": []
   },
   "outputs": [
    {
     "data": {
      "text/plain": [
       "(array(['xgboost-rank-pairwise', 'image-pair-ranking-linear',\n",
       "        'image-pair-ranking-elm-v1'], dtype=object),\n",
       " array(['embedding-positive', 'embedding-negative', 'embedding', 'clip'],\n",
       "       dtype=object))"
      ]
     },
     "execution_count": 8,
     "metadata": {},
     "output_type": "execute_result"
    }
   ],
   "source": [
    "model_list['model_type'].unique(), model_list['input_type'].unique()"
   ]
  },
  {
   "cell_type": "code",
   "execution_count": 9,
   "id": "c50f47dd-3407-4705-bab5-c6185d9587ba",
   "metadata": {
    "tags": []
   },
   "outputs": [],
   "source": [
    "# model_file_hashs = model_list.query('model_type == \"image-pair-ranking-elm-v1\" and input_type == \"clip\"').index\n",
    "model_file_hashs = model_list.query('model_type == \"image-pair-ranking-linear\" and input_type == \"clip\"').index"
   ]
  },
  {
   "cell_type": "markdown",
   "id": "9c447029-70a7-4898-bf96-42185479b627",
   "metadata": {},
   "source": [
    "# get model ids"
   ]
  },
  {
   "cell_type": "code",
   "execution_count": 10,
   "id": "b3f54606-bdd3-4194-afca-880c247d9365",
   "metadata": {
    "tags": []
   },
   "outputs": [],
   "source": [
    "url = 'http://123.176.98.90:8764/models/get-id'"
   ]
  },
  {
   "cell_type": "code",
   "execution_count": 11,
   "id": "0b35bcac-4f9f-45d2-856f-e696405dfd24",
   "metadata": {
    "tags": []
   },
   "outputs": [
    {
     "data": {
      "application/vnd.jupyter.widget-view+json": {
       "model_id": "",
       "version_major": 2,
       "version_minor": 0
      },
      "text/plain": [
       "  0%|          | 0/29 [00:00<?, ?it/s]"
      ]
     },
     "metadata": {},
     "output_type": "display_data"
    }
   ],
   "source": [
    "model_ids = dict()\n",
    "\n",
    "for model_hash in tqdm(model_file_hashs, leave=False):\n",
    "    \n",
    "    data = requests.get(f'{url}?model_hash={model_hash}')\n",
    "    \n",
    "    result = eval(data.content)\n",
    "    \n",
    "    if type(result) != int:\n",
    "        continue\n",
    "    \n",
    "    model_ids[result] = model_hash"
   ]
  },
  {
   "cell_type": "markdown",
   "id": "11a130d3-43c2-423c-b2a0-be4a566506bd",
   "metadata": {},
   "source": [
    "# get sigma-scores"
   ]
  },
  {
   "cell_type": "code",
   "execution_count": 12,
   "id": "21501c4d-1ede-4665-a16c-c8e6e98263d2",
   "metadata": {
    "tags": []
   },
   "outputs": [],
   "source": [
    "url = 'http://123.176.98.90:8764/sigma-score/get-image-rank-sigma-scores-by-model-id'"
   ]
  },
  {
   "cell_type": "code",
   "execution_count": 13,
   "id": "2fced51f-507a-42ef-a19e-2e2146553160",
   "metadata": {
    "tags": []
   },
   "outputs": [
    {
     "data": {
      "application/vnd.jupyter.widget-view+json": {
       "model_id": "",
       "version_major": 2,
       "version_minor": 0
      },
      "text/plain": [
       "  0%|          | 0/26 [00:00<?, ?it/s]"
      ]
     },
     "metadata": {},
     "output_type": "display_data"
    }
   ],
   "source": [
    "for model_id in tqdm(model_ids.keys(), leave=False):\n",
    "    \n",
    "    output_path = os.path.join(SAVE_DIR, 'get-image-rank-sigma-scores-by-model-id', f'{model_id}.json')\n",
    "    \n",
    "    if os.path.exists(output_path):\n",
    "        continue\n",
    "    \n",
    "    data = requests.get(f'{url}?model_id={model_id}')\n",
    "    \n",
    "    result = eval(data.content)\n",
    "    \n",
    "    json.dump(result, open(output_path, 'wt'))"
   ]
  },
  {
   "cell_type": "markdown",
   "id": "3a32137e-174b-4023-b663-2edff135f8b9",
   "metadata": {},
   "source": [
    "# get dataset"
   ]
  },
  {
   "cell_type": "code",
   "execution_count": 14,
   "id": "41d5b2ee-3dc7-49d0-bf02-04987f8029ba",
   "metadata": {
    "tags": []
   },
   "outputs": [
    {
     "data": {
      "application/vnd.jupyter.widget-view+json": {
       "model_id": "",
       "version_major": 2,
       "version_minor": 0
      },
      "text/plain": [
       "  0%|          | 0/26 [00:00<?, ?it/s]"
      ]
     },
     "metadata": {},
     "output_type": "display_data"
    }
   ],
   "source": [
    "results = list()\n",
    "\n",
    "for model_id in tqdm(model_ids, leave=False):\n",
    "    \n",
    "    output_path = os.path.join(SAVE_DIR, 'get-image-rank-sigma-scores-by-model-id', f'{model_id}.json')\n",
    "    \n",
    "    result = json.load(open(output_path))\n",
    "    \n",
    "    if len(result) == 0:\n",
    "        continue\n",
    "    \n",
    "    result = pd.DataFrame(result)\n",
    "    result.drop_duplicates('image_hash', keep='first', inplace=True)\n",
    "    result.set_index('image_hash', inplace=True)\n",
    "    \n",
    "    result = result[['sigma_score']]\n",
    "    result.columns = [model_id]\n",
    "    \n",
    "    results.append(result)"
   ]
  },
  {
   "cell_type": "code",
   "execution_count": 15,
   "id": "9476b88c-17ed-4203-8f5b-126ceb4ed8b5",
   "metadata": {
    "tags": []
   },
   "outputs": [],
   "source": [
    "results = pd.concat(results, axis=1, join='inner')\n",
    "selected_ids = results.columns"
   ]
  },
  {
   "cell_type": "code",
   "execution_count": 16,
   "id": "6a13b4a3-eb6a-4baa-b99e-845d52cc056b",
   "metadata": {
    "tags": []
   },
   "outputs": [],
   "source": [
    "values = results[selected_ids].values.copy()"
   ]
  },
  {
   "cell_type": "code",
   "execution_count": 17,
   "id": "2845a76b-8708-4c28-9d03-aa96c293c78a",
   "metadata": {
    "tags": []
   },
   "outputs": [],
   "source": [
    "values = (values - values.mean(axis=0, keepdims=True)) / values.std(axis=0, keepdims=True)"
   ]
  },
  {
   "cell_type": "code",
   "execution_count": 32,
   "id": "5179b2fc-1cb7-49d5-bb4e-0ba5e975fd19",
   "metadata": {
    "tags": []
   },
   "outputs": [],
   "source": [
    "results['sigma_score_mean'] = values.mean(axis=-1)\n",
    "results['sigma_score_std'] = values.std(axis=-1)"
   ]
  },
  {
   "cell_type": "code",
   "execution_count": 19,
   "id": "cd8bf643-51df-4575-b9ed-2dfed75d26b7",
   "metadata": {
    "tags": []
   },
   "outputs": [],
   "source": [
    "selected_hashs = list(map(model_ids.get, selected_ids))"
   ]
  },
  {
   "cell_type": "code",
   "execution_count": 21,
   "id": "d0aa104b-7e30-48d4-a53b-3c46a1bca7cb",
   "metadata": {
    "tags": []
   },
   "outputs": [
    {
     "data": {
      "image/png": "[encoded data removed]",
      "text/plain": [
       "<Figure size 640x480 with 1 Axes>"
      ]
     },
     "metadata": {},
     "output_type": "display_data"
    }
   ],
   "source": [
    "_ = pyplot.hist(values, bins=100)\n",
    "\n",
    "# pyplot.plot(results['mean'], results['std'], '.', alpha=0.1)\n",
    "# pyplot.title('image score and uncertainty')\n",
    "# pyplot.xlabel('mean of sigma-scores')\n",
    "# pyplot.ylabel('std of sigma-scores')"
   ]
  },
  {
   "cell_type": "code",
   "execution_count": null,
   "id": "6d502b56-3778-4819-900b-68b5ab0b8a12",
   "metadata": {},
   "outputs": [],
   "source": []
  },
  {
   "cell_type": "code",
   "execution_count": 22,
   "id": "e18fc9b0-1caa-4d65-955f-fdc78dca8aa9",
   "metadata": {},
   "outputs": [],
   "source": [
    "def get_bins(min_value: float, max_value: float, n_bins: int, add_inf=False):\n",
    "    \n",
    "    bins = np.linspace(min_value, max_value, n_bins)\n",
    "    \n",
    "    if add_inf:\n",
    "        bins = np.array([-np.inf] + list(bins) + [np.inf])\n",
    "    \n",
    "    return bins\n",
    "\n",
    "def sigma_score_to_category(sigma_scores: np.ndarray, bins: np.ndarray):\n",
    "    \n",
    "    return np.digitize(sigma_scores, bins)\n",
    "\n",
    "def get_entropy(categories: np.ndarray):\n",
    "    \n",
    "    n_bins = int(categories.max()) + 1\n",
    "    \n",
    "    one_hot = np.eye(n_bins)[categories].sum(axis=-2)\n",
    "    \n",
    "    probabilities = one_hot / one_hot.sum(axis=-1, keepdims=True)\n",
    "    \n",
    "    entropy = - (probabilities * np.log2(probabilities + 1e-7)).sum(axis=-1)\n",
    "    \n",
    "    return entropy"
   ]
  },
  {
   "cell_type": "code",
   "execution_count": 23,
   "id": "ca5b72b9-6fe7-4ddf-a870-ce2da2e19af0",
   "metadata": {
    "tags": []
   },
   "outputs": [],
   "source": [
    "bins = get_bins(-2, 1.5, 15, True)\n",
    "category = sigma_score_to_category(values, bins)\n",
    "entropy = get_entropy(category)"
   ]
  },
  {
   "cell_type": "code",
   "execution_count": 24,
   "id": "b72bcf0c-be48-493d-9703-2fbc0d0ff67d",
   "metadata": {
    "tags": []
   },
   "outputs": [
    {
     "data": {
      "text/plain": [
       "Text(0.5, 1.0, 'relation between entropy and sigma_score_std')"
      ]
     },
     "execution_count": 24,
     "metadata": {},
     "output_type": "execute_result"
    },
    {
     "data": {
      "image/png": "[encoded data removed]",
      "text/plain": [
       "<Figure size 1800x400 with 3 Axes>"
      ]
     },
     "metadata": {},
     "output_type": "display_data"
    }
   ],
   "source": [
    "pyplot.figure(figsize=(18, 4))\n",
    "\n",
    "pyplot.subplot(1, 3, 1)\n",
    "\n",
    "pyplot.hist(entropy, bins=20)\n",
    "pyplot.xlabel('entropy')\n",
    "pyplot.title('histogram of entropy')\n",
    "\n",
    "pyplot.subplot(1, 3, 2)\n",
    "\n",
    "pyplot.plot(entropy, results['sigma_score_mean'], '.', alpha=0.1)\n",
    "pyplot.xlabel('entropy')\n",
    "pyplot.ylabel('sigma_score_mean')\n",
    "pyplot.title('relation between entropy and sigma_score_mean')\n",
    "\n",
    "pyplot.subplot(1, 3, 3)\n",
    "\n",
    "pyplot.plot(entropy, results['sigma_score_std'], '.', alpha=0.1)\n",
    "pyplot.xlabel('entropy')\n",
    "pyplot.ylabel('sigma_score_std')\n",
    "pyplot.title('relation between entropy and sigma_score_std')"
   ]
  },
  {
   "cell_type": "code",
   "execution_count": null,
   "id": "f708d761-21c6-416e-8b1f-00df0dcb75cd",
   "metadata": {},
   "outputs": [],
   "source": []
  },
  {
   "cell_type": "markdown",
   "id": "18a6ca6f-4814-4145-ae98-187e91cf147d",
   "metadata": {},
   "source": [
    "# save ensemble results"
   ]
  },
  {
   "cell_type": "code",
   "execution_count": 29,
   "id": "ccde8a1a-2d5d-4dda-a6cc-e574869de3f2",
   "metadata": {
    "tags": []
   },
   "outputs": [],
   "source": [
    "PMT_PATH = './data/environmental/prompt.json'"
   ]
  },
  {
   "cell_type": "code",
   "execution_count": 30,
   "id": "06dd1955-094e-4b45-9edc-8c0c7008574c",
   "metadata": {
    "tags": []
   },
   "outputs": [],
   "source": [
    "prompts = json.load(open(PMT_PATH))"
   ]
  },
  {
   "cell_type": "code",
   "execution_count": 31,
   "id": "1b297346-40ab-4ed4-a89a-77311e76cf6b",
   "metadata": {
    "tags": []
   },
   "outputs": [],
   "source": [
    "hash_to_path = {i:j['file_path'].split('_')[0] for i, j in prompts.items()}\n",
    "hash_to_uuid = {i: j['job_uuid'] for i, j in prompts.items()}"
   ]
  },
  {
   "cell_type": "code",
   "execution_count": 37,
   "id": "3ef3f0dd-a5c7-4328-976f-8986fcb4e71f",
   "metadata": {
    "tags": []
   },
   "outputs": [],
   "source": [
    "results['entropy'] = entropy\n",
    "results['job_uuid'] = list(map(hash_to_uuid.get, results.index))\n",
    "results['file_path'] = list(map(hash_to_path.get, results.index))"
   ]
  },
  {
   "cell_type": "code",
   "execution_count": 39,
   "id": "c857c354-52ba-4233-a596-6d55763a2f89",
   "metadata": {
    "tags": []
   },
   "outputs": [],
   "source": [
    "results.dropna(inplace=True)"
   ]
  },
  {
   "cell_type": "code",
   "execution_count": 46,
   "id": "79d5c30c-6f60-4a5b-9122-f616492eef6e",
   "metadata": {
    "tags": []
   },
   "outputs": [],
   "source": [
    "results[['job_uuid', 'file_path', 'sigma_score_mean', 'sigma_score_std', 'entropy']].query('sigma_score_mean > 1. and sigma_score_std > 0.2 and entropy > 1e-3').to_csv('2023-11-24-han-6-clip-ensemble-high-entropy.csv')"
   ]
  },
  {
   "cell_type": "code",
   "execution_count": null,
   "id": "f5557d53-8fac-48d3-9529-2dedb71bc6c4",
   "metadata": {},
   "outputs": [],
   "source": []
  },
  {
   "cell_type": "code",
   "execution_count": 29,
   "id": "ee3710e4-5b41-4027-9fe3-58b54d94d2f6",
   "metadata": {
    "tags": []
   },
   "outputs": [],
   "source": [
    "from minio import Minio\n",
    "import requests\n",
    "import msgpack"
   ]
  },
  {
   "cell_type": "code",
   "execution_count": 30,
   "id": "f4a3a885-8f5d-45a8-a416-02c9198d1be3",
   "metadata": {
    "tags": []
   },
   "outputs": [],
   "source": [
    "def connect_to_minio(minio_addr, access_key, secret_key):\n",
    "    # Initialize the MinIO client\n",
    "    client = Minio(minio_addr, access_key, secret_key, secure=False)\n",
    "\n",
    "    #Check server status\n",
    "    try:\n",
    "        response = requests.get(\"http://\" + minio_addr + \"/minio/health/live\", timeout=5)\n",
    "        if response.status_code == 200:\n",
    "            print(\"Connected to MinIO server.\")\n",
    "        else:\n",
    "            return None\n",
    "    except requests.RequestException as e:\n",
    "        return None\n",
    "    \n",
    "    return client"
   ]
  },
  {
   "cell_type": "code",
   "execution_count": 31,
   "id": "5006c10c-6f19-40a3-9b7a-d2eac02e10c1",
   "metadata": {
    "tags": []
   },
   "outputs": [],
   "source": [
    "MINIO_ADDRESS = \"123.176.98.90:9000\"\n",
    "access_key = \"GXvqLWtthELCaROPITOG\"\n",
    "secret_key = \"DmlKgey5u0DnMHP30Vg7rkLT0NNbNIGaM8IwPckD\""
   ]
  },
  {
   "cell_type": "code",
   "execution_count": 32,
   "id": "45e3011e-b999-4d0e-9a41-6e112b43afd2",
   "metadata": {
    "tags": []
   },
   "outputs": [
    {
     "name": "stdout",
     "output_type": "stream",
     "text": [
      "Connected to MinIO server.\n"
     ]
    }
   ],
   "source": [
    "client = connect_to_minio(MINIO_ADDRESS, access_key, secret_key)"
   ]
  },
  {
   "cell_type": "code",
   "execution_count": 33,
   "id": "c8b72992-0a22-4357-a1ac-796623a1be6b",
   "metadata": {
    "tags": []
   },
   "outputs": [],
   "source": [
    "sys.path.append(os.path.abspath('../kcg-ml-image-pipeline/'))\n",
    "from training_worker.ab_ranking.model.ab_ranking_elm_v1 import ABRankingELMBaseModel"
   ]
  },
  {
   "cell_type": "code",
   "execution_count": 35,
   "id": "02258dc0-4634-4313-9313-dddf655faa33",
   "metadata": {
    "tags": []
   },
   "outputs": [
    {
     "data": {
      "text/plain": [
       "ABRankingELMBaseModel(\n",
       "  (l1_loss): L1Loss()\n",
       "  (linear_last_layer): Linear(in_features=768, out_features=1, bias=True)\n",
       ")"
      ]
     },
     "execution_count": 35,
     "metadata": {},
     "output_type": "execute_result"
    }
   ],
   "source": [
    "ABRankingELMBaseModel(inputs_shape=768)"
   ]
  },
  {
   "cell_type": "code",
   "execution_count": 67,
   "id": "4cf29ff3-0de0-40ca-9b25-db68827c1411",
   "metadata": {
    "tags": []
   },
   "outputs": [
    {
     "data": {
      "text/plain": [
       "'environmental/models/ranking/2023-11-22-00-score-elm-v1-clip.pth'"
      ]
     },
     "execution_count": 67,
     "metadata": {},
     "output_type": "execute_result"
    }
   ],
   "source": [
    "model_weight = model_list.loc[selected_hashs, 'model_path'].values[0]\n",
    "model_weight"
   ]
  },
  {
   "cell_type": "code",
   "execution_count": 68,
   "id": "289cb4cb-c77a-476f-b232-8a8445f47561",
   "metadata": {
    "tags": []
   },
   "outputs": [
    {
     "data": {
      "text/plain": [
       "<minio.datatypes.Object at 0x7f90940a1f90>"
      ]
     },
     "execution_count": 68,
     "metadata": {},
     "output_type": "execute_result"
    }
   ],
   "source": [
    "bucket_name = 'datasets'\n",
    "client.fget_object(bucket_name, model_weight, os.path.join('data', model_weight))"
   ]
  },
  {
   "cell_type": "code",
   "execution_count": 71,
   "id": "78e03dfe-4dfa-42ec-8772-cb92dd1352f9",
   "metadata": {},
   "outputs": [],
   "source": [
    "model_dict = torch.load(os.path.join('data', model_weight))['model_dict']"
   ]
  },
  {
   "cell_type": "code",
   "execution_count": 72,
   "id": "55267916-a9fe-4586-b4f0-51053131a8c1",
   "metadata": {
    "tags": []
   },
   "outputs": [
    {
     "data": {
      "text/plain": [
       "{'linear_last_layer.weight': torch.Size([1, 768]),\n",
       " 'linear_last_layer.bias': torch.Size([1])}"
      ]
     },
     "execution_count": 72,
     "metadata": {},
     "output_type": "execute_result"
    }
   ],
   "source": [
    "{k: v.shape for k, v in model_dict.items()}"
   ]
  },
  {
   "cell_type": "code",
   "execution_count": null,
   "id": "9b0d412c-0c5d-4ef4-ad1f-c0f4ebec8162",
   "metadata": {},
   "outputs": [],
   "source": []
  }
 ],
 "metadata": {
  "kernelspec": {
   "display_name": "kk",
   "language": "python",
   "name": "kk"
  },
  "language_info": {
   "codemirror_mode": {
    "name": "ipython",
    "version": 3
   },
   "file_extension": ".py",
   "mimetype": "text/x-python",
   "name": "python",
   "nbconvert_exporter": "python",
   "pygments_lexer": "ipython3",
   "version": "3.10.13"
  }
 },
 "nbformat": 4,
 "nbformat_minor": 5
}
