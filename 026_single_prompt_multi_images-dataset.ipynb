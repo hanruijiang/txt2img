{
 "cells": [
  {
   "cell_type": "code",
   "execution_count": 1,
   "id": "2eab120c-1b0a-4dfb-ba8b-0312cfe03c65",
   "metadata": {
    "tags": []
   },
   "outputs": [],
   "source": [
    "import os\n",
    "\n",
    "import zipfile\n",
    "\n",
    "import numpy as np\n",
    "\n",
    "import json\n",
    "\n",
    "import msgpack\n",
    "\n",
    "import pandas as pd\n",
    "\n",
    "from tqdm.auto import tqdm"
   ]
  },
  {
   "cell_type": "code",
   "execution_count": 2,
   "id": "da17484e-49b4-4159-89d1-a3f8f81508d1",
   "metadata": {
    "tags": []
   },
   "outputs": [],
   "source": [
    "ROOT_DIR = '../kcg-ml-image-pipeline/output/dataset/'\n",
    "\n",
    "DATASET = 'environmental'"
   ]
  },
  {
   "cell_type": "code",
   "execution_count": 3,
   "id": "74d78834-4040-4e0d-a011-fc2f7f65ab98",
   "metadata": {},
   "outputs": [],
   "source": [
    "OUTPUT_DIR = './data/spmi/civitai/'"
   ]
  },
  {
   "cell_type": "code",
   "execution_count": 4,
   "id": "199c714f-dbd5-4a20-b2eb-b0147984057b",
   "metadata": {
    "tags": []
   },
   "outputs": [],
   "source": [
    "os.makedirs(OUTPUT_DIR, exist_ok=True)"
   ]
  },
  {
   "cell_type": "markdown",
   "id": "a615c9a7-a15a-4b88-a51b-2e68a0172ad3",
   "metadata": {},
   "source": [
    "# load prompts"
   ]
  },
  {
   "cell_type": "code",
   "execution_count": 5,
   "id": "5fed93ee-a73b-45e4-969c-761e279b663e",
   "metadata": {
    "tags": []
   },
   "outputs": [],
   "source": [
    "positive_prompts = list()\n",
    "negative_prompts = list()\n",
    "image_hashs = list()"
   ]
  },
  {
   "cell_type": "markdown",
   "id": "6073b1bb-7b1f-45b8-ba14-80f7480ab122",
   "metadata": {},
   "source": [
    "## from file system"
   ]
  },
  {
   "cell_type": "code",
   "execution_count": 22,
   "id": "34db70f9-7cfe-4b5f-9cbc-7c7c1cb8fe8b",
   "metadata": {
    "tags": []
   },
   "outputs": [],
   "source": [
    "for dname in os.listdir(os.path.join(ROOT_DIR, 'image', DATASET)):\n",
    "    \n",
    "    for file_name in os.listdir(os.path.join(ROOT_DIR, 'image', DATASET, dname)):\n",
    "    \n",
    "        if not file_name.lower().endswith(('.jpg', '.png', '.jpeg', '.bmp')):\n",
    "            continue\n",
    "        \n",
    "        file_name = os.path.splitext(file_name)[0]\n",
    "\n",
    "        if not os.path.exists(os.path.join(ROOT_DIR, 'clip', DATASET, dname, f'{file_name}_clip.msgpack')):\n",
    "            continue\n",
    "\n",
    "        if not os.path.exists(os.path.join(ROOT_DIR, 'data', DATASET, dname, f'{file_name}_data.msgpack')):\n",
    "            continue\n",
    "        \n",
    "        meta = msgpack.load(open(os.path.join(ROOT_DIR, 'data', DATASET, dname, f'{file_name}_data.msgpack'), 'rb'))\n",
    "        \n",
    "        image_hashs.append(meta['file_hash'])\n",
    "        positive_prompts.append(meta['positive_prompt'])\n",
    "        negative_prompts.append(meta['negative_prompt'])"
   ]
  },
  {
   "cell_type": "markdown",
   "id": "1f367701-5b2f-4e5c-87bd-d8e87bb6f370",
   "metadata": {},
   "source": [
    "## from zip"
   ]
  },
  {
   "cell_type": "code",
   "execution_count": 6,
   "id": "6d3c923e-256d-4577-abbd-c42441171cee",
   "metadata": {
    "tags": []
   },
   "outputs": [],
   "source": [
    "ZIP_PATHs = [\n",
    "    # './generated/generated-1122.zip',\n",
    "    \n",
    "#     './generated/generated-1120.zip',\n",
    "#     './generated/generated-1123.zip',\n",
    "#     './generated/generated-1125.zip',\n",
    "    \n",
    "    './generated/generated-1126.zip',\n",
    "]"
   ]
  },
  {
   "cell_type": "code",
   "execution_count": 7,
   "id": "35fa78d1-72a2-4c3e-8f97-a64dc7d3b872",
   "metadata": {
    "tags": []
   },
   "outputs": [
    {
     "data": {
      "application/vnd.jupyter.widget-view+json": {
       "model_id": "",
       "version_major": 2,
       "version_minor": 0
      },
      "text/plain": [
       "  0%|          | 0/1 [00:00<?, ?it/s]"
      ]
     },
     "metadata": {},
     "output_type": "display_data"
    }
   ],
   "source": [
    "for zip_path in tqdm(ZIP_PATHs, leave=False):\n",
    "    \n",
    "    f = zipfile.ZipFile(zip_path)\n",
    "\n",
    "    file_paths = list()\n",
    "\n",
    "    files = set(f.namelist())\n",
    "\n",
    "    for file_path in f.namelist():\n",
    "\n",
    "        if file_path.startswith('generated/image/') and file_path.endswith('.jpg'):\n",
    "\n",
    "            embedding_path = file_path.replace('/image/', '/embedding/').replace('.jpg', '.npz')\n",
    "            clip_path = file_path.replace('/image/', '/clip/').replace('.jpg', '.npy')\n",
    "\n",
    "            if embedding_path not in files or clip_path not in files:\n",
    "                continue\n",
    "\n",
    "            file_paths.append(file_path)\n",
    "\n",
    "    hashs = np.array([os.path.splitext(os.path.split(i)[-1])[0] for i in file_paths])\n",
    "\n",
    "    for image_hash in hashs:\n",
    "\n",
    "        meta_path = os.path.join('generated', 'meta', f'{image_hash}.json')\n",
    "\n",
    "        meta = json.load(f.open(meta_path))\n",
    "\n",
    "        image_hashs.append(image_hash)\n",
    "        positive_prompts.append(meta['positive_prompt'])\n",
    "        negative_prompts.append(meta['negative_prompt'])"
   ]
  },
  {
   "cell_type": "markdown",
   "id": "83bd2f13-949b-4147-95c8-0710e9bb6aa3",
   "metadata": {},
   "source": [
    "# build table"
   ]
  },
  {
   "cell_type": "code",
   "execution_count": 8,
   "id": "e87c6a63-4b53-430d-8a05-093eddc75aa0",
   "metadata": {
    "tags": []
   },
   "outputs": [],
   "source": [
    "NUM_SAMPLES = 15"
   ]
  },
  {
   "cell_type": "code",
   "execution_count": 9,
   "id": "13686d41-2980-4199-a484-09a978b3fa2f",
   "metadata": {
    "tags": []
   },
   "outputs": [],
   "source": [
    "df = pd.DataFrame(zip(image_hashs, positive_prompts, negative_prompts), columns=['image_hash', 'positive_prompt', 'negative_prompt'])"
   ]
  },
  {
   "cell_type": "code",
   "execution_count": 10,
   "id": "d4d8c6f7-4668-4c4a-a8f8-50dd82085935",
   "metadata": {
    "tags": []
   },
   "outputs": [],
   "source": [
    "counts = df.groupby(['positive_prompt', 'negative_prompt']).count()"
   ]
  },
  {
   "cell_type": "code",
   "execution_count": 11,
   "id": "738531a5-8d09-4b5a-9c7d-a790576f3d26",
   "metadata": {
    "tags": []
   },
   "outputs": [
    {
     "data": {
      "text/plain": [
       "(array([15]), array([20000]))"
      ]
     },
     "execution_count": 11,
     "metadata": {},
     "output_type": "execute_result"
    }
   ],
   "source": [
    "np.unique(counts['image_hash'], return_counts=True)"
   ]
  },
  {
   "cell_type": "code",
   "execution_count": 12,
   "id": "ddf9b81c-ca04-4b92-8b82-5c176b081138",
   "metadata": {
    "tags": []
   },
   "outputs": [],
   "source": [
    "samples = list()\n",
    "\n",
    "for prompt, g in df.groupby(['positive_prompt', 'negative_prompt']):\n",
    "    \n",
    "    if g.shape[0] < NUM_SAMPLES:\n",
    "        continue\n",
    "        \n",
    "    samples.append(prompt + tuple(g['image_hash'])[:NUM_SAMPLES])\n",
    "    \n",
    "samples = pd.DataFrame(samples, columns=['positive_prompt', 'negative_prompt'] + list(map('image_hash_{}'.format, range(NUM_SAMPLES))))"
   ]
  },
  {
   "cell_type": "code",
   "execution_count": 13,
   "id": "c68d47d2-448e-42db-8f6b-72dcfff4db52",
   "metadata": {
    "tags": []
   },
   "outputs": [],
   "source": [
    "samples.to_csv(os.path.join(OUTPUT_DIR, 'samples.csv.gz'), index=False)"
   ]
  },
  {
   "cell_type": "markdown",
   "id": "dc1fcb44-f55e-4eda-99af-07e385dd7ff0",
   "metadata": {},
   "source": [
    "# build dataset"
   ]
  },
  {
   "cell_type": "code",
   "execution_count": 14,
   "id": "d5bda612-dd1d-444e-bd1a-7101b6334c94",
   "metadata": {
    "tags": []
   },
   "outputs": [],
   "source": [
    "hash_to_id = dict()\n",
    "for i, hashs in enumerate(samples[samples.columns[2:]].itertuples(index=False, name=None)):\n",
    "    for j, image_hash in enumerate(hashs):\n",
    "        hash_to_id[image_hash] = (i, j)"
   ]
  },
  {
   "cell_type": "code",
   "execution_count": 15,
   "id": "f3be51ce-2925-4ee5-b66c-dcbc0ce32969",
   "metadata": {
    "tags": []
   },
   "outputs": [],
   "source": [
    "clip_embs = np.zeros(samples[samples.columns[2:]].shape + (768,), dtype='float32')"
   ]
  },
  {
   "cell_type": "markdown",
   "id": "1348bd97-0f24-4331-b601-524bb3dd38ff",
   "metadata": {
    "tags": []
   },
   "source": [
    "## from file system"
   ]
  },
  {
   "cell_type": "code",
   "execution_count": 33,
   "id": "c32dd363-d218-44eb-85cf-16b211a80133",
   "metadata": {
    "tags": []
   },
   "outputs": [],
   "source": [
    "for dname in os.listdir(os.path.join(ROOT_DIR, 'data', DATASET)):\n",
    "    \n",
    "    for file_name in os.listdir(os.path.join(ROOT_DIR, 'data', DATASET, dname)):\n",
    "        \n",
    "        file_name = file_name.replace('_data.msgpack', '')\n",
    "        \n",
    "        meta = msgpack.load(open(os.path.join(ROOT_DIR, 'data', DATASET, dname, f'{file_name}_data.msgpack'), 'rb'))\n",
    "        image_hash = meta['file_hash']\n",
    "        \n",
    "        if image_hash not in hash_to_id:\n",
    "            continue\n",
    "        \n",
    "        meta = msgpack.load(open(os.path.join(ROOT_DIR, 'clip', DATASET, dname, f'{file_name}_clip.msgpack'), 'rb'))\n",
    "        \n",
    "        clip_embs[hash_to_id[image_hash]] = np.array(meta['clip-feature-vector'][0])"
   ]
  },
  {
   "cell_type": "markdown",
   "id": "2ce9e4b9-cd1f-4351-9c5c-0061968231e0",
   "metadata": {},
   "source": [
    "## from zip"
   ]
  },
  {
   "cell_type": "code",
   "execution_count": 16,
   "id": "ace2a375-1c6e-4388-a1b7-93698141cabb",
   "metadata": {
    "tags": []
   },
   "outputs": [
    {
     "data": {
      "application/vnd.jupyter.widget-view+json": {
       "model_id": "",
       "version_major": 2,
       "version_minor": 0
      },
      "text/plain": [
       "  0%|          | 0/1 [00:00<?, ?it/s]"
      ]
     },
     "metadata": {},
     "output_type": "display_data"
    }
   ],
   "source": [
    "for zip_path in tqdm(ZIP_PATHs, leave=False):\n",
    "    \n",
    "    f = zipfile.ZipFile(zip_path)\n",
    "    \n",
    "    for file_path in f.namelist():\n",
    "\n",
    "        if file_path.startswith('generated/clip/') and file_path.endswith('.npy'):\n",
    "\n",
    "            image_hash = os.path.splitext(os.path.split(file_path)[-1])[0]\n",
    "\n",
    "            if image_hash not in hash_to_id:\n",
    "                continue\n",
    "\n",
    "            clip_embs[hash_to_id[image_hash]] = np.load(f.open(file_path))"
   ]
  },
  {
   "cell_type": "code",
   "execution_count": 17,
   "id": "37ddc78f-b65c-4f61-876c-da95f8c22156",
   "metadata": {
    "tags": []
   },
   "outputs": [
    {
     "data": {
      "text/plain": [
       "0"
      ]
     },
     "execution_count": 17,
     "metadata": {},
     "output_type": "execute_result"
    }
   ],
   "source": [
    "(clip_embs.min(axis=-1) == 0).sum()"
   ]
  },
  {
   "cell_type": "markdown",
   "id": "70b6940d-9699-405b-95d0-3ba28aef6ab6",
   "metadata": {
    "tags": []
   },
   "source": [
    "## save"
   ]
  },
  {
   "cell_type": "code",
   "execution_count": 18,
   "id": "3e10e4b9-33dd-4bb3-8889-76024806accb",
   "metadata": {
    "tags": []
   },
   "outputs": [],
   "source": [
    "np.save(os.path.join(OUTPUT_DIR, 'clip_vision.npy'), clip_embs)"
   ]
  },
  {
   "cell_type": "markdown",
   "id": "6cac9805-75fd-473b-82b4-8d2f1f9be1c6",
   "metadata": {},
   "source": [
    "# build prompts embs"
   ]
  },
  {
   "cell_type": "code",
   "execution_count": 19,
   "id": "4a188661-dba7-49a8-b3d8-3b7d3516dbae",
   "metadata": {
    "tags": []
   },
   "outputs": [],
   "source": [
    "import torch\n",
    "from transformers import AutoTokenizer, AutoModel"
   ]
  },
  {
   "cell_type": "code",
   "execution_count": 20,
   "id": "9c31bf56-3b44-4469-8d34-6d784bf71343",
   "metadata": {
    "tags": []
   },
   "outputs": [],
   "source": [
    "MODEL_NAME = 'openai/clip-vit-large-patch14'\n",
    "BATCH_SIZE = 64\n",
    "MAX_LENGTH = 77"
   ]
  },
  {
   "cell_type": "code",
   "execution_count": 21,
   "id": "019884b2-42d8-4c74-b41a-9f725b10c7e4",
   "metadata": {
    "tags": []
   },
   "outputs": [],
   "source": [
    "tokenizer = AutoTokenizer.from_pretrained(MODEL_NAME, local_files_only=True)"
   ]
  },
  {
   "cell_type": "code",
   "execution_count": 22,
   "id": "559844df-0456-4fab-87ff-04f59a2749f6",
   "metadata": {
    "tags": []
   },
   "outputs": [
    {
     "name": "stderr",
     "output_type": "stream",
     "text": [
      "`text_config_dict` is provided which will be used to initialize `CLIPTextConfig`. The value `text_config[\"id2label\"]` will be overriden.\n"
     ]
    }
   ],
   "source": [
    "transformer = AutoModel.from_pretrained(MODEL_NAME, local_files_only=True).text_model.cuda().eval()"
   ]
  },
  {
   "cell_type": "code",
   "execution_count": 23,
   "id": "0490001b-a764-4abb-970e-a8c0d1ede92c",
   "metadata": {
    "tags": []
   },
   "outputs": [],
   "source": [
    "def worker(texts):\n",
    "    \n",
    "    batch_encoding = tokenizer(\n",
    "        texts,\n",
    "        truncation=True, max_length=MAX_LENGTH, return_length=True,\n",
    "        return_overflowing_tokens=False, padding=\"max_length\", return_tensors=\"pt\"\n",
    "    )\n",
    "\n",
    "    tokens = batch_encoding[\"input_ids\"].cuda()\n",
    "\n",
    "    clip_text_opt = transformer(input_ids=tokens, output_hidden_states=True, return_dict=True)\n",
    "    \n",
    "    pooler_output = clip_text_opt.pooler_output.detach().cpu().numpy()\n",
    "    \n",
    "    return pooler_output"
   ]
  },
  {
   "cell_type": "code",
   "execution_count": 32,
   "id": "c021a8cd-0220-4cf7-b8ee-08b652efc5bb",
   "metadata": {
    "tags": []
   },
   "outputs": [],
   "source": [
    "samples = pd.read_csv(os.path.join(OUTPUT_DIR, 'samples.csv.gz'))\n",
    "\n",
    "positive_prompts = list(samples['positive_prompt'])\n",
    "negative_prompts = list(samples['negative_prompt'])"
   ]
  },
  {
   "cell_type": "code",
   "execution_count": 33,
   "id": "d31baae8-eab7-428f-b7b5-d9806a9d9a87",
   "metadata": {
    "tags": []
   },
   "outputs": [
    {
     "data": {
      "application/vnd.jupyter.widget-view+json": {
       "model_id": "",
       "version_major": 2,
       "version_minor": 0
      },
      "text/plain": [
       "  0%|          | 0/119 [00:00<?, ?it/s]"
      ]
     },
     "metadata": {},
     "output_type": "display_data"
    },
    {
     "data": {
      "application/vnd.jupyter.widget-view+json": {
       "model_id": "",
       "version_major": 2,
       "version_minor": 0
      },
      "text/plain": [
       "  0%|          | 0/119 [00:00<?, ?it/s]"
      ]
     },
     "metadata": {},
     "output_type": "display_data"
    }
   ],
   "source": [
    "positive_pooler_outputs = list()\n",
    "negative_pooler_outputs = list()\n",
    "\n",
    "with torch.no_grad():\n",
    "    \n",
    "    for i in tqdm(range(0, len(positive_prompts), BATCH_SIZE), leave=False):\n",
    "        \n",
    "        pooler_output = worker(positive_prompts[i:i+BATCH_SIZE])\n",
    "        positive_pooler_outputs.append(pooler_output)\n",
    "    \n",
    "    for i in tqdm(range(0, len(negative_prompts), BATCH_SIZE), leave=False):\n",
    "        \n",
    "        pooler_output = worker(negative_prompts[i:i+BATCH_SIZE])\n",
    "        negative_pooler_outputs.append(pooler_output)\n",
    "        \n",
    "positive_pooler_outputs = np.concatenate(positive_pooler_outputs, axis=0)\n",
    "negative_pooler_outputs = np.concatenate(negative_pooler_outputs, axis=0)"
   ]
  },
  {
   "cell_type": "code",
   "execution_count": 34,
   "id": "fa5afb5c-35ee-40a1-b6e8-e0046efb3738",
   "metadata": {
    "tags": []
   },
   "outputs": [],
   "source": [
    "np.savez(\n",
    "    os.path.join(OUTPUT_DIR, 'clip_text.npz'), \n",
    "    positive_pooler_outputs=positive_pooler_outputs,\n",
    "    negative_pooler_outputs=negative_pooler_outputs\n",
    ")"
   ]
  },
  {
   "cell_type": "code",
   "execution_count": null,
   "id": "9759fddd-4436-44dc-8e7b-b968c43bbfe8",
   "metadata": {},
   "outputs": [],
   "source": []
  }
 ],
 "metadata": {
  "kernelspec": {
   "display_name": "kk",
   "language": "python",
   "name": "kk"
  },
  "language_info": {
   "codemirror_mode": {
    "name": "ipython",
    "version": 3
   },
   "file_extension": ".py",
   "mimetype": "text/x-python",
   "name": "python",
   "nbconvert_exporter": "python",
   "pygments_lexer": "ipython3",
   "version": "3.10.13"
  }
 },
 "nbformat": 4,
 "nbformat_minor": 5
}
