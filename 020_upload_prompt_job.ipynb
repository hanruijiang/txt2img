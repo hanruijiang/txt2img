{
 "cells": [
  {
   "cell_type": "code",
   "execution_count": 1,
   "id": "c33e4fa9-ae5e-4dbd-b4e0-6e83433e9d2b",
   "metadata": {
    "tags": []
   },
   "outputs": [],
   "source": [
    "import os\n",
    "\n",
    "import sys\n",
    "import json\n",
    "\n",
    "import numpy as np\n",
    "import pandas as pd\n",
    "\n",
    "import time\n",
    "\n",
    "from tqdm.auto import tqdm"
   ]
  },
  {
   "cell_type": "code",
   "execution_count": 2,
   "id": "46227122-fa28-4e27-a1fa-ca12e6860008",
   "metadata": {
    "tags": []
   },
   "outputs": [],
   "source": [
    "sys.path.append(os.path.abspath('../kcg-ml-image-pipeline/'))\n",
    "from worker.prompt_generation.prompt_generator import generate_image_generation_jobs"
   ]
  },
  {
   "cell_type": "code",
   "execution_count": 3,
   "id": "828c59fc-02bf-4c1f-81bd-15623b6cc527",
   "metadata": {
    "tags": []
   },
   "outputs": [],
   "source": [
    "from worker.http import request"
   ]
  },
  {
   "cell_type": "code",
   "execution_count": 4,
   "id": "ac7ba57e-d2d5-4458-a7e6-43f8e69205e0",
   "metadata": {
    "tags": []
   },
   "outputs": [],
   "source": [
    "request.SERVER_ADRESS = 'http://123.176.98.90:8764'"
   ]
  },
  {
   "cell_type": "code",
   "execution_count": 5,
   "id": "a8fbd018-1409-4858-bc85-9eb38f5a113a",
   "metadata": {
    "tags": []
   },
   "outputs": [],
   "source": [
    "df = pd.read_csv('./results-1119.tsv', sep='\\t')"
   ]
  },
  {
   "cell_type": "code",
   "execution_count": 10,
   "id": "795e3792-e452-4aff-a70d-bb87a0fc2c1b",
   "metadata": {
    "tags": []
   },
   "outputs": [],
   "source": [
    "selected = df.query('text_score < 5 and positive_score > 5')#.query('strategy != \"empty\"')"
   ]
  },
  {
   "cell_type": "code",
   "execution_count": 7,
   "id": "a76ff03a-d1ec-49c7-84f9-e326e910f024",
   "metadata": {
    "tags": []
   },
   "outputs": [],
   "source": [
    "prompt_scoring_model = 'clip_text_linear_han'\n",
    "prompt_generation_policy = 'distilgpt2_han-v1'\n",
    "top_k = 0\n",
    "# dataset_name = 'test-generations'\n",
    "dataset_name = 'environmental'"
   ]
  },
  {
   "cell_type": "code",
   "execution_count": 8,
   "id": "387ad65a-060a-4a77-b085-b8d6fe8f9b73",
   "metadata": {
    "tags": []
   },
   "outputs": [
    {
     "data": {
      "application/vnd.jupyter.widget-view+json": {
       "model_id": "ea38bc7895da40deb35f5f9db0303682",
       "version_major": 2,
       "version_minor": 0
      },
      "text/plain": [
       "0it [00:00, ?it/s]"
      ]
     },
     "metadata": {},
     "output_type": "display_data"
    }
   ],
   "source": [
    "for positive_prompt, negative_prompt, prompt_score in tqdm(selected[['positive_prompt', 'negative_prompt', 'text_score']].itertuples(index=False, name=None)):\n",
    "\n",
    "    generate_image_generation_jobs(\n",
    "\n",
    "        positive_prompt=positive_prompt,\n",
    "        negative_prompt=negative_prompt,\n",
    "        prompt_score=prompt_score,\n",
    "\n",
    "        prompt_scoring_model=prompt_scoring_model,\n",
    "        prompt_generation_policy=prompt_generation_policy,\n",
    "        top_k=top_k,\n",
    "        dataset_name=dataset_name\n",
    "    )\n",
    "    \n",
    "    time.sleep(1)\n"
   ]
  },
  {
   "cell_type": "code",
   "execution_count": null,
   "id": "8312efea-c35a-4f10-95c8-8c65728c124b",
   "metadata": {},
   "outputs": [],
   "source": []
  }
 ],
 "metadata": {
  "kernelspec": {
   "display_name": "llama-factory",
   "language": "python",
   "name": "llama-factory"
  },
  "language_info": {
   "codemirror_mode": {
    "name": "ipython",
    "version": 3
   },
   "file_extension": ".py",
   "mimetype": "text/x-python",
   "name": "python",
   "nbconvert_exporter": "python",
   "pygments_lexer": "ipython3",
   "version": "3.10.13"
  }
 },
 "nbformat": 4,
 "nbformat_minor": 5
}
