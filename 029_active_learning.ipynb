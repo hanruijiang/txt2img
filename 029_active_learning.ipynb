{
 "cells": [
  {
   "cell_type": "markdown",
   "id": "5d6f8c9a-d2c7-473f-b909-c95c6ed6eb87",
   "metadata": {},
   "source": [
    "# Criteria\n",
    "\n",
    "1. Selected pairs of images with similar scores. \n",
    "\n",
    "    To get more detailed rank info. Because the scores are assigned by our scoring model, this might be accurate when predicting the selection of images with large score delta. But for images with small score delta, it performs badly.\n",
    "2. Selected pairs within similar images.\n",
    "\n",
    "    Currently,  annotator’s selection is strongly affected by the image topic or style. I.e., the annotator may alway choose Nintendo Mario style images, therefore, the scoring models will assign high scores to them. \n",
    "    This policy will force the annotator to focus on the image quality and may help us improve generation.\n",
    "\n",
    "# Implement\n",
    "\n",
    "1. Function: get_candidate_pairs_within_category\n",
    "\n",
    "I will first provide a general function to get candidate pairs within category\n",
    "\n",
    "Input:\n",
    "- job_uuids: list[str], length of N\n",
    "- categories: np.ndarray[int], shape is (N,)\n",
    "- max_pairs: int, max selecting pairs. \n",
    "- max_pairs should 0 < max_pairs < (N / n_categories) ** 2.\n",
    "    we will attempt to select (max_pairs / n_categories) pairs within each category.\n",
    "    \n",
    "Output:\n",
    "\n",
    "pairs: list[(str, str)], seleted job_uuid pairs.\n",
    "\n",
    "\n",
    "2. Function: get_candidate_pairs_by_score\n",
    "\n",
    "I use 2 way to binning scores to categories:\n",
    "By fixed step bins\n",
    "By quantities\n",
    "\t\n",
    "\tI will provide a function to get candidate pairs with similar scores\n",
    "\n",
    "Input:\n",
    "- job_uuids: list[str], length of N\n",
    "- scores: np.ndarray[float], shape is (N,)\n",
    "- max_pairs: int, max selecting pairs. \n",
    "- n_bins: int, number of categories to be divided\n",
    "- use_quantities: bool, to use quantities or fixed step bins\n",
    "\n",
    "Output:\n",
    "\n",
    "pairs: list[(str, str)], seleted job_uuid pairs.\n",
    "\t\n",
    "\n",
    "3. Function: get_candidate_pairs_by_embedding\n",
    "\t\n",
    "I use kmeans to divide images into categories of clusters.\n",
    "\n",
    "Input:\n",
    "- job_uuids: list[str], length of N\n",
    "- embeddings: np.ndarray, shape is (N, 768)\n",
    "- max_pairs: int, max selecting pairs. \n",
    "- n_clusters: int, number of categories to be divided\n",
    "\n",
    "Output:\n",
    "\n",
    "pairs: list[(str, str)], seleted job_uuid pairs.\n",
    "\n",
    "These 2 criteria can be used with existing filters, we can filter images with score / variance / date, and pass the uuids and corresponding scores or embeddings to the function, and get candidate pairs.\n"
   ]
  },
  {
   "cell_type": "code",
   "execution_count": 1,
   "id": "3d3fa0b4-d4cb-44fa-b8d9-5bc3d0d26bca",
   "metadata": {
    "tags": []
   },
   "outputs": [],
   "source": [
    "import pandas as pd\n",
    "\n",
    "import numpy as np\n",
    "\n",
    "from sklearn.cluster import KMeans, MiniBatchKMeans"
   ]
  },
  {
   "cell_type": "markdown",
   "id": "45d28663-a131-40dd-86f4-e16ff3d442a9",
   "metadata": {},
   "source": [
    "# general"
   ]
  },
  {
   "cell_type": "code",
   "execution_count": 2,
   "id": "9009dbb4-f865-4f3c-8859-9fbc06258d50",
   "metadata": {
    "tags": []
   },
   "outputs": [],
   "source": [
    "def get_candidate_pairs_within_category(job_uuids: list, categories: np.ndarray, max_pairs: int):\n",
    "    \n",
    "    '''\n",
    "    \n",
    "    Input:\n",
    "        - job_uuids: list[str], length of N\n",
    "        - categories: np.ndarray[int], shape is (N,)\n",
    "        - max_pairs: int, max selecting pairs. \n",
    "            max_pairs should 0 < max_pairs < (N / n_categories) ** 2.\n",
    "            we will attempt to select (max_pairs / n_categories) pairs within each category.\n",
    "            \n",
    "    Output:\n",
    "        - pairs: list[(str, str)], seleted job_uuid pairs.\n",
    "    \n",
    "    '''\n",
    "    \n",
    "    df = pd.DataFrame(np.stack([job_uuids, categories], axis=-1), columns=['job_uuid', 'category'])\n",
    "    \n",
    "    n_bins = len(np.unique(categories))\n",
    "    \n",
    "    max_pairs_within_bins = max_pairs // n_bins\n",
    "    \n",
    "    pairs = list()\n",
    "    \n",
    "    for c, g in df.groupby('category'):\n",
    "        \n",
    "        if g.shape[0] <= 1:\n",
    "            continue\n",
    "            \n",
    "        sub_uuids = list(g['job_uuid'])\n",
    "        np.random.shuffle(sub_uuids)\n",
    "        \n",
    "        cn2 = len(sub_uuids) * (len(sub_uuids) - 1) / 2\n",
    "        \n",
    "        step = max(1, int(cn2 // max_pairs_within_bins))\n",
    "        \n",
    "        sub_pairs = list()\n",
    "        \n",
    "        for i, uuid_i in enumerate(sub_uuids[:-1]):\n",
    "\n",
    "            for uuid_j in sub_uuids[i+1::step]:\n",
    "\n",
    "                sub_pairs.append((uuid_i, uuid_j))\n",
    "                \n",
    "            if len(sub_pairs) > max_pairs_within_bins:\n",
    "                break\n",
    "                \n",
    "        if len(sub_pairs) == 0:\n",
    "            sub_pairs.append((sub_uuids[0], sub_uuids[1]))\n",
    "            \n",
    "        pairs += sub_pairs[:max_pairs_within_bins]\n",
    "        \n",
    "    return pairs"
   ]
  },
  {
   "cell_type": "markdown",
   "id": "2d3c4dfd-0476-4503-bc28-7d7d2ae6ba52",
   "metadata": {},
   "source": [
    "# get pairs with similar score"
   ]
  },
  {
   "cell_type": "code",
   "execution_count": 3,
   "id": "76e70b84-792e-4a94-be5d-b340fc8a0d42",
   "metadata": {
    "tags": []
   },
   "outputs": [],
   "source": [
    "def get_bins(min_value: float, max_value: float, n_bins: int):\n",
    "    \n",
    "    bins = np.linspace(min_value, max_value, n_bins - 1)\n",
    "    \n",
    "    return bins\n",
    "\n",
    "\n",
    "def score_to_category_with_bins(scores: np.ndarray, bins: np.ndarray):\n",
    "    \n",
    "    return np.digitize(scores, bins)\n",
    "\n",
    "\n",
    "def score_to_category_with_quantities(scores: np.ndarray, n_categories: int):\n",
    "    \n",
    "    rank = np.argsort(scores)\n",
    "    \n",
    "    n_samples = len(rank)\n",
    "    \n",
    "    step = int(np.ceil(n_samples / n_categories))\n",
    "    \n",
    "    return (rank + ((step - n_samples % step) // 2)) // step\n",
    "\n",
    "\n",
    "def get_candidate_pairs_by_score(job_uuids: list, scores: np.ndarray, max_pairs: int, n_bins: int, use_quantities: bool = False):\n",
    "    \n",
    "    '''\n",
    "    \n",
    "    Input:\n",
    "        - job_uuids: list[str], length of N\n",
    "        - scores: np.ndarray[float], shape is (N,)\n",
    "        - max_pairs: int, max selecting pairs. \n",
    "            max_pairs should 0 < max_pairs < (N / n_bins) ** 2.\n",
    "            we will attempt to select (max_pairs / n_bins) pairs within each category.\n",
    "        - n_bins: int, number of categories to be divided\n",
    "        - use_quantities: bool, to use quantities or fixed step bins\n",
    "            \n",
    "    Output:\n",
    "        - pairs: list[(str, str)], seleted job_uuid pairs.\n",
    "    \n",
    "    '''\n",
    "    \n",
    "    if use_quantities:\n",
    "        \n",
    "        categories = score_to_category_with_quantities(scores=scores, n_categories=n_bins)\n",
    "    \n",
    "    else:\n",
    "\n",
    "        bins = get_bins(min_value=min(scores), max_value=max(scores), n_bins=n_bins)\n",
    "\n",
    "        categories = score_to_category_with_bins(scores=scores, bins=bins)\n",
    "    \n",
    "    return get_candidate_pairs_within_category(\n",
    "        job_uuids=job_uuids, \n",
    "        categories=categories, \n",
    "        max_pairs=max_pairs\n",
    "    )"
   ]
  },
  {
   "cell_type": "code",
   "execution_count": 4,
   "id": "171f1419-1290-476f-8edf-47dfd38d2ea0",
   "metadata": {
    "tags": []
   },
   "outputs": [],
   "source": [
    "job_uuids = list(map(str, range(100)))\n",
    "scores = np.random.randn(100)"
   ]
  },
  {
   "cell_type": "code",
   "execution_count": 5,
   "id": "a4240252-1929-4bf7-a095-0bf0417749d9",
   "metadata": {
    "tags": []
   },
   "outputs": [
    {
     "data": {
      "text/plain": [
       "99"
      ]
     },
     "execution_count": 5,
     "metadata": {},
     "output_type": "execute_result"
    }
   ],
   "source": [
    "len(get_candidate_pairs_by_score(job_uuids, scores, max_pairs=100, n_bins=10, use_quantities=True))"
   ]
  },
  {
   "cell_type": "markdown",
   "id": "ebcc8c53-8ebc-4d97-abe0-afa369d5e3d3",
   "metadata": {},
   "source": [
    "# sampling images by clustering"
   ]
  },
  {
   "cell_type": "code",
   "execution_count": 12,
   "id": "d625ab04-a70b-434d-b079-8c30625c0a88",
   "metadata": {
    "tags": []
   },
   "outputs": [],
   "source": [
    "def embedding_to_category(embeddings: np.ndarray, n_clusters: int):\n",
    "    \n",
    "    model = MiniBatchKMeans(n_clusters=n_clusters, max_iter=100, n_init=3)\n",
    "    \n",
    "    labels = model.fit_predict(embeddings)\n",
    "    \n",
    "    return labels\n",
    "\n",
    "\n",
    "def get_candidate_pairs_by_embedding(job_uuids: list, embeddings: np.ndarray, max_pairs: int, n_clusters: int):\n",
    "    \n",
    "    '''\n",
    "    \n",
    "    Input:\n",
    "        - job_uuids: list[str], length of N\n",
    "        - embeddings: np.ndarray, shape is (N, 768)\n",
    "        - max_pairs: int, max selecting pairs. \n",
    "            max_pairs should 0 < max_pairs < (N / n_clusters) ** 2.\n",
    "            we will attempt to select (max_pairs / n_clusters) pairs within each category.\n",
    "        - n_clusters: int, number of categories to be divided\n",
    "            \n",
    "    Output:\n",
    "        - pairs: list[(str, str)], seleted job_uuid pairs.\n",
    "    \n",
    "    '''\n",
    "    \n",
    "    categories = embedding_to_category(embeddings=embeddings, n_clusters=n_clusters)\n",
    "\n",
    "    return get_candidate_pairs_within_category(\n",
    "        job_uuids=job_uuids, \n",
    "        categories=categories, \n",
    "        max_pairs=max_pairs\n",
    "    )"
   ]
  },
  {
   "cell_type": "code",
   "execution_count": 13,
   "id": "43e5e496-4d29-45a0-81cc-74fe63366485",
   "metadata": {
    "tags": []
   },
   "outputs": [],
   "source": [
    "embeddings = np.random.rand(100, 768)"
   ]
  },
  {
   "cell_type": "code",
   "execution_count": 14,
   "id": "4a6829c5-7cf3-403b-9f90-c8600f883a65",
   "metadata": {
    "tags": []
   },
   "outputs": [
    {
     "data": {
      "text/plain": [
       "70"
      ]
     },
     "execution_count": 14,
     "metadata": {},
     "output_type": "execute_result"
    }
   ],
   "source": [
    "len(get_candidate_pairs_by_embedding(job_uuids, embeddings, max_pairs=100, n_clusters=10))"
   ]
  },
  {
   "cell_type": "markdown",
   "id": "88310337-5f23-4cee-8886-57a15d0412e4",
   "metadata": {
    "tags": []
   },
   "source": [
    "# select images"
   ]
  },
  {
   "cell_type": "code",
   "execution_count": 100,
   "id": "720fe0e8-1148-48a3-b34f-84834324e440",
   "metadata": {
    "tags": []
   },
   "outputs": [],
   "source": [
    "import pandas as pd\n",
    "import os"
   ]
  },
  {
   "cell_type": "code",
   "execution_count": 107,
   "id": "09ae4c7a-ba22-470c-9610-ca3c467a4596",
   "metadata": {
    "tags": []
   },
   "outputs": [],
   "source": [
    "df = pd.DataFrame(zip(npz['file_paths'], labels), columns=['file_path', 'label'])"
   ]
  },
  {
   "cell_type": "code",
   "execution_count": 108,
   "id": "56863736-1108-44c5-b3c7-bfddfb6bf1ff",
   "metadata": {
    "tags": []
   },
   "outputs": [],
   "source": [
    "target_dir = './image_clustering_clip_vision_kmeans'\n",
    "\n",
    "for c, g in df.groupby('label'):\n",
    "    \n",
    "    os.makedirs(os.path.join(target_dir, f'{c}'), exist_ok=True)\n",
    "    \n",
    "    if g.shape[0] < 5:\n",
    "        continue\n",
    "    \n",
    "    selected = np.random.choice(g['file_path'], 5, False)\n",
    "    \n",
    "    for file_path in selected:\n",
    "        file_path = os.path.join('../kcg-ml-image-pipeline/output/dataset/image/', file_path.split('_')[0] + '.jpg')\n",
    "        os.system(f'cp {file_path} {target_dir}/{c}/')"
   ]
  },
  {
   "cell_type": "code",
   "execution_count": null,
   "id": "6071b0ba-e82d-4b0c-91e9-8d2211df33d1",
   "metadata": {},
   "outputs": [],
   "source": []
  }
 ],
 "metadata": {
  "kernelspec": {
   "display_name": "kk",
   "language": "python",
   "name": "kk"
  },
  "language_info": {
   "codemirror_mode": {
    "name": "ipython",
    "version": 3
   },
   "file_extension": ".py",
   "mimetype": "text/x-python",
   "name": "python",
   "nbconvert_exporter": "python",
   "pygments_lexer": "ipython3",
   "version": "3.10.13"
  }
 },
 "nbformat": 4,
 "nbformat_minor": 5
}
