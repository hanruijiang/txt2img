{
 "cells": [
  {
   "cell_type": "code",
   "execution_count": 84,
   "id": "49a5c387-2fd0-4f66-b0d4-8f073149f0c6",
   "metadata": {
    "tags": []
   },
   "outputs": [],
   "source": [
    "import os\n",
    "from io import BytesIO\n",
    "import re\n",
    "from urllib.parse import urlparse, urlunparse\n",
    "import pandas as pd\n",
    "import requests\n",
    "import json\n",
    "import time\n",
    "from PIL import Image\n",
    "from tqdm.auto import tqdm"
   ]
  },
  {
   "cell_type": "code",
   "execution_count": 2,
   "id": "592bf6fb-b018-4d67-922b-4d7ea633c243",
   "metadata": {
    "tags": []
   },
   "outputs": [],
   "source": [
    "proxies = {\n",
    "    # 'http': 'http://localhost:7890',\n",
    "    # 'https': 'http://localhost:7890'\n",
    "    'http': 'http://10.68.98.153:7890',\n",
    "    'https': 'http://10.68.98.153:7890'\n",
    "}\n",
    "\n",
    "headers = {'Content-Type': 'application/json'}"
   ]
  },
  {
   "cell_type": "code",
   "execution_count": 4,
   "id": "c4374cfd-09ab-44a9-a77f-cef859e2043d",
   "metadata": {
    "tags": []
   },
   "outputs": [],
   "source": [
    "url = 'https://store.steampowered.com/api/appdetails/'\n",
    "\n",
    "save_dir = '../dataset/scrap/steam/'"
   ]
  },
  {
   "cell_type": "code",
   "execution_count": 72,
   "id": "9c867ff0-043b-4538-a4d1-c4d650e8fa93",
   "metadata": {
    "tags": []
   },
   "outputs": [],
   "source": [
    "os.makedirs(os.path.join(save_dir, 'json'), exist_ok=True)\n",
    "os.makedirs(os.path.join(save_dir, 'screenshot'), exist_ok=True)\n",
    "os.makedirs(os.path.join(save_dir, 'header_image'), exist_ok=True)"
   ]
  },
  {
   "cell_type": "code",
   "execution_count": 23,
   "id": "01817b6e-41ce-41ba-9f27-b1f61dd96984",
   "metadata": {
    "tags": []
   },
   "outputs": [],
   "source": [
    "js = json.load(open('../dataset/steam-games-dataset/games.json'))"
   ]
  },
  {
   "cell_type": "code",
   "execution_count": 20,
   "id": "b7d136a8-8c55-491d-b66e-382db11c7ae5",
   "metadata": {
    "tags": []
   },
   "outputs": [],
   "source": [
    "def worker(appid):\n",
    "    \n",
    "    output_path = os.path.join(save_dir, 'json', f'{appid}.json')\n",
    "    \n",
    "    if os.path.exists(output_path):\n",
    "        return True\n",
    "    \n",
    "    try:\n",
    "        data = requests.get(f'{url}?appids={appid}', proxies=proxies)\n",
    "        data = json.loads(data.content)\n",
    "    except:\n",
    "        return False\n",
    "    \n",
    "    json.dump(data, open(output_path, 'wt'))\n",
    "    \n",
    "    return True"
   ]
  },
  {
   "cell_type": "code",
   "execution_count": null,
   "id": "2326c934-242a-47e1-a0ee-4d713ca84d05",
   "metadata": {},
   "outputs": [],
   "source": []
  },
  {
   "cell_type": "code",
   "execution_count": 68,
   "id": "09e9baf9-4cc6-4208-90f8-145bb9552822",
   "metadata": {
    "tags": []
   },
   "outputs": [],
   "source": [
    "file_names = list()\n",
    "urls = list()\n",
    "appids = list()\n",
    "\n",
    "for appid, item in js.items():\n",
    "    \n",
    "    for url in item['screenshots']:\n",
    "        file_names.append(os.path.split(urlparse(url).path)[-1])\n",
    "        urls.append(url)\n",
    "        appids.append(appid)\n",
    "\n",
    "#     url = item['header_image']\n",
    "    \n",
    "#     file_names.append(os.path.split(urlparse(url).path)[-1])\n",
    "#     urls.append(url)\n",
    "#     appids.append(appid)"
   ]
  },
  {
   "cell_type": "code",
   "execution_count": 69,
   "id": "88e7aeac-9faa-44d7-a5ff-c68163716b94",
   "metadata": {
    "tags": []
   },
   "outputs": [
    {
     "data": {
      "text/html": [
       "<div>\n",
       "<style scoped>\n",
       "    .dataframe tbody tr th:only-of-type {\n",
       "        vertical-align: middle;\n",
       "    }\n",
       "\n",
       "    .dataframe tbody tr th {\n",
       "        vertical-align: top;\n",
       "    }\n",
       "\n",
       "    .dataframe thead th {\n",
       "        text-align: right;\n",
       "    }\n",
       "</style>\n",
       "<table border=\"1\" class=\"dataframe\">\n",
       "  <thead>\n",
       "    <tr style=\"text-align: right;\">\n",
       "      <th></th>\n",
       "      <th>file_name</th>\n",
       "      <th>url</th>\n",
       "      <th>appid</th>\n",
       "    </tr>\n",
       "  </thead>\n",
       "  <tbody>\n",
       "    <tr>\n",
       "      <th>0</th>\n",
       "      <td>0000005994.1920x1080.jpg</td>\n",
       "      <td>https://cdn.akamai.steamstatic.com/steam/apps/...</td>\n",
       "      <td>20200</td>\n",
       "    </tr>\n",
       "    <tr>\n",
       "      <th>1</th>\n",
       "      <td>0000005993.1920x1080.jpg</td>\n",
       "      <td>https://cdn.akamai.steamstatic.com/steam/apps/...</td>\n",
       "      <td>20200</td>\n",
       "    </tr>\n",
       "    <tr>\n",
       "      <th>2</th>\n",
       "      <td>0000005992.1920x1080.jpg</td>\n",
       "      <td>https://cdn.akamai.steamstatic.com/steam/apps/...</td>\n",
       "      <td>20200</td>\n",
       "    </tr>\n",
       "    <tr>\n",
       "      <th>3</th>\n",
       "      <td>0000006011.1920x1080.jpg</td>\n",
       "      <td>https://cdn.akamai.steamstatic.com/steam/apps/...</td>\n",
       "      <td>20200</td>\n",
       "    </tr>\n",
       "    <tr>\n",
       "      <th>4</th>\n",
       "      <td>0000005685.1920x1080.jpg</td>\n",
       "      <td>https://cdn.akamai.steamstatic.com/steam/apps/...</td>\n",
       "      <td>20200</td>\n",
       "    </tr>\n",
       "    <tr>\n",
       "      <th>...</th>\n",
       "      <td>...</td>\n",
       "      <td>...</td>\n",
       "      <td>...</td>\n",
       "    </tr>\n",
       "    <tr>\n",
       "      <th>622857</th>\n",
       "      <td>ss_95a3af03fa9d4325bd81c9274aa5fdef71f28aff.19...</td>\n",
       "      <td>https://cdn.akamai.steamstatic.com/steam/apps/...</td>\n",
       "      <td>2352890</td>\n",
       "    </tr>\n",
       "    <tr>\n",
       "      <th>622858</th>\n",
       "      <td>ss_e57da0f09a0cb30e7a572842d503741888837bf7.19...</td>\n",
       "      <td>https://cdn.akamai.steamstatic.com/steam/apps/...</td>\n",
       "      <td>2352890</td>\n",
       "    </tr>\n",
       "    <tr>\n",
       "      <th>622859</th>\n",
       "      <td>ss_78e7323b3bca5b179b5d27722ca3810384e5ed56.19...</td>\n",
       "      <td>https://cdn.akamai.steamstatic.com/steam/apps/...</td>\n",
       "      <td>2352890</td>\n",
       "    </tr>\n",
       "    <tr>\n",
       "      <th>622860</th>\n",
       "      <td>ss_fe177dba34a908a90dc911a9514594be12e7dde0.19...</td>\n",
       "      <td>https://cdn.akamai.steamstatic.com/steam/apps/...</td>\n",
       "      <td>2352890</td>\n",
       "    </tr>\n",
       "    <tr>\n",
       "      <th>622861</th>\n",
       "      <td>ss_b0ce42a04e20d16daf6ea9ebf61a806b1dbc447f.19...</td>\n",
       "      <td>https://cdn.akamai.steamstatic.com/steam/apps/...</td>\n",
       "      <td>2352890</td>\n",
       "    </tr>\n",
       "  </tbody>\n",
       "</table>\n",
       "<p>622862 rows × 3 columns</p>\n",
       "</div>"
      ],
      "text/plain": [
       "                                                file_name  \\\n",
       "0                                0000005994.1920x1080.jpg   \n",
       "1                                0000005993.1920x1080.jpg   \n",
       "2                                0000005992.1920x1080.jpg   \n",
       "3                                0000006011.1920x1080.jpg   \n",
       "4                                0000005685.1920x1080.jpg   \n",
       "...                                                   ...   \n",
       "622857  ss_95a3af03fa9d4325bd81c9274aa5fdef71f28aff.19...   \n",
       "622858  ss_e57da0f09a0cb30e7a572842d503741888837bf7.19...   \n",
       "622859  ss_78e7323b3bca5b179b5d27722ca3810384e5ed56.19...   \n",
       "622860  ss_fe177dba34a908a90dc911a9514594be12e7dde0.19...   \n",
       "622861  ss_b0ce42a04e20d16daf6ea9ebf61a806b1dbc447f.19...   \n",
       "\n",
       "                                                      url    appid  \n",
       "0       https://cdn.akamai.steamstatic.com/steam/apps/...    20200  \n",
       "1       https://cdn.akamai.steamstatic.com/steam/apps/...    20200  \n",
       "2       https://cdn.akamai.steamstatic.com/steam/apps/...    20200  \n",
       "3       https://cdn.akamai.steamstatic.com/steam/apps/...    20200  \n",
       "4       https://cdn.akamai.steamstatic.com/steam/apps/...    20200  \n",
       "...                                                   ...      ...  \n",
       "622857  https://cdn.akamai.steamstatic.com/steam/apps/...  2352890  \n",
       "622858  https://cdn.akamai.steamstatic.com/steam/apps/...  2352890  \n",
       "622859  https://cdn.akamai.steamstatic.com/steam/apps/...  2352890  \n",
       "622860  https://cdn.akamai.steamstatic.com/steam/apps/...  2352890  \n",
       "622861  https://cdn.akamai.steamstatic.com/steam/apps/...  2352890  \n",
       "\n",
       "[622862 rows x 3 columns]"
      ]
     },
     "execution_count": 69,
     "metadata": {},
     "output_type": "execute_result"
    }
   ],
   "source": [
    "df = pd.DataFrame()\n",
    "\n",
    "df['file_name'] = file_names\n",
    "df['url'] = urls\n",
    "df['appid'] = appids\n",
    "\n",
    "df"
   ]
  },
  {
   "cell_type": "code",
   "execution_count": 87,
   "id": "97818f04-e9c4-451a-8f9e-c9ba1a414e0e",
   "metadata": {
    "tags": []
   },
   "outputs": [],
   "source": [
    "def worker(url, output_path):\n",
    "    \n",
    "    if os.path.exists(output_path):\n",
    "        return\n",
    "    \n",
    "    try:\n",
    "        data = requests.get(url, proxies=proxies, timeout=(3.0, 10.0))\n",
    "    except:\n",
    "        return\n",
    "\n",
    "    if data.status_code != 200:\n",
    "        return\n",
    "    \n",
    "    try:\n",
    "        Image.open(BytesIO(data.content)).save(output_path)\n",
    "    except:\n",
    "        return\n",
    "    \n",
    "    return"
   ]
  },
  {
   "cell_type": "code",
   "execution_count": null,
   "id": "2a55ad4f-f07d-485c-9624-f88e629ee840",
   "metadata": {
    "tags": []
   },
   "outputs": [
    {
     "data": {
      "application/vnd.jupyter.widget-view+json": {
       "model_id": "9bd1953d82c34ac686f43d815a862e5c",
       "version_major": 2,
       "version_minor": 0
      },
      "text/plain": [
       "  0%|          | 0/622862 [00:00<?, ?it/s]"
      ]
     },
     "metadata": {},
     "output_type": "display_data"
    },
    {
     "name": "stderr",
     "output_type": "stream",
     "text": [
      "IOPub message rate exceeded.\n",
      "The Jupyter server will temporarily stop sending output\n",
      "to the client in order to avoid crashing it.\n",
      "To change this limit, set the config variable\n",
      "`--ServerApp.iopub_msg_rate_limit`.\n",
      "\n",
      "Current values:\n",
      "ServerApp.iopub_msg_rate_limit=1000.0 (msgs/sec)\n",
      "ServerApp.rate_limit_window=3.0 (secs)\n",
      "\n",
      "IOPub message rate exceeded.\n",
      "The Jupyter server will temporarily stop sending output\n",
      "to the client in order to avoid crashing it.\n",
      "To change this limit, set the config variable\n",
      "`--ServerApp.iopub_msg_rate_limit`.\n",
      "\n",
      "Current values:\n",
      "ServerApp.iopub_msg_rate_limit=1000.0 (msgs/sec)\n",
      "ServerApp.rate_limit_window=3.0 (secs)\n",
      "\n"
     ]
    }
   ],
   "source": [
    "for url, file_name in tqdm(df[['url', 'file_name']].itertuples(index=False, name=None), total=df.shape[0]):\n",
    "    output_path = os.path.join(save_dir, 'screenshot', file_name)\n",
    "    worker(url, output_path)\n",
    "    time.sleep(0.5)"
   ]
  },
  {
   "cell_type": "code",
   "execution_count": null,
   "id": "c9b1b5a5-337d-465b-aed6-6db930ee9d60",
   "metadata": {},
   "outputs": [],
   "source": []
  }
 ],
 "metadata": {
  "kernelspec": {
   "display_name": "llama-factory",
   "language": "python",
   "name": "llama-factory"
  },
  "language_info": {
   "codemirror_mode": {
    "name": "ipython",
    "version": 3
   },
   "file_extension": ".py",
   "mimetype": "text/x-python",
   "name": "python",
   "nbconvert_exporter": "python",
   "pygments_lexer": "ipython3",
   "version": "3.10.13"
  }
 },
 "nbformat": 4,
 "nbformat_minor": 5
}
