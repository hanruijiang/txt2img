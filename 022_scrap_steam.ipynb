{
 "cells": [
  {
   "cell_type": "code",
   "execution_count": 1,
   "id": "49a5c387-2fd0-4f66-b0d4-8f073149f0c6",
   "metadata": {
    "tags": []
   },
   "outputs": [],
   "source": [
    "import os\n",
    "from io import BytesIO\n",
    "import re\n",
    "from urllib.parse import urlparse, urlunparse\n",
    "import pandas as pd\n",
    "import requests\n",
    "import json\n",
    "import time\n",
    "from PIL import Image\n",
    "from tqdm.auto import tqdm"
   ]
  },
  {
   "cell_type": "code",
   "execution_count": 2,
   "id": "592bf6fb-b018-4d67-922b-4d7ea633c243",
   "metadata": {
    "tags": []
   },
   "outputs": [],
   "source": [
    "proxies = {\n",
    "    'http': 'http://localhost:7890',\n",
    "    'https': 'http://localhost:7890'\n",
    "    # 'http': 'http://10.68.98.153:7890',\n",
    "    # 'https': 'http://10.68.98.153:7890'\n",
    "}\n",
    "\n",
    "headers = {'Content-Type': 'application/json'}"
   ]
  },
  {
   "cell_type": "code",
   "execution_count": 3,
   "id": "c4374cfd-09ab-44a9-a77f-cef859e2043d",
   "metadata": {
    "tags": []
   },
   "outputs": [],
   "source": [
    "url = 'https://store.steampowered.com/api/appdetails/'\n",
    "\n",
    "save_dir = '../dataset/scrap/steam/'"
   ]
  },
  {
   "cell_type": "code",
   "execution_count": 4,
   "id": "9c867ff0-043b-4538-a4d1-c4d650e8fa93",
   "metadata": {
    "tags": []
   },
   "outputs": [],
   "source": [
    "os.makedirs(os.path.join(save_dir, 'json'), exist_ok=True)\n",
    "os.makedirs(os.path.join(save_dir, 'screenshot'), exist_ok=True)\n",
    "os.makedirs(os.path.join(save_dir, 'header_image'), exist_ok=True)"
   ]
  },
  {
   "cell_type": "code",
   "execution_count": 5,
   "id": "01817b6e-41ce-41ba-9f27-b1f61dd96984",
   "metadata": {
    "tags": []
   },
   "outputs": [],
   "source": [
    "js = json.load(open('../dataset/steam-games-dataset/games.json'))"
   ]
  },
  {
   "cell_type": "code",
   "execution_count": 6,
   "id": "b7d136a8-8c55-491d-b66e-382db11c7ae5",
   "metadata": {
    "tags": []
   },
   "outputs": [],
   "source": [
    "def worker(appid):\n",
    "    \n",
    "    output_path = os.path.join(save_dir, 'json', f'{appid}.json')\n",
    "    \n",
    "    if os.path.exists(output_path):\n",
    "        return True\n",
    "    \n",
    "    try:\n",
    "        data = requests.get(f'{url}?appids={appid}', proxies=proxies)\n",
    "        data = json.loads(data.content)\n",
    "    except:\n",
    "        return False\n",
    "    \n",
    "    json.dump(data, open(output_path, 'wt'))\n",
    "    \n",
    "    return True"
   ]
  },
  {
   "cell_type": "code",
   "execution_count": null,
   "id": "2326c934-242a-47e1-a0ee-4d713ca84d05",
   "metadata": {},
   "outputs": [],
   "source": []
  },
  {
   "cell_type": "code",
   "execution_count": 7,
   "id": "09e9baf9-4cc6-4208-90f8-145bb9552822",
   "metadata": {
    "tags": []
   },
   "outputs": [],
   "source": [
    "file_names = list()\n",
    "urls = list()\n",
    "appids = list()\n",
    "\n",
    "for appid, item in js.items():\n",
    "    \n",
    "    for url in item['screenshots']:\n",
    "        file_names.append(os.path.split(urlparse(url).path)[-1])\n",
    "        urls.append(url)\n",
    "        appids.append(appid)\n",
    "\n",
    "#     url = item['header_image']\n",
    "    \n",
    "#     file_names.append(os.path.split(urlparse(url).path)[-1])\n",
    "#     urls.append(url)\n",
    "#     appids.append(appid)"
   ]
  },
  {
   "cell_type": "code",
   "execution_count": 8,
   "id": "88e7aeac-9faa-44d7-a5ff-c68163716b94",
   "metadata": {
    "tags": []
   },
   "outputs": [
    {
     "data": {
      "text/html": [
       "<div>\n",
       "<style scoped>\n",
       "    .dataframe tbody tr th:only-of-type {\n",
       "        vertical-align: middle;\n",
       "    }\n",
       "\n",
       "    .dataframe tbody tr th {\n",
       "        vertical-align: top;\n",
       "    }\n",
       "\n",
       "    .dataframe thead th {\n",
       "        text-align: right;\n",
       "    }\n",
       "</style>\n",
       "<table border=\"1\" class=\"dataframe\">\n",
       "  <thead>\n",
       "    <tr style=\"text-align: right;\">\n",
       "      <th></th>\n",
       "      <th>file_name</th>\n",
       "      <th>url</th>\n",
       "      <th>appid</th>\n",
       "    </tr>\n",
       "  </thead>\n",
       "  <tbody>\n",
       "    <tr>\n",
       "      <th>0</th>\n",
       "      <td>0000005994.1920x1080.jpg</td>\n",
       "      <td>https://cdn.akamai.steamstatic.com/steam/apps/...</td>\n",
       "      <td>20200</td>\n",
       "    </tr>\n",
       "    <tr>\n",
       "      <th>1</th>\n",
       "      <td>0000005993.1920x1080.jpg</td>\n",
       "      <td>https://cdn.akamai.steamstatic.com/steam/apps/...</td>\n",
       "      <td>20200</td>\n",
       "    </tr>\n",
       "    <tr>\n",
       "      <th>2</th>\n",
       "      <td>0000005992.1920x1080.jpg</td>\n",
       "      <td>https://cdn.akamai.steamstatic.com/steam/apps/...</td>\n",
       "      <td>20200</td>\n",
       "    </tr>\n",
       "    <tr>\n",
       "      <th>3</th>\n",
       "      <td>0000006011.1920x1080.jpg</td>\n",
       "      <td>https://cdn.akamai.steamstatic.com/steam/apps/...</td>\n",
       "      <td>20200</td>\n",
       "    </tr>\n",
       "    <tr>\n",
       "      <th>4</th>\n",
       "      <td>0000005685.1920x1080.jpg</td>\n",
       "      <td>https://cdn.akamai.steamstatic.com/steam/apps/...</td>\n",
       "      <td>20200</td>\n",
       "    </tr>\n",
       "    <tr>\n",
       "      <th>...</th>\n",
       "      <td>...</td>\n",
       "      <td>...</td>\n",
       "      <td>...</td>\n",
       "    </tr>\n",
       "    <tr>\n",
       "      <th>622857</th>\n",
       "      <td>ss_95a3af03fa9d4325bd81c9274aa5fdef71f28aff.19...</td>\n",
       "      <td>https://cdn.akamai.steamstatic.com/steam/apps/...</td>\n",
       "      <td>2352890</td>\n",
       "    </tr>\n",
       "    <tr>\n",
       "      <th>622858</th>\n",
       "      <td>ss_e57da0f09a0cb30e7a572842d503741888837bf7.19...</td>\n",
       "      <td>https://cdn.akamai.steamstatic.com/steam/apps/...</td>\n",
       "      <td>2352890</td>\n",
       "    </tr>\n",
       "    <tr>\n",
       "      <th>622859</th>\n",
       "      <td>ss_78e7323b3bca5b179b5d27722ca3810384e5ed56.19...</td>\n",
       "      <td>https://cdn.akamai.steamstatic.com/steam/apps/...</td>\n",
       "      <td>2352890</td>\n",
       "    </tr>\n",
       "    <tr>\n",
       "      <th>622860</th>\n",
       "      <td>ss_fe177dba34a908a90dc911a9514594be12e7dde0.19...</td>\n",
       "      <td>https://cdn.akamai.steamstatic.com/steam/apps/...</td>\n",
       "      <td>2352890</td>\n",
       "    </tr>\n",
       "    <tr>\n",
       "      <th>622861</th>\n",
       "      <td>ss_b0ce42a04e20d16daf6ea9ebf61a806b1dbc447f.19...</td>\n",
       "      <td>https://cdn.akamai.steamstatic.com/steam/apps/...</td>\n",
       "      <td>2352890</td>\n",
       "    </tr>\n",
       "  </tbody>\n",
       "</table>\n",
       "<p>622862 rows × 3 columns</p>\n",
       "</div>"
      ],
      "text/plain": [
       "                                                file_name  \\\n",
       "0                                0000005994.1920x1080.jpg   \n",
       "1                                0000005993.1920x1080.jpg   \n",
       "2                                0000005992.1920x1080.jpg   \n",
       "3                                0000006011.1920x1080.jpg   \n",
       "4                                0000005685.1920x1080.jpg   \n",
       "...                                                   ...   \n",
       "622857  ss_95a3af03fa9d4325bd81c9274aa5fdef71f28aff.19...   \n",
       "622858  ss_e57da0f09a0cb30e7a572842d503741888837bf7.19...   \n",
       "622859  ss_78e7323b3bca5b179b5d27722ca3810384e5ed56.19...   \n",
       "622860  ss_fe177dba34a908a90dc911a9514594be12e7dde0.19...   \n",
       "622861  ss_b0ce42a04e20d16daf6ea9ebf61a806b1dbc447f.19...   \n",
       "\n",
       "                                                      url    appid  \n",
       "0       https://cdn.akamai.steamstatic.com/steam/apps/...    20200  \n",
       "1       https://cdn.akamai.steamstatic.com/steam/apps/...    20200  \n",
       "2       https://cdn.akamai.steamstatic.com/steam/apps/...    20200  \n",
       "3       https://cdn.akamai.steamstatic.com/steam/apps/...    20200  \n",
       "4       https://cdn.akamai.steamstatic.com/steam/apps/...    20200  \n",
       "...                                                   ...      ...  \n",
       "622857  https://cdn.akamai.steamstatic.com/steam/apps/...  2352890  \n",
       "622858  https://cdn.akamai.steamstatic.com/steam/apps/...  2352890  \n",
       "622859  https://cdn.akamai.steamstatic.com/steam/apps/...  2352890  \n",
       "622860  https://cdn.akamai.steamstatic.com/steam/apps/...  2352890  \n",
       "622861  https://cdn.akamai.steamstatic.com/steam/apps/...  2352890  \n",
       "\n",
       "[622862 rows x 3 columns]"
      ]
     },
     "execution_count": 8,
     "metadata": {},
     "output_type": "execute_result"
    }
   ],
   "source": [
    "df = pd.DataFrame()\n",
    "\n",
    "df['file_name'] = file_names\n",
    "df['url'] = urls\n",
    "df['appid'] = appids\n",
    "\n",
    "df"
   ]
  },
  {
   "cell_type": "code",
   "execution_count": 9,
   "id": "97818f04-e9c4-451a-8f9e-c9ba1a414e0e",
   "metadata": {
    "tags": []
   },
   "outputs": [],
   "source": [
    "def worker(url, output_path):\n",
    "    \n",
    "    if os.path.exists(output_path):\n",
    "        return\n",
    "    \n",
    "    try:\n",
    "        data = requests.get(url, proxies=proxies, timeout=(3.0, 10.0))\n",
    "    except KeyboardInterrupt:\n",
    "        return\n",
    "    except:\n",
    "        return\n",
    "\n",
    "    if data.status_code != 200:\n",
    "        return\n",
    "    \n",
    "    try:\n",
    "        Image.open(BytesIO(data.content)).save(output_path)\n",
    "    except:\n",
    "        return\n",
    "    \n",
    "    return"
   ]
  },
  {
   "cell_type": "code",
   "execution_count": 10,
   "id": "2a55ad4f-f07d-485c-9624-f88e629ee840",
   "metadata": {
    "tags": []
   },
   "outputs": [
    {
     "data": {
      "application/vnd.jupyter.widget-view+json": {
       "model_id": "cc6fae66f386471fa390a24f454628a9",
       "version_major": 2,
       "version_minor": 0
      },
      "text/plain": [
       "  0%|          | 0/622862 [00:00<?, ?it/s]"
      ]
     },
     "metadata": {},
     "output_type": "display_data"
    }
   ],
   "source": [
    "for url, file_name in tqdm(df[['url', 'file_name']].itertuples(index=False, name=None), total=df.shape[0]):\n",
    "    output_path = os.path.join(save_dir, 'screenshot', file_name)\n",
    "    worker(url, output_path)\n",
    "    # time.sleep(0.5)"
   ]
  },
  {
   "cell_type": "code",
   "execution_count": null,
   "id": "c639bd4f-39ab-47e9-a072-4a3084d06afb",
   "metadata": {},
   "outputs": [],
   "source": []
  },
  {
   "cell_type": "markdown",
   "id": "a78309d3-468d-4e3f-9652-c401c4222423",
   "metadata": {},
   "source": [
    "# from torrent"
   ]
  },
  {
   "cell_type": "code",
   "execution_count": 22,
   "id": "9a2086f2-6eed-4c67-aed3-fa85ed440fee",
   "metadata": {
    "tags": []
   },
   "outputs": [],
   "source": [
    "import json"
   ]
  },
  {
   "cell_type": "code",
   "execution_count": 23,
   "id": "adff0d20-f9c1-46c4-b86f-a2405c94c1cc",
   "metadata": {
    "tags": []
   },
   "outputs": [],
   "source": [
    "js = json.load(open('../dataset/steam-games-dataset/games.json'))"
   ]
  },
  {
   "cell_type": "code",
   "execution_count": 36,
   "id": "99de7294-b9fe-42ae-93a4-6986c5749e94",
   "metadata": {
    "tags": []
   },
   "outputs": [],
   "source": [
    "appids = set(map(int, js.keys()))"
   ]
  },
  {
   "cell_type": "code",
   "execution_count": null,
   "id": "a7826bab-61d0-489c-9cad-af3dd97d903d",
   "metadata": {},
   "outputs": [],
   "source": []
  },
  {
   "cell_type": "code",
   "execution_count": 2,
   "id": "48d0089b-4dea-412e-bf1f-879aaca4c71a",
   "metadata": {
    "tags": []
   },
   "outputs": [],
   "source": [
    "import bencodepy\n",
    "import os\n",
    "import zipfile"
   ]
  },
  {
   "cell_type": "code",
   "execution_count": 7,
   "id": "eed78ea1-93f6-40b5-9784-2d7f85e780ab",
   "metadata": {
    "tags": []
   },
   "outputs": [],
   "source": [
    "zf = zipfile.ZipFile('../dataset/scrap/steam/steam-games-scraped-2023-06-09-v1.torrent.zip')\n",
    "f = zf.open('steam-games-scraped-2023-06-09-v1.torrent')"
   ]
  },
  {
   "cell_type": "code",
   "execution_count": 9,
   "id": "0d2345b6-907f-4b9f-8147-3538c9b850ec",
   "metadata": {
    "tags": []
   },
   "outputs": [],
   "source": [
    "torrent_data = bencodepy.decode(f.read())"
   ]
  },
  {
   "cell_type": "code",
   "execution_count": 21,
   "id": "756fe69f-26c6-4b56-a84f-d35eb516d840",
   "metadata": {
    "tags": []
   },
   "outputs": [
    {
     "data": {
      "text/plain": [
       "95025"
      ]
     },
     "execution_count": 21,
     "metadata": {},
     "output_type": "execute_result"
    }
   ],
   "source": [
    "len(torrent_data[b'info'][b'files'])"
   ]
  },
  {
   "cell_type": "code",
   "execution_count": 55,
   "id": "4b5a2141-52e9-42c2-bf06-21ddc12cdbef",
   "metadata": {
    "tags": []
   },
   "outputs": [],
   "source": [
    "diff = [i for i in torrent_data[b'info'][b'files'] if (int(i[b'path'][0].split(b'.')[0]) not in appids) and (i[b'length'] > 1e3) and (i[b'length'] < 1e7)]"
   ]
  },
  {
   "cell_type": "code",
   "execution_count": 46,
   "id": "46fd67db-d264-4df8-aecf-21824251026d",
   "metadata": {
    "tags": []
   },
   "outputs": [],
   "source": [
    "from matplotlib import pyplot"
   ]
  },
  {
   "cell_type": "code",
   "execution_count": 53,
   "id": "64ce1ac8-3aac-43bd-864d-6bd622d9face",
   "metadata": {
    "tags": []
   },
   "outputs": [
    {
     "data": {
      "image/png": "[encoded data removed]",
      "text/plain": [
       "<Figure size 640x480 with 1 Axes>"
      ]
     },
     "metadata": {},
     "output_type": "display_data"
    }
   ],
   "source": [
    "_ = pyplot.hist([i[b'length'] for i in diff], bins=100, range=(0, 1e7))"
   ]
  },
  {
   "cell_type": "code",
   "execution_count": 56,
   "id": "81e8fa57-7ce5-4a0d-945c-4013411d8ee7",
   "metadata": {
    "tags": []
   },
   "outputs": [
    {
     "data": {
      "text/plain": [
       "(42665, 88.042385148)"
      ]
     },
     "execution_count": 56,
     "metadata": {},
     "output_type": "execute_result"
    }
   ],
   "source": [
    "len(diff), sum([i[b'length'] for i in diff]) / 1e9"
   ]
  },
  {
   "cell_type": "code",
   "execution_count": 1,
   "id": "4d1d6141-69d0-444d-9b2c-bfb9dc692093",
   "metadata": {
    "tags": []
   },
   "outputs": [],
   "source": [
    "import libtorrent as lt\n",
    "import time"
   ]
  },
  {
   "cell_type": "code",
   "execution_count": 2,
   "id": "d8878336-5464-49b7-9c0c-335abd749c40",
   "metadata": {
    "tags": []
   },
   "outputs": [],
   "source": [
    "ses = lt.session()\n",
    "info = lt.torrent_info('steam-games-scraped-2023-06-09-v1.torrent')"
   ]
  },
  {
   "cell_type": "code",
   "execution_count": 3,
   "id": "84dd4cc5-1e82-4bca-a8fc-f25afd999cd2",
   "metadata": {
    "tags": []
   },
   "outputs": [],
   "source": [
    "settings = ses.get_settings()\n",
    "settings['proxy_hostname'] = 'http://10.68.98.153'\n",
    "settings['proxy_port'] = 7890\n",
    "\n",
    "ses.apply_settings(settings)"
   ]
  },
  {
   "cell_type": "code",
   "execution_count": 4,
   "id": "6d91a77f-acfc-4055-b565-bf9acf6257a3",
   "metadata": {
    "tags": []
   },
   "outputs": [],
   "source": [
    "save_path = './torrent_download/'"
   ]
  },
  {
   "cell_type": "code",
   "execution_count": 5,
   "id": "56264d34-77e9-46be-9b7b-e2dd123f1a31",
   "metadata": {
    "tags": []
   },
   "outputs": [],
   "source": [
    "file_priorities = [1] * info.num_files()\n",
    "# file_priorities[10] = 1"
   ]
  },
  {
   "cell_type": "code",
   "execution_count": null,
   "id": "0428908d-eebd-41d7-8bfc-2ddfc5a71729",
   "metadata": {
    "tags": []
   },
   "outputs": [],
   "source": [
    "h = ses.add_torrent({'ti': info, 'save_path': save_path, 'file_priorities': file_priorities})\n",
    "\n",
    "print('downloading', h.name())\n",
    "\n",
    "while not h.is_seed():\n",
    "    s = h.status()\n",
    "    print('%.2f%% complete (down: %.1f kB/s up: %.1f kB/s peers: %d) %s' % (\n",
    "        s.progress * 100, s.download_rate / 1000, s.upload_rate / 1000,\n",
    "        s.num_peers, s.state))\n",
    "\n",
    "    time.sleep(100)\n",
    "\n",
    "print('download complete')"
   ]
  }
 ],
 "metadata": {
  "kernelspec": {
   "display_name": "llama-factory",
   "language": "python",
   "name": "llama-factory"
  },
  "language_info": {
   "codemirror_mode": {
    "name": "ipython",
    "version": 3
   },
   "file_extension": ".py",
   "mimetype": "text/x-python",
   "name": "python",
   "nbconvert_exporter": "python",
   "pygments_lexer": "ipython3",
   "version": "3.10.13"
  }
 },
 "nbformat": 4,
 "nbformat_minor": 5
}
