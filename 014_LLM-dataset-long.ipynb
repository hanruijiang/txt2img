{
 "cells": [
  {
   "cell_type": "code",
   "execution_count": 1,
   "id": "df8daeb9-553e-43c1-81be-d974e7a2c48c",
   "metadata": {
    "tags": []
   },
   "outputs": [],
   "source": [
    "import os\n",
    "import datasets\n",
    "\n",
    "import re\n",
    "import hashlib\n",
    "\n",
    "import pandas as pd\n",
    "\n",
    "# from tqdm.auto import tqdm\n",
    "from tqdm import tqdm\n",
    "\n",
    "from matplotlib import pyplot"
   ]
  },
  {
   "cell_type": "code",
   "execution_count": 2,
   "id": "8d648ee3-86b4-416f-9d44-cc3b8e4d66cd",
   "metadata": {
    "tags": []
   },
   "outputs": [],
   "source": [
    "MIN_LENGTH = 500\n",
    "MAX_TAG_LENGTH = 150"
   ]
  },
  {
   "cell_type": "code",
   "execution_count": 77,
   "id": "91cffb2d-6eb3-4185-8160-aeb8995264fb",
   "metadata": {
    "tags": []
   },
   "outputs": [],
   "source": [
    "def validate_prompt(prompt):\n",
    "    \n",
    "    if type(prompt) != str or len(prompt) == 0:\n",
    "        return False\n",
    "    \n",
    "    if r'\\\\' in prompt or r'//' in prompt or '#' in prompt:\n",
    "        return False\n",
    "    if max(map(ord, prompt)) > 127:\n",
    "        return False\n",
    "    \n",
    "    if not is_long(prompt):\n",
    "        return False\n",
    "    \n",
    "    if not check_brackets(item['prompt'])[0]:\n",
    "        return False\n",
    "    \n",
    "    return True\n",
    "\n",
    "def is_long(prompt):\n",
    "    return len(prompt) > MIN_LENGTH\n",
    "\n",
    "def format_prompt(prompt):\n",
    "    \n",
    "    prompt = prompt.strip()\n",
    "    \n",
    "    # prompt = re.sub(r'\\\\n', ', ', prompt)\n",
    "    # prompt = re.sub(r'\\\\([\\(\\)\\[\\]])', r'\\1', prompt)\n",
    "    # prompt = re.sub(r'\\\\[\\\\\\s]+', ' ', prompt)\n",
    "    # prompt = re.sub(r'\\\\', ' ', prompt)\n",
    "    # prompt = re.sub(r'[/\\/]{2,}', ' ', prompt)\n",
    "    \n",
    "    while re.search(r'(\\([\\s,]*\\))|(\\<[\\s,]*\\>)|(\\[[\\s,]*\\])|(\\{[\\s,]*\\})', prompt):\n",
    "        prompt = re.sub(r'(\\([\\s,]*\\))|(\\<[\\s,]*\\>)|(\\[[\\s,]*\\])|(\\{[\\s,]*\\})', '', prompt)\n",
    "    \n",
    "    prompt = re.sub(r'([\\[\\(\\{\\<])\\s', r'\\1', prompt)\n",
    "    prompt = re.sub(r'\\s([\\]\\)\\}\\>])', r'\\1', prompt)\n",
    "    prompt = re.sub(r'\\s+', ' ', prompt)\n",
    "    prompt = re.sub(r'(\\s?[,;])+', r',', prompt)\n",
    "    \n",
    "    prompt = re.sub(r'^[\\.,;\\s]+', '', prompt)\n",
    "    prompt = re.sub(r'[\\.,;\\s]+$', '', prompt)\n",
    "    \n",
    "    return prompt\n",
    "\n",
    "def hash_prompt(prompt):\n",
    "    return hashlib.md5(prompt.encode()).hexdigest()\n",
    "\n",
    "bracket_map = {')': '(', ']': '[', '}': '{'}\n",
    "\n",
    "def check_brackets(prompt):\n",
    "    stack = list()\n",
    "    has_brackets = False\n",
    "    for i, c in enumerate(prompt):\n",
    "        if c in {'[', '(', '{'}:\n",
    "            stack.append(c)\n",
    "            has_brackets = True\n",
    "        elif c in {']', ')', '}'}:\n",
    "            if len(stack) == 0:\n",
    "                return False, True\n",
    "            if bracket_map[c] != stack.pop():\n",
    "                return False, True\n",
    "    return len(stack) == 0, has_brackets\n",
    "\n",
    "def remove_brackets(prompt):\n",
    "    \n",
    "    while re.search(r'\\([^\\)]*\\)', prompt):\n",
    "        prompt = re.sub(r'\\(([^\\)]*)\\)', r', \\1,', prompt)\n",
    "    \n",
    "    while re.search(r'\\[[^\\]]*\\]', prompt):\n",
    "        prompt = re.sub(r'\\[([^\\]]*)\\]', r', \\1,', prompt)\n",
    "    \n",
    "    while re.search(r'\\{[^\\}]*\\}', prompt):\n",
    "        prompt = re.sub(r'\\{([^\\}]*)\\}', r', \\1,', prompt)\n",
    "    \n",
    "    while re.search(r'\\<[^\\>]*\\>', prompt):\n",
    "        prompt = re.sub(r'\\<([^\\>]*)\\>', r', \\1,', prompt)\n",
    "    \n",
    "    return prompt\n",
    "\n",
    "#formula to check if user prompt contains a link\n",
    "# url_pattern = re.compile(r'http[s]?://(?:[a-zA-Z]|[0-9]|[$-_@.&+]|[!*\\\\(\\\\),]|(?:%[0-9a-fA-F][0-9a-fA-F]))+')\n",
    "def contains_link(prompt):\n",
    "    # if url_pattern.search(prompt):\n",
    "    prompt = prompt.lower()\n",
    "    \n",
    "    if '://' in prompt or '.jpg' in prompt or '.png' in prompt or '.co' in prompt or '.org' in prompt:\n",
    "        return True\n",
    "    return False"
   ]
  },
  {
   "cell_type": "code",
   "execution_count": 82,
   "id": "d8d92a00-5920-41ed-8789-9e5fcc689c23",
   "metadata": {
    "tags": []
   },
   "outputs": [],
   "source": [
    "def remove_extra(prompt):\n",
    "    \n",
    "    # remove lora, hypernets\n",
    "    prompt = re.sub(r'<[^<>]+>', '', prompt)\n",
    "    \n",
    "    return prompt\n",
    "\n",
    "def remove_weight(prompt):\n",
    "    \n",
    "    prompt = re.sub(r':[\\d,\\.\\s]+', '', prompt)\n",
    "    prompt = re.sub(r'[\\(\\[\\{\\<\\>\\}\\]\\)]+', '', prompt)\n",
    "    \n",
    "    return prompt\n",
    "\n",
    "def remove_complex(prompt):\n",
    "    \n",
    "    prompt = re.sub(r'[:\\|][^:\\|,]*', ',', prompt)\n",
    "    \n",
    "    return prompt\n",
    "\n",
    "def remove_redundancy(prompt):\n",
    "    \n",
    "    tags = list()\n",
    "    exists = set()\n",
    "    for tag in prompt.split(','):\n",
    "        tag = tag.strip()\n",
    "        t = re.sub(r'\\s+', '', tag)\n",
    "        if len(t) > 0 and not tag in exists:\n",
    "            exists.add(t)\n",
    "        tags.append(tag)\n",
    "    \n",
    "    return ', '.join(tags)"
   ]
  },
  {
   "cell_type": "markdown",
   "id": "dcfbbe8c-b85b-43c7-a41b-ba16230b8266",
   "metadata": {
    "tags": []
   },
   "source": [
    "# discord"
   ]
  },
  {
   "cell_type": "code",
   "execution_count": 4,
   "id": "1c96e4ff-7003-4bb2-a829-fd72d7367e4e",
   "metadata": {
    "tags": []
   },
   "outputs": [
    {
     "name": "stderr",
     "output_type": "stream",
     "text": [
      "/sunjie/kk-digital/kcg-ml-image-pipeline/venv/lib/python3.10/site-packages/datasets/table.py:1421: FutureWarning: promote has been superseded by mode='default'.\n",
      "  table = cls._concat_blocks(blocks, axis=0)\n"
     ]
    }
   ],
   "source": [
    "dataset = datasets.load_dataset(\"parquet\", data_files={'train': '../dataset/diffusiondb/metadata-large.parquet'})"
   ]
  },
  {
   "cell_type": "code",
   "execution_count": 5,
   "id": "54dfdf37-852d-473d-9b0f-21a8bb797b50",
   "metadata": {
    "tags": []
   },
   "outputs": [
    {
     "data": {
      "text/plain": [
       "DatasetDict({\n",
       "    train: Dataset({\n",
       "        features: ['image_name', 'prompt', 'part_id', 'seed', 'step', 'cfg', 'sampler', 'width', 'height', 'user_name', 'timestamp', 'image_nsfw', 'prompt_nsfw'],\n",
       "        num_rows: 14000000\n",
       "    })\n",
       "})"
      ]
     },
     "execution_count": 5,
     "metadata": {},
     "output_type": "execute_result"
    }
   ],
   "source": [
    "dataset"
   ]
  },
  {
   "cell_type": "code",
   "execution_count": 5,
   "id": "a0cbc03f-6c91-4a91-9851-0ef769858f04",
   "metadata": {
    "tags": []
   },
   "outputs": [
    {
     "data": {
      "text/plain": [
       "{'image_name': '3ccdc650-871a-4ad9-9bf2-dc475b83ed32.webp',\n",
       " 'prompt': 'beautiful porcelain ivory fair face woman biomechanical cyborg, close - up, sharp focus, studio light, iris van herpen haute couture headdress made of rhizomorphs, daisies, brackets, colorful corals, fractal mushrooms, puffballs, octane render, ultra sharp, 8 k ',\n",
       " 'part_id': 1,\n",
       " 'seed': 2625978990,\n",
       " 'step': 50,\n",
       " 'cfg': 21.0,\n",
       " 'sampler': 8,\n",
       " 'width': 512,\n",
       " 'height': 704,\n",
       " 'user_name': '01f4e782b48faedf416083b2fbabaca2a45621b15ead2333f03f0979b10e7266',\n",
       " 'timestamp': datetime.datetime(2022, 8, 20, 10, 3, tzinfo=<UTC>),\n",
       " 'image_nsfw': 0.03846566379070282,\n",
       " 'prompt_nsfw': 0.003088998841121793}"
      ]
     },
     "execution_count": 5,
     "metadata": {},
     "output_type": "execute_result"
    }
   ],
   "source": [
    "dataset['train'][0]"
   ]
  },
  {
   "cell_type": "code",
   "execution_count": 18,
   "id": "cf477008-af14-44be-8fb9-96aa45d1ade0",
   "metadata": {
    "tags": []
   },
   "outputs": [
    {
     "name": "stderr",
     "output_type": "stream",
     "text": [
      "100%|██████████| 14000000/14000000 [21:05<00:00, 11064.90it/s]\n"
     ]
    },
    {
     "data": {
      "text/plain": [
       "104966"
      ]
     },
     "execution_count": 18,
     "metadata": {},
     "output_type": "execute_result"
    }
   ],
   "source": [
    "results = list()\n",
    "\n",
    "for i, item in tqdm(enumerate(dataset['train']), total=len(dataset['train'])):\n",
    "    \n",
    "    if item['prompt'] is None or not validate_prompt(item['prompt']):\n",
    "        continue\n",
    " \n",
    "    if contains_link(item['prompt']):\n",
    "        continue\n",
    "\n",
    "    if re.search('\\d{5,}', item['prompt']):\n",
    "        continue\n",
    "\n",
    "    positive_prompt = format_prompt(item['prompt'])\n",
    "\n",
    "    if not is_long(positive_prompt):\n",
    "        continue\n",
    "        \n",
    "    positive_hash = hash_prompt(positive_prompt)\n",
    "    \n",
    "    results.append((i, positive_prompt, positive_hash))\n",
    "    \n",
    "len(results)"
   ]
  },
  {
   "cell_type": "code",
   "execution_count": 19,
   "id": "b2d8dd2a-d8c4-4c29-991c-92aa771c05a3",
   "metadata": {
    "tags": []
   },
   "outputs": [
    {
     "data": {
      "text/html": [
       "<div>\n",
       "<style scoped>\n",
       "    .dataframe tbody tr th:only-of-type {\n",
       "        vertical-align: middle;\n",
       "    }\n",
       "\n",
       "    .dataframe tbody tr th {\n",
       "        vertical-align: top;\n",
       "    }\n",
       "\n",
       "    .dataframe thead th {\n",
       "        text-align: right;\n",
       "    }\n",
       "</style>\n",
       "<table border=\"1\" class=\"dataframe\">\n",
       "  <thead>\n",
       "    <tr style=\"text-align: right;\">\n",
       "      <th></th>\n",
       "      <th>index</th>\n",
       "      <th>positive_prompt</th>\n",
       "      <th>positive_hash</th>\n",
       "    </tr>\n",
       "  </thead>\n",
       "  <tbody>\n",
       "    <tr>\n",
       "      <th>0</th>\n",
       "      <td>50394</td>\n",
       "      <td>beautiful painting by jeremy mann, only one he...</td>\n",
       "      <td>0ced9d76fd0731f1576c58f700545eb7</td>\n",
       "    </tr>\n",
       "    <tr>\n",
       "      <th>9</th>\n",
       "      <td>50403</td>\n",
       "      <td>beautiful painting by jeremy mann, alphonse mu...</td>\n",
       "      <td>93971a04c78bd3692f4396fffe6ccb33</td>\n",
       "    </tr>\n",
       "    <tr>\n",
       "      <th>18</th>\n",
       "      <td>54352</td>\n",
       "      <td>beautiful painting by jeremy mann, only one he...</td>\n",
       "      <td>cad4f5c6b5fff00d9a70f50fdd45e56e</td>\n",
       "    </tr>\n",
       "    <tr>\n",
       "      <th>27</th>\n",
       "      <td>56371</td>\n",
       "      <td>perfectly - centered!! looking at the camera!!...</td>\n",
       "      <td>7d2804cc0d5a724e42371396d5aefb91</td>\n",
       "    </tr>\n",
       "    <tr>\n",
       "      <th>36</th>\n",
       "      <td>73102</td>\n",
       "      <td>a extremely ultra highly detailed majestic hi ...</td>\n",
       "      <td>020db4f13e8ef108dd3a56062455d9ff</td>\n",
       "    </tr>\n",
       "    <tr>\n",
       "      <th>...</th>\n",
       "      <td>...</td>\n",
       "      <td>...</td>\n",
       "      <td>...</td>\n",
       "    </tr>\n",
       "    <tr>\n",
       "      <th>104929</th>\n",
       "      <td>13989691</td>\n",
       "      <td>a night photo of a minimalist contemporary hou...</td>\n",
       "      <td>81b6bd8622e2077606eb3ef953f6b9d6</td>\n",
       "    </tr>\n",
       "    <tr>\n",
       "      <th>104930</th>\n",
       "      <td>13989692</td>\n",
       "      <td>a night photo of a multistory minimalist conte...</td>\n",
       "      <td>03da3b5d6a386162efff1db26738a399</td>\n",
       "    </tr>\n",
       "    <tr>\n",
       "      <th>104931</th>\n",
       "      <td>13994166</td>\n",
       "      <td>photorealistic Emma Watson closeup angry tired...</td>\n",
       "      <td>ad46b24ed20796d12744a337ace73b19</td>\n",
       "    </tr>\n",
       "    <tr>\n",
       "      <th>104940</th>\n",
       "      <td>13996179</td>\n",
       "      <td>Emma Watson conjoined closeup angry tired figh...</td>\n",
       "      <td>1877dadfea04b2c42bd4c92c4233d6b7</td>\n",
       "    </tr>\n",
       "    <tr>\n",
       "      <th>104949</th>\n",
       "      <td>13997168</td>\n",
       "      <td>photorealistic Emma Watson conjoined closeup a...</td>\n",
       "      <td>1abb4a034121e650aa5ed44240eaf760</td>\n",
       "    </tr>\n",
       "  </tbody>\n",
       "</table>\n",
       "<p>9272 rows × 3 columns</p>\n",
       "</div>"
      ],
      "text/plain": [
       "           index                                    positive_prompt  \\\n",
       "0          50394  beautiful painting by jeremy mann, only one he...   \n",
       "9          50403  beautiful painting by jeremy mann, alphonse mu...   \n",
       "18         54352  beautiful painting by jeremy mann, only one he...   \n",
       "27         56371  perfectly - centered!! looking at the camera!!...   \n",
       "36         73102  a extremely ultra highly detailed majestic hi ...   \n",
       "...          ...                                                ...   \n",
       "104929  13989691  a night photo of a minimalist contemporary hou...   \n",
       "104930  13989692  a night photo of a multistory minimalist conte...   \n",
       "104931  13994166  photorealistic Emma Watson closeup angry tired...   \n",
       "104940  13996179  Emma Watson conjoined closeup angry tired figh...   \n",
       "104949  13997168  photorealistic Emma Watson conjoined closeup a...   \n",
       "\n",
       "                           positive_hash  \n",
       "0       0ced9d76fd0731f1576c58f700545eb7  \n",
       "9       93971a04c78bd3692f4396fffe6ccb33  \n",
       "18      cad4f5c6b5fff00d9a70f50fdd45e56e  \n",
       "27      7d2804cc0d5a724e42371396d5aefb91  \n",
       "36      020db4f13e8ef108dd3a56062455d9ff  \n",
       "...                                  ...  \n",
       "104929  81b6bd8622e2077606eb3ef953f6b9d6  \n",
       "104930  03da3b5d6a386162efff1db26738a399  \n",
       "104931  ad46b24ed20796d12744a337ace73b19  \n",
       "104940  1877dadfea04b2c42bd4c92c4233d6b7  \n",
       "104949  1abb4a034121e650aa5ed44240eaf760  \n",
       "\n",
       "[9272 rows x 3 columns]"
      ]
     },
     "execution_count": 19,
     "metadata": {},
     "output_type": "execute_result"
    }
   ],
   "source": [
    "results = pd.DataFrame(results, columns=['index', 'positive_prompt', 'positive_hash'])\n",
    "results.drop_duplicates(['positive_hash'], inplace=True)\n",
    "\n",
    "results"
   ]
  },
  {
   "cell_type": "code",
   "execution_count": 20,
   "id": "dbd03e94-1c32-4ec5-9616-64885761bb1a",
   "metadata": {
    "tags": []
   },
   "outputs": [],
   "source": [
    "df = results"
   ]
  },
  {
   "cell_type": "code",
   "execution_count": 42,
   "id": "818107b3-92bd-4324-a879-fcf1e4c03b62",
   "metadata": {
    "tags": []
   },
   "outputs": [
    {
     "name": "stderr",
     "output_type": "stream",
     "text": [
      "9272it [00:02, 3212.06it/s]\n"
     ]
    }
   ],
   "source": [
    "results = list()\n",
    "\n",
    "for index, positive_prompt, positive_hash in tqdm(df.itertuples(index=False, name=None)):\n",
    "    \n",
    "    positive_raw_length = len(positive_prompt)\n",
    "\n",
    "    positive_prompt = remove_extra(positive_prompt)\n",
    "    \n",
    "    positive_prompt = remove_weight(positive_prompt)\n",
    "    \n",
    "    positive_prompt = remove_brackets(positive_prompt)\n",
    "    \n",
    "    positive_prompt = format_prompt(positive_prompt)\n",
    "    \n",
    "    positive_prompt = positive_prompt.lower()\n",
    "    \n",
    "    positive_prompt = remove_redundancy(positive_prompt)\n",
    "    \n",
    "    positive_prompt = format_prompt(positive_prompt)\n",
    "    \n",
    "    if not is_long(positive_prompt):\n",
    "        continue\n",
    "    \n",
    "    positive_hash = hash_prompt(positive_prompt)\n",
    "\n",
    "    results.append((index, positive_prompt, positive_hash, positive_raw_length))"
   ]
  },
  {
   "cell_type": "code",
   "execution_count": 43,
   "id": "6500de5d-9532-4170-8897-2c2e3f702639",
   "metadata": {
    "tags": []
   },
   "outputs": [
    {
     "data": {
      "text/html": [
       "<div>\n",
       "<style scoped>\n",
       "    .dataframe tbody tr th:only-of-type {\n",
       "        vertical-align: middle;\n",
       "    }\n",
       "\n",
       "    .dataframe tbody tr th {\n",
       "        vertical-align: top;\n",
       "    }\n",
       "\n",
       "    .dataframe thead th {\n",
       "        text-align: right;\n",
       "    }\n",
       "</style>\n",
       "<table border=\"1\" class=\"dataframe\">\n",
       "  <thead>\n",
       "    <tr style=\"text-align: right;\">\n",
       "      <th></th>\n",
       "      <th>index</th>\n",
       "      <th>positive_prompt</th>\n",
       "      <th>positive_hash</th>\n",
       "      <th>positive_raw_length</th>\n",
       "    </tr>\n",
       "  </thead>\n",
       "  <tbody>\n",
       "    <tr>\n",
       "      <th>0</th>\n",
       "      <td>50394</td>\n",
       "      <td>beautiful painting by jeremy mann, only one he...</td>\n",
       "      <td>0ced9d76fd0731f1576c58f700545eb7</td>\n",
       "      <td>618</td>\n",
       "    </tr>\n",
       "    <tr>\n",
       "      <th>1</th>\n",
       "      <td>50403</td>\n",
       "      <td>beautiful painting by jeremy mann, alphonse mu...</td>\n",
       "      <td>93971a04c78bd3692f4396fffe6ccb33</td>\n",
       "      <td>636</td>\n",
       "    </tr>\n",
       "    <tr>\n",
       "      <th>2</th>\n",
       "      <td>54352</td>\n",
       "      <td>beautiful painting by jeremy mann, only one he...</td>\n",
       "      <td>cad4f5c6b5fff00d9a70f50fdd45e56e</td>\n",
       "      <td>624</td>\n",
       "    </tr>\n",
       "    <tr>\n",
       "      <th>3</th>\n",
       "      <td>56371</td>\n",
       "      <td>perfectly - centered!! looking at the camera!!...</td>\n",
       "      <td>7d2804cc0d5a724e42371396d5aefb91</td>\n",
       "      <td>505</td>\n",
       "    </tr>\n",
       "    <tr>\n",
       "      <th>4</th>\n",
       "      <td>73102</td>\n",
       "      <td>a extremely ultra highly detailed majestic hi ...</td>\n",
       "      <td>020db4f13e8ef108dd3a56062455d9ff</td>\n",
       "      <td>654</td>\n",
       "    </tr>\n",
       "    <tr>\n",
       "      <th>...</th>\n",
       "      <td>...</td>\n",
       "      <td>...</td>\n",
       "      <td>...</td>\n",
       "      <td>...</td>\n",
       "    </tr>\n",
       "    <tr>\n",
       "      <th>9231</th>\n",
       "      <td>13989691</td>\n",
       "      <td>a night photo of a minimalist contemporary hou...</td>\n",
       "      <td>86869e189cd6549f7f6d498a788fd9aa</td>\n",
       "      <td>524</td>\n",
       "    </tr>\n",
       "    <tr>\n",
       "      <th>9232</th>\n",
       "      <td>13989692</td>\n",
       "      <td>a night photo of a multistory minimalist conte...</td>\n",
       "      <td>9ec7a7d8198da07eea754de9d08b27cd</td>\n",
       "      <td>512</td>\n",
       "    </tr>\n",
       "    <tr>\n",
       "      <th>9233</th>\n",
       "      <td>13994166</td>\n",
       "      <td>photorealistic emma watson closeup angry tired...</td>\n",
       "      <td>6dc6e460f42514fb5ad9e8bf2eb988d2</td>\n",
       "      <td>697</td>\n",
       "    </tr>\n",
       "    <tr>\n",
       "      <th>9234</th>\n",
       "      <td>13996179</td>\n",
       "      <td>emma watson conjoined closeup angry tired figh...</td>\n",
       "      <td>acfbd2495b96a9ef1850ec2a95b5f995</td>\n",
       "      <td>520</td>\n",
       "    </tr>\n",
       "    <tr>\n",
       "      <th>9235</th>\n",
       "      <td>13997168</td>\n",
       "      <td>photorealistic emma watson conjoined closeup a...</td>\n",
       "      <td>dcb94e39ed9ba96e88d2a454220eaebd</td>\n",
       "      <td>620</td>\n",
       "    </tr>\n",
       "  </tbody>\n",
       "</table>\n",
       "<p>9197 rows × 4 columns</p>\n",
       "</div>"
      ],
      "text/plain": [
       "         index                                    positive_prompt  \\\n",
       "0        50394  beautiful painting by jeremy mann, only one he...   \n",
       "1        50403  beautiful painting by jeremy mann, alphonse mu...   \n",
       "2        54352  beautiful painting by jeremy mann, only one he...   \n",
       "3        56371  perfectly - centered!! looking at the camera!!...   \n",
       "4        73102  a extremely ultra highly detailed majestic hi ...   \n",
       "...        ...                                                ...   \n",
       "9231  13989691  a night photo of a minimalist contemporary hou...   \n",
       "9232  13989692  a night photo of a multistory minimalist conte...   \n",
       "9233  13994166  photorealistic emma watson closeup angry tired...   \n",
       "9234  13996179  emma watson conjoined closeup angry tired figh...   \n",
       "9235  13997168  photorealistic emma watson conjoined closeup a...   \n",
       "\n",
       "                         positive_hash  positive_raw_length  \n",
       "0     0ced9d76fd0731f1576c58f700545eb7                  618  \n",
       "1     93971a04c78bd3692f4396fffe6ccb33                  636  \n",
       "2     cad4f5c6b5fff00d9a70f50fdd45e56e                  624  \n",
       "3     7d2804cc0d5a724e42371396d5aefb91                  505  \n",
       "4     020db4f13e8ef108dd3a56062455d9ff                  654  \n",
       "...                                ...                  ...  \n",
       "9231  86869e189cd6549f7f6d498a788fd9aa                  524  \n",
       "9232  9ec7a7d8198da07eea754de9d08b27cd                  512  \n",
       "9233  6dc6e460f42514fb5ad9e8bf2eb988d2                  697  \n",
       "9234  acfbd2495b96a9ef1850ec2a95b5f995                  520  \n",
       "9235  dcb94e39ed9ba96e88d2a454220eaebd                  620  \n",
       "\n",
       "[9197 rows x 4 columns]"
      ]
     },
     "execution_count": 43,
     "metadata": {},
     "output_type": "execute_result"
    }
   ],
   "source": [
    "results = pd.DataFrame(results, columns=['index', 'positive_prompt', 'positive_hash', 'positive_raw_length'])\n",
    "results.drop_duplicates(['positive_hash'], inplace=True)\n",
    "\n",
    "results"
   ]
  },
  {
   "cell_type": "code",
   "execution_count": 44,
   "id": "ac4fa5ee-219f-4522-8f94-ef035957a42b",
   "metadata": {
    "tags": []
   },
   "outputs": [],
   "source": [
    "results.to_csv('../dataset/long-discord_prompts.tsv', sep='\\t', index=False)"
   ]
  },
  {
   "cell_type": "markdown",
   "id": "e21e9eed-2555-42ad-831b-81d198d897a1",
   "metadata": {},
   "source": [
    "# civitai"
   ]
  },
  {
   "cell_type": "code",
   "execution_count": 60,
   "id": "a8211f73-df36-492a-939e-4917c58ee4d4",
   "metadata": {
    "tags": []
   },
   "outputs": [
    {
     "name": "stderr",
     "output_type": "stream",
     "text": [
      "/sunjie/kk-digital/kcg-ml-image-pipeline/venv/lib/python3.10/site-packages/datasets/table.py:1421: FutureWarning: promote has been superseded by mode='default'.\n",
      "  table = cls._concat_blocks(blocks, axis=0)\n"
     ]
    }
   ],
   "source": [
    "dataset = datasets.load_dataset(\"parquet\", data_files={'train': '../dataset/civitai-stable-diffusion-337k/data/train-00000-of-00001-ace5b28cebba25a7.parquet'})"
   ]
  },
  {
   "cell_type": "code",
   "execution_count": 61,
   "id": "15c853d1-66d3-4e63-8f3d-6369e26ff440",
   "metadata": {
    "tags": []
   },
   "outputs": [
    {
     "data": {
      "text/plain": [
       "DatasetDict({\n",
       "    train: Dataset({\n",
       "        features: ['id', 'prompt', 'negativePrompt', 'steps', 'sampler', 'seed', 'Model', 'url', 'hash', 'nsfw', 'width', 'height', 'Size', 'createdAt', 'postId', 'stats', 'meta', 'username'],\n",
       "        num_rows: 327138\n",
       "    })\n",
       "})"
      ]
     },
     "execution_count": 61,
     "metadata": {},
     "output_type": "execute_result"
    }
   ],
   "source": [
    "dataset"
   ]
  },
  {
   "cell_type": "code",
   "execution_count": 62,
   "id": "e746b607-fb30-4aaa-b362-7f6ff0ea0886",
   "metadata": {
    "tags": []
   },
   "outputs": [
    {
     "data": {
      "text/plain": [
       "{'id': 100657,\n",
       " 'prompt': '<lora:hiqcg_body-epoch-000004:0.5>, <lora:hiqcg_face-epoch-000004:0.4>, hiqcgbody, hiqcgface, 1girl, full body, standing, \\ndetailed skin texture, detailed cloth texture,  beautiful detailed face,\\nmasterpiece, best quality, ultra detailed, 8k, intricate details,',\n",
       " 'negativePrompt': 'EasyNegative, extra fingers,fewer fingers, multiple girls, multiple views,',\n",
       " 'steps': 20.0,\n",
       " 'sampler': 'DPM++ 2M Karras',\n",
       " 'seed': 3994946333.0,\n",
       " 'Model': 'AbyssOrangeMix2_sfw',\n",
       " 'url': 'https://imagecache.civitai.com/xG1nkqKTMzGDvpLrqFT7WA/2338276a-87f7-4a1e-f92a-776a18ee4200/width=768/2338276a-87f7-4a1e-f92a-776a18ee4200.jpeg',\n",
       " 'hash': 'U5Exz_00.8D$t89Z%M0100~VD*RktQxaIU~p',\n",
       " 'nsfw': True,\n",
       " 'width': 768,\n",
       " 'height': 1368,\n",
       " 'Size': '512x912',\n",
       " 'createdAt': '2023-02-14T10:05:11.498Z',\n",
       " 'postId': 60841,\n",
       " 'stats': \"{'cryCount': 0, 'laughCount': 0, 'likeCount': 26, 'dislikeCount': 0, 'heartCount': 50, 'commentCount': 4}\",\n",
       " 'meta': \"{'ENSD': '31337', 'Size': '512x912', 'seed': 3994946333, 'Model': 'AbyssOrangeMix2_sfw', 'steps': 20, 'prompt': '<lora:hiqcg_body-epoch-000004:0.5>, <lora:hiqcg_face-epoch-000004:0.4>, hiqcgbody, hiqcgface, 1girl, full body, standing, \\\\ndetailed skin texture, detailed cloth texture,  beautiful detailed face,\\\\nmasterpiece, best quality, ultra detailed, 8k, intricate details,', 'sampler': 'DPM++ 2M Karras', 'cfgScale': 7, 'Clip skip': '2', 'resources': [{'hash': '038ba203d8', 'name': 'AbyssOrangeMix2_sfw', 'type': 'model'}], 'Model hash': '038ba203d8', 'Hires upscale': '1.5', 'Hires upscaler': 'Latent', 'negativePrompt': 'EasyNegative, extra fingers,fewer fingers, multiple girls, multiple views,', 'Denoising strength': '0.6'}\",\n",
       " 'username': 'NeoClassicalRibbon'}"
      ]
     },
     "execution_count": 62,
     "metadata": {},
     "output_type": "execute_result"
    }
   ],
   "source": [
    "dataset['train'][0]"
   ]
  },
  {
   "cell_type": "code",
   "execution_count": 63,
   "id": "2d94e3b9-d706-4609-ae01-74064177ecd7",
   "metadata": {
    "tags": []
   },
   "outputs": [
    {
     "name": "stderr",
     "output_type": "stream",
     "text": [
      "327138it [01:16, 4284.68it/s]\n"
     ]
    },
    {
     "data": {
      "text/plain": [
       "94348"
      ]
     },
     "execution_count": 63,
     "metadata": {},
     "output_type": "execute_result"
    }
   ],
   "source": [
    "results = list()\n",
    "\n",
    "for i, item in tqdm(enumerate(dataset['train'])):\n",
    "    \n",
    "    positive_prompt, positive_hash, positive_raw_length = '', '', 0\n",
    "    if item['prompt'] is not None and validate_prompt(item['prompt']) and not contains_link(item['prompt']) and not re.search('\\d{5,}', item['prompt']):\n",
    "        positive_prompt = format_prompt(item['prompt'])\n",
    "        positive_hash = hash_prompt(positive_prompt)\n",
    "        positive_raw_length = len(item['prompt'])\n",
    "    \n",
    "    negative_prompt, negative_hash, negative_raw_length = '', '', 0\n",
    "    if item['negativePrompt'] is not None and validate_prompt(item['negativePrompt']) and not contains_link(item['negativePrompt']) and not re.search('\\d{5,}', item['negativePrompt']):\n",
    "        negative_prompt = format_prompt(item['negativePrompt'])\n",
    "        negative_hash = hash_prompt(negative_prompt)\n",
    "        negative_raw_length = len(item['negativePrompt'])\n",
    "    \n",
    "    if len(positive_hash + negative_hash) == 0:\n",
    "        continue\n",
    "    \n",
    "    results.append((i, positive_prompt, positive_hash, positive_raw_length, negative_prompt, negative_hash, negative_raw_length))\n",
    "    \n",
    "len(results)"
   ]
  },
  {
   "cell_type": "code",
   "execution_count": 64,
   "id": "c52e68fa-dafe-452e-9427-1ece12ea5f54",
   "metadata": {
    "tags": []
   },
   "outputs": [
    {
     "data": {
      "text/html": [
       "<div>\n",
       "<style scoped>\n",
       "    .dataframe tbody tr th:only-of-type {\n",
       "        vertical-align: middle;\n",
       "    }\n",
       "\n",
       "    .dataframe tbody tr th {\n",
       "        vertical-align: top;\n",
       "    }\n",
       "\n",
       "    .dataframe thead th {\n",
       "        text-align: right;\n",
       "    }\n",
       "</style>\n",
       "<table border=\"1\" class=\"dataframe\">\n",
       "  <thead>\n",
       "    <tr style=\"text-align: right;\">\n",
       "      <th></th>\n",
       "      <th>index</th>\n",
       "      <th>positive_prompt</th>\n",
       "      <th>positive_hash</th>\n",
       "      <th>positive_raw_length</th>\n",
       "      <th>negative_prompt</th>\n",
       "      <th>negative_hash</th>\n",
       "      <th>negative_raw_length</th>\n",
       "    </tr>\n",
       "  </thead>\n",
       "  <tbody>\n",
       "    <tr>\n",
       "      <th>0</th>\n",
       "      <td>3</td>\n",
       "      <td>20 year old k-idol, (legs spread on cock:1.4),...</td>\n",
       "      <td>902137f79cb79089fcb9c7587407d1f2</td>\n",
       "      <td>627</td>\n",
       "      <td></td>\n",
       "      <td></td>\n",
       "      <td>0</td>\n",
       "    </tr>\n",
       "    <tr>\n",
       "      <th>1</th>\n",
       "      <td>5</td>\n",
       "      <td></td>\n",
       "      <td></td>\n",
       "      <td>0</td>\n",
       "      <td>(pubic hair:2), paintings, sketches, (worst qu...</td>\n",
       "      <td>5a67e23bef1d074e50f34db9d51e9af8</td>\n",
       "      <td>669</td>\n",
       "    </tr>\n",
       "    <tr>\n",
       "      <th>2</th>\n",
       "      <td>6</td>\n",
       "      <td>(8k, RAW photo:1.2),cityscape,(portrait:1.4),1...</td>\n",
       "      <td>74c8c3ed90c6e8cea6d56f316a956b0f</td>\n",
       "      <td>599</td>\n",
       "      <td>paintings, sketches, fingers, (worst quality:2...</td>\n",
       "      <td>cd5f4181fb008b932564211ef9d253ff</td>\n",
       "      <td>652</td>\n",
       "    </tr>\n",
       "    <tr>\n",
       "      <th>3</th>\n",
       "      <td>8</td>\n",
       "      <td>&lt;lora:fashionGirl_v20SmallFileSize:0.8&gt; unpara...</td>\n",
       "      <td>b529850151129b0b6667f3973433299c</td>\n",
       "      <td>620</td>\n",
       "      <td></td>\n",
       "      <td></td>\n",
       "      <td>0</td>\n",
       "    </tr>\n",
       "    <tr>\n",
       "      <th>4</th>\n",
       "      <td>11</td>\n",
       "      <td>(RAW photo:1.2), (photorealistic:1.4),(masterp...</td>\n",
       "      <td>75cdccf02173e44b58121ecf64f6320b</td>\n",
       "      <td>679</td>\n",
       "      <td>paintings, sketches, (worst quality:2), (low q...</td>\n",
       "      <td>559d97422a99f14bbe1adbb3b4de3575</td>\n",
       "      <td>678</td>\n",
       "    </tr>\n",
       "    <tr>\n",
       "      <th>...</th>\n",
       "      <td>...</td>\n",
       "      <td>...</td>\n",
       "      <td>...</td>\n",
       "      <td>...</td>\n",
       "      <td>...</td>\n",
       "      <td>...</td>\n",
       "      <td>...</td>\n",
       "    </tr>\n",
       "    <tr>\n",
       "      <th>94333</th>\n",
       "      <td>325768</td>\n",
       "      <td></td>\n",
       "      <td></td>\n",
       "      <td>0</td>\n",
       "      <td>nsfw, lowres, bad anatomy, bad hands, text, er...</td>\n",
       "      <td>7f003b0df3a84d650e83c7beca385f47</td>\n",
       "      <td>896</td>\n",
       "    </tr>\n",
       "    <tr>\n",
       "      <th>94334</th>\n",
       "      <td>325769</td>\n",
       "      <td></td>\n",
       "      <td></td>\n",
       "      <td>0</td>\n",
       "      <td>nsfw, lowres, bad anatomy, bad hands, text, er...</td>\n",
       "      <td>7b25ee4860c02bb6ec551e62011091f8</td>\n",
       "      <td>820</td>\n",
       "    </tr>\n",
       "    <tr>\n",
       "      <th>94336</th>\n",
       "      <td>325771</td>\n",
       "      <td></td>\n",
       "      <td></td>\n",
       "      <td>0</td>\n",
       "      <td>nsfw, lowres, bad anatomy, bad hands, text, er...</td>\n",
       "      <td>86d87eb24cc7f14137a294780590f2cc</td>\n",
       "      <td>816</td>\n",
       "    </tr>\n",
       "    <tr>\n",
       "      <th>94343</th>\n",
       "      <td>326173</td>\n",
       "      <td>fisheye, 1girl, bangs, black long hair, blush,...</td>\n",
       "      <td>3f73ab1a2062a3bafefa3b64e1d92746</td>\n",
       "      <td>531</td>\n",
       "      <td></td>\n",
       "      <td></td>\n",
       "      <td>0</td>\n",
       "    </tr>\n",
       "    <tr>\n",
       "      <th>94346</th>\n",
       "      <td>326389</td>\n",
       "      <td></td>\n",
       "      <td></td>\n",
       "      <td>0</td>\n",
       "      <td>(((duplicate))), ((mole)), ((blemish)), ((morb...</td>\n",
       "      <td>d27eb6582e673048baa5b70c4f11ea49</td>\n",
       "      <td>562</td>\n",
       "    </tr>\n",
       "  </tbody>\n",
       "</table>\n",
       "<p>41619 rows × 7 columns</p>\n",
       "</div>"
      ],
      "text/plain": [
       "        index                                    positive_prompt  \\\n",
       "0           3  20 year old k-idol, (legs spread on cock:1.4),...   \n",
       "1           5                                                      \n",
       "2           6  (8k, RAW photo:1.2),cityscape,(portrait:1.4),1...   \n",
       "3           8  <lora:fashionGirl_v20SmallFileSize:0.8> unpara...   \n",
       "4          11  (RAW photo:1.2), (photorealistic:1.4),(masterp...   \n",
       "...       ...                                                ...   \n",
       "94333  325768                                                      \n",
       "94334  325769                                                      \n",
       "94336  325771                                                      \n",
       "94343  326173  fisheye, 1girl, bangs, black long hair, blush,...   \n",
       "94346  326389                                                      \n",
       "\n",
       "                          positive_hash  positive_raw_length  \\\n",
       "0      902137f79cb79089fcb9c7587407d1f2                  627   \n",
       "1                                                          0   \n",
       "2      74c8c3ed90c6e8cea6d56f316a956b0f                  599   \n",
       "3      b529850151129b0b6667f3973433299c                  620   \n",
       "4      75cdccf02173e44b58121ecf64f6320b                  679   \n",
       "...                                 ...                  ...   \n",
       "94333                                                      0   \n",
       "94334                                                      0   \n",
       "94336                                                      0   \n",
       "94343  3f73ab1a2062a3bafefa3b64e1d92746                  531   \n",
       "94346                                                      0   \n",
       "\n",
       "                                         negative_prompt  \\\n",
       "0                                                          \n",
       "1      (pubic hair:2), paintings, sketches, (worst qu...   \n",
       "2      paintings, sketches, fingers, (worst quality:2...   \n",
       "3                                                          \n",
       "4      paintings, sketches, (worst quality:2), (low q...   \n",
       "...                                                  ...   \n",
       "94333  nsfw, lowres, bad anatomy, bad hands, text, er...   \n",
       "94334  nsfw, lowres, bad anatomy, bad hands, text, er...   \n",
       "94336  nsfw, lowres, bad anatomy, bad hands, text, er...   \n",
       "94343                                                      \n",
       "94346  (((duplicate))), ((mole)), ((blemish)), ((morb...   \n",
       "\n",
       "                          negative_hash  negative_raw_length  \n",
       "0                                                          0  \n",
       "1      5a67e23bef1d074e50f34db9d51e9af8                  669  \n",
       "2      cd5f4181fb008b932564211ef9d253ff                  652  \n",
       "3                                                          0  \n",
       "4      559d97422a99f14bbe1adbb3b4de3575                  678  \n",
       "...                                 ...                  ...  \n",
       "94333  7f003b0df3a84d650e83c7beca385f47                  896  \n",
       "94334  7b25ee4860c02bb6ec551e62011091f8                  820  \n",
       "94336  86d87eb24cc7f14137a294780590f2cc                  816  \n",
       "94343                                                      0  \n",
       "94346  d27eb6582e673048baa5b70c4f11ea49                  562  \n",
       "\n",
       "[41619 rows x 7 columns]"
      ]
     },
     "execution_count": 64,
     "metadata": {},
     "output_type": "execute_result"
    }
   ],
   "source": [
    "results = pd.DataFrame(results, columns=['index', 'positive_prompt', 'positive_hash', 'positive_raw_length', 'negative_prompt', 'negative_hash', 'negative_raw_length'])\n",
    "results.drop_duplicates(['positive_hash', 'negative_hash'], inplace=True)\n",
    "\n",
    "results"
   ]
  },
  {
   "cell_type": "code",
   "execution_count": 65,
   "id": "23d0baa4-cc11-4cdb-a971-8b500a68f2a7",
   "metadata": {
    "tags": []
   },
   "outputs": [],
   "source": [
    "df = results"
   ]
  },
  {
   "cell_type": "code",
   "execution_count": 124,
   "id": "ca3827a9-6610-4cd6-a0e3-10e9a2f546c4",
   "metadata": {
    "tags": []
   },
   "outputs": [],
   "source": [
    "def worker(prompt):\n",
    "    \n",
    "    prompt = remove_extra(prompt)\n",
    "    \n",
    "    prompt = remove_weight(prompt)\n",
    "    \n",
    "    prompt = remove_complex(prompt)\n",
    "    \n",
    "    prompt = remove_brackets(prompt)\n",
    "    \n",
    "    prompt = format_prompt(prompt)\n",
    "    \n",
    "    prompt = prompt.lower()\n",
    "    \n",
    "    prompt = remove_redundancy(prompt)\n",
    "    \n",
    "    prompt = format_prompt(prompt)\n",
    "    \n",
    "    return prompt"
   ]
  },
  {
   "cell_type": "code",
   "execution_count": 83,
   "id": "173a3f26-218b-49e0-9be6-4fc4737d9075",
   "metadata": {
    "tags": []
   },
   "outputs": [
    {
     "name": "stderr",
     "output_type": "stream",
     "text": [
      "41619it [00:25, 1614.17it/s]\n"
     ]
    }
   ],
   "source": [
    "results = list()\n",
    "\n",
    "for index, positive_prompt, positive_hash, positive_raw_length, negative_prompt, negative_hash, negative_raw_length in tqdm(df.itertuples(index=False, name=None)):\n",
    "        \n",
    "        positive_hash = ''\n",
    "        if type(positive_prompt) == str:\n",
    "            positive_prompt = worker(positive_prompt)\n",
    "            if is_long(positive_prompt):\n",
    "                positive_hash = hash_prompt(positive_prompt)\n",
    "                    \n",
    "        negative_hash = ''\n",
    "        if type(negative_prompt) == str:\n",
    "            negative_prompt = worker(negative_prompt)\n",
    "            if is_long(negative_prompt):\n",
    "                negative_hash = hash_prompt(negative_prompt)\n",
    "        \n",
    "        if positive_hash == '' and negative_hash == '':\n",
    "            continue\n",
    "\n",
    "        results.append((index, positive_prompt, positive_hash, positive_raw_length, negative_prompt, negative_hash, negative_raw_length))"
   ]
  },
  {
   "cell_type": "code",
   "execution_count": 84,
   "id": "f74cecd1-d6e9-4137-8de2-3d506190af7d",
   "metadata": {
    "tags": []
   },
   "outputs": [
    {
     "data": {
      "text/html": [
       "<div>\n",
       "<style scoped>\n",
       "    .dataframe tbody tr th:only-of-type {\n",
       "        vertical-align: middle;\n",
       "    }\n",
       "\n",
       "    .dataframe tbody tr th {\n",
       "        vertical-align: top;\n",
       "    }\n",
       "\n",
       "    .dataframe thead th {\n",
       "        text-align: right;\n",
       "    }\n",
       "</style>\n",
       "<table border=\"1\" class=\"dataframe\">\n",
       "  <thead>\n",
       "    <tr style=\"text-align: right;\">\n",
       "      <th></th>\n",
       "      <th>index</th>\n",
       "      <th>positive_prompt</th>\n",
       "      <th>positive_hash</th>\n",
       "      <th>positive_raw_length</th>\n",
       "      <th>negative_prompt</th>\n",
       "      <th>negative_hash</th>\n",
       "      <th>negative_raw_length</th>\n",
       "    </tr>\n",
       "  </thead>\n",
       "  <tbody>\n",
       "    <tr>\n",
       "      <th>0</th>\n",
       "      <td>5</td>\n",
       "      <td></td>\n",
       "      <td></td>\n",
       "      <td>0</td>\n",
       "      <td>pubic hair, paintings, sketches, worst quality...</td>\n",
       "      <td>6f4cea02c4539931989e9c5c02ac6c18</td>\n",
       "      <td>669</td>\n",
       "    </tr>\n",
       "    <tr>\n",
       "      <th>1</th>\n",
       "      <td>6</td>\n",
       "      <td>8k, raw photo, cityscape, portrait, 1girl, lon...</td>\n",
       "      <td></td>\n",
       "      <td>599</td>\n",
       "      <td>paintings, sketches, fingers, worst quality, l...</td>\n",
       "      <td>36e418acf25ce2c7af8ee6bed0e4a288</td>\n",
       "      <td>652</td>\n",
       "    </tr>\n",
       "    <tr>\n",
       "      <th>2</th>\n",
       "      <td>8</td>\n",
       "      <td>unparalleled masterpiece, ultra realistic 8k c...</td>\n",
       "      <td>81fa53a0e33bd637aa27d5d13e15cc94</td>\n",
       "      <td>620</td>\n",
       "      <td></td>\n",
       "      <td></td>\n",
       "      <td>0</td>\n",
       "    </tr>\n",
       "    <tr>\n",
       "      <th>3</th>\n",
       "      <td>11</td>\n",
       "      <td>raw photo, photorealistic, masterpiece, best q...</td>\n",
       "      <td>de09ca0fd886971cf8ac84eecf191230</td>\n",
       "      <td>679</td>\n",
       "      <td>paintings, sketches, worst quality, low qualit...</td>\n",
       "      <td>3a748fa53f86e3ac8d30ac943acbcff5</td>\n",
       "      <td>678</td>\n",
       "    </tr>\n",
       "    <tr>\n",
       "      <th>4</th>\n",
       "      <td>12</td>\n",
       "      <td>raw photo, photorealistic, masterpiece, best q...</td>\n",
       "      <td>5eca6a564af2445057ac90cebea52ea9</td>\n",
       "      <td>675</td>\n",
       "      <td>paintings, sketches, worst quality, low qualit...</td>\n",
       "      <td>3a748fa53f86e3ac8d30ac943acbcff5</td>\n",
       "      <td>678</td>\n",
       "    </tr>\n",
       "    <tr>\n",
       "      <th>...</th>\n",
       "      <td>...</td>\n",
       "      <td>...</td>\n",
       "      <td>...</td>\n",
       "      <td>...</td>\n",
       "      <td>...</td>\n",
       "      <td>...</td>\n",
       "      <td>...</td>\n",
       "    </tr>\n",
       "    <tr>\n",
       "      <th>35878</th>\n",
       "      <td>325670</td>\n",
       "      <td></td>\n",
       "      <td></td>\n",
       "      <td>0</td>\n",
       "      <td>wet pussy, cum in pussy, purple lips, deformed...</td>\n",
       "      <td>b94640f6447e4e471fa7e5f2a88d429d</td>\n",
       "      <td>637</td>\n",
       "    </tr>\n",
       "    <tr>\n",
       "      <th>35879</th>\n",
       "      <td>325768</td>\n",
       "      <td></td>\n",
       "      <td></td>\n",
       "      <td>0</td>\n",
       "      <td>nsfw, lowres, bad anatomy, bad hands, text, er...</td>\n",
       "      <td>7f003b0df3a84d650e83c7beca385f47</td>\n",
       "      <td>896</td>\n",
       "    </tr>\n",
       "    <tr>\n",
       "      <th>35880</th>\n",
       "      <td>325769</td>\n",
       "      <td></td>\n",
       "      <td></td>\n",
       "      <td>0</td>\n",
       "      <td>nsfw, lowres, bad anatomy, bad hands, text, er...</td>\n",
       "      <td>7b25ee4860c02bb6ec551e62011091f8</td>\n",
       "      <td>820</td>\n",
       "    </tr>\n",
       "    <tr>\n",
       "      <th>35881</th>\n",
       "      <td>325771</td>\n",
       "      <td></td>\n",
       "      <td></td>\n",
       "      <td>0</td>\n",
       "      <td>nsfw, lowres, bad anatomy, bad hands, text, er...</td>\n",
       "      <td>86d87eb24cc7f14137a294780590f2cc</td>\n",
       "      <td>816</td>\n",
       "    </tr>\n",
       "    <tr>\n",
       "      <th>35882</th>\n",
       "      <td>326173</td>\n",
       "      <td>fisheye, 1girl, bangs, black long hair, blush,...</td>\n",
       "      <td>3f73ab1a2062a3bafefa3b64e1d92746</td>\n",
       "      <td>531</td>\n",
       "      <td></td>\n",
       "      <td></td>\n",
       "      <td>0</td>\n",
       "    </tr>\n",
       "  </tbody>\n",
       "</table>\n",
       "<p>31717 rows × 7 columns</p>\n",
       "</div>"
      ],
      "text/plain": [
       "        index                                    positive_prompt  \\\n",
       "0           5                                                      \n",
       "1           6  8k, raw photo, cityscape, portrait, 1girl, lon...   \n",
       "2           8  unparalleled masterpiece, ultra realistic 8k c...   \n",
       "3          11  raw photo, photorealistic, masterpiece, best q...   \n",
       "4          12  raw photo, photorealistic, masterpiece, best q...   \n",
       "...       ...                                                ...   \n",
       "35878  325670                                                      \n",
       "35879  325768                                                      \n",
       "35880  325769                                                      \n",
       "35881  325771                                                      \n",
       "35882  326173  fisheye, 1girl, bangs, black long hair, blush,...   \n",
       "\n",
       "                          positive_hash  positive_raw_length  \\\n",
       "0                                                          0   \n",
       "1                                                        599   \n",
       "2      81fa53a0e33bd637aa27d5d13e15cc94                  620   \n",
       "3      de09ca0fd886971cf8ac84eecf191230                  679   \n",
       "4      5eca6a564af2445057ac90cebea52ea9                  675   \n",
       "...                                 ...                  ...   \n",
       "35878                                                      0   \n",
       "35879                                                      0   \n",
       "35880                                                      0   \n",
       "35881                                                      0   \n",
       "35882  3f73ab1a2062a3bafefa3b64e1d92746                  531   \n",
       "\n",
       "                                         negative_prompt  \\\n",
       "0      pubic hair, paintings, sketches, worst quality...   \n",
       "1      paintings, sketches, fingers, worst quality, l...   \n",
       "2                                                          \n",
       "3      paintings, sketches, worst quality, low qualit...   \n",
       "4      paintings, sketches, worst quality, low qualit...   \n",
       "...                                                  ...   \n",
       "35878  wet pussy, cum in pussy, purple lips, deformed...   \n",
       "35879  nsfw, lowres, bad anatomy, bad hands, text, er...   \n",
       "35880  nsfw, lowres, bad anatomy, bad hands, text, er...   \n",
       "35881  nsfw, lowres, bad anatomy, bad hands, text, er...   \n",
       "35882                                                      \n",
       "\n",
       "                          negative_hash  negative_raw_length  \n",
       "0      6f4cea02c4539931989e9c5c02ac6c18                  669  \n",
       "1      36e418acf25ce2c7af8ee6bed0e4a288                  652  \n",
       "2                                                          0  \n",
       "3      3a748fa53f86e3ac8d30ac943acbcff5                  678  \n",
       "4      3a748fa53f86e3ac8d30ac943acbcff5                  678  \n",
       "...                                 ...                  ...  \n",
       "35878  b94640f6447e4e471fa7e5f2a88d429d                  637  \n",
       "35879  7f003b0df3a84d650e83c7beca385f47                  896  \n",
       "35880  7b25ee4860c02bb6ec551e62011091f8                  820  \n",
       "35881  86d87eb24cc7f14137a294780590f2cc                  816  \n",
       "35882                                                      0  \n",
       "\n",
       "[31717 rows x 7 columns]"
      ]
     },
     "execution_count": 84,
     "metadata": {},
     "output_type": "execute_result"
    }
   ],
   "source": [
    "results = pd.DataFrame(results, columns=['index', 'positive_prompt', 'positive_hash', 'positive_raw_length', 'negative_prompt', 'negative_hash', 'negative_raw_length'])\n",
    "results.drop_duplicates(['positive_hash', 'negative_hash'], inplace=True)\n",
    "\n",
    "results"
   ]
  },
  {
   "cell_type": "code",
   "execution_count": 85,
   "id": "7fb20fa1-89e4-4d25-a309-06a37304e47d",
   "metadata": {
    "tags": []
   },
   "outputs": [],
   "source": [
    "results.to_csv('../dataset/long-civitai_prompts.tsv', sep='\\t', index=False)"
   ]
  },
  {
   "cell_type": "markdown",
   "id": "6bb5f269-fc14-4a99-86b3-8f92b84cd7f2",
   "metadata": {},
   "source": [
    "# lexica"
   ]
  },
  {
   "cell_type": "code",
   "execution_count": 86,
   "id": "c0205363-90f5-4ff6-9cb2-33b34413a992",
   "metadata": {
    "tags": []
   },
   "outputs": [],
   "source": [
    "dataset = datasets.load_dataset(\"parquet\", data_files={\n",
    "    'train': '../dataset/Stable-Diffusion-Prompts/data/train.parquet',\n",
    "    'eval': '../dataset/Stable-Diffusion-Prompts/data/eval.parquet'\n",
    "})"
   ]
  },
  {
   "cell_type": "code",
   "execution_count": 87,
   "id": "afda8839-0da8-4553-b246-010236aec51a",
   "metadata": {
    "tags": []
   },
   "outputs": [
    {
     "data": {
      "text/plain": [
       "DatasetDict({\n",
       "    train: Dataset({\n",
       "        features: ['Prompt'],\n",
       "        num_rows: 73718\n",
       "    })\n",
       "    eval: Dataset({\n",
       "        features: ['Prompt'],\n",
       "        num_rows: 8192\n",
       "    })\n",
       "})"
      ]
     },
     "execution_count": 87,
     "metadata": {},
     "output_type": "execute_result"
    }
   ],
   "source": [
    "dataset"
   ]
  },
  {
   "cell_type": "code",
   "execution_count": 88,
   "id": "fb09ca33-4cdc-406a-9977-ec48b10382fe",
   "metadata": {
    "tags": []
   },
   "outputs": [
    {
     "data": {
      "text/plain": [
       "{'Prompt': 'realistic car 3 d render sci - fi car and sci - fi robotic factory structure in the coronation of napoleon painting and digital billboard with point cloud in the middle, unreal engine 5, keyshot, octane, artstation trending, ultra high detail, ultra realistic, cinematic, 8 k, 1 6 k, in style of zaha hadid, in style of nanospace michael menzelincev, in style of lee souder, in plastic, dark atmosphere, tilt shift, depth of field,'}"
      ]
     },
     "execution_count": 88,
     "metadata": {},
     "output_type": "execute_result"
    }
   ],
   "source": [
    "dataset['train'][0]"
   ]
  },
  {
   "cell_type": "code",
   "execution_count": 89,
   "id": "524126e5-3ef3-483a-afd7-9100d2e0c903",
   "metadata": {
    "tags": []
   },
   "outputs": [
    {
     "name": "stderr",
     "output_type": "stream",
     "text": [
      "73718it [00:01, 40422.07it/s]\n"
     ]
    },
    {
     "data": {
      "text/plain": [
       "1344"
      ]
     },
     "execution_count": 89,
     "metadata": {},
     "output_type": "execute_result"
    }
   ],
   "source": [
    "results = list()\n",
    "\n",
    "for i, item in tqdm(enumerate(dataset['train'])):\n",
    "    \n",
    "    if not validate_prompt(item['Prompt']):\n",
    "        continue\n",
    " \n",
    "    if contains_link(item['Prompt']):\n",
    "        continue\n",
    "\n",
    "    if re.search('\\d{5,}', item['Prompt']):\n",
    "        continue\n",
    "\n",
    "    positive_prompt = format_prompt(item['Prompt'])\n",
    "    \n",
    "    if len(positive_prompt) == 0:\n",
    "        continue\n",
    "        \n",
    "    positive_hash = hash_prompt(positive_prompt)\n",
    "    positive_raw_length = len(item['Prompt'])\n",
    "    \n",
    "    results.append((i, positive_prompt, positive_hash, positive_raw_length))\n",
    "    \n",
    "len(results)"
   ]
  },
  {
   "cell_type": "code",
   "execution_count": 96,
   "id": "edfc37af-252c-4b74-92ac-b9b6be17755e",
   "metadata": {
    "tags": []
   },
   "outputs": [
    {
     "data": {
      "text/html": [
       "<div>\n",
       "<style scoped>\n",
       "    .dataframe tbody tr th:only-of-type {\n",
       "        vertical-align: middle;\n",
       "    }\n",
       "\n",
       "    .dataframe tbody tr th {\n",
       "        vertical-align: top;\n",
       "    }\n",
       "\n",
       "    .dataframe thead th {\n",
       "        text-align: right;\n",
       "    }\n",
       "</style>\n",
       "<table border=\"1\" class=\"dataframe\">\n",
       "  <thead>\n",
       "    <tr style=\"text-align: right;\">\n",
       "      <th></th>\n",
       "      <th>index</th>\n",
       "      <th>positive_prompt</th>\n",
       "      <th>positive_hash</th>\n",
       "      <th>positive_raw_length</th>\n",
       "    </tr>\n",
       "  </thead>\n",
       "  <tbody>\n",
       "    <tr>\n",
       "      <th>0</th>\n",
       "      <td>193</td>\n",
       "      <td>glowing cracks, elven princess, meditating, pe...</td>\n",
       "      <td>5dd89f21b93f6c7f103b81a12d5a780e</td>\n",
       "      <td>617</td>\n",
       "    </tr>\n",
       "    <tr>\n",
       "      <th>1</th>\n",
       "      <td>236</td>\n",
       "      <td>a highly detailed epic cinematic concept art C...</td>\n",
       "      <td>1bdecd01416c240f0fa65cc1ae5a5046</td>\n",
       "      <td>514</td>\n",
       "    </tr>\n",
       "    <tr>\n",
       "      <th>2</th>\n",
       "      <td>281</td>\n",
       "      <td>medieval hobbit homes, ornate, beautiful, atmo...</td>\n",
       "      <td>d47517a214618138d9bb4663bfa7c35f</td>\n",
       "      <td>509</td>\n",
       "    </tr>\n",
       "    <tr>\n",
       "      <th>3</th>\n",
       "      <td>348</td>\n",
       "      <td>baroque and cyberpunk style full-body sculptur...</td>\n",
       "      <td>f4adf90ee2ad05a2e80f31b2634d30ce</td>\n",
       "      <td>526</td>\n",
       "    </tr>\n",
       "    <tr>\n",
       "      <th>4</th>\n",
       "      <td>387</td>\n",
       "      <td>old pipe organ near lake with battle raging ne...</td>\n",
       "      <td>a22a573c3fec9d5d466ed479557fe4d6</td>\n",
       "      <td>545</td>\n",
       "    </tr>\n",
       "    <tr>\n",
       "      <th>...</th>\n",
       "      <td>...</td>\n",
       "      <td>...</td>\n",
       "      <td>...</td>\n",
       "      <td>...</td>\n",
       "    </tr>\n",
       "    <tr>\n",
       "      <th>123</th>\n",
       "      <td>7799</td>\n",
       "      <td>a painting of a XXL wise elder from Kenya in a...</td>\n",
       "      <td>f1decd18757e502971d9f7464c5a74bf</td>\n",
       "      <td>520</td>\n",
       "    </tr>\n",
       "    <tr>\n",
       "      <th>124</th>\n",
       "      <td>7966</td>\n",
       "      <td>photo of a emo manic pixie dream girl, 8 k, po...</td>\n",
       "      <td>fa1f2a22c2b38ec9e0352326624b5b95</td>\n",
       "      <td>711</td>\n",
       "    </tr>\n",
       "    <tr>\n",
       "      <th>125</th>\n",
       "      <td>7986</td>\n",
       "      <td>An extremely psychedelic portrait of SalvadorD...</td>\n",
       "      <td>6974e6566dff3bc4d0310201e9d58db1</td>\n",
       "      <td>503</td>\n",
       "    </tr>\n",
       "    <tr>\n",
       "      <th>126</th>\n",
       "      <td>8166</td>\n",
       "      <td>photo of an extremely cute alien fish swimming...</td>\n",
       "      <td>6ce7273ac895d97f140ad964d1ff41cb</td>\n",
       "      <td>575</td>\n",
       "    </tr>\n",
       "    <tr>\n",
       "      <th>127</th>\n",
       "      <td>8172</td>\n",
       "      <td>close-up macro portrait of a Cthulhu and other...</td>\n",
       "      <td>e5cecf88c7b3701660e6b57607e17487</td>\n",
       "      <td>618</td>\n",
       "    </tr>\n",
       "  </tbody>\n",
       "</table>\n",
       "<p>127 rows × 4 columns</p>\n",
       "</div>"
      ],
      "text/plain": [
       "     index                                    positive_prompt  \\\n",
       "0      193  glowing cracks, elven princess, meditating, pe...   \n",
       "1      236  a highly detailed epic cinematic concept art C...   \n",
       "2      281  medieval hobbit homes, ornate, beautiful, atmo...   \n",
       "3      348  baroque and cyberpunk style full-body sculptur...   \n",
       "4      387  old pipe organ near lake with battle raging ne...   \n",
       "..     ...                                                ...   \n",
       "123   7799  a painting of a XXL wise elder from Kenya in a...   \n",
       "124   7966  photo of a emo manic pixie dream girl, 8 k, po...   \n",
       "125   7986  An extremely psychedelic portrait of SalvadorD...   \n",
       "126   8166  photo of an extremely cute alien fish swimming...   \n",
       "127   8172  close-up macro portrait of a Cthulhu and other...   \n",
       "\n",
       "                        positive_hash  positive_raw_length  \n",
       "0    5dd89f21b93f6c7f103b81a12d5a780e                  617  \n",
       "1    1bdecd01416c240f0fa65cc1ae5a5046                  514  \n",
       "2    d47517a214618138d9bb4663bfa7c35f                  509  \n",
       "3    f4adf90ee2ad05a2e80f31b2634d30ce                  526  \n",
       "4    a22a573c3fec9d5d466ed479557fe4d6                  545  \n",
       "..                                ...                  ...  \n",
       "123  f1decd18757e502971d9f7464c5a74bf                  520  \n",
       "124  fa1f2a22c2b38ec9e0352326624b5b95                  711  \n",
       "125  6974e6566dff3bc4d0310201e9d58db1                  503  \n",
       "126  6ce7273ac895d97f140ad964d1ff41cb                  575  \n",
       "127  e5cecf88c7b3701660e6b57607e17487                  618  \n",
       "\n",
       "[127 rows x 4 columns]"
      ]
     },
     "execution_count": 96,
     "metadata": {},
     "output_type": "execute_result"
    }
   ],
   "source": [
    "results = pd.DataFrame(results, columns=['index', 'positive_prompt', 'positive_hash', 'positive_raw_length'])\n",
    "results.drop_duplicates(['positive_hash'], inplace=True)\n",
    "\n",
    "results"
   ]
  },
  {
   "cell_type": "code",
   "execution_count": 97,
   "id": "e4e85cf9-e2f1-4be6-968e-790d6eac6c25",
   "metadata": {
    "tags": []
   },
   "outputs": [],
   "source": [
    "df = results"
   ]
  },
  {
   "cell_type": "code",
   "execution_count": 98,
   "id": "d29f4eea-4350-4a11-9460-8fc4cddbbe0a",
   "metadata": {
    "tags": []
   },
   "outputs": [
    {
     "name": "stderr",
     "output_type": "stream",
     "text": [
      "127it [00:00, 2207.54it/s]\n"
     ]
    }
   ],
   "source": [
    "results = list()\n",
    "\n",
    "for index, positive_prompt, positive_hash, positive_raw_length in tqdm(df.itertuples(index=False, name=None)):\n",
    "\n",
    "    if type(positive_prompt) != str:\n",
    "        continue\n",
    "        \n",
    "    positive_prompt = worker(positive_prompt)\n",
    "    if not is_long(positive_prompt):\n",
    "        continue\n",
    "        \n",
    "    positive_hash = hash_prompt(positive_prompt)\n",
    "\n",
    "    results.append((index, positive_prompt, positive_hash, positive_raw_length))"
   ]
  },
  {
   "cell_type": "code",
   "execution_count": 99,
   "id": "cb3e12f5-d108-4065-a563-0f9c8e9912f9",
   "metadata": {
    "tags": []
   },
   "outputs": [
    {
     "data": {
      "text/html": [
       "<div>\n",
       "<style scoped>\n",
       "    .dataframe tbody tr th:only-of-type {\n",
       "        vertical-align: middle;\n",
       "    }\n",
       "\n",
       "    .dataframe tbody tr th {\n",
       "        vertical-align: top;\n",
       "    }\n",
       "\n",
       "    .dataframe thead th {\n",
       "        text-align: right;\n",
       "    }\n",
       "</style>\n",
       "<table border=\"1\" class=\"dataframe\">\n",
       "  <thead>\n",
       "    <tr style=\"text-align: right;\">\n",
       "      <th></th>\n",
       "      <th>index</th>\n",
       "      <th>positive_prompt</th>\n",
       "      <th>positive_hash</th>\n",
       "      <th>positive_raw_length</th>\n",
       "    </tr>\n",
       "  </thead>\n",
       "  <tbody>\n",
       "    <tr>\n",
       "      <th>0</th>\n",
       "      <td>193</td>\n",
       "      <td>glowing cracks, elven princess, meditating, pe...</td>\n",
       "      <td>5dd89f21b93f6c7f103b81a12d5a780e</td>\n",
       "      <td>617</td>\n",
       "    </tr>\n",
       "    <tr>\n",
       "      <th>1</th>\n",
       "      <td>236</td>\n",
       "      <td>a highly detailed epic cinematic concept art c...</td>\n",
       "      <td>27bdb178dc01c4c661385846e07a3c84</td>\n",
       "      <td>514</td>\n",
       "    </tr>\n",
       "    <tr>\n",
       "      <th>2</th>\n",
       "      <td>281</td>\n",
       "      <td>medieval hobbit homes, ornate, beautiful, atmo...</td>\n",
       "      <td>d47517a214618138d9bb4663bfa7c35f</td>\n",
       "      <td>509</td>\n",
       "    </tr>\n",
       "    <tr>\n",
       "      <th>3</th>\n",
       "      <td>348</td>\n",
       "      <td>baroque and cyberpunk style full-body sculptur...</td>\n",
       "      <td>9b6deeb14f9a779624003a5430256e27</td>\n",
       "      <td>526</td>\n",
       "    </tr>\n",
       "    <tr>\n",
       "      <th>4</th>\n",
       "      <td>387</td>\n",
       "      <td>old pipe organ near lake with battle raging ne...</td>\n",
       "      <td>a22a573c3fec9d5d466ed479557fe4d6</td>\n",
       "      <td>545</td>\n",
       "    </tr>\n",
       "    <tr>\n",
       "      <th>...</th>\n",
       "      <td>...</td>\n",
       "      <td>...</td>\n",
       "      <td>...</td>\n",
       "      <td>...</td>\n",
       "    </tr>\n",
       "    <tr>\n",
       "      <th>121</th>\n",
       "      <td>7616</td>\n",
       "      <td>cyber punk, oni mask, 3 d render beeple, portr...</td>\n",
       "      <td>63c3ead6b04e2b46d152003c1d6ef4cf</td>\n",
       "      <td>786</td>\n",
       "    </tr>\n",
       "    <tr>\n",
       "      <th>122</th>\n",
       "      <td>7799</td>\n",
       "      <td>a painting of a xxl wise elder from kenya in a...</td>\n",
       "      <td>04f24f69218f1c276c494fc39cce40a3</td>\n",
       "      <td>520</td>\n",
       "    </tr>\n",
       "    <tr>\n",
       "      <th>123</th>\n",
       "      <td>7986</td>\n",
       "      <td>an extremely psychedelic portrait of salvadord...</td>\n",
       "      <td>d256ee51af8e3732e426dd024a2aec02</td>\n",
       "      <td>503</td>\n",
       "    </tr>\n",
       "    <tr>\n",
       "      <th>124</th>\n",
       "      <td>8166</td>\n",
       "      <td>photo of an extremely cute alien fish swimming...</td>\n",
       "      <td>aae4b477f13c22723874b32655c06786</td>\n",
       "      <td>575</td>\n",
       "    </tr>\n",
       "    <tr>\n",
       "      <th>125</th>\n",
       "      <td>8172</td>\n",
       "      <td>close-up macro portrait of a cthulhu and other...</td>\n",
       "      <td>bd0c818b95bb5a925546377b5b029dfc</td>\n",
       "      <td>618</td>\n",
       "    </tr>\n",
       "  </tbody>\n",
       "</table>\n",
       "<p>126 rows × 4 columns</p>\n",
       "</div>"
      ],
      "text/plain": [
       "     index                                    positive_prompt  \\\n",
       "0      193  glowing cracks, elven princess, meditating, pe...   \n",
       "1      236  a highly detailed epic cinematic concept art c...   \n",
       "2      281  medieval hobbit homes, ornate, beautiful, atmo...   \n",
       "3      348  baroque and cyberpunk style full-body sculptur...   \n",
       "4      387  old pipe organ near lake with battle raging ne...   \n",
       "..     ...                                                ...   \n",
       "121   7616  cyber punk, oni mask, 3 d render beeple, portr...   \n",
       "122   7799  a painting of a xxl wise elder from kenya in a...   \n",
       "123   7986  an extremely psychedelic portrait of salvadord...   \n",
       "124   8166  photo of an extremely cute alien fish swimming...   \n",
       "125   8172  close-up macro portrait of a cthulhu and other...   \n",
       "\n",
       "                        positive_hash  positive_raw_length  \n",
       "0    5dd89f21b93f6c7f103b81a12d5a780e                  617  \n",
       "1    27bdb178dc01c4c661385846e07a3c84                  514  \n",
       "2    d47517a214618138d9bb4663bfa7c35f                  509  \n",
       "3    9b6deeb14f9a779624003a5430256e27                  526  \n",
       "4    a22a573c3fec9d5d466ed479557fe4d6                  545  \n",
       "..                                ...                  ...  \n",
       "121  63c3ead6b04e2b46d152003c1d6ef4cf                  786  \n",
       "122  04f24f69218f1c276c494fc39cce40a3                  520  \n",
       "123  d256ee51af8e3732e426dd024a2aec02                  503  \n",
       "124  aae4b477f13c22723874b32655c06786                  575  \n",
       "125  bd0c818b95bb5a925546377b5b029dfc                  618  \n",
       "\n",
       "[126 rows x 4 columns]"
      ]
     },
     "execution_count": 99,
     "metadata": {},
     "output_type": "execute_result"
    }
   ],
   "source": [
    "results = pd.DataFrame(results, columns=['index', 'positive_prompt', 'positive_hash', 'positive_raw_length'])\n",
    "results.drop_duplicates(['positive_hash'], inplace=True)\n",
    "\n",
    "results"
   ]
  },
  {
   "cell_type": "code",
   "execution_count": 94,
   "id": "b0d4b32d-4181-4340-8615-2448c3aeabbf",
   "metadata": {
    "tags": []
   },
   "outputs": [],
   "source": [
    "results.to_csv('../dataset/long-lexica_prompts-train.tsv', sep='\\t', index=False)"
   ]
  },
  {
   "cell_type": "code",
   "execution_count": 95,
   "id": "e3ba043e-ef49-4842-814b-e81ba0d036d4",
   "metadata": {
    "tags": []
   },
   "outputs": [
    {
     "name": "stderr",
     "output_type": "stream",
     "text": [
      "8192it [00:00, 27876.93it/s]\n"
     ]
    },
    {
     "data": {
      "text/plain": [
       "128"
      ]
     },
     "execution_count": 95,
     "metadata": {},
     "output_type": "execute_result"
    }
   ],
   "source": [
    "results = list()\n",
    "\n",
    "for i, item in tqdm(enumerate(dataset['eval'])):\n",
    "    \n",
    "    if not validate_prompt(item['Prompt']):\n",
    "        continue\n",
    " \n",
    "    if contains_link(item['Prompt']):\n",
    "        continue\n",
    "\n",
    "    if re.search('\\d{5,}', item['Prompt']):\n",
    "        continue\n",
    "\n",
    "    positive_prompt = format_prompt(item['Prompt'])\n",
    "    \n",
    "    if len(positive_prompt) == 0:\n",
    "        continue\n",
    "        \n",
    "    positive_hash = hash_prompt(positive_prompt)\n",
    "    positive_raw_length = len(item['Prompt'])\n",
    "    \n",
    "    results.append((i, positive_prompt, positive_hash, positive_raw_length))\n",
    "    \n",
    "len(results)"
   ]
  },
  {
   "cell_type": "code",
   "execution_count": 100,
   "id": "314f0cab-f190-4e3a-93dd-d23e59c541d4",
   "metadata": {
    "tags": []
   },
   "outputs": [],
   "source": [
    "results.to_csv('../dataset/long-lexica_prompts-eval.tsv', sep='\\t', index=False)"
   ]
  },
  {
   "cell_type": "markdown",
   "id": "b08f7cdf-54b2-47e6-aa0c-6ed251d3afd6",
   "metadata": {},
   "source": [
    "# midjourney"
   ]
  },
  {
   "cell_type": "code",
   "execution_count": 102,
   "id": "637c55da-455e-4ad2-8b5e-1da91ab7b245",
   "metadata": {
    "tags": []
   },
   "outputs": [],
   "source": [
    "df = pd.read_csv('../dataset/nonredundant-midjourney_prompts.tsv', sep='\\t')"
   ]
  },
  {
   "cell_type": "code",
   "execution_count": 104,
   "id": "3bfe4b92-0175-4a2a-95a2-47363f2d08a7",
   "metadata": {
    "tags": []
   },
   "outputs": [
    {
     "name": "stderr",
     "output_type": "stream",
     "text": [
      "15525301it [00:08, 1736742.75it/s]\n"
     ]
    }
   ],
   "source": [
    "results = list()\n",
    "\n",
    "for index, positive_prompt, positive_hash, positive_raw_length in tqdm(df.itertuples(index=False, name=None)):\n",
    "\n",
    "    if not is_long(positive_prompt):\n",
    "        continue\n",
    "        \n",
    "    results.append((index, positive_prompt, positive_hash, positive_raw_length))"
   ]
  },
  {
   "cell_type": "code",
   "execution_count": 106,
   "id": "c06785a8-e730-494a-ae4d-dfa77d8c12c3",
   "metadata": {
    "tags": []
   },
   "outputs": [
    {
     "data": {
      "text/html": [
       "<div>\n",
       "<style scoped>\n",
       "    .dataframe tbody tr th:only-of-type {\n",
       "        vertical-align: middle;\n",
       "    }\n",
       "\n",
       "    .dataframe tbody tr th {\n",
       "        vertical-align: top;\n",
       "    }\n",
       "\n",
       "    .dataframe thead th {\n",
       "        text-align: right;\n",
       "    }\n",
       "</style>\n",
       "<table border=\"1\" class=\"dataframe\">\n",
       "  <thead>\n",
       "    <tr style=\"text-align: right;\">\n",
       "      <th></th>\n",
       "      <th>index</th>\n",
       "      <th>positive_prompt</th>\n",
       "      <th>positive_hash</th>\n",
       "      <th>positive_raw_length</th>\n",
       "    </tr>\n",
       "  </thead>\n",
       "  <tbody>\n",
       "    <tr>\n",
       "      <th>0</th>\n",
       "      <td>766</td>\n",
       "      <td>design a 2d schematic representation of a tire...</td>\n",
       "      <td>59fceccd0aad9af272dbd6a1dffee759</td>\n",
       "      <td>506</td>\n",
       "    </tr>\n",
       "    <tr>\n",
       "      <th>1</th>\n",
       "      <td>894</td>\n",
       "      <td>midget, you're a creative artist of the highes...</td>\n",
       "      <td>dbfe6562763c71db887f6dc1812f4cff</td>\n",
       "      <td>525</td>\n",
       "    </tr>\n",
       "    <tr>\n",
       "      <th>2</th>\n",
       "      <td>940</td>\n",
       "      <td>8k, 3d animated style, teen panda driving a su...</td>\n",
       "      <td>e810ce8acf85a4358a60114c84b50cc4</td>\n",
       "      <td>538</td>\n",
       "    </tr>\n",
       "    <tr>\n",
       "      <th>3</th>\n",
       "      <td>945</td>\n",
       "      <td>8k, 3d animated style, teen turtle driving a s...</td>\n",
       "      <td>dc4dd3df36b84b256ff723337eab2181</td>\n",
       "      <td>552</td>\n",
       "    </tr>\n",
       "    <tr>\n",
       "      <th>4</th>\n",
       "      <td>948</td>\n",
       "      <td>8k, 3d animated style, child turtle driving a ...</td>\n",
       "      <td>9484b1c93111e3920b04a2ec5a8063aa</td>\n",
       "      <td>554</td>\n",
       "    </tr>\n",
       "    <tr>\n",
       "      <th>...</th>\n",
       "      <td>...</td>\n",
       "      <td>...</td>\n",
       "      <td>...</td>\n",
       "      <td>...</td>\n",
       "    </tr>\n",
       "    <tr>\n",
       "      <th>204606</th>\n",
       "      <td>55080785</td>\n",
       "      <td>human brain, the human brain is a complex and ...</td>\n",
       "      <td>40d3481721056b33effe290c1d11e465</td>\n",
       "      <td>744</td>\n",
       "    </tr>\n",
       "    <tr>\n",
       "      <th>204607</th>\n",
       "      <td>55080850</td>\n",
       "      <td>fist human hand, a human hand has transformed ...</td>\n",
       "      <td>38702aaec0a05e49f51d4b233d44bb8d</td>\n",
       "      <td>666</td>\n",
       "    </tr>\n",
       "    <tr>\n",
       "      <th>204608</th>\n",
       "      <td>55080906</td>\n",
       "      <td>chrono fist human hand, a human hand has trans...</td>\n",
       "      <td>3e829007231bc5730545fdf0ce42b2f5</td>\n",
       "      <td>700</td>\n",
       "    </tr>\n",
       "    <tr>\n",
       "      <th>204609</th>\n",
       "      <td>55080952</td>\n",
       "      <td>the human heart of stone, a heart made of ston...</td>\n",
       "      <td>7610ef7e78f0b2da249756ce09ef08f1</td>\n",
       "      <td>604</td>\n",
       "    </tr>\n",
       "    <tr>\n",
       "      <th>204610</th>\n",
       "      <td>55081354</td>\n",
       "      <td>human without hope, mix of minimalism, surreal...</td>\n",
       "      <td>7c9560f8c7b157b00c34f5e6912c92c0</td>\n",
       "      <td>794</td>\n",
       "    </tr>\n",
       "  </tbody>\n",
       "</table>\n",
       "<p>204611 rows × 4 columns</p>\n",
       "</div>"
      ],
      "text/plain": [
       "           index                                    positive_prompt  \\\n",
       "0            766  design a 2d schematic representation of a tire...   \n",
       "1            894  midget, you're a creative artist of the highes...   \n",
       "2            940  8k, 3d animated style, teen panda driving a su...   \n",
       "3            945  8k, 3d animated style, teen turtle driving a s...   \n",
       "4            948  8k, 3d animated style, child turtle driving a ...   \n",
       "...          ...                                                ...   \n",
       "204606  55080785  human brain, the human brain is a complex and ...   \n",
       "204607  55080850  fist human hand, a human hand has transformed ...   \n",
       "204608  55080906  chrono fist human hand, a human hand has trans...   \n",
       "204609  55080952  the human heart of stone, a heart made of ston...   \n",
       "204610  55081354  human without hope, mix of minimalism, surreal...   \n",
       "\n",
       "                           positive_hash  positive_raw_length  \n",
       "0       59fceccd0aad9af272dbd6a1dffee759                  506  \n",
       "1       dbfe6562763c71db887f6dc1812f4cff                  525  \n",
       "2       e810ce8acf85a4358a60114c84b50cc4                  538  \n",
       "3       dc4dd3df36b84b256ff723337eab2181                  552  \n",
       "4       9484b1c93111e3920b04a2ec5a8063aa                  554  \n",
       "...                                  ...                  ...  \n",
       "204606  40d3481721056b33effe290c1d11e465                  744  \n",
       "204607  38702aaec0a05e49f51d4b233d44bb8d                  666  \n",
       "204608  3e829007231bc5730545fdf0ce42b2f5                  700  \n",
       "204609  7610ef7e78f0b2da249756ce09ef08f1                  604  \n",
       "204610  7c9560f8c7b157b00c34f5e6912c92c0                  794  \n",
       "\n",
       "[204611 rows x 4 columns]"
      ]
     },
     "execution_count": 106,
     "metadata": {},
     "output_type": "execute_result"
    }
   ],
   "source": [
    "results = pd.DataFrame(results, columns=['index', 'positive_prompt', 'positive_hash', 'positive_raw_length'])\n",
    "results.drop_duplicates(['positive_hash'], inplace=True)\n",
    "\n",
    "results"
   ]
  },
  {
   "cell_type": "code",
   "execution_count": 107,
   "id": "dd2b5244-7b58-4665-960d-2d4394e9869f",
   "metadata": {
    "tags": []
   },
   "outputs": [],
   "source": [
    "results.to_csv('../dataset/long-midjourney_prompts.tsv', sep='\\t', index=False)"
   ]
  },
  {
   "cell_type": "markdown",
   "id": "66609b97-0d92-49e8-85a5-7315c45ac21a",
   "metadata": {},
   "source": [
    "# aesthetic"
   ]
  },
  {
   "cell_type": "code",
   "execution_count": 114,
   "id": "cd07dbbf-f3b0-439d-a1a2-a4ba5ee49521",
   "metadata": {
    "tags": []
   },
   "outputs": [
    {
     "data": {
      "application/vnd.jupyter.widget-view+json": {
       "model_id": "7557ee2b792f4b37a00feb25e408a427",
       "version_major": 2,
       "version_minor": 0
      },
      "text/plain": [
       "Resolving data files:   0%|          | 0/24 [00:00<?, ?it/s]"
      ]
     },
     "metadata": {},
     "output_type": "display_data"
    },
    {
     "name": "stderr",
     "output_type": "stream",
     "text": [
      "/sunjie/kk-digital/kcg-ml-image-pipeline/venv/lib/python3.10/site-packages/datasets/table.py:1421: FutureWarning: promote has been superseded by mode='default'.\n",
      "  table = cls._concat_blocks(blocks, axis=0)\n"
     ]
    }
   ],
   "source": [
    "dataset = datasets.load_dataset('../dataset/laion2B-en-aesthetic/')"
   ]
  },
  {
   "cell_type": "code",
   "execution_count": 115,
   "id": "7423d9a3-bf1f-43e9-908f-e469b88b1632",
   "metadata": {
    "tags": []
   },
   "outputs": [
    {
     "data": {
      "text/plain": [
       "DatasetDict({\n",
       "    train: Dataset({\n",
       "        features: ['URL', 'TEXT', 'WIDTH', 'HEIGHT', 'similarity', 'hash', 'punsafe', 'pwatermark', 'aesthetic'],\n",
       "        num_rows: 52068913\n",
       "    })\n",
       "})"
      ]
     },
     "execution_count": 115,
     "metadata": {},
     "output_type": "execute_result"
    }
   ],
   "source": [
    "dataset"
   ]
  },
  {
   "cell_type": "code",
   "execution_count": 117,
   "id": "e7a735d5-32a8-4a65-ae1c-cf3c00822e58",
   "metadata": {
    "tags": []
   },
   "outputs": [
    {
     "name": "stderr",
     "output_type": "stream",
     "text": [
      "100%|██████████| 52068913/52068913 [47:24<00:00, 18303.02it/s] \n"
     ]
    },
    {
     "data": {
      "text/plain": [
       "48768"
      ]
     },
     "execution_count": 117,
     "metadata": {},
     "output_type": "execute_result"
    }
   ],
   "source": [
    "results = list()\n",
    "\n",
    "raw_hashs = set()\n",
    "\n",
    "for i, item in tqdm(enumerate(dataset['train']), total=len(dataset['train'])):\n",
    "    \n",
    "    if item['TEXT'] is None:\n",
    "        continue\n",
    "        \n",
    "    if not is_long(item['TEXT']):\n",
    "        continue\n",
    "\n",
    "    raw_hash = hash_prompt(item['TEXT'])\n",
    "    if raw_hash in raw_hashs:\n",
    "        continue\n",
    "    raw_hashs.add(raw_hash)\n",
    "        \n",
    "    if not validate_prompt(item['TEXT']):\n",
    "        continue\n",
    "        \n",
    "    positive_raw_length = len(item['TEXT'])\n",
    "    \n",
    "    positive_prompt = format_prompt(item['TEXT'])\n",
    "    \n",
    "    positive_hash = hash_prompt(positive_prompt)\n",
    "        \n",
    "    results.append((i, positive_prompt, positive_hash, positive_raw_length))\n",
    "    \n",
    "len(results)"
   ]
  },
  {
   "cell_type": "code",
   "execution_count": 118,
   "id": "984d8a29-c676-4770-9827-1b4682a58924",
   "metadata": {
    "tags": []
   },
   "outputs": [
    {
     "name": "stdout",
     "output_type": "stream",
     "text": [
      "48471\n"
     ]
    },
    {
     "data": {
      "text/html": [
       "<div>\n",
       "<style scoped>\n",
       "    .dataframe tbody tr th:only-of-type {\n",
       "        vertical-align: middle;\n",
       "    }\n",
       "\n",
       "    .dataframe tbody tr th {\n",
       "        vertical-align: top;\n",
       "    }\n",
       "\n",
       "    .dataframe thead th {\n",
       "        text-align: right;\n",
       "    }\n",
       "</style>\n",
       "<table border=\"1\" class=\"dataframe\">\n",
       "  <thead>\n",
       "    <tr style=\"text-align: right;\">\n",
       "      <th></th>\n",
       "      <th>index</th>\n",
       "      <th>positive_prompt</th>\n",
       "      <th>positive_hash</th>\n",
       "      <th>positive_raw_length</th>\n",
       "    </tr>\n",
       "  </thead>\n",
       "  <tbody>\n",
       "    <tr>\n",
       "      <th>0</th>\n",
       "      <td>240</td>\n",
       "      <td>Walt Disney Company Chairman and CEO Michael E...</td>\n",
       "      <td>a23bd335ca09dd8a3f1fd946379e5618</td>\n",
       "      <td>73</td>\n",
       "    </tr>\n",
       "    <tr>\n",
       "      <th>1</th>\n",
       "      <td>1373</td>\n",
       "      <td>This 1760s gown features a rose-red silk with ...</td>\n",
       "      <td>5a861602bb209632ba2893d401333bdb</td>\n",
       "      <td>73</td>\n",
       "    </tr>\n",
       "    <tr>\n",
       "      <th>2</th>\n",
       "      <td>2509</td>\n",
       "      <td>Wooden Bowl teak red HWB19 SOLD (ViAfrika) Tag...</td>\n",
       "      <td>041fd059667762c2268f382f7e4de831</td>\n",
       "      <td>73</td>\n",
       "    </tr>\n",
       "    <tr>\n",
       "      <th>3</th>\n",
       "      <td>2861</td>\n",
       "      <td>Patterson Custom Homes - boy's rooms - bunk ro...</td>\n",
       "      <td>5ae01696c035bbedd273ab4ee58f4deb</td>\n",
       "      <td>73</td>\n",
       "    </tr>\n",
       "    <tr>\n",
       "      <th>4</th>\n",
       "      <td>4946</td>\n",
       "      <td>FARK.com: (8475391) Ice Cream Truck Driver Arr...</td>\n",
       "      <td>73dba67db6970fb55e277a505d88db8c</td>\n",
       "      <td>73</td>\n",
       "    </tr>\n",
       "    <tr>\n",
       "      <th>...</th>\n",
       "      <td>...</td>\n",
       "      <td>...</td>\n",
       "      <td>...</td>\n",
       "      <td>...</td>\n",
       "    </tr>\n",
       "    <tr>\n",
       "      <th>48763</th>\n",
       "      <td>52061219</td>\n",
       "      <td>\"\"\"Angela Holt \"\"\"\"Sunset at Storm's Pass, San...</td>\n",
       "      <td>321027869964f13a2f4906adb6115dd7</td>\n",
       "      <td>73</td>\n",
       "    </tr>\n",
       "    <tr>\n",
       "      <th>48764</th>\n",
       "      <td>52063478</td>\n",
       "      <td>\"Motorcycle craftsman Xanti Garcia (Corb Motor...</td>\n",
       "      <td>f54a642795e208542e2c21a49036f507</td>\n",
       "      <td>73</td>\n",
       "    </tr>\n",
       "    <tr>\n",
       "      <th>48765</th>\n",
       "      <td>52063710</td>\n",
       "      <td>All students in the 2018 Associate Degree Nurs...</td>\n",
       "      <td>7e015ab94bc9135d9a8d1f0e4a202915</td>\n",
       "      <td>73</td>\n",
       "    </tr>\n",
       "    <tr>\n",
       "      <th>48766</th>\n",
       "      <td>52067088</td>\n",
       "      <td>This vertical still life painting shows a gran...</td>\n",
       "      <td>0139ffb8725e2c88800b36df60d44c58</td>\n",
       "      <td>73</td>\n",
       "    </tr>\n",
       "    <tr>\n",
       "      <th>48767</th>\n",
       "      <td>52067433</td>\n",
       "      <td>Harvest Tag Wallpapers: Autumn Farm Season Wor...</td>\n",
       "      <td>07bf2f6b3e32f9a1825c994f5217a43a</td>\n",
       "      <td>73</td>\n",
       "    </tr>\n",
       "  </tbody>\n",
       "</table>\n",
       "<p>48471 rows × 4 columns</p>\n",
       "</div>"
      ],
      "text/plain": [
       "          index                                    positive_prompt  \\\n",
       "0           240  Walt Disney Company Chairman and CEO Michael E...   \n",
       "1          1373  This 1760s gown features a rose-red silk with ...   \n",
       "2          2509  Wooden Bowl teak red HWB19 SOLD (ViAfrika) Tag...   \n",
       "3          2861  Patterson Custom Homes - boy's rooms - bunk ro...   \n",
       "4          4946  FARK.com: (8475391) Ice Cream Truck Driver Arr...   \n",
       "...         ...                                                ...   \n",
       "48763  52061219  \"\"\"Angela Holt \"\"\"\"Sunset at Storm's Pass, San...   \n",
       "48764  52063478  \"Motorcycle craftsman Xanti Garcia (Corb Motor...   \n",
       "48765  52063710  All students in the 2018 Associate Degree Nurs...   \n",
       "48766  52067088  This vertical still life painting shows a gran...   \n",
       "48767  52067433  Harvest Tag Wallpapers: Autumn Farm Season Wor...   \n",
       "\n",
       "                          positive_hash  positive_raw_length  \n",
       "0      a23bd335ca09dd8a3f1fd946379e5618                   73  \n",
       "1      5a861602bb209632ba2893d401333bdb                   73  \n",
       "2      041fd059667762c2268f382f7e4de831                   73  \n",
       "3      5ae01696c035bbedd273ab4ee58f4deb                   73  \n",
       "4      73dba67db6970fb55e277a505d88db8c                   73  \n",
       "...                                 ...                  ...  \n",
       "48763  321027869964f13a2f4906adb6115dd7                   73  \n",
       "48764  f54a642795e208542e2c21a49036f507                   73  \n",
       "48765  7e015ab94bc9135d9a8d1f0e4a202915                   73  \n",
       "48766  0139ffb8725e2c88800b36df60d44c58                   73  \n",
       "48767  07bf2f6b3e32f9a1825c994f5217a43a                   73  \n",
       "\n",
       "[48471 rows x 4 columns]"
      ]
     },
     "execution_count": 118,
     "metadata": {},
     "output_type": "execute_result"
    }
   ],
   "source": [
    "results = pd.DataFrame(results, columns=['index', 'positive_prompt', 'positive_hash', 'positive_raw_length'])\n",
    "results.drop_duplicates(['positive_hash'], inplace=True)\n",
    "\n",
    "results"
   ]
  },
  {
   "cell_type": "code",
   "execution_count": 119,
   "id": "0d300baf-8489-4c33-bd20-b249084a2548",
   "metadata": {
    "tags": []
   },
   "outputs": [],
   "source": [
    "df = results"
   ]
  },
  {
   "cell_type": "code",
   "execution_count": 150,
   "id": "a4dbbd2b-97f9-41ce-86b6-adb07d7b7445",
   "metadata": {
    "tags": []
   },
   "outputs": [
    {
     "name": "stderr",
     "output_type": "stream",
     "text": [
      "48471it [00:21, 2269.78it/s]\n"
     ]
    }
   ],
   "source": [
    "results = list()\n",
    "\n",
    "for index, positive_prompt, positive_hash, positive_raw_length in tqdm(df.itertuples(index=False, name=None)):\n",
    "    \n",
    "    positive_prompt = positive_prompt.replace('\"', ', ')\n",
    "        \n",
    "    positive_prompt = re.sub('[^,\\s]*\\.(co)|(org)[^,\\s]+', ', ', positive_prompt)\n",
    "    positive_prompt = re.sub('[^,\\s]*[\\d\\s]{5,}[^,\\s]*', ',', positive_prompt)\n",
    "\n",
    "    positive_prompt = worker(positive_prompt)\n",
    "    \n",
    "    if not is_long(positive_prompt):\n",
    "        continue\n",
    "        \n",
    "    results.append((index, positive_prompt, positive_hash, positive_raw_length))"
   ]
  },
  {
   "cell_type": "code",
   "execution_count": 151,
   "id": "8a17a010-37d5-4194-ad42-82efcc313b3c",
   "metadata": {
    "tags": []
   },
   "outputs": [
    {
     "data": {
      "text/html": [
       "<div>\n",
       "<style scoped>\n",
       "    .dataframe tbody tr th:only-of-type {\n",
       "        vertical-align: middle;\n",
       "    }\n",
       "\n",
       "    .dataframe tbody tr th {\n",
       "        vertical-align: top;\n",
       "    }\n",
       "\n",
       "    .dataframe thead th {\n",
       "        text-align: right;\n",
       "    }\n",
       "</style>\n",
       "<table border=\"1\" class=\"dataframe\">\n",
       "  <thead>\n",
       "    <tr style=\"text-align: right;\">\n",
       "      <th></th>\n",
       "      <th>index</th>\n",
       "      <th>positive_prompt</th>\n",
       "      <th>positive_hash</th>\n",
       "      <th>positive_raw_length</th>\n",
       "    </tr>\n",
       "  </thead>\n",
       "  <tbody>\n",
       "    <tr>\n",
       "      <th>0</th>\n",
       "      <td>240</td>\n",
       "      <td>walt disney company chairman and ceo michael e...</td>\n",
       "      <td>a23bd335ca09dd8a3f1fd946379e5618</td>\n",
       "      <td>73</td>\n",
       "    </tr>\n",
       "    <tr>\n",
       "      <th>1</th>\n",
       "      <td>2509</td>\n",
       "      <td>wooden bowl teak red hwb19 sold viafrika tagss...</td>\n",
       "      <td>041fd059667762c2268f382f7e4de831</td>\n",
       "      <td>73</td>\n",
       "    </tr>\n",
       "    <tr>\n",
       "      <th>2</th>\n",
       "      <td>2861</td>\n",
       "      <td>patterson custom homes - boy's rooms - bunk ro...</td>\n",
       "      <td>5ae01696c035bbedd273ab4ee58f4deb</td>\n",
       "      <td>73</td>\n",
       "    </tr>\n",
       "    <tr>\n",
       "      <th>3</th>\n",
       "      <td>4946</td>\n",
       "      <td>mice cream truck driver arrested for dui. hey ...</td>\n",
       "      <td>73dba67db6970fb55e277a505d88db8c</td>\n",
       "      <td>73</td>\n",
       "    </tr>\n",
       "    <tr>\n",
       "      <th>4</th>\n",
       "      <td>5617</td>\n",
       "      <td>writes dalrymple, 'the asylum notes show richa...</td>\n",
       "      <td>edb54f66e2a7e9a1e9dd1ba0be6eab77</td>\n",
       "      <td>73</td>\n",
       "    </tr>\n",
       "    <tr>\n",
       "      <th>...</th>\n",
       "      <td>...</td>\n",
       "      <td>...</td>\n",
       "      <td>...</td>\n",
       "      <td>...</td>\n",
       "    </tr>\n",
       "    <tr>\n",
       "      <th>33208</th>\n",
       "      <td>52061219</td>\n",
       "      <td>angela holt, sunset at storm's pass, sandia cr...</td>\n",
       "      <td>321027869964f13a2f4906adb6115dd7</td>\n",
       "      <td>73</td>\n",
       "    </tr>\n",
       "    <tr>\n",
       "      <th>33209</th>\n",
       "      <td>52063478</td>\n",
       "      <td>motorcycle craftsman xanti garcia corb motorcy...</td>\n",
       "      <td>f54a642795e208542e2c21a49036f507</td>\n",
       "      <td>73</td>\n",
       "    </tr>\n",
       "    <tr>\n",
       "      <th>33210</th>\n",
       "      <td>52063710</td>\n",
       "      <td>all students in, degree nursing class at east ...</td>\n",
       "      <td>7e015ab94bc9135d9a8d1f0e4a202915</td>\n",
       "      <td>73</td>\n",
       "    </tr>\n",
       "    <tr>\n",
       "      <th>33211</th>\n",
       "      <td>52067088</td>\n",
       "      <td>this vertical still life painting shows a gran...</td>\n",
       "      <td>0139ffb8725e2c88800b36df60d44c58</td>\n",
       "      <td>73</td>\n",
       "    </tr>\n",
       "    <tr>\n",
       "      <th>33212</th>\n",
       "      <td>52067433</td>\n",
       "      <td>harvest tag wallpapersautumn farm season world...</td>\n",
       "      <td>07bf2f6b3e32f9a1825c994f5217a43a</td>\n",
       "      <td>73</td>\n",
       "    </tr>\n",
       "  </tbody>\n",
       "</table>\n",
       "<p>33213 rows × 4 columns</p>\n",
       "</div>"
      ],
      "text/plain": [
       "          index                                    positive_prompt  \\\n",
       "0           240  walt disney company chairman and ceo michael e...   \n",
       "1          2509  wooden bowl teak red hwb19 sold viafrika tagss...   \n",
       "2          2861  patterson custom homes - boy's rooms - bunk ro...   \n",
       "3          4946  mice cream truck driver arrested for dui. hey ...   \n",
       "4          5617  writes dalrymple, 'the asylum notes show richa...   \n",
       "...         ...                                                ...   \n",
       "33208  52061219  angela holt, sunset at storm's pass, sandia cr...   \n",
       "33209  52063478  motorcycle craftsman xanti garcia corb motorcy...   \n",
       "33210  52063710  all students in, degree nursing class at east ...   \n",
       "33211  52067088  this vertical still life painting shows a gran...   \n",
       "33212  52067433  harvest tag wallpapersautumn farm season world...   \n",
       "\n",
       "                          positive_hash  positive_raw_length  \n",
       "0      a23bd335ca09dd8a3f1fd946379e5618                   73  \n",
       "1      041fd059667762c2268f382f7e4de831                   73  \n",
       "2      5ae01696c035bbedd273ab4ee58f4deb                   73  \n",
       "3      73dba67db6970fb55e277a505d88db8c                   73  \n",
       "4      edb54f66e2a7e9a1e9dd1ba0be6eab77                   73  \n",
       "...                                 ...                  ...  \n",
       "33208  321027869964f13a2f4906adb6115dd7                   73  \n",
       "33209  f54a642795e208542e2c21a49036f507                   73  \n",
       "33210  7e015ab94bc9135d9a8d1f0e4a202915                   73  \n",
       "33211  0139ffb8725e2c88800b36df60d44c58                   73  \n",
       "33212  07bf2f6b3e32f9a1825c994f5217a43a                   73  \n",
       "\n",
       "[33213 rows x 4 columns]"
      ]
     },
     "execution_count": 151,
     "metadata": {},
     "output_type": "execute_result"
    }
   ],
   "source": [
    "results = pd.DataFrame(results, columns=['index', 'positive_prompt', 'positive_hash', 'positive_raw_length'])\n",
    "results.drop_duplicates(['positive_hash'], inplace=True)\n",
    "\n",
    "results"
   ]
  },
  {
   "cell_type": "code",
   "execution_count": 152,
   "id": "e994fa19-3949-44b4-9396-28f0dc6c2d47",
   "metadata": {
    "tags": []
   },
   "outputs": [],
   "source": [
    "results.to_csv('../dataset/long-laion2B-en-aesthetic.tsv', sep='\\t', index=False)"
   ]
  },
  {
   "cell_type": "markdown",
   "id": "9d78c145-5613-46e0-8ce5-0877c115b5b2",
   "metadata": {},
   "source": [
    "# midjourney -2"
   ]
  },
  {
   "cell_type": "code",
   "execution_count": 3,
   "id": "d5e9ad8d-f391-4863-b947-64440f3167c8",
   "metadata": {
    "tags": []
   },
   "outputs": [],
   "source": [
    "df = pd.read_csv('../dataset/midjourney_prompts.tsv', sep='\\t')"
   ]
  },
  {
   "cell_type": "code",
   "execution_count": 4,
   "id": "5e2d448d-62cc-4343-b320-f3d32472cea1",
   "metadata": {
    "tags": []
   },
   "outputs": [
    {
     "name": "stderr",
     "output_type": "stream",
     "text": [
      "16826971it [02:22, 117958.97it/s]\n"
     ]
    }
   ],
   "source": [
    "results = list()\n",
    "\n",
    "for index, positive_prompt, positive_hash, positive_raw_length in tqdm(df.itertuples(index=False, name=None)):\n",
    "\n",
    "    if type(positive_prompt) != str:\n",
    "        continue\n",
    "\n",
    "    if '|' in positive_prompt or '\"' in positive_prompt:\n",
    "        results.append((index, positive_prompt, positive_raw_length))\n",
    "        continue\n",
    "        \n",
    "    positive_prompt = re.sub('(:\\s?){2,}', ', ', positive_prompt)\n",
    "    \n",
    "    parts = re.findall('[a-zA-Z]+:[^:\\.]+\\.', positive_prompt)\n",
    "    \n",
    "    if len(parts) > 0:\n",
    "        results.append((index, positive_prompt, positive_raw_length))\n",
    "        continue"
   ]
  },
  {
   "cell_type": "code",
   "execution_count": 9,
   "id": "1d2de43f-355a-4cb5-87ff-0859aec470ad",
   "metadata": {
    "tags": []
   },
   "outputs": [],
   "source": [
    "arch = results"
   ]
  },
  {
   "cell_type": "code",
   "execution_count": 46,
   "id": "297a9ebf-a779-40f7-bb9b-f7f80046f1d9",
   "metadata": {
    "tags": []
   },
   "outputs": [
    {
     "name": "stderr",
     "output_type": "stream",
     "text": [
      "100%|██████████| 507915/507915 [01:59<00:00, 4238.96it/s]\n"
     ]
    }
   ],
   "source": [
    "results = list()\n",
    "\n",
    "for index, positive_prompt, positive_raw_length in tqdm(arch):\n",
    "\n",
    "    if type(positive_prompt) != str:\n",
    "        continue\n",
    "        \n",
    "    positive_prompt = positive_prompt.lower()\n",
    "        \n",
    "    if '.jpg' in positive_prompt or '.png' in positive_prompt:\n",
    "        continue\n",
    "        \n",
    "    positive_prompt = positive_prompt.replace('\"', ', ')\n",
    "        \n",
    "    positive_prompt = re.sub('[^,\\s]*\\.(co)|(org)[^,\\s]+', ', ', positive_prompt)\n",
    "    positive_prompt = re.sub('[^,\\s]*[\\d\\s]{5,}[^,\\s]*', ',', positive_prompt)\n",
    "    \n",
    "    positive_prompt = worker(positive_prompt)\n",
    "    \n",
    "    positive_hash = hash_prompt(positive_prompt)\n",
    "        \n",
    "    results.append((index, positive_prompt, positive_hash, positive_raw_length))\n",
    "    \n",
    "#     parts = re.findall('[a-zA-Z]+:[^:\\.]+\\.', positive_prompt)\n",
    "    \n",
    "#     if len(parts) > 0:\n",
    "#         positive_hash = hash_prompt(positive_prompt)\n",
    "#         complexs.append((index, positive_prompt, positive_hash, positive_raw_length))\n",
    "#     else:\n",
    "#         pass"
   ]
  },
  {
   "cell_type": "code",
   "execution_count": 48,
   "id": "e3dea8fb-6f4a-4648-bcfa-be3307560876",
   "metadata": {
    "tags": []
   },
   "outputs": [
    {
     "data": {
      "text/html": [
       "<div>\n",
       "<style scoped>\n",
       "    .dataframe tbody tr th:only-of-type {\n",
       "        vertical-align: middle;\n",
       "    }\n",
       "\n",
       "    .dataframe tbody tr th {\n",
       "        vertical-align: top;\n",
       "    }\n",
       "\n",
       "    .dataframe thead th {\n",
       "        text-align: right;\n",
       "    }\n",
       "</style>\n",
       "<table border=\"1\" class=\"dataframe\">\n",
       "  <thead>\n",
       "    <tr style=\"text-align: right;\">\n",
       "      <th></th>\n",
       "      <th>index</th>\n",
       "      <th>positive_prompt</th>\n",
       "      <th>positive_hash</th>\n",
       "      <th>positive_raw_length</th>\n",
       "    </tr>\n",
       "  </thead>\n",
       "  <tbody>\n",
       "    <tr>\n",
       "      <th>0</th>\n",
       "      <td>1</td>\n",
       "      <td>hyperrealism, in the valley, there lies a lave...</td>\n",
       "      <td>204bd5fd3580fcbb656d75b48858da34</td>\n",
       "      <td>430</td>\n",
       "    </tr>\n",
       "    <tr>\n",
       "      <th>1</th>\n",
       "      <td>6</td>\n",
       "      <td>hyperrealism, in the valley lies a lavender ga...</td>\n",
       "      <td>35068c27b360fdf8f6d57ba0613b585c</td>\n",
       "      <td>305</td>\n",
       "    </tr>\n",
       "    <tr>\n",
       "      <th>2</th>\n",
       "      <td>317</td>\n",
       "      <td>contenta sophisticated travel booking mobile a...</td>\n",
       "      <td>03a32fa7b2058e5df9e3d80992409f5c</td>\n",
       "      <td>991</td>\n",
       "    </tr>\n",
       "    <tr>\n",
       "      <th>3</th>\n",
       "      <td>328</td>\n",
       "      <td>contenta sophisticated travel booking mobile a...</td>\n",
       "      <td>06b3495371496398e14c5fc0e1d6da89</td>\n",
       "      <td>998</td>\n",
       "    </tr>\n",
       "    <tr>\n",
       "      <th>4</th>\n",
       "      <td>341</td>\n",
       "      <td>a captivating landing page for a travel bookin...</td>\n",
       "      <td>80f08794a0e08734695097401ef8c3fa</td>\n",
       "      <td>956</td>\n",
       "    </tr>\n",
       "    <tr>\n",
       "      <th>...</th>\n",
       "      <td>...</td>\n",
       "      <td>...</td>\n",
       "      <td>...</td>\n",
       "      <td>...</td>\n",
       "    </tr>\n",
       "    <tr>\n",
       "      <th>505438</th>\n",
       "      <td>55081537</td>\n",
       "      <td>1980s dvd screengrab, yellow gorilla alien cre...</td>\n",
       "      <td>a30f927a26d66c735f68f4325a3f2b7d</td>\n",
       "      <td>277</td>\n",
       "    </tr>\n",
       "    <tr>\n",
       "      <th>505439</th>\n",
       "      <td>55081576</td>\n",
       "      <td>1980s dvd screengrab, alien creatures in an un...</td>\n",
       "      <td>32192e4814140770e90a5b10f3f6f824</td>\n",
       "      <td>262</td>\n",
       "    </tr>\n",
       "    <tr>\n",
       "      <th>505440</th>\n",
       "      <td>55081626</td>\n",
       "      <td>halo themed a tall white male with a lean buil...</td>\n",
       "      <td>d84eec327455138f105d008ec557ba34</td>\n",
       "      <td>975</td>\n",
       "    </tr>\n",
       "    <tr>\n",
       "      <th>505441</th>\n",
       "      <td>55082231</td>\n",
       "      <td>chinese iron swords, red, chinese paladin</td>\n",
       "      <td>995d16d2c61e59078205091cc0e470cd</td>\n",
       "      <td>41</td>\n",
       "    </tr>\n",
       "    <tr>\n",
       "      <th>505442</th>\n",
       "      <td>55082333</td>\n",
       "      <td>are you ready to #enteravive? are you ready to...</td>\n",
       "      <td>1b8cc702433bea9bd74f4f1e7f0eeef7</td>\n",
       "      <td>122</td>\n",
       "    </tr>\n",
       "  </tbody>\n",
       "</table>\n",
       "<p>499467 rows × 4 columns</p>\n",
       "</div>"
      ],
      "text/plain": [
       "           index                                    positive_prompt  \\\n",
       "0              1  hyperrealism, in the valley, there lies a lave...   \n",
       "1              6  hyperrealism, in the valley lies a lavender ga...   \n",
       "2            317  contenta sophisticated travel booking mobile a...   \n",
       "3            328  contenta sophisticated travel booking mobile a...   \n",
       "4            341  a captivating landing page for a travel bookin...   \n",
       "...          ...                                                ...   \n",
       "505438  55081537  1980s dvd screengrab, yellow gorilla alien cre...   \n",
       "505439  55081576  1980s dvd screengrab, alien creatures in an un...   \n",
       "505440  55081626  halo themed a tall white male with a lean buil...   \n",
       "505441  55082231          chinese iron swords, red, chinese paladin   \n",
       "505442  55082333  are you ready to #enteravive? are you ready to...   \n",
       "\n",
       "                           positive_hash  positive_raw_length  \n",
       "0       204bd5fd3580fcbb656d75b48858da34                  430  \n",
       "1       35068c27b360fdf8f6d57ba0613b585c                  305  \n",
       "2       03a32fa7b2058e5df9e3d80992409f5c                  991  \n",
       "3       06b3495371496398e14c5fc0e1d6da89                  998  \n",
       "4       80f08794a0e08734695097401ef8c3fa                  956  \n",
       "...                                  ...                  ...  \n",
       "505438  a30f927a26d66c735f68f4325a3f2b7d                  277  \n",
       "505439  32192e4814140770e90a5b10f3f6f824                  262  \n",
       "505440  d84eec327455138f105d008ec557ba34                  975  \n",
       "505441  995d16d2c61e59078205091cc0e470cd                   41  \n",
       "505442  1b8cc702433bea9bd74f4f1e7f0eeef7                  122  \n",
       "\n",
       "[499467 rows x 4 columns]"
      ]
     },
     "execution_count": 48,
     "metadata": {},
     "output_type": "execute_result"
    }
   ],
   "source": [
    "results = pd.DataFrame(results, columns=['index', 'positive_prompt', 'positive_hash', 'positive_raw_length'])\n",
    "results.drop_duplicates(['positive_hash'], inplace=True)\n",
    "\n",
    "results"
   ]
  },
  {
   "cell_type": "code",
   "execution_count": 49,
   "id": "16ccf1ae-b31a-4308-9df2-7dab99826cf3",
   "metadata": {
    "tags": []
   },
   "outputs": [],
   "source": [
    "results.to_csv('../dataset/long-midjourney_prompts-2.tsv', sep='\\t', index=False)"
   ]
  },
  {
   "cell_type": "code",
   "execution_count": 27,
   "id": "4d06b391-d4c5-4be6-adc3-2071643ab6aa",
   "metadata": {
    "tags": []
   },
   "outputs": [
    {
     "data": {
      "text/html": [
       "<div>\n",
       "<style scoped>\n",
       "    .dataframe tbody tr th:only-of-type {\n",
       "        vertical-align: middle;\n",
       "    }\n",
       "\n",
       "    .dataframe tbody tr th {\n",
       "        vertical-align: top;\n",
       "    }\n",
       "\n",
       "    .dataframe thead th {\n",
       "        text-align: right;\n",
       "    }\n",
       "</style>\n",
       "<table border=\"1\" class=\"dataframe\">\n",
       "  <thead>\n",
       "    <tr style=\"text-align: right;\">\n",
       "      <th></th>\n",
       "      <th>index</th>\n",
       "      <th>positive_prompt</th>\n",
       "      <th>positive_hash</th>\n",
       "      <th>positive_raw_length</th>\n",
       "    </tr>\n",
       "  </thead>\n",
       "  <tbody>\n",
       "    <tr>\n",
       "      <th>0</th>\n",
       "      <td>317</td>\n",
       "      <td>content: a sophisticated travel booking mobile...</td>\n",
       "      <td>888960de7d76d5abd652c06e341168f0</td>\n",
       "      <td>991</td>\n",
       "    </tr>\n",
       "    <tr>\n",
       "      <th>1</th>\n",
       "      <td>328</td>\n",
       "      <td>content: a sophisticated travel booking mobile...</td>\n",
       "      <td>b61990918c9d7099cd75feb1fd443913</td>\n",
       "      <td>998</td>\n",
       "    </tr>\n",
       "    <tr>\n",
       "      <th>2</th>\n",
       "      <td>341</td>\n",
       "      <td>a captivating landing page for a travel bookin...</td>\n",
       "      <td>3ff6c1df3e38ff06e2a44f8b0295a1a9</td>\n",
       "      <td>956</td>\n",
       "    </tr>\n",
       "    <tr>\n",
       "      <th>3</th>\n",
       "      <td>351</td>\n",
       "      <td>a sleek landing page for a financial managemen...</td>\n",
       "      <td>24d6643d1a11a465c09b1710c8888afd</td>\n",
       "      <td>914</td>\n",
       "    </tr>\n",
       "    <tr>\n",
       "      <th>4</th>\n",
       "      <td>381</td>\n",
       "      <td>dynamic weather-themed landing page, featuring...</td>\n",
       "      <td>b25385ec8a0764cb85e3dc2a8090bafe</td>\n",
       "      <td>891</td>\n",
       "    </tr>\n",
       "    <tr>\n",
       "      <th>...</th>\n",
       "      <td>...</td>\n",
       "      <td>...</td>\n",
       "      <td>...</td>\n",
       "      <td>...</td>\n",
       "    </tr>\n",
       "    <tr>\n",
       "      <th>140912</th>\n",
       "      <td>55080885</td>\n",
       "      <td>scene: underground passage, three people, 1. h...</td>\n",
       "      <td>34a6b6da9bad9fc96a62c8e93df1d99e</td>\n",
       "      <td>306</td>\n",
       "    </tr>\n",
       "    <tr>\n",
       "      <th>140913</th>\n",
       "      <td>55081423</td>\n",
       "      <td>coloring book page, the terraformed planet col...</td>\n",
       "      <td>c8069797fce1a1bd73a9f1be34550b07</td>\n",
       "      <td>892</td>\n",
       "    </tr>\n",
       "    <tr>\n",
       "      <th>140914</th>\n",
       "      <td>55081476</td>\n",
       "      <td>coloring book page, the space station habitat:...</td>\n",
       "      <td>944be49bb7d2de0be3b69bdd771187ad</td>\n",
       "      <td>910</td>\n",
       "    </tr>\n",
       "    <tr>\n",
       "      <th>140915</th>\n",
       "      <td>55081481</td>\n",
       "      <td>coloring book page, the space station habitat:...</td>\n",
       "      <td>341b852326218ffc95f1f44581a0b16c</td>\n",
       "      <td>644</td>\n",
       "    </tr>\n",
       "    <tr>\n",
       "      <th>140916</th>\n",
       "      <td>55081626</td>\n",
       "      <td>halo themed a tall white male with a lean buil...</td>\n",
       "      <td>dad580946d0d7c95d502ba36b29a9774</td>\n",
       "      <td>975</td>\n",
       "    </tr>\n",
       "  </tbody>\n",
       "</table>\n",
       "<p>140834 rows × 4 columns</p>\n",
       "</div>"
      ],
      "text/plain": [
       "           index                                    positive_prompt  \\\n",
       "0            317  content: a sophisticated travel booking mobile...   \n",
       "1            328  content: a sophisticated travel booking mobile...   \n",
       "2            341  a captivating landing page for a travel bookin...   \n",
       "3            351  a sleek landing page for a financial managemen...   \n",
       "4            381  dynamic weather-themed landing page, featuring...   \n",
       "...          ...                                                ...   \n",
       "140912  55080885  scene: underground passage, three people, 1. h...   \n",
       "140913  55081423  coloring book page, the terraformed planet col...   \n",
       "140914  55081476  coloring book page, the space station habitat:...   \n",
       "140915  55081481  coloring book page, the space station habitat:...   \n",
       "140916  55081626  halo themed a tall white male with a lean buil...   \n",
       "\n",
       "                           positive_hash  positive_raw_length  \n",
       "0       888960de7d76d5abd652c06e341168f0                  991  \n",
       "1       b61990918c9d7099cd75feb1fd443913                  998  \n",
       "2       3ff6c1df3e38ff06e2a44f8b0295a1a9                  956  \n",
       "3       24d6643d1a11a465c09b1710c8888afd                  914  \n",
       "4       b25385ec8a0764cb85e3dc2a8090bafe                  891  \n",
       "...                                  ...                  ...  \n",
       "140912  34a6b6da9bad9fc96a62c8e93df1d99e                  306  \n",
       "140913  c8069797fce1a1bd73a9f1be34550b07                  892  \n",
       "140914  944be49bb7d2de0be3b69bdd771187ad                  910  \n",
       "140915  341b852326218ffc95f1f44581a0b16c                  644  \n",
       "140916  dad580946d0d7c95d502ba36b29a9774                  975  \n",
       "\n",
       "[140834 rows x 4 columns]"
      ]
     },
     "execution_count": 27,
     "metadata": {},
     "output_type": "execute_result"
    }
   ],
   "source": [
    "# complexs = pd.DataFrame(complexs, columns=['index', 'positive_prompt', 'positive_hash', 'positive_raw_length'])\n",
    "# complexs.drop_duplicates(['positive_hash'], inplace=True)\n",
    "\n",
    "# complexs"
   ]
  }
 ],
 "metadata": {
  "kernelspec": {
   "display_name": "kk",
   "language": "python",
   "name": "kk"
  },
  "language_info": {
   "codemirror_mode": {
    "name": "ipython",
    "version": 3
   },
   "file_extension": ".py",
   "mimetype": "text/x-python",
   "name": "python",
   "nbconvert_exporter": "python",
   "pygments_lexer": "ipython3",
   "version": "3.10.13"
  }
 },
 "nbformat": 4,
 "nbformat_minor": 5
}
