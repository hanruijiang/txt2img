{
 "cells": [
  {
   "cell_type": "code",
   "execution_count": 1,
   "id": "178e3cd4-878a-4f31-9b2a-8688168b895e",
   "metadata": {
    "tags": []
   },
   "outputs": [],
   "source": [
    "import os\n",
    "os.environ['CUDA_VISIBLE_DEVICES'] = '3,0,1,2,4,5'\n",
    "\n",
    "import numpy as np\n",
    "import pandas as pd\n",
    "import torch\n",
    "\n",
    "from tqdm.auto import tqdm\n",
    "\n",
    "BATCH_SIZE = 64\n",
    "MIN_LONG_PROMPT_LENGTH = 150\n",
    "MIN_LONG_PROMPT_TOKEN_LENGTH = 50\n",
    "MAX_PROMPT_TOKEN_LENGTH = 150\n",
    "MAX_TAG_LENGTH = 150"
   ]
  },
  {
   "cell_type": "code",
   "execution_count": 2,
   "id": "c6e4e95d-7c88-4be8-aaa2-cb6c7a2cddfc",
   "metadata": {
    "tags": []
   },
   "outputs": [],
   "source": [
    "from transformers import AutoModelForCausalLM, AutoTokenizer\n",
    "from transformers import Trainer, TrainingArguments\n",
    "from transformers import DataCollatorForLanguageModeling\n",
    "\n",
    "# from peft import get_peft_model, LoraConfig, TaskType, prepare_model_for_int8_training"
   ]
  },
  {
   "cell_type": "code",
   "execution_count": 3,
   "id": "b76f5e27-e34b-4fd5-b1cb-0b3503d0967e",
   "metadata": {
    "tags": []
   },
   "outputs": [],
   "source": [
    "from prompt_datasets import PromptDataset, PairedPromptDataset, MultipleDataset"
   ]
  },
  {
   "cell_type": "code",
   "execution_count": 4,
   "id": "ad167e05-c61e-483c-b491-2f779d345e85",
   "metadata": {
    "tags": []
   },
   "outputs": [],
   "source": [
    "# # MODEL_PATH = 'crumb/bloom-560m-RLHF-SD2-prompter'\n",
    "# MODEL_PATH = 'weight/bloom-560m-shuffle'\n",
    "\n",
    "# tokenizer = AutoTokenizer.from_pretrained(MODEL_PATH, local_files_only=True)\n",
    "# tokenizer.padding_side = 'right'"
   ]
  },
  {
   "cell_type": "code",
   "execution_count": 5,
   "id": "f7461e69-467c-4063-8d5e-7352e9148b68",
   "metadata": {
    "tags": []
   },
   "outputs": [],
   "source": [
    "# MODEL_PATH = 'FredZhang7/distilgpt2-stable-diffusion-v2'\n",
    "MODEL_PATH = 'weight/distilgpt2-paired'\n",
    "# MODEL_PATH = 'GPT2-new/checkpoint-25000/'\n",
    "\n",
    "tokenizer = AutoTokenizer.from_pretrained(MODEL_PATH, local_files_only=True)\n",
    "tokenizer.pad_token = '\\x7f'\n",
    "tokenizer.pad_token_id = tokenizer('\\x7f').input_ids[0]"
   ]
  },
  {
   "cell_type": "markdown",
   "id": "d5174fc1-171f-4048-b36a-777df746e92b",
   "metadata": {
    "tags": []
   },
   "source": [
    "## paired"
   ]
  },
  {
   "cell_type": "code",
   "execution_count": 19,
   "id": "18afe770-6226-4a3c-8b4d-a7e628fe8a43",
   "metadata": {
    "tags": []
   },
   "outputs": [],
   "source": [
    "prompt_file_paths = [\n",
    "    '../dataset/nonredundant-civitai_prompts.tsv',\n",
    "    # '../dataset/nonredundant-midjourney_prompts-paired.tsv',\n",
    "    '../dataset/nonredundant-leonardo_prompts.tsv',\n",
    "]"
   ]
  },
  {
   "cell_type": "code",
   "execution_count": 20,
   "id": "301977b1-fb5a-4664-a930-a3847f85c9a5",
   "metadata": {
    "tags": []
   },
   "outputs": [],
   "source": [
    "prompts = list()\n",
    "\n",
    "for file_path in prompt_file_paths:\n",
    "    df = pd.read_csv(file_path, sep='\\t')\n",
    "    prompts.append(df)\n",
    "    \n",
    "prompts = pd.concat(prompts, axis=0, ignore_index=True)\n",
    "prompts.dropna(inplace=True)"
   ]
  },
  {
   "cell_type": "code",
   "execution_count": 21,
   "id": "f927c5a8-19dc-41c2-a799-b40628541b78",
   "metadata": {
    "tags": []
   },
   "outputs": [],
   "source": [
    "prompts['positive_length'] = prompts['positive_prompt'].str.len()\n",
    "prompts['negative_length'] = prompts['negative_prompt'].str.len()\n",
    "# prompts.query(f'positive_length < {MIN_LONG_PROMPT_LENGTH} or negative_length < {MIN_LONG_PROMPT_LENGTH}', inplace=True)"
   ]
  },
  {
   "cell_type": "code",
   "execution_count": 9,
   "id": "ae376009-ff49-4be7-8798-d2af9e2b2205",
   "metadata": {
    "tags": []
   },
   "outputs": [
    {
     "data": {
      "image/png": "[encoded data removed]",
      "text/plain": [
       "<Figure size 640x480 with 1 Axes>"
      ]
     },
     "metadata": {},
     "output_type": "display_data"
    }
   ],
   "source": [
    "_ = prompts['negative_length'].hist(bins=100)"
   ]
  },
  {
   "cell_type": "code",
   "execution_count": 37,
   "id": "b619b6c0-2946-482a-ab27-3c98457f4d5e",
   "metadata": {
    "tags": []
   },
   "outputs": [
    {
     "data": {
      "application/vnd.jupyter.widget-view+json": {
       "model_id": "57d3e333547e45b7bcb5092ff1407648",
       "version_major": 2,
       "version_minor": 0
      },
      "text/plain": [
       "  0%|          | 0/822390 [00:00<?, ?it/s]"
      ]
     },
     "metadata": {},
     "output_type": "display_data"
    }
   ],
   "source": [
    "paired_dataset = PairedPromptDataset(prompts, tokenizer, p_shuffle=0.5, max_shuffle=3, p_cut=0.2, max_prompt_length=MAX_PROMPT_TOKEN_LENGTH, overflow_method='split')"
   ]
  },
  {
   "cell_type": "markdown",
   "id": "8af85932-d9d4-4a4d-a28a-bf1af514f228",
   "metadata": {
    "tags": []
   },
   "source": [
    "## long paired"
   ]
  },
  {
   "cell_type": "code",
   "execution_count": 20,
   "id": "d717679c-b200-4c31-a5f0-4a92fba9aac3",
   "metadata": {
    "tags": []
   },
   "outputs": [],
   "source": [
    "prompt_file_paths = [\n",
    "    '../dataset/nonredundant-civitai_prompts.tsv',\n",
    "    '../dataset/nonredundant-midjourney_prompts-paired.tsv',\n",
    "    '../dataset/nonredundant-leonardo_prompts.tsv',\n",
    "]"
   ]
  },
  {
   "cell_type": "code",
   "execution_count": 21,
   "id": "b479d4ce-b263-4030-ad5f-9de4e0d325e5",
   "metadata": {
    "tags": []
   },
   "outputs": [],
   "source": [
    "prompts = list()\n",
    "\n",
    "for file_path in prompt_file_paths:\n",
    "    df = pd.read_csv(file_path, sep='\\t')\n",
    "    prompts.append(df)\n",
    "    \n",
    "prompts = pd.concat(prompts, axis=0, ignore_index=True)\n",
    "prompts.dropna(inplace=True)"
   ]
  },
  {
   "cell_type": "code",
   "execution_count": 22,
   "id": "b62c1219-057e-4563-befb-6177029a13db",
   "metadata": {
    "tags": []
   },
   "outputs": [],
   "source": [
    "prompts['positive_length'] = prompts['positive_prompt'].str.len()\n",
    "prompts['negative_length'] = prompts['negative_prompt'].str.len()\n",
    "# prompts.query(f'positive_length > {MIN_LONG_PROMPT_LENGTH} or negative_length > {MIN_LONG_PROMPT_LENGTH}', inplace=True)"
   ]
  },
  {
   "cell_type": "code",
   "execution_count": 28,
   "id": "ecd25f51-2832-4bfd-b0bc-906a9be6484e",
   "metadata": {
    "tags": []
   },
   "outputs": [
    {
     "data": {
      "application/vnd.jupyter.widget-view+json": {
       "model_id": "318b8d6381134182ab2358b9c4aba327",
       "version_major": 2,
       "version_minor": 0
      },
      "text/plain": [
       "  0%|          | 0/995044 [00:00<?, ?it/s]"
      ]
     },
     "metadata": {},
     "output_type": "display_data"
    }
   ],
   "source": [
    "long_paired_dataset = PairedPromptDataset(prompts, tokenizer, p_shuffle=0.5, max_shuffle=3, p_cut=0., min_prompt_length=MIN_LONG_PROMPT_TOKEN_LENGTH, max_prompt_length=MAX_PROMPT_TOKEN_LENGTH, overflow_method='split')"
   ]
  },
  {
   "cell_type": "markdown",
   "id": "612f55aa-c42b-4bef-886a-e7a58f2a5643",
   "metadata": {},
   "source": [
    "## single"
   ]
  },
  {
   "cell_type": "code",
   "execution_count": 43,
   "id": "5bddd6de-7170-4a92-9c4c-241bfd7b88eb",
   "metadata": {
    "tags": []
   },
   "outputs": [],
   "source": [
    "prompt_file_paths = [\n",
    "    # '../dataset/nonredundant-discord_prompts.tsv',\n",
    "    # '../dataset/nonredundant-lexica_prompts-train.tsv',\n",
    "    # '../dataset/nonredundant-lexica_prompts-eval.tsv',\n",
    "    '../dataset/nonredundant-civitai_prompts.tsv',\n",
    "    # '../dataset/nonredundant-leonardo_prompts.tsv',\n",
    "]"
   ]
  },
  {
   "cell_type": "code",
   "execution_count": 44,
   "id": "1b3183d5-750b-4d97-9aaa-5d69473a3712",
   "metadata": {
    "tags": []
   },
   "outputs": [],
   "source": [
    "prompts = list()\n",
    "\n",
    "for file_path in prompt_file_paths:\n",
    "    df = pd.read_csv(file_path, sep='\\t')\n",
    "    prompts.append(df)\n",
    "    \n",
    "prompts = pd.concat(prompts, axis=0, ignore_index=True)"
   ]
  },
  {
   "cell_type": "code",
   "execution_count": 29,
   "id": "fd9874bd-fcf9-4875-83dc-d1aeba23e60f",
   "metadata": {
    "tags": []
   },
   "outputs": [],
   "source": [
    "prompts['positive_prompt'] = [i if (type(i) == str and max(map(len, i.split(','))) < MAX_TAG_LENGTH) else None for i in prompts['positive_prompt']]\n",
    "prompts['negative_prompt'] = [i if (type(i) == str and max(map(len, i.split(','))) < MAX_TAG_LENGTH) else None for i in prompts['negative_prompt']]"
   ]
  },
  {
   "cell_type": "code",
   "execution_count": 45,
   "id": "71e8075c-e360-4b85-ade4-8d73b8003403",
   "metadata": {
    "tags": []
   },
   "outputs": [],
   "source": [
    "prompts['positive_length'] = prompts['positive_prompt'].str.len()\n",
    "prompts['negative_length'] = prompts['negative_prompt'].str.len()\n",
    "# prompts.query(f'positive_length < {MIN_LONG_PROMPT_LENGTH} or negative_length < {MIN_LONG_PROMPT_LENGTH}', inplace=True)"
   ]
  },
  {
   "cell_type": "code",
   "execution_count": 46,
   "id": "7e4d8252-1856-4e59-903f-56aae5909211",
   "metadata": {
    "tags": []
   },
   "outputs": [
    {
     "data": {
      "image/png": "[encoded data removed]",
      "text/plain": [
       "<Figure size 640x480 with 1 Axes>"
      ]
     },
     "metadata": {},
     "output_type": "display_data"
    }
   ],
   "source": [
    "_ = prompts['negative_length'].dropna().hist(bins=100, range=(1, 1000))"
   ]
  },
  {
   "cell_type": "code",
   "execution_count": 46,
   "id": "f27cf991-bc5d-4891-b9fe-eb2a87723462",
   "metadata": {
    "tags": []
   },
   "outputs": [
    {
     "data": {
      "application/vnd.jupyter.widget-view+json": {
       "model_id": "03606e3a5fc646db8dc53b795fa5d20b",
       "version_major": 2,
       "version_minor": 0
      },
      "text/plain": [
       "  0%|          | 0/3397810 [00:00<?, ?it/s]"
      ]
     },
     "metadata": {},
     "output_type": "display_data"
    }
   ],
   "source": [
    "single_dataset = PromptDataset(prompts, tokenizer, p_shuffle=0.5, max_shuffle=3, p_cut=0.2, max_prompt_length=MAX_PROMPT_TOKEN_LENGTH*2-1, overflow_method='split')"
   ]
  },
  {
   "cell_type": "markdown",
   "id": "17838341-4c0d-4d8e-86e9-6da4a476cce0",
   "metadata": {},
   "source": [
    "# long single"
   ]
  },
  {
   "cell_type": "code",
   "execution_count": 39,
   "id": "c5178511-15df-4d0b-9c80-ea460260e45c",
   "metadata": {
    "tags": []
   },
   "outputs": [],
   "source": [
    "prompt_file_paths = [\n",
    "    '../dataset/nonredundant-discord_prompts.tsv',\n",
    "    '../dataset/nonredundant-lexica_prompts-train.tsv',\n",
    "    '../dataset/nonredundant-lexica_prompts-eval.tsv',\n",
    "    # '../dataset/nonredundant-civitai_prompts.tsv',\n",
    "    '../dataset/nonredundant-leonardo_prompts.tsv',\n",
    "    '../dataset/nonredundant-dalle_captions.tsv',\n",
    "    '../dataset/nonredundant-dalle_chatgpt_prompts.tsv',\n",
    "    '../dataset/nonredundant-dalle_discord_prompts.tsv',\n",
    "    '../dataset/nonredundant-midjourney_prompts-paired.tsv',\n",
    "    '../dataset/long-laion2B-en-aesthetic.tsv',\n",
    "    '../dataset/long-midjourney_prompts.tsv',\n",
    "    '../dataset/long-midjourney_prompts-2.tsv',\n",
    "]"
   ]
  },
  {
   "cell_type": "code",
   "execution_count": 7,
   "id": "dc9807e4-7fd4-4656-85ed-2cbf11944775",
   "metadata": {
    "tags": []
   },
   "outputs": [],
   "source": [
    "prompts = list()\n",
    "\n",
    "for file_path in prompt_file_paths:\n",
    "    df = pd.read_csv(file_path, sep='\\t')\n",
    "    prompts.append(df)\n",
    "    \n",
    "prompts = pd.concat(prompts, axis=0, ignore_index=True)\n",
    "prompts.fillna('', inplace=True)"
   ]
  },
  {
   "cell_type": "code",
   "execution_count": 12,
   "id": "b8f5e962-d7ba-4b3c-b565-248ab1bd5b07",
   "metadata": {
    "tags": []
   },
   "outputs": [],
   "source": [
    "prompts['positive_length'] = prompts['positive_prompt'].str.len()\n",
    "prompts['negative_length'] = prompts['negative_prompt'].str.len()\n",
    "prompts.query(f'positive_length > {MIN_LONG_PROMPT_LENGTH} or negative_length > {MIN_LONG_PROMPT_LENGTH}', inplace=True)"
   ]
  },
  {
   "cell_type": "code",
   "execution_count": 18,
   "id": "3f763bed-aab7-4199-b133-274877e3f909",
   "metadata": {
    "tags": []
   },
   "outputs": [
    {
     "data": {
      "application/vnd.jupyter.widget-view+json": {
       "model_id": "2a760eabdee641e3ae8417f4f8eaa1a1",
       "version_major": 2,
       "version_minor": 0
      },
      "text/plain": [
       "  0%|          | 0/2592684 [00:00<?, ?it/s]"
      ]
     },
     "metadata": {},
     "output_type": "display_data"
    }
   ],
   "source": [
    "long_single_dataset = PromptDataset(prompts, tokenizer, p_shuffle=0.5, max_shuffle=3, p_cut=0., min_prompt_length=MIN_LONG_PROMPT_TOKEN_LENGTH, max_prompt_length=MAX_PROMPT_TOKEN_LENGTH*2-1, overflow_method='split')"
   ]
  },
  {
   "cell_type": "markdown",
   "id": "ac05e849-e92d-460c-996e-c0992791698e",
   "metadata": {
    "tags": []
   },
   "source": [
    "## extend"
   ]
  },
  {
   "cell_type": "code",
   "execution_count": 47,
   "id": "1a178302-9b9e-44be-9544-5543d1a0539e",
   "metadata": {
    "tags": []
   },
   "outputs": [],
   "source": [
    "prompt_file_paths = [\n",
    "    '../dataset/nonredundant-dalle_captions.tsv',\n",
    "    '../dataset/nonredundant-dalle_chatgpt_prompts.tsv',\n",
    "    '../dataset/nonredundant-dalle_discord_prompts.tsv',\n",
    "    '../dataset/nonredundant-midjourney_prompts-paired.tsv',\n",
    "]"
   ]
  },
  {
   "cell_type": "code",
   "execution_count": 48,
   "id": "521c53cb-5f61-49e0-b59a-295569a66e78",
   "metadata": {
    "tags": []
   },
   "outputs": [],
   "source": [
    "prompts = list()\n",
    "\n",
    "for file_path in prompt_file_paths:\n",
    "    df = pd.read_csv(file_path, sep='\\t')\n",
    "    prompts.append(df)\n",
    "    \n",
    "prompts = pd.concat(prompts, axis=0, ignore_index=True)"
   ]
  },
  {
   "cell_type": "code",
   "execution_count": 49,
   "id": "874740ef-6baf-413e-ab55-702dde52160b",
   "metadata": {},
   "outputs": [],
   "source": [
    "prompts['positive_prompt'] = [i if (type(i) == str and max(map(len, i.split(','))) < MAX_TAG_LENGTH) else None for i in prompts['positive_prompt']]\n",
    "prompts['negative_prompt'] = [i if (type(i) == str and max(map(len, i.split(','))) < MAX_TAG_LENGTH) else None for i in prompts['negative_prompt']]"
   ]
  },
  {
   "cell_type": "code",
   "execution_count": 50,
   "id": "68805c20-f687-4c11-a4e4-de577f1b8122",
   "metadata": {
    "tags": []
   },
   "outputs": [
    {
     "data": {
      "application/vnd.jupyter.widget-view+json": {
       "model_id": "5f8852f784474f34a9a2184eadc2b958",
       "version_major": 2,
       "version_minor": 0
      },
      "text/plain": [
       "  0%|          | 0/1321952 [00:00<?, ?it/s]"
      ]
     },
     "metadata": {},
     "output_type": "display_data"
    }
   ],
   "source": [
    "extend_dataset = PromptDataset(prompts, tokenizer, p_shuffle=0.25, max_shuffle=2, p_cut=0.1, max_prompt_length=MAX_PROMPT_TOKEN_LENGTH*2-1, overflow_method='split')"
   ]
  },
  {
   "cell_type": "code",
   "execution_count": 51,
   "id": "b5fe3999-fc9b-4d69-bd15-79d13e5d78cc",
   "metadata": {
    "tags": []
   },
   "outputs": [],
   "source": [
    "extend_dataset.samples += [(torch.tensor(i), True) for i in np.load('sampled_aesthetic.npy', allow_pickle=True) if len(i) < extend_dataset.max_prompt_length]\n",
    "extend_dataset.samples += [(torch.tensor(i), True) for i in np.load('sampled_midjourney.npy', allow_pickle=True) if len(i) < extend_dataset.max_prompt_length]"
   ]
  },
  {
   "cell_type": "markdown",
   "id": "a01da153-52db-4dd2-846c-1cb5cb88d456",
   "metadata": {
    "tags": []
   },
   "source": [
    "# merge"
   ]
  },
  {
   "cell_type": "code",
   "execution_count": 54,
   "id": "045265d8-e7dd-41eb-91b5-4932e052875c",
   "metadata": {
    "tags": []
   },
   "outputs": [
    {
     "data": {
      "text/plain": [
       "(711395, 1396772, 3408587, 2124010, 6968912, 6968912)"
      ]
     },
     "execution_count": 54,
     "metadata": {},
     "output_type": "execute_result"
    }
   ],
   "source": [
    "merged_dataset = MultipleDataset([paired_dataset, long_paired_dataset, single_dataset, long_single_dataset, extend_dataset], probabilities=[0.15, 0.3, 0.1, 0.15, 0.3])\n",
    "len(paired_dataset), len(long_paired_dataset), len(single_dataset), len(long_single_dataset), len(extend_dataset), len(merged_dataset)"
   ]
  },
  {
   "cell_type": "code",
   "execution_count": 55,
   "id": "16b607e0-7dc0-48c8-83b4-552a6fd6518a",
   "metadata": {
    "tags": []
   },
   "outputs": [],
   "source": [
    "len_val_set = int(len(merged_dataset) * 0.001)\n",
    "train_set, val_set = torch.utils.data.random_split(merged_dataset, (len(merged_dataset) - len_val_set, len_val_set))"
   ]
  },
  {
   "cell_type": "code",
   "execution_count": 56,
   "id": "339326d2-0be1-4824-82f6-2fedb7a2d4c7",
   "metadata": {
    "tags": []
   },
   "outputs": [],
   "source": [
    "data_collator = DataCollatorForLanguageModeling(tokenizer, mlm=False)"
   ]
  },
  {
   "cell_type": "code",
   "execution_count": 57,
   "id": "fd464e00-7428-40af-8a1e-fc347c4026a6",
   "metadata": {
    "tags": []
   },
   "outputs": [],
   "source": [
    "model = AutoModelForCausalLM.from_pretrained(MODEL_PATH, local_files_only=True)"
   ]
  },
  {
   "cell_type": "code",
   "execution_count": 24,
   "id": "5a4c8aff-cd66-4eda-a35e-a84d2fbb49ed",
   "metadata": {
    "tags": []
   },
   "outputs": [],
   "source": [
    "# model = AutoModelForCausalLM.from_pretrained(MODEL_PATH, local_files_only=True, load_in_8bit=True, device_map='auto')\n",
    "# model = prepare_model_for_int8_training(model)"
   ]
  },
  {
   "cell_type": "code",
   "execution_count": 25,
   "id": "6830359f-5340-44d5-b400-2c58b8e7665a",
   "metadata": {
    "tags": []
   },
   "outputs": [],
   "source": [
    "# peft_config = LoraConfig(\n",
    "#     task_type=TaskType.CAUSAL_LM, inference_mode=False, r=16, lora_alpha=16, lora_dropout=0.1, bias=\"all\"\n",
    "# )"
   ]
  },
  {
   "cell_type": "code",
   "execution_count": 26,
   "id": "0c364073-f371-4719-9dfc-7ab83fc3f0a1",
   "metadata": {
    "tags": []
   },
   "outputs": [],
   "source": [
    "# model = get_peft_model(model, peft_config)\n",
    "# model.print_trainable_parameters()"
   ]
  },
  {
   "cell_type": "code",
   "execution_count": 63,
   "id": "781e2f71-0c3e-4d81-bdbb-f6817bc181e8",
   "metadata": {
    "tags": []
   },
   "outputs": [],
   "source": [
    "args = TrainingArguments(\n",
    "    output_dir=\"GPT2-paired\",\n",
    "    per_device_train_batch_size=BATCH_SIZE,\n",
    "    per_device_eval_batch_size=BATCH_SIZE,\n",
    "    logging_steps=1_000,\n",
    "    gradient_accumulation_steps=4,\n",
    "    num_train_epochs=3,\n",
    "    weight_decay=0.1,\n",
    "    warmup_steps=1_000,\n",
    "    lr_scheduler_type=\"cosine\",\n",
    "    learning_rate=1e-4,\n",
    "    save_steps=5_000,\n",
    "    fp16=True,\n",
    "    \n",
    "    push_to_hub=False,\n",
    "    \n",
    "    evaluation_strategy=\"steps\",\n",
    "    eval_steps=1_000,\n",
    "    do_eval=True,\n",
    ")"
   ]
  },
  {
   "cell_type": "code",
   "execution_count": 64,
   "id": "3475dae8-26ed-45b5-8806-7fd8b65c3f5c",
   "metadata": {
    "tags": []
   },
   "outputs": [],
   "source": [
    "trainer = Trainer(\n",
    "    model=model,\n",
    "    tokenizer=tokenizer,\n",
    "    args=args,\n",
    "    data_collator=data_collator,\n",
    "    train_dataset=train_set,\n",
    "    eval_dataset=val_set,\n",
    ")"
   ]
  },
  {
   "cell_type": "code",
   "execution_count": 65,
   "id": "e8df910c-9723-4aef-95b3-d3fb6a9b9407",
   "metadata": {
    "tags": []
   },
   "outputs": [
    {
     "name": "stderr",
     "output_type": "stream",
     "text": [
      "/sunjie/kcg-ml-image-pipeline/venv/lib/python3.10/site-packages/transformers/optimization.py:407: FutureWarning: This implementation of AdamW is deprecated and will be removed in a future version. Use the PyTorch implementation torch.optim.AdamW instead, or set `no_deprecation_warning=True` to disable this warning\n",
      "  warnings.warn(\n"
     ]
    },
    {
     "data": {
      "text/html": [
       "\n",
       "    <div>\n",
       "      \n",
       "      <progress value='13596' max='13596' style='width:300px; height:20px; vertical-align: middle;'></progress>\n",
       "      [13596/13596 18:35:43, Epoch 2/3]\n",
       "    </div>\n",
       "    <table border=\"1\" class=\"dataframe\">\n",
       "  <thead>\n",
       " <tr style=\"text-align: left;\">\n",
       "      <th>Step</th>\n",
       "      <th>Training Loss</th>\n",
       "      <th>Validation Loss</th>\n",
       "    </tr>\n",
       "  </thead>\n",
       "  <tbody>\n",
       "    <tr>\n",
       "      <td>1000</td>\n",
       "      <td>1.263800</td>\n",
       "      <td>1.184049</td>\n",
       "    </tr>\n",
       "    <tr>\n",
       "      <td>2000</td>\n",
       "      <td>1.262300</td>\n",
       "      <td>1.170541</td>\n",
       "    </tr>\n",
       "    <tr>\n",
       "      <td>3000</td>\n",
       "      <td>1.257700</td>\n",
       "      <td>1.184240</td>\n",
       "    </tr>\n",
       "    <tr>\n",
       "      <td>4000</td>\n",
       "      <td>1.248600</td>\n",
       "      <td>1.155769</td>\n",
       "    </tr>\n",
       "    <tr>\n",
       "      <td>5000</td>\n",
       "      <td>1.242600</td>\n",
       "      <td>1.159461</td>\n",
       "    </tr>\n",
       "    <tr>\n",
       "      <td>6000</td>\n",
       "      <td>1.239300</td>\n",
       "      <td>1.153006</td>\n",
       "    </tr>\n",
       "    <tr>\n",
       "      <td>7000</td>\n",
       "      <td>1.234100</td>\n",
       "      <td>1.113917</td>\n",
       "    </tr>\n",
       "    <tr>\n",
       "      <td>8000</td>\n",
       "      <td>1.233800</td>\n",
       "      <td>1.150632</td>\n",
       "    </tr>\n",
       "    <tr>\n",
       "      <td>9000</td>\n",
       "      <td>1.227000</td>\n",
       "      <td>1.137126</td>\n",
       "    </tr>\n",
       "    <tr>\n",
       "      <td>10000</td>\n",
       "      <td>1.223500</td>\n",
       "      <td>1.124482</td>\n",
       "    </tr>\n",
       "    <tr>\n",
       "      <td>11000</td>\n",
       "      <td>1.221700</td>\n",
       "      <td>1.131137</td>\n",
       "    </tr>\n",
       "    <tr>\n",
       "      <td>12000</td>\n",
       "      <td>1.220900</td>\n",
       "      <td>1.132417</td>\n",
       "    </tr>\n",
       "    <tr>\n",
       "      <td>13000</td>\n",
       "      <td>1.219800</td>\n",
       "      <td>1.133391</td>\n",
       "    </tr>\n",
       "  </tbody>\n",
       "</table><p>"
      ],
      "text/plain": [
       "<IPython.core.display.HTML object>"
      ]
     },
     "metadata": {},
     "output_type": "display_data"
    },
    {
     "name": "stderr",
     "output_type": "stream",
     "text": [
      "/sunjie/kcg-ml-image-pipeline/venv/lib/python3.10/site-packages/torch/nn/parallel/_functions.py:68: UserWarning: Was asked to gather along dimension 0, but all input tensors were scalars; will instead unsqueeze and return a vector.\n",
      "  warnings.warn('Was asked to gather along dimension 0, but all '\n"
     ]
    },
    {
     "data": {
      "text/plain": [
       "TrainOutput(global_step=13596, training_loss=1.23724769262329, metrics={'train_runtime': 66949.627, 'train_samples_per_second': 311.963, 'train_steps_per_second': 0.203, 'total_flos': 1.6362499120213524e+18, 'train_loss': 1.23724769262329, 'epoch': 3.0})"
      ]
     },
     "execution_count": 65,
     "metadata": {},
     "output_type": "execute_result"
    }
   ],
   "source": [
    "trainer.train()"
   ]
  },
  {
   "cell_type": "code",
   "execution_count": 66,
   "id": "3b519461-875a-44a5-a9d9-a7c011fe55bc",
   "metadata": {
    "tags": []
   },
   "outputs": [
    {
     "data": {
      "text/plain": [
       "('weight/distilgpt2-paired/tokenizer_config.json',\n",
       " 'weight/distilgpt2-paired/special_tokens_map.json',\n",
       " 'weight/distilgpt2-paired/vocab.json',\n",
       " 'weight/distilgpt2-paired/merges.txt',\n",
       " 'weight/distilgpt2-paired/added_tokens.json',\n",
       " 'weight/distilgpt2-paired/tokenizer.json')"
      ]
     },
     "execution_count": 66,
     "metadata": {},
     "output_type": "execute_result"
    }
   ],
   "source": [
    "tokenizer.save_pretrained('weight/distilgpt2-paired')"
   ]
  },
  {
   "cell_type": "code",
   "execution_count": 67,
   "id": "896c43d0-89fd-4c46-823c-5627fc3c7ec9",
   "metadata": {
    "tags": []
   },
   "outputs": [],
   "source": [
    "model.save_pretrained('weight/distilgpt2-paired')"
   ]
  },
  {
   "cell_type": "code",
   "execution_count": null,
   "id": "b2765b73-5b3a-4da8-ba4b-8fb4c79032cf",
   "metadata": {},
   "outputs": [],
   "source": []
  }
 ],
 "metadata": {
  "kernelspec": {
   "display_name": "kk-2",
   "language": "python",
   "name": "kk-2"
  },
  "language_info": {
   "codemirror_mode": {
    "name": "ipython",
    "version": 3
   },
   "file_extension": ".py",
   "mimetype": "text/x-python",
   "name": "python",
   "nbconvert_exporter": "python",
   "pygments_lexer": "ipython3",
   "version": "3.10.13"
  }
 },
 "nbformat": 4,
 "nbformat_minor": 5
}
