{
 "cells": [
  {
   "cell_type": "code",
   "execution_count": 1,
   "id": "08563131-8bd6-49db-8ad2-88f7acba1e15",
   "metadata": {
    "tags": []
   },
   "outputs": [],
   "source": [
    "import os\n",
    "import sys\n",
    "\n",
    "import numpy as np\n",
    "\n",
    "from tqdm.auto import tqdm"
   ]
  },
  {
   "cell_type": "code",
   "execution_count": 2,
   "id": "a3b26354-ca21-4a04-b9c0-c85a146bc8ae",
   "metadata": {
    "tags": []
   },
   "outputs": [],
   "source": [
    "from sklearn.metrics.pairwise import cosine_similarity\n",
    "\n",
    "from matplotlib import pyplot"
   ]
  },
  {
   "cell_type": "markdown",
   "id": "9a069728-0884-4f74-9001-2b07de89f40d",
   "metadata": {},
   "source": [
    "# inspect data"
   ]
  },
  {
   "cell_type": "markdown",
   "id": "ce8ba408-ea2a-4684-9778-9cf993cc1093",
   "metadata": {},
   "source": [
    "## load"
   ]
  },
  {
   "cell_type": "code",
   "execution_count": 3,
   "id": "ba5bf583-850b-4db8-89ce-cd8e794c9841",
   "metadata": {
    "tags": []
   },
   "outputs": [],
   "source": [
    "# pip install scikit-learn mega.py\n",
    "\n",
    "sys.path.append(os.path.abspath('../kcg-ml-vae-test/'))\n",
    "from utilities.utils import read_embedding_data, read_msg_pack"
   ]
  },
  {
   "cell_type": "code",
   "execution_count": 4,
   "id": "7f6c3b4d-1bb2-43f9-ac14-0a7a7863c32c",
   "metadata": {
    "tags": []
   },
   "outputs": [],
   "source": [
    "file_path = '../kcg-ml-image-pipeline/output/environmental/ranking_v1/embeddings/000000_embedding.msgpack'\n",
    "\n",
    "mp = read_msg_pack(file_path)\n",
    "\n",
    "pos_emb, neg_emb = read_embedding_data(file_path)"
   ]
  },
  {
   "cell_type": "code",
   "execution_count": 5,
   "id": "3894b1a4-52ed-4c4e-9a6c-9a70fafe19b8",
   "metadata": {
    "tags": []
   },
   "outputs": [
    {
     "data": {
      "text/plain": [
       "dict_keys(['job_uuid', 'creation_time', 'dataset', 'file_path', 'file_hash', 'positive_prompt', 'negative_prompt', 'positive_embedding', 'negative_embedding'])"
      ]
     },
     "execution_count": 5,
     "metadata": {},
     "output_type": "execute_result"
    }
   ],
   "source": [
    "mp.keys()"
   ]
  },
  {
   "cell_type": "code",
   "execution_count": 6,
   "id": "b8e622e8-3380-4494-820a-f79ccd6f4e33",
   "metadata": {
    "tags": []
   },
   "outputs": [
    {
     "data": {
      "text/plain": [
       "'environmental, pixel art, concept art, side scrolling, video game, neo city, (1 girl), white box, puffy lips, cinematic lighting, colorful, steampunk, partially submerged, original, 1girl, night, ribbon choker, see through top, black tissues, a masterpiece, high heel, hand on own crotch'"
      ]
     },
     "execution_count": 6,
     "metadata": {},
     "output_type": "execute_result"
    }
   ],
   "source": [
    "mp['positive_prompt']"
   ]
  },
  {
   "cell_type": "markdown",
   "id": "2ddc691d-73b2-484e-9ac8-777769d29aa3",
   "metadata": {},
   "source": [
    "## check embedding"
   ]
  },
  {
   "cell_type": "code",
   "execution_count": 14,
   "id": "8ec88d68-8afd-4894-8d86-493805b3e7aa",
   "metadata": {
    "tags": []
   },
   "outputs": [
    {
     "name": "stderr",
     "output_type": "stream",
     "text": [
      "'(MaxRetryError(\"HTTPSConnectionPool(host='huggingface.co', port=443): Max retries exceeded with url: /johngiorgi/declutr-base/resolve/main/tokenizer_config.json (Caused by ConnectTimeoutError(<urllib3.connection.HTTPSConnection object at 0x7f8300e50490>, 'Connection to huggingface.co timed out. (connect timeout=10)'))\"), '(Request ID: d48b0536-0122-4255-ac88-99e0e1e1033b)')' thrown while requesting HEAD https://huggingface.co/johngiorgi/declutr-base/resolve/main/tokenizer_config.json\n"
     ]
    }
   ],
   "source": [
    "from transformers import AutoTokenizer, AutoModel\n",
    "\n",
    "# model_name = 'laion/CLIP-ViT-bigG-14-laion2B-39B-b160k'\n",
    "# model_name = 'openai/clip-vit-large-patch14'\n",
    "# model_name = '../Llama-2-7b-hf'\n",
    "# model_name = 'BAAI/bge-base-en-v1.5'\n",
    "\n",
    "# model_name = 'bigscience/bloom-560m'\n",
    "model_name = 'johngiorgi/declutr-base'\n",
    "\n",
    "# tokenizer = AutoTokenizer.from_pretrained(model_name)\n",
    "# transformer = AutoModel.from_pretrained(model_name).text_model.eval()\n",
    "\n",
    "tokenizer = AutoTokenizer.from_pretrained(model_name)\n",
    "# transformer = AutoModel.from_pretrained(model_name).eval()#.cuda()\n",
    "\n",
    "# tokenizer.pad_token = \"[PAD]\"\n",
    "# tokenizer.padding_side = \"left\""
   ]
  },
  {
   "cell_type": "code",
   "execution_count": 18,
   "id": "e3541e59-916c-44b3-bab5-d66ae29553ff",
   "metadata": {
    "tags": []
   },
   "outputs": [],
   "source": [
    "batch_encoding = tokenizer(\n",
    "    mp['positive_prompt'],\n",
    "    truncation=True, max_length=70, return_length=True,\n",
    "    return_overflowing_tokens=False, padding=\"max_length\", return_tensors=\"pt\"\n",
    ")\n",
    "\n",
    "tokens = batch_encoding[\"input_ids\"].to()\n",
    "\n",
    "# clip_text_opt = transformer(input_ids=tokens)\n",
    "\n",
    "# clip_text_opt.keys()"
   ]
  },
  {
   "cell_type": "code",
   "execution_count": 19,
   "id": "2b02893a-3b2b-4b6d-98c8-d6c35eaa39d8",
   "metadata": {
    "tags": []
   },
   "outputs": [
    {
     "data": {
      "text/plain": [
       "70"
      ]
     },
     "execution_count": 19,
     "metadata": {},
     "output_type": "execute_result"
    }
   ],
   "source": [
    "len(tokens[0])"
   ]
  },
  {
   "cell_type": "code",
   "execution_count": 20,
   "id": "b9da6025-3707-43f4-9f23-5800acbcd0e1",
   "metadata": {
    "tags": []
   },
   "outputs": [
    {
     "data": {
      "text/plain": [
       "['<s>',\n",
       " 'environment',\n",
       " 'al',\n",
       " ',',\n",
       " 'Ġpixel',\n",
       " 'Ġart',\n",
       " ',',\n",
       " 'Ġconcept',\n",
       " 'Ġart',\n",
       " ',',\n",
       " 'Ġside',\n",
       " 'Ġscrolling',\n",
       " ',',\n",
       " 'Ġvideo',\n",
       " 'Ġgame',\n",
       " ',',\n",
       " 'Ġneo',\n",
       " 'Ġcity',\n",
       " ',',\n",
       " 'Ġ(',\n",
       " '1',\n",
       " 'Ġgirl',\n",
       " '),',\n",
       " 'Ġwhite',\n",
       " 'Ġbox',\n",
       " ',',\n",
       " 'Ġp',\n",
       " 'uffy',\n",
       " 'Ġlips',\n",
       " ',',\n",
       " 'Ġcinematic',\n",
       " 'Ġlighting',\n",
       " ',',\n",
       " 'Ġcolorful',\n",
       " ',',\n",
       " 'Ġste',\n",
       " 'ampunk',\n",
       " ',',\n",
       " 'Ġpartially',\n",
       " 'Ġsubmerged',\n",
       " ',',\n",
       " 'Ġoriginal',\n",
       " ',',\n",
       " 'Ġ1',\n",
       " 'girl',\n",
       " ',',\n",
       " 'Ġnight',\n",
       " ',',\n",
       " 'Ġribbon',\n",
       " 'Ġch',\n",
       " 'oker',\n",
       " ',',\n",
       " 'Ġsee',\n",
       " 'Ġthrough',\n",
       " 'Ġtop',\n",
       " ',',\n",
       " 'Ġblack',\n",
       " 'Ġtissues',\n",
       " ',',\n",
       " 'Ġa',\n",
       " 'Ġmasterpiece',\n",
       " ',',\n",
       " 'Ġhigh',\n",
       " 'Ġheel',\n",
       " ',',\n",
       " 'Ġhand',\n",
       " 'Ġon',\n",
       " 'Ġown',\n",
       " 'Ġcrotch',\n",
       " '</s>']"
      ]
     },
     "execution_count": 20,
     "metadata": {},
     "output_type": "execute_result"
    }
   ],
   "source": [
    "tokenizer.convert_ids_to_tokens(tokens[0])"
   ]
  },
  {
   "cell_type": "code",
   "execution_count": 11,
   "id": "1a2f81d7-33c8-440b-9e34-d1dddfb657ac",
   "metadata": {
    "tags": []
   },
   "outputs": [
    {
     "data": {
      "text/plain": [
       "(torch.Size([1, 77, 768]), torch.Size([1, 768]))"
      ]
     },
     "execution_count": 11,
     "metadata": {},
     "output_type": "execute_result"
    }
   ],
   "source": [
    "clip_emb, clip_pooler_output = clip_text_opt.last_hidden_state, clip_text_opt.pooler_output\n",
    "clip_emb.shape, clip_pooler_output.shape"
   ]
  },
  {
   "cell_type": "code",
   "execution_count": 16,
   "id": "e40b9400-73ed-4733-a293-5c2af8e737d4",
   "metadata": {
    "tags": []
   },
   "outputs": [
    {
     "data": {
      "text/plain": [
       "9.092783749300054e-07"
      ]
     },
     "execution_count": 16,
     "metadata": {},
     "output_type": "execute_result"
    }
   ],
   "source": [
    "np.abs(pos_emb - clip_emb.detach().cpu().numpy()).mean()"
   ]
  },
  {
   "cell_type": "markdown",
   "id": "545a8856-51e3-412a-bb55-d03060eb96c9",
   "metadata": {},
   "source": [
    "### short sentence"
   ]
  },
  {
   "cell_type": "code",
   "execution_count": null,
   "id": "319f5869-b9e7-424c-9a45-38a0d5e971d8",
   "metadata": {
    "tags": []
   },
   "outputs": [],
   "source": [
    "batch_encoding = tokenizer(\n",
    "    'steampunk',\n",
    "    truncation=True, max_length=77, return_length=True,\n",
    "    return_overflowing_tokens=False, padding=\"max_length\", return_tensors=\"pt\"\n",
    ")\n",
    "\n",
    "tokens = batch_encoding[\"input_ids\"].to(transformer.device)\n",
    "\n",
    "clip_text_opt = transformer(input_ids=tokens)\n",
    "\n",
    "short_emb = clip_text_opt.last_hidden_state.detach().cpu().numpy()"
   ]
  },
  {
   "cell_type": "code",
   "execution_count": null,
   "id": "831af26a-7fc9-497e-8247-d671d6d9ce97",
   "metadata": {
    "tags": []
   },
   "outputs": [],
   "source": [
    "pos_sim = cosine_similarity(short_emb[0])"
   ]
  },
  {
   "cell_type": "code",
   "execution_count": null,
   "id": "a520920f-a5c7-4c17-9cf0-35e0b72cccd7",
   "metadata": {
    "tags": []
   },
   "outputs": [],
   "source": [
    "pyplot.imshow(pos_sim)\n",
    "pyplot.colorbar()"
   ]
  },
  {
   "cell_type": "markdown",
   "id": "e6fc26da-f51f-4097-a666-843e04a45a0f",
   "metadata": {},
   "source": [
    "### sentence vs single word"
   ]
  },
  {
   "cell_type": "code",
   "execution_count": null,
   "id": "fe0872b6-1b16-42c9-8c2a-6b87a99e7532",
   "metadata": {
    "tags": []
   },
   "outputs": [],
   "source": [
    "one_word_encoding"
   ]
  },
  {
   "cell_type": "code",
   "execution_count": null,
   "id": "1fbf6a02-bfb2-451b-ab6a-5c2e5b4801f1",
   "metadata": {
    "tags": []
   },
   "outputs": [],
   "source": [
    "one_word_encoding = tokenizer('steampunk', return_tensors=\"pt\")\n",
    "one_word_opt = transformer(input_ids=one_word_encoding[\"input_ids\"])\n",
    "one_word_encoding"
   ]
  },
  {
   "cell_type": "code",
   "execution_count": null,
   "id": "ceabc9e9-3fa2-4206-900c-52f70e0e816b",
   "metadata": {
    "tags": []
   },
   "outputs": [],
   "source": [
    "one_word_emb = one_word_opt.last_hidden_state.detach().cpu().numpy()\n",
    "one_pos_sim = cosine_similarity(one_word_emb[0], pos_emb[0])\n",
    "pyplot.imshow(one_pos_sim)"
   ]
  },
  {
   "cell_type": "code",
   "execution_count": null,
   "id": "c9b8d6ea-18d2-4bbd-a54b-f02228041a82",
   "metadata": {
    "tags": []
   },
   "outputs": [],
   "source": [
    "list(tokens[0].numpy()).index(24130)"
   ]
  },
  {
   "cell_type": "code",
   "execution_count": null,
   "id": "bb135ca0-ec0f-4d5e-b783-745bc6204c10",
   "metadata": {
    "tags": []
   },
   "outputs": [],
   "source": [
    "one_pos_sim[1, 33]"
   ]
  },
  {
   "cell_type": "markdown",
   "id": "dccd36a2-917a-4d5b-a542-33f559bcfd11",
   "metadata": {},
   "source": [
    "### short vs. single"
   ]
  },
  {
   "cell_type": "code",
   "execution_count": null,
   "id": "73716c91-132b-4755-963c-1566687e47cb",
   "metadata": {
    "tags": []
   },
   "outputs": [],
   "source": [
    "one_short_sim = cosine_similarity(one_word_emb[0], short_emb[0])\n",
    "pyplot.imshow(one_short_sim)"
   ]
  },
  {
   "cell_type": "code",
   "execution_count": null,
   "id": "518ee150-df3e-4618-aa91-1ca4002ea66d",
   "metadata": {
    "tags": []
   },
   "outputs": [],
   "source": [
    "one_short_sim[1, 1]"
   ]
  },
  {
   "cell_type": "code",
   "execution_count": null,
   "id": "e9ba41db-ed5f-4889-96ca-9a743d426cc2",
   "metadata": {
    "tags": []
   },
   "outputs": [],
   "source": [
    "cosine_similarity(one_word_emb[0], short_emb[0].mean(axis=0, keepdims=True))"
   ]
  },
  {
   "cell_type": "markdown",
   "id": "c1895121-ae02-4200-a7f8-cba1c8a09f60",
   "metadata": {},
   "source": [
    "## analysis"
   ]
  },
  {
   "cell_type": "code",
   "execution_count": 7,
   "id": "13c120bd-2ebd-4124-b8e1-dc1a1c5d94a0",
   "metadata": {
    "tags": []
   },
   "outputs": [],
   "source": [
    "pos_sim = cosine_similarity(pos_emb[0])"
   ]
  },
  {
   "cell_type": "code",
   "execution_count": 20,
   "id": "ccfcf1ff-28b8-4825-a1cc-76e9e11df8fe",
   "metadata": {
    "tags": []
   },
   "outputs": [
    {
     "data": {
      "text/plain": [
       "<matplotlib.colorbar.Colorbar at 0x7ff6b4eaf640>"
      ]
     },
     "execution_count": 20,
     "metadata": {},
     "output_type": "execute_result"
    },
    {
     "data": {
      "image/png": "[encoded data removed]",
      "text/plain": [
       "<Figure size 640x480 with 2 Axes>"
      ]
     },
     "metadata": {},
     "output_type": "display_data"
    }
   ],
   "source": [
    "pyplot.imshow(pos_sim)\n",
    "pyplot.colorbar()"
   ]
  },
  {
   "cell_type": "code",
   "execution_count": null,
   "id": "368c2d67-69d5-45da-9dcf-1e69cca1fab7",
   "metadata": {
    "tags": []
   },
   "outputs": [],
   "source": [
    "clip_text_opt.keys()"
   ]
  },
  {
   "cell_type": "markdown",
   "id": "d723d788-6f18-440e-a83d-5c5f97c67d52",
   "metadata": {},
   "source": [
    "## check redundancy of dimension axis"
   ]
  },
  {
   "cell_type": "markdown",
   "id": "3d9f9da7-6da1-4e58-829c-4182c5c0e5c5",
   "metadata": {},
   "source": [
    "### load dataset"
   ]
  },
  {
   "cell_type": "code",
   "execution_count": null,
   "id": "e986a447-947d-49a1-a875-ccf3b53f6466",
   "metadata": {
    "tags": []
   },
   "outputs": [],
   "source": [
    "import glob\n",
    "\n",
    "paths = sorted(glob.glob('/workspace/kk-digital/kcg-ml-image-pipeline/output/environmental/ranking_v2/embeddings/*_embedding.msgpack'))\n",
    "\n",
    "pos_embs = []\n",
    "for path in tqdm(paths):\n",
    "    pos_emb, neg_emb = read_embedding_data(path)\n",
    "    pos_embs.append(pos_emb)\n",
    "pos_embs = np.concatenate(pos_embs, axis=0)"
   ]
  },
  {
   "cell_type": "markdown",
   "id": "35a3e4e9-9bbb-4897-b635-d1dac7f7abe8",
   "metadata": {
    "tags": []
   },
   "source": [
    "### successive vectors"
   ]
  },
  {
   "cell_type": "code",
   "execution_count": null,
   "id": "a1b31ac2-f549-4b7c-8086-f9beb28a34b9",
   "metadata": {
    "tags": []
   },
   "outputs": [],
   "source": [
    "vector1 = pos_embs[:, :-1]\n",
    "vector2 = pos_embs[:, 1:]\n",
    "\n",
    "norm1 = np.linalg.norm(vector1, axis=-1)\n",
    "norm2 = np.linalg.norm(vector2, axis=-1)"
   ]
  },
  {
   "cell_type": "code",
   "execution_count": null,
   "id": "1e285527-24cf-45d6-a215-a060bb840dfc",
   "metadata": {
    "tags": []
   },
   "outputs": [],
   "source": [
    "dot_product = (vector1 * vector2).sum(axis=-1)\n",
    "\n",
    "cos = dot_product / (norm1 * norm2)"
   ]
  },
  {
   "cell_type": "code",
   "execution_count": null,
   "id": "c1f762e4-087f-47a1-be32-e9085da9cf10",
   "metadata": {
    "tags": []
   },
   "outputs": [],
   "source": [
    "pyplot.hist(cos.flatten(), bins=100, density=True)\n",
    "pyplot.title('histogram: cosine similarity of successive vectors')"
   ]
  },
  {
   "cell_type": "markdown",
   "id": "a8b7bad6-37da-4cd5-8f10-1d90a6a9c2f4",
   "metadata": {
    "tags": []
   },
   "source": [
    "### sentences"
   ]
  },
  {
   "cell_type": "code",
   "execution_count": null,
   "id": "071012fc-6e83-4bb5-9404-27ae74d772ff",
   "metadata": {
    "tags": []
   },
   "outputs": [],
   "source": [
    "cos = cosine_similarity(pos_embs.mean(axis=1))"
   ]
  },
  {
   "cell_type": "code",
   "execution_count": null,
   "id": "99e95df0-8b9e-4858-bc68-ee3973b546fe",
   "metadata": {
    "tags": []
   },
   "outputs": [],
   "source": [
    "pyplot.hist(cos.flatten(), bins=100, density=True)\n",
    "pyplot.title('histogram: cosine similarity between sentences')"
   ]
  },
  {
   "cell_type": "markdown",
   "id": "f520c2cb-61e7-429a-9581-108f31635966",
   "metadata": {},
   "source": [
    "### fit PCA model"
   ]
  },
  {
   "cell_type": "code",
   "execution_count": null,
   "id": "f60ed28a-7977-480f-83a5-ff02cbf044ba",
   "metadata": {
    "tags": []
   },
   "outputs": [],
   "source": [
    "from sklearn.decomposition import PCA"
   ]
  },
  {
   "cell_type": "code",
   "execution_count": null,
   "id": "161a010b-83ef-434c-9e55-cf4920e1185e",
   "metadata": {
    "tags": []
   },
   "outputs": [],
   "source": [
    "pca = PCA()"
   ]
  },
  {
   "cell_type": "code",
   "execution_count": null,
   "id": "0a22c741-722d-4be2-bd4e-4d2d8ffa331d",
   "metadata": {
    "tags": []
   },
   "outputs": [],
   "source": [
    "x = pos_embs.reshape(-1, pos_embs.shape[-1])"
   ]
  },
  {
   "cell_type": "code",
   "execution_count": null,
   "id": "2625786d-d614-4c87-b6ba-25720f2e5eca",
   "metadata": {
    "tags": []
   },
   "outputs": [],
   "source": [
    "z = pca.fit_transform(x)"
   ]
  },
  {
   "cell_type": "code",
   "execution_count": null,
   "id": "ee5e70ab-39e6-490f-a6de-045ea3e24d9c",
   "metadata": {
    "tags": []
   },
   "outputs": [],
   "source": [
    "pyplot.plot(np.cumsum(pca.explained_variance_ratio_))\n",
    "pyplot.title('factor variance ratio of PCA')"
   ]
  },
  {
   "cell_type": "markdown",
   "id": "e2e9385e-3937-4043-8972-1b6d4ebcad2c",
   "metadata": {},
   "source": [
    "### keep top components"
   ]
  },
  {
   "cell_type": "code",
   "execution_count": null,
   "id": "c4bfe804-c8e0-47c7-98d9-c82eb8a87edb",
   "metadata": {
    "tags": []
   },
   "outputs": [],
   "source": [
    "import pandas as pd\n",
    "import seaborn as sns\n",
    "sns.set_theme(style=\"white\", rc={\"axes.facecolor\": (0, 0, 0, 0)})"
   ]
  },
  {
   "cell_type": "code",
   "execution_count": null,
   "id": "a962f206-bf92-403e-8264-a5163ec9ff0a",
   "metadata": {
    "tags": []
   },
   "outputs": [],
   "source": [
    "norm1 = np.linalg.norm(x, axis=-1)\n",
    "\n",
    "results = list()\n",
    "\n",
    "for num_dims in [32, 64, 128, 256]:\n",
    "    \n",
    "    x_ = z[..., :num_dims] @ pca.components_[:num_dims] + pca.mean_\n",
    "\n",
    "    norm2 = np.linalg.norm(x_, axis=-1)\n",
    "\n",
    "    dot_product = (x * x_).sum(axis=-1)\n",
    "\n",
    "    cos = dot_product / (norm1 * norm2)\n",
    "\n",
    "    mse = ((x - x_) ** 2).mean(axis=-1)\n",
    "    \n",
    "    result = pd.DataFrame(data=np.stack([cos, mse], axis=-1), columns=['cos', 'mse'])\n",
    "    result['num_dims'] = num_dims\n",
    "\n",
    "    results.append(result)\n",
    "    \n",
    "    print(f'{num_dims} cos: {cos.mean():.4f} mse: {mse.mean():.4f}')\n",
    "    \n",
    "results = pd.concat(results, axis=0)"
   ]
  },
  {
   "cell_type": "code",
   "execution_count": null,
   "id": "6975f35d-e1f9-4e30-a88e-1b5f41690310",
   "metadata": {
    "tags": []
   },
   "outputs": [],
   "source": [
    "def draw_ridge_plots(df, value_col, category_col):\n",
    "    \n",
    "    # Initialize the FacetGrid object\n",
    "    pal = sns.cubehelix_palette(10, rot=-.25, light=.7)\n",
    "    g = sns.FacetGrid(df, row=category_col, hue=category_col, aspect=10, height=.5, palette=pal)\n",
    "\n",
    "    # Draw the densities in a few steps\n",
    "    g.map(sns.kdeplot, value_col,\n",
    "          bw_adjust=.5, clip_on=False,\n",
    "          fill=True, alpha=1, linewidth=1.5)\n",
    "    g.map(sns.kdeplot, value_col, clip_on=False, color=\"w\", lw=2, bw_adjust=.5)\n",
    "\n",
    "    # passing color=None to refline() uses the hue mapping\n",
    "    g.refline(y=0, linewidth=2, linestyle=\"-\", color=None, clip_on=False)\n",
    "\n",
    "\n",
    "    # Define and use a simple function to label the plot in axes coordinates\n",
    "    def label(x, color, label):\n",
    "        ax = pyplot.gca()\n",
    "        ax.text(0, .2, label, fontweight=\"bold\", color=color,\n",
    "                ha=\"left\", va=\"center\", transform=ax.transAxes)\n",
    "\n",
    "\n",
    "    g.map(label, value_col)\n",
    "\n",
    "    # Set the subplots to overlap\n",
    "    g.figure.subplots_adjust(hspace=-.25)\n",
    "\n",
    "    # Remove axes details that don't play well with overlap\n",
    "    g.set_titles(\"\")\n",
    "    g.set(yticks=[], ylabel=\"\")\n",
    "    g.despine(bottom=True, left=True)\n",
    "    \n",
    "    return g"
   ]
  },
  {
   "cell_type": "code",
   "execution_count": null,
   "id": "8c1f8a1b-3aa8-4fff-9f82-a31f52696398",
   "metadata": {
    "tags": []
   },
   "outputs": [],
   "source": [
    "draw_ridge_plots(results, 'cos', 'num_dims')"
   ]
  },
  {
   "cell_type": "code",
   "execution_count": null,
   "id": "d58293ca-fdbb-4ee1-a757-932132be6c65",
   "metadata": {
    "tags": []
   },
   "outputs": [],
   "source": [
    "draw_ridge_plots(results, 'mse', 'num_dims')"
   ]
  },
  {
   "cell_type": "markdown",
   "id": "ad141cb8-f488-44ea-828d-b43fd3a4468d",
   "metadata": {},
   "source": [
    "# save & load"
   ]
  },
  {
   "cell_type": "code",
   "execution_count": 1,
   "id": "d5e1442b-b42c-43f5-900e-b6101aff37d2",
   "metadata": {
    "tags": []
   },
   "outputs": [],
   "source": [
    "import os\n",
    "os.environ['CUDA_VISIBLE_DEVICES'] = '1'\n",
    "\n",
    "import torch"
   ]
  },
  {
   "cell_type": "code",
   "execution_count": 2,
   "id": "ea5633fb-abaf-488b-b318-ea932bdf2ce4",
   "metadata": {
    "tags": []
   },
   "outputs": [
    {
     "data": {
      "text/plain": [
       "0"
      ]
     },
     "execution_count": 2,
     "metadata": {},
     "output_type": "execute_result"
    }
   ],
   "source": [
    "torch.cuda.memory_reserved()"
   ]
  },
  {
   "cell_type": "code",
   "execution_count": 3,
   "id": "f04a4eb0-0f78-4e94-9442-410a825cad1b",
   "metadata": {
    "tags": []
   },
   "outputs": [
    {
     "data": {
      "text/plain": [
       "0"
      ]
     },
     "execution_count": 3,
     "metadata": {},
     "output_type": "execute_result"
    }
   ],
   "source": [
    "torch.cuda.memory_allocated()"
   ]
  },
  {
   "cell_type": "code",
   "execution_count": 8,
   "id": "a003394b-d3b6-4445-a0af-5b217624e973",
   "metadata": {
    "tags": []
   },
   "outputs": [
    {
     "data": {
      "text/plain": [
       "(24541659136, 25393692672)"
      ]
     },
     "execution_count": 8,
     "metadata": {},
     "output_type": "execute_result"
    }
   ],
   "source": [
    "torch.cuda.mem_get_info()"
   ]
  },
  {
   "cell_type": "code",
   "execution_count": null,
   "id": "61ac40e6-f32c-4474-9735-0bc270bcac16",
   "metadata": {},
   "outputs": [],
   "source": []
  },
  {
   "cell_type": "code",
   "execution_count": 1,
   "id": "70adf548-4301-4041-b70a-1d7ef47095ce",
   "metadata": {
    "tags": []
   },
   "outputs": [],
   "source": [
    "import torch\n",
    "import os\n",
    "import sys\n",
    "sys.path.append(os.path.abspath('../kcg-ml-image-pipeline/'))"
   ]
  },
  {
   "cell_type": "code",
   "execution_count": 2,
   "id": "ef234adf-d45a-4f88-a58c-157fb7add6cc",
   "metadata": {
    "tags": []
   },
   "outputs": [
    {
     "name": "stdout",
     "output_type": "stream",
     "text": [
      "\u001b[1;32mINFO: Created a temporary directory at /tmp/tmpg9nl5_qp\u001b[0m\n",
      "\u001b[1;32mINFO: Writing /tmp/tmpg9nl5_qp/_remote_module_non_scriptable.py\u001b[0m\n"
     ]
    }
   ],
   "source": [
    "from utility.clip.clip_text_embedder import CLIPTextEmbedder"
   ]
  },
  {
   "cell_type": "code",
   "execution_count": 3,
   "id": "653d7650-62d7-47d0-a7ce-f751ca7a001a",
   "metadata": {
    "tags": []
   },
   "outputs": [],
   "source": [
    "clip_text_embedder = CLIPTextEmbedder()"
   ]
  },
  {
   "cell_type": "code",
   "execution_count": 4,
   "id": "7e6da9b4-1447-4a30-a870-a30f79c830b9",
   "metadata": {
    "tags": []
   },
   "outputs": [
    {
     "name": "stdout",
     "output_type": "stream",
     "text": [
      "Loading tokenizer and transformer\u001b[32m...[DONE]\u001b[0m\u001b[34m\t2,115.71ms\u001b[0m                             \n"
     ]
    }
   ],
   "source": [
    "clip_text_embedder.load_submodels();"
   ]
  },
  {
   "cell_type": "code",
   "execution_count": 5,
   "id": "164141ef-cc55-4f20-ba0c-6b3229acd9a4",
   "metadata": {
    "tags": []
   },
   "outputs": [],
   "source": [
    "results = clip_text_embedder(['1,2,3','4,5,6'])"
   ]
  },
  {
   "cell_type": "code",
   "execution_count": 6,
   "id": "53559b31-1ba7-4790-9795-962262d24ca7",
   "metadata": {
    "tags": []
   },
   "outputs": [
    {
     "data": {
      "text/plain": [
       "(77, 768)"
      ]
     },
     "execution_count": 6,
     "metadata": {},
     "output_type": "execute_result"
    }
   ],
   "source": [
    "results[0].embedding.shape"
   ]
  },
  {
   "cell_type": "code",
   "execution_count": 7,
   "id": "a14c3573-b1d1-4964-b29f-f6ddfeeaba81",
   "metadata": {
    "tags": []
   },
   "outputs": [],
   "source": [
    "from data_loader.clip_text_embedder_output import attention_pooling, PooledCLIPTextEmbedderOutput"
   ]
  },
  {
   "cell_type": "code",
   "execution_count": 8,
   "id": "74f4419f-3956-4527-840f-1f55abaf098e",
   "metadata": {
    "tags": []
   },
   "outputs": [],
   "source": [
    "pooled_results = attention_pooling(results)"
   ]
  },
  {
   "cell_type": "code",
   "execution_count": 9,
   "id": "20ed0cbb-9cd1-424b-a5d2-bd9673e495a3",
   "metadata": {
    "tags": []
   },
   "outputs": [],
   "source": [
    "msgpack_bytes = pooled_results[0].get_msgpack_string()"
   ]
  },
  {
   "cell_type": "code",
   "execution_count": 10,
   "id": "bbdd8398-7053-4730-8055-5aa8618a2f9a",
   "metadata": {
    "tags": []
   },
   "outputs": [
    {
     "data": {
      "text/plain": [
       "(768,)"
      ]
     },
     "execution_count": 10,
     "metadata": {},
     "output_type": "execute_result"
    }
   ],
   "source": [
    "PooledCLIPTextEmbedderOutput.from_msgpack_string(msgpack_bytes).pooled_embedding.shape"
   ]
  },
  {
   "cell_type": "code",
   "execution_count": null,
   "id": "6aa65c04-12dd-4eab-b8ec-74d28d263d19",
   "metadata": {},
   "outputs": [],
   "source": []
  }
 ],
 "metadata": {
  "kernelspec": {
   "display_name": "kk",
   "language": "python",
   "name": "kk"
  },
  "language_info": {
   "codemirror_mode": {
    "name": "ipython",
    "version": 3
   },
   "file_extension": ".py",
   "mimetype": "text/x-python",
   "name": "python",
   "nbconvert_exporter": "python",
   "pygments_lexer": "ipython3",
   "version": "3.10.13"
  }
 },
 "nbformat": 4,
 "nbformat_minor": 5
}
