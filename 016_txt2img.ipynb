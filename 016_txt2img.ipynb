{
 "cells": [
  {
   "cell_type": "code",
   "execution_count": 1,
   "id": "5f137b32-8f60-4e77-936b-4e3a010bb088",
   "metadata": {
    "tags": []
   },
   "outputs": [],
   "source": [
    "import os\n",
    "os.environ['CUDA_VISIBLE_DEVICES'] = '7'\n",
    "import sys\n",
    "\n",
    "import random\n",
    "\n",
    "import json\n",
    "\n",
    "import numpy as np\n",
    "import pandas as pd\n",
    "\n",
    "from PIL import Image\n",
    "\n",
    "from datetime import datetime\n",
    "\n",
    "import torch\n",
    "from torchvision.transforms.functional import to_pil_image\n",
    "from transformers import CLIPImageProcessor, AutoModel\n",
    "\n",
    "from tqdm.auto import tqdm"
   ]
  },
  {
   "cell_type": "code",
   "execution_count": 2,
   "id": "d5cc13ab-07ad-4053-9120-15b806b58d4e",
   "metadata": {
    "tags": []
   },
   "outputs": [],
   "source": [
    "sys.path.append(os.path.abspath('../kcg-ml-image-pipeline/'))"
   ]
  },
  {
   "cell_type": "code",
   "execution_count": 3,
   "id": "b654a425-c5c1-4bea-bc56-a20d87b8b8c9",
   "metadata": {
    "tags": []
   },
   "outputs": [
    {
     "name": "stdout",
     "output_type": "stream",
     "text": [
      "\u001b[1;32mINFO: Created a temporary directory at /tmp/tmp5e71hish\u001b[0m\n",
      "\u001b[1;32mINFO: Writing /tmp/tmp5e71hish/_remote_module_non_scriptable.py\u001b[0m\n"
     ]
    }
   ],
   "source": [
    "from stable_diffusion import StableDiffusion, CLIPTextEmbedder\n",
    "from stable_diffusion.utils_image import get_image_data\n",
    "from worker.image_generation.scripts.stable_diffusion_base_script import StableDiffusionBaseScript"
   ]
  },
  {
   "cell_type": "code",
   "execution_count": 4,
   "id": "1afc4657-4b88-4086-80fe-b7ac5c0c7355",
   "metadata": {
    "tags": []
   },
   "outputs": [],
   "source": [
    "model_path = '../kcg-ml-image-pipeline/input/model/sd/v1-5-pruned-emaonly/v1-5-pruned-emaonly.safetensors'\n",
    "tokenizer_path = '../kcg-ml-image-pipeline/input/model/clip/txt_emb_tokenizer'\n",
    "transformer_path = '../kcg-ml-image-pipeline/input/model/clip/txt_emb_model'\n",
    "\n",
    "prompt_path = './generated/prompt/empty.tsv'\n",
    "OUTPUT_DIR = './generated/'"
   ]
  },
  {
   "cell_type": "code",
   "execution_count": 5,
   "id": "59719a11-0793-42ed-a2cd-44aa980b56b3",
   "metadata": {
    "tags": []
   },
   "outputs": [],
   "source": [
    "sampler = \"ddim\"\n",
    "sampler_steps = 20\n",
    "cfg_strength=12\n",
    "image_width=512\n",
    "image_height=512"
   ]
  },
  {
   "cell_type": "code",
   "execution_count": 6,
   "id": "53f210aa-2a2f-4b1f-a7d0-d179f9891424",
   "metadata": {
    "tags": []
   },
   "outputs": [],
   "source": [
    "os.makedirs(os.path.join(OUTPUT_DIR, 'image'), exist_ok=True)\n",
    "os.makedirs(os.path.join(OUTPUT_DIR, 'meta'), exist_ok=True)\n",
    "os.makedirs(os.path.join(OUTPUT_DIR, 'clip'), exist_ok=True)\n",
    "os.makedirs(os.path.join(OUTPUT_DIR, 'embedding'), exist_ok=True)"
   ]
  },
  {
   "cell_type": "markdown",
   "id": "bbb1c91f-0fe9-483f-9067-2130f58f7ca7",
   "metadata": {},
   "source": [
    "# load model"
   ]
  },
  {
   "cell_type": "code",
   "execution_count": 7,
   "id": "77e17c68-3fdc-4deb-a14a-02fd1030db3d",
   "metadata": {
    "tags": []
   },
   "outputs": [],
   "source": [
    "txt2img = StableDiffusionBaseScript(\n",
    "    sampler_name=sampler,\n",
    "    n_steps=sampler_steps,\n",
    "    force_cpu=False,\n",
    "    cuda_device='cuda',\n",
    ")"
   ]
  },
  {
   "cell_type": "code",
   "execution_count": 8,
   "id": "c9fa7c81-bb0b-44ff-bd8a-46db917d7663",
   "metadata": {
    "tags": []
   },
   "outputs": [
    {
     "name": "stdout",
     "output_type": "stream",
     "text": [
      "  encoder initialization\u001b[32m...[DONE]\u001b[0m\u001b[34m\t1,717.02ms\u001b[0m                                      \n",
      "  decoder initialization\u001b[32m...[DONE]\u001b[0m\u001b[34m\t433.35ms\u001b[0m                                        \n",
      "Autoencoder initialization\u001b[32m...[DONE]\u001b[0m\u001b[34m\t2,156.83ms\u001b[0m                                    \n",
      "U-Net initialization\u001b[32m...[DONE]\u001b[0m\u001b[34m\t5,799.45ms\u001b[0m                                          \n",
      "Latent Diffusion model initialization\u001b[32m...[DONE]\u001b[0m\u001b[34m\t7.90ms\u001b[0m                             \n",
      "stable diffusion checkpoint loading, from ../kcg-ml-image-pipeline/input/model/sd/v1-5-pruned-emaonly/v1-5-pruned-emaonly.safetensors\u001b[32m...[DONE]\u001b[0m\u001b[34m\t179.66ms\u001b[0m\n",
      "\tmissing keys 2: ['beta', 'alpha_bar']\n",
      "\textra keys 14: ['alphas_cumprod', 'alphas_cumprod_prev', 'betas', 'log_one_minus_alphas_cumprod', 'model_ema.decay', 'model_ema.num_updates', 'posterior_log_variance_clipped', 'posterior_mean_coef1', 'posterior_mean_coef2', 'posterior_variance', 'sqrt_alphas_cumprod', 'sqrt_one_minus_alphas_cumprod', 'sqrt_recip_alphas_cumprod', 'sqrt_recipm1_alphas_cumprod']\n",
      "model state loading\u001b[32m...[DONE]\u001b[0m\u001b[34m\t1,504.29ms\u001b[0m                                           \n"
     ]
    }
   ],
   "source": [
    "txt2img.initialize_latent_diffusion(\n",
    "    autoencoder=None, \n",
    "    clip_text_embedder=None, \n",
    "    unet_model=None,\n",
    "    path=model_path, \n",
    "    force_submodels_init=True\n",
    ")"
   ]
  },
  {
   "cell_type": "code",
   "execution_count": 9,
   "id": "02a05696-fdc8-45df-96e5-6df19ce05b7e",
   "metadata": {
    "tags": []
   },
   "outputs": [],
   "source": [
    "clip_text_embedder = CLIPTextEmbedder(device='cuda')"
   ]
  },
  {
   "cell_type": "code",
   "execution_count": 10,
   "id": "8a0671d5-e4f4-41e2-ad8b-11ec8cda2cd7",
   "metadata": {
    "tags": []
   },
   "outputs": [
    {
     "name": "stdout",
     "output_type": "stream",
     "text": [
      "Loading tokenizer and transformer\u001b[32m...[DONE]\u001b[0m\u001b[34m\t909.74ms\u001b[0m                               \n"
     ]
    }
   ],
   "source": [
    "clip_text_embedder.load_submodels(\n",
    "    tokenizer_path=tokenizer_path,\n",
    "    transformer_path=transformer_path\n",
    ");"
   ]
  },
  {
   "cell_type": "code",
   "execution_count": 11,
   "id": "333c147c-b2c4-40cf-9bf4-96d0e0d70182",
   "metadata": {
    "tags": []
   },
   "outputs": [],
   "source": [
    "def worker(positive_prompt, negative_prompt, seed=-1, cfg_strength=12, image_width=512, image_height=512):\n",
    "    \n",
    "    if seed == -1:\n",
    "        seed = random.randint(0, 2 ** 24 - 1)\n",
    "\n",
    "    with torch.no_grad():\n",
    "\n",
    "        embedded_prompts, positive_pooler_output, _ = clip_text_embedder.forward_return_all(positive_prompt)\n",
    "        negative_embedded_prompts, negative_pooler_output, _ = clip_text_embedder.forward_return_all(negative_prompt)\n",
    "        \n",
    "        positive_pooler_output = positive_pooler_output.detach().cpu().numpy()\n",
    "        negative_pooler_output = negative_pooler_output.detach().cpu().numpy()\n",
    "\n",
    "        latent = txt2img.generate_images_latent_from_embeddings(\n",
    "            batch_size=1,\n",
    "            embedded_prompt=embedded_prompts,\n",
    "            null_prompt=negative_embedded_prompts,\n",
    "            uncond_scale=cfg_strength,\n",
    "            seed=seed,\n",
    "            w=image_width,\n",
    "            h=image_height\n",
    "        )\n",
    "\n",
    "        images = txt2img.get_image_from_latent(latent)\n",
    "\n",
    "        output_file_hash, img_byte_arr = get_image_data(images)\n",
    "    \n",
    "    return output_file_hash, img_byte_arr, seed, positive_pooler_output, negative_pooler_output"
   ]
  },
  {
   "cell_type": "markdown",
   "id": "4b995818-6e51-42b1-a15d-6eb652197ec2",
   "metadata": {},
   "source": [
    "# load dataset"
   ]
  },
  {
   "cell_type": "code",
   "execution_count": 12,
   "id": "f1c085f0-1ee3-474e-b101-095209fe3bd7",
   "metadata": {
    "tags": []
   },
   "outputs": [],
   "source": [
    "prompts = pd.read_csv(prompt_path, sep='\\t')"
   ]
  },
  {
   "cell_type": "code",
   "execution_count": 13,
   "id": "4ef1ca99-a8a4-478d-ac66-2658ad885dd9",
   "metadata": {
    "tags": []
   },
   "outputs": [],
   "source": [
    "prompts = prompts.loc[~(prompts['positive_prompt'].str.contains('prompt') + prompts['negative_prompt'].str.contains('prompt') + prompts['positive_prompt'].str.contains('positive') + prompts['negative_prompt'].str.contains('positive'))]"
   ]
  },
  {
   "cell_type": "code",
   "execution_count": 9,
   "id": "17810e4a-0ff9-452f-aeb0-4f2816997fd6",
   "metadata": {
    "tags": []
   },
   "outputs": [],
   "source": [
    "prompts['positive_length'] = prompts['positive_prompt'].str.len()\n",
    "prompts['negative_length'] = prompts['negative_prompt'].str.len()"
   ]
  },
  {
   "cell_type": "code",
   "execution_count": 33,
   "id": "612d31d6-87bc-43f8-9eec-7e9fc1ce6fc8",
   "metadata": {
    "tags": []
   },
   "outputs": [],
   "source": [
    "num_positive_lengths = {i: j for i, j in zip(*np.unique(prompts['positive_length'], return_counts=True))}\n",
    "num_negative_lengths = {i: j for i, j in zip(*np.unique(prompts['negative_length'], return_counts=True))}"
   ]
  },
  {
   "cell_type": "code",
   "execution_count": 79,
   "id": "1403020c-f019-4241-ae13-e59413c58c87",
   "metadata": {
    "tags": []
   },
   "outputs": [],
   "source": [
    "num_sampling = 2000\n",
    "max_length = 200\n",
    "\n",
    "# weights = [(1 / (num_positive_lengths[positive_length] * num_negative_lengths[negative_length])) ** 0.5 for positive_length, negative_length in prompts[['positive_length', 'negative_length']].itertuples(index=False, name=None)]\n",
    "weights = [min(1 / num_positive_lengths[positive_length], 1 / num_negative_lengths[negative_length]) for positive_length, negative_length in prompts[['positive_length', 'negative_length']].itertuples(index=False, name=None)]\n",
    "weights = [i if i < 1 / num_sampling else 1 for i in weights]"
   ]
  },
  {
   "cell_type": "code",
   "execution_count": 84,
   "id": "3b3eec87-1717-449f-b5ce-3ff573ac1bb5",
   "metadata": {
    "tags": []
   },
   "outputs": [],
   "source": [
    "indices = [i for i, (w, p) in enumerate(zip(weights, np.random.rand(len(weights)))) if w > p]\n",
    "indices.extend(prompts.query(f'positive_length > {max_length} or negative_length > {max_length}').index)"
   ]
  },
  {
   "cell_type": "code",
   "execution_count": 85,
   "id": "4044ce45-4a94-4b2a-ab45-f91061944e57",
   "metadata": {
    "tags": []
   },
   "outputs": [
    {
     "data": {
      "text/plain": [
       "33462"
      ]
     },
     "execution_count": 85,
     "metadata": {},
     "output_type": "execute_result"
    }
   ],
   "source": [
    "min_length = 100\n",
    "num_sampling = 200\n",
    "\n",
    "for i in range(min_length, max_length + 1):\n",
    "    \n",
    "    ids = prompts.query(f'positive_length == {i}').index\n",
    "    ids = list(ids)\n",
    "    \n",
    "    if len(ids) > num_sampling:\n",
    "        ids = np.random.choice(ids, num_sampling, False)\n",
    "        \n",
    "    indices.extend(ids)\n",
    "    \n",
    "    ids = prompts.query(f'negative_length == {i}').index\n",
    "    ids = list(ids)\n",
    "    \n",
    "    if len(ids) > num_sampling:\n",
    "        ids = np.random.choice(ids, num_sampling, False)\n",
    "        \n",
    "    indices.extend(ids)\n",
    "indices = list(set(indices))\n",
    "len(indices)"
   ]
  },
  {
   "cell_type": "code",
   "execution_count": 86,
   "id": "536b6f9e-fbcc-4971-af26-185e77cf7270",
   "metadata": {
    "tags": []
   },
   "outputs": [
    {
     "data": {
      "image/png": "[encoded data removed]",
      "text/plain": [
       "<Figure size 640x480 with 1 Axes>"
      ]
     },
     "metadata": {},
     "output_type": "display_data"
    }
   ],
   "source": [
    "_ = prompts.loc[indices, 'positive_prompt'].str.len().hist(bins=100)"
   ]
  },
  {
   "cell_type": "code",
   "execution_count": 88,
   "id": "5cb5ee42-a440-4af1-95be-c2f79c05029e",
   "metadata": {
    "tags": []
   },
   "outputs": [],
   "source": [
    "prompts = prompts.loc[indices]\n",
    "prompts.loc[indices].to_csv(prompt_path, sep='\\t', index=False)"
   ]
  },
  {
   "cell_type": "markdown",
   "id": "0da73413-5b3c-4055-8a85-3f803c571045",
   "metadata": {},
   "source": [
    "# infer"
   ]
  },
  {
   "cell_type": "code",
   "execution_count": 16,
   "id": "7292b2d7-5bc8-455d-b986-fee9d604cb5a",
   "metadata": {
    "tags": []
   },
   "outputs": [
    {
     "data": {
      "application/vnd.jupyter.widget-view+json": {
       "model_id": "bf2ea42846584a0c9575a30e37476026",
       "version_major": 2,
       "version_minor": 0
      },
      "text/plain": [
       "  0%|          | 0/33462 [00:00<?, ?it/s]"
      ]
     },
     "metadata": {},
     "output_type": "display_data"
    },
    {
     "name": "stderr",
     "output_type": "stream",
     "text": [
      "IOPub message rate exceeded.\n",
      "The Jupyter server will temporarily stop sending output\n",
      "to the client in order to avoid crashing it.\n",
      "To change this limit, set the config variable\n",
      "`--ServerApp.iopub_msg_rate_limit`.\n",
      "\n",
      "Current values:\n",
      "ServerApp.iopub_msg_rate_limit=1000.0 (msgs/sec)\n",
      "ServerApp.rate_limit_window=3.0 (secs)\n",
      "\n"
     ]
    }
   ],
   "source": [
    "for positive_prompt, negative_prompt in tqdm(prompts[['positive_prompt', 'negative_prompt']].itertuples(index=False), total=prompts.shape[0]):\n",
    "    \n",
    "    output_file_hash, img_byte_arr, seed, positive_pooler_output, negative_pooler_output = worker(positive_prompt, negative_prompt, seed=-1)\n",
    "    \n",
    "    creation_time = datetime.now().strftime('%Y-%m-%d %H:%M:%S')\n",
    "    \n",
    "    meta = dict(\n",
    "        positive_prompt=positive_prompt, \n",
    "        negative_prompt=negative_prompt,\n",
    "        file_hash=output_file_hash,\n",
    "        sampler=sampler,\n",
    "        sampler_steps=sampler_steps,\n",
    "        cfg_strength=cfg_strength,\n",
    "        image_width=image_width,\n",
    "        image_height=image_height,\n",
    "        creation_time=creation_time\n",
    "    )\n",
    "    \n",
    "    with open(os.path.join(OUTPUT_DIR, 'image', f'{output_file_hash}.jpg'), 'wb') as f:\n",
    "        f.write(img_byte_arr.getbuffer())\n",
    "    \n",
    "    with open(os.path.join(OUTPUT_DIR, 'meta', f'{output_file_hash}.json'), 'wt') as f:\n",
    "        json.dump(meta, f)\n",
    "        \n",
    "    np.savez(\n",
    "        os.path.join(OUTPUT_DIR, 'embedding', f'{output_file_hash}.npz'),\n",
    "        positive_pooler_output=positive_pooler_output,\n",
    "        negative_pooler_output=negative_pooler_output\n",
    "    )"
   ]
  },
  {
   "cell_type": "markdown",
   "id": "e6507f9d-d14c-4d7e-89f8-75441216c0c6",
   "metadata": {},
   "source": [
    "# clip features"
   ]
  },
  {
   "cell_type": "code",
   "execution_count": 7,
   "id": "7da84a5f-d386-477e-925e-11f9869ef09a",
   "metadata": {
    "tags": []
   },
   "outputs": [],
   "source": [
    "MODEL_NAME = 'openai/clip-vit-large-patch14'\n",
    "\n",
    "BATCH_SIZE = 16"
   ]
  },
  {
   "cell_type": "code",
   "execution_count": 8,
   "id": "0a273ab9-cb50-4fc3-b802-550e0e309f5b",
   "metadata": {
    "tags": []
   },
   "outputs": [
    {
     "name": "stderr",
     "output_type": "stream",
     "text": [
      "`text_config_dict` is provided which will be used to initialize `CLIPTextConfig`. The value `text_config[\"id2label\"]` will be overriden.\n"
     ]
    }
   ],
   "source": [
    "preprocessor = CLIPImageProcessor.from_pretrained(MODEL_NAME, local_files_only=True)\n",
    "\n",
    "clip_model = AutoModel.from_pretrained(MODEL_NAME, local_files_only=True).cuda().eval()"
   ]
  },
  {
   "cell_type": "code",
   "execution_count": 9,
   "id": "7eb2a3ce-29dd-497e-89cb-275d20ade96d",
   "metadata": {
    "tags": []
   },
   "outputs": [],
   "source": [
    "file_names = list()\n",
    "\n",
    "for file_name in os.listdir(os.path.join(OUTPUT_DIR, 'image')):\n",
    "    clip_path = os.path.join(OUTPUT_DIR, 'clip', file_name.replace('.jpg', '.npy'))\n",
    "    \n",
    "    if os.path.exists(clip_path):\n",
    "        continue\n",
    "        \n",
    "    file_names.append(file_name)"
   ]
  },
  {
   "cell_type": "code",
   "execution_count": 10,
   "id": "a1a62d58-e94c-45b6-872a-bc1c3a77d669",
   "metadata": {
    "tags": []
   },
   "outputs": [
    {
     "data": {
      "application/vnd.jupyter.widget-view+json": {
       "model_id": "03e9ba17af27407fa6fd22b39e5cb3e3",
       "version_major": 2,
       "version_minor": 0
      },
      "text/plain": [
       "  0%|          | 0/73 [00:00<?, ?it/s]"
      ]
     },
     "metadata": {},
     "output_type": "display_data"
    }
   ],
   "source": [
    "for i in tqdm(range(0, len(file_names), BATCH_SIZE)):\n",
    "    \n",
    "    with torch.no_grad():\n",
    "\n",
    "        images = list()\n",
    "        for file_name in file_names[i:i+BATCH_SIZE]:\n",
    "            image = Image.open(os.path.join(OUTPUT_DIR, 'image', file_name))\n",
    "            image = preprocessor(images=image, return_tensors=\"pt\")\n",
    "            images.append(image['pixel_values'])\n",
    "\n",
    "        images = torch.concat(images, dim=0)\n",
    "    \n",
    "        image_features = clip_model.get_image_features(pixel_values=images.to(clip_model.device))\n",
    "        image_features = image_features.detach().cpu().numpy()\n",
    "        \n",
    "        for file_name, image_feature in zip(file_names[i:i+BATCH_SIZE], image_features):\n",
    "            clip_path = os.path.join(OUTPUT_DIR, 'clip', file_name.replace('.jpg', '.npy'))\n",
    "            np.save(clip_path, image_feature[None, ...])"
   ]
  },
  {
   "cell_type": "code",
   "execution_count": null,
   "id": "b0900380-e106-45ec-a374-a4998fdd5627",
   "metadata": {},
   "outputs": [],
   "source": []
  }
 ],
 "metadata": {
  "kernelspec": {
   "display_name": "kk-2",
   "language": "python",
   "name": "kk-2"
  },
  "language_info": {
   "codemirror_mode": {
    "name": "ipython",
    "version": 3
   },
   "file_extension": ".py",
   "mimetype": "text/x-python",
   "name": "python",
   "nbconvert_exporter": "python",
   "pygments_lexer": "ipython3",
   "version": "3.10.13"
  }
 },
 "nbformat": 4,
 "nbformat_minor": 5
}
