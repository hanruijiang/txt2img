{
 "cells": [
  {
   "cell_type": "markdown",
   "id": "b2090bc8-72eb-4c9e-a004-e5a7d386315b",
   "metadata": {},
   "source": [
    "# general predictor\n",
    "\n",
    "Input:\n",
    "\n",
    "pretrained generate predictors for aesthetic, nsfw, etc\n",
    "\n",
    "Output\n",
    "\n",
    "generate predictors using clip-embedding as input"
   ]
  },
  {
   "cell_type": "code",
   "execution_count": 5,
   "id": "7a9cb79b-561e-4ea9-b482-e5e12fff0430",
   "metadata": {
    "tags": []
   },
   "outputs": [],
   "source": [
    "import os\n",
    "os.environ['CUDA_VISIBLE_DEVICES'] = '1'\n",
    "\n",
    "import sys\n",
    "import json\n",
    "\n",
    "import numpy as np\n",
    "import pandas as pd\n",
    "\n",
    "import requests\n",
    "\n",
    "import msgpack\n",
    "import zipfile\n",
    "\n",
    "import torch\n",
    "\n",
    "from PIL import Image\n",
    "from io import BytesIO\n",
    "from matplotlib import pyplot\n",
    "\n",
    "from tqdm.auto import tqdm\n",
    "\n",
    "from transformers import AutoTokenizer, AutoModel, CLIPImageProcessor, pipeline, AutoModelForImageClassification"
   ]
  },
  {
   "cell_type": "code",
   "execution_count": 2,
   "id": "c8a3fe97-c58a-4f03-a09e-fe096d70b2a4",
   "metadata": {
    "tags": []
   },
   "outputs": [],
   "source": [
    "from utils import get_score_from_embs"
   ]
  },
  {
   "cell_type": "code",
   "execution_count": 3,
   "id": "734aed03-6838-473f-b98b-efbc02bc2fad",
   "metadata": {
    "tags": []
   },
   "outputs": [],
   "source": [
    "BATCH_SIZE = 256"
   ]
  },
  {
   "cell_type": "markdown",
   "id": "7690da19-ece1-46d8-b307-19ecb1b87e96",
   "metadata": {},
   "source": [
    "# aesthetic-predictor"
   ]
  },
  {
   "cell_type": "code",
   "execution_count": null,
   "id": "7637011c-09ae-4cf2-aaf6-d99b64e2c545",
   "metadata": {},
   "outputs": [],
   "source": [
    "# https://github.com/LAION-AI/aesthetic-predictor"
   ]
  },
  {
   "cell_type": "code",
   "execution_count": 58,
   "id": "076cd2e9-ed18-49e1-8697-9ad57194c977",
   "metadata": {
    "tags": []
   },
   "outputs": [],
   "source": [
    "model = torch.nn.Linear(768, 1)"
   ]
  },
  {
   "cell_type": "code",
   "execution_count": 59,
   "id": "e45152a4-919f-4188-9f73-f6a66f9cac49",
   "metadata": {
    "tags": []
   },
   "outputs": [
    {
     "data": {
      "text/plain": [
       "<All keys matched successfully>"
      ]
     },
     "execution_count": 59,
     "metadata": {},
     "output_type": "execute_result"
    }
   ],
   "source": [
    "model.load_state_dict(torch.load('./weight/014/sa_0_4_vit_l_14_linear.pth'))"
   ]
  },
  {
   "cell_type": "code",
   "execution_count": 60,
   "id": "c18a0216-b8a5-4825-aaec-8d0b71f32239",
   "metadata": {
    "tags": []
   },
   "outputs": [],
   "source": [
    "model = model.cuda()\n",
    "model.eval();"
   ]
  },
  {
   "cell_type": "markdown",
   "id": "90c7b64d-cfae-44ff-8d3b-eb4b9bd68eb1",
   "metadata": {},
   "source": [
    "# improved-aesthetic-predictor"
   ]
  },
  {
   "cell_type": "code",
   "execution_count": 7,
   "id": "989fd211-df58-4e9f-b90d-6afd6f6cc578",
   "metadata": {
    "tags": []
   },
   "outputs": [],
   "source": [
    "# https://github.com/christophschuhmann/improved-aesthetic-predictor"
   ]
  },
  {
   "cell_type": "markdown",
   "id": "7366ce8f-f340-440b-bb49-e4a0c087933d",
   "metadata": {
    "jp-MarkdownHeadingCollapsed": true,
    "tags": []
   },
   "source": [
    "## convert to single layer"
   ]
  },
  {
   "cell_type": "code",
   "execution_count": 11,
   "id": "7328dc37-a4d3-41fb-a258-b60b66fa6f40",
   "metadata": {
    "tags": []
   },
   "outputs": [],
   "source": [
    "model = torch.nn.Sequential()\n",
    "model.add_module('layers', torch.nn.Sequential(\n",
    "    torch.nn.Linear(768, 1024),\n",
    "    #nn.ReLU(),\n",
    "    torch.nn.Dropout(0.2),\n",
    "    torch.nn.Linear(1024, 128),\n",
    "    #nn.ReLU(),\n",
    "    torch.nn.Dropout(0.2),\n",
    "    torch.nn.Linear(128, 64),\n",
    "    #nn.ReLU(),\n",
    "    torch.nn.Dropout(0.1),\n",
    "\n",
    "    torch.nn.Linear(64, 16),\n",
    "    #nn.ReLU(),\n",
    "\n",
    "    torch.nn.Linear(16, 1)\n",
    "))"
   ]
  },
  {
   "cell_type": "code",
   "execution_count": 12,
   "id": "88c14c43-67a7-4fcd-af02-a40ed9a85dd2",
   "metadata": {
    "tags": []
   },
   "outputs": [
    {
     "data": {
      "text/plain": [
       "<All keys matched successfully>"
      ]
     },
     "execution_count": 12,
     "metadata": {},
     "output_type": "execute_result"
    }
   ],
   "source": [
    "model.load_state_dict(torch.load('./weight/014/sac+logos+ava1-l14-linearMSE.pth'))"
   ]
  },
  {
   "cell_type": "code",
   "execution_count": 59,
   "id": "2c7d3e4c-7765-430f-8664-658821732c14",
   "metadata": {
    "tags": []
   },
   "outputs": [],
   "source": [
    "weight = model.layers[0].weight\n",
    "bias = model.layers[0].bias\n",
    "\n",
    "for layer in [model.layers[2], model.layers[4], model.layers[6], model.layers[7]]:\n",
    "    \n",
    "    weight = layer.weight @ weight\n",
    "    bias = layer.weight @ bias + layer.bias\n",
    "    \n",
    "model = torch.nn.Linear(768, 1)\n",
    "model.weight.data = weight\n",
    "model.bias.data = bias"
   ]
  },
  {
   "cell_type": "code",
   "execution_count": 61,
   "id": "406e39d5-c5a5-4fb5-bee8-4061b8cda624",
   "metadata": {
    "tags": []
   },
   "outputs": [],
   "source": [
    "torch.save(model.state_dict(), './weight/014/sac+logos+ava1-l14-linearMSE-single.pth')"
   ]
  },
  {
   "cell_type": "markdown",
   "id": "a250215c-d1a9-460a-8d50-b3d2272849d1",
   "metadata": {},
   "source": [
    "## build"
   ]
  },
  {
   "cell_type": "code",
   "execution_count": 62,
   "id": "636eab4c-05dc-43c8-adf7-b0bf2fe49186",
   "metadata": {
    "tags": []
   },
   "outputs": [],
   "source": [
    "model = torch.nn.Linear(768, 1)"
   ]
  },
  {
   "cell_type": "code",
   "execution_count": 63,
   "id": "5fba6575-535e-49a6-9c5c-1137defd4961",
   "metadata": {
    "tags": []
   },
   "outputs": [
    {
     "data": {
      "text/plain": [
       "<All keys matched successfully>"
      ]
     },
     "execution_count": 63,
     "metadata": {},
     "output_type": "execute_result"
    }
   ],
   "source": [
    "model.load_state_dict(torch.load('./weight/014/sac+logos+ava1-l14-linearMSE-single.pth'))"
   ]
  },
  {
   "cell_type": "code",
   "execution_count": 13,
   "id": "6b9a53d5-d0b8-4948-9536-46df20b83507",
   "metadata": {
    "tags": []
   },
   "outputs": [],
   "source": [
    "model = model.cuda()\n",
    "model.eval();"
   ]
  },
  {
   "cell_type": "code",
   "execution_count": 14,
   "id": "5b1693a5-8005-46e0-a771-58b12635eb9b",
   "metadata": {
    "tags": []
   },
   "outputs": [],
   "source": [
    "def normalized(a, axis=-1, order=2):\n",
    "    l2 = np.atleast_1d(np.linalg.norm(a, order, axis))\n",
    "    l2[l2 == 0] = 1\n",
    "    return a / np.expand_dims(l2, axis)"
   ]
  },
  {
   "cell_type": "markdown",
   "id": "77273ae7-4075-4a2c-b873-d0e345daac88",
   "metadata": {},
   "source": [
    "# NSFW-Detector"
   ]
  },
  {
   "cell_type": "code",
   "execution_count": null,
   "id": "37c0d63c-ee1e-4feb-b195-0f1220450c08",
   "metadata": {},
   "outputs": [],
   "source": [
    "# https://github.com/LAION-AI/CLIP-based-NSFW-Detector"
   ]
  },
  {
   "cell_type": "markdown",
   "id": "74d5a4a9-50cd-4073-8c8b-6e9f6d81c88a",
   "metadata": {
    "jp-MarkdownHeadingCollapsed": true,
    "tags": []
   },
   "source": [
    "## convert keras to pytorch"
   ]
  },
  {
   "cell_type": "code",
   "execution_count": null,
   "id": "0b2e2501-18df-4bba-bdc4-8fa21569e0bf",
   "metadata": {},
   "outputs": [],
   "source": [
    "# from tensorflow.keras.models import load_model\n",
    "# model_dir = './weight/014/clip_autokeras_binary_nsfw/'\n",
    "# model = load_model(model_dir, custom_objects=ak.CUSTOM_OBJECTS)"
   ]
  },
  {
   "cell_type": "code",
   "execution_count": null,
   "id": "4b942306-6fe7-47b7-8e6e-b6774f4127e3",
   "metadata": {},
   "outputs": [],
   "source": [
    "# state_dict = dict()\n",
    "# state_dict['norm.mean'] = model.layers[2].weights[0].numpy()\n",
    "# state_dict['norm.variance'] = model.layers[2].weights[1].numpy()\n",
    "# state_dict['linear_1.weight'] = model.layers[3].weights[0].numpy().T\n",
    "# state_dict['linear_1.bias'] = model.layers[3].weights[1].numpy()\n",
    "# state_dict['linear_2.weight'] = model.layers[5].weights[0].numpy().T\n",
    "# state_dict['linear_2.bias'] = model.layers[5].weights[1].numpy()\n",
    "# state_dict['linear_3.weight'] = model.layers[7].weights[0].numpy().T\n",
    "# state_dict['linear_3.bias'] = model.layers[7].weights[1].numpy()\n",
    "# state_dict['linear_4.weight'] = model.layers[9].weights[0].numpy().T\n",
    "# state_dict['linear_4.bias'] = model.layers[9].weights[1].numpy()\n",
    "\n",
    "# np.savez('./weight/014/lip_autokeras_binary_nsfw.npz', **state_dict)"
   ]
  },
  {
   "cell_type": "markdown",
   "id": "6b1e4a1b-fffd-4faa-967a-2895d1bf843c",
   "metadata": {},
   "source": [
    "## build "
   ]
  },
  {
   "cell_type": "code",
   "execution_count": 13,
   "id": "4196cd23-bb0b-4341-b62e-5439621b67be",
   "metadata": {
    "tags": []
   },
   "outputs": [],
   "source": [
    "class Normalization(torch.nn.Module):\n",
    "    def __init__(self, shape):\n",
    "        super().__init__()\n",
    "        self.register_buffer('mean', torch.zeros(shape))\n",
    "        self.register_buffer('variance', torch.ones(shape))\n",
    "\n",
    "    def forward(self, x):\n",
    "        return (x - self.mean) / self.variance.sqrt()\n",
    "\n",
    "class NSFWModel(torch.nn.Module):\n",
    "    def __init__(self):\n",
    "        super().__init__()\n",
    "        self.norm = Normalization([768])\n",
    "        self.linear_1 = torch.nn.Linear(768, 64)\n",
    "        self.linear_2 = torch.nn.Linear(64, 512)\n",
    "        self.linear_3 = torch.nn.Linear(512, 256)\n",
    "        self.linear_4 = torch.nn.Linear(256, 1)\n",
    "        self.act = torch.nn.ReLU()\n",
    "\n",
    "    def forward(self, x):\n",
    "        x = self.norm(x)\n",
    "        x = self.act(self.linear_1(x))\n",
    "        x = self.act(self.linear_2(x))\n",
    "        x = self.act(self.linear_3(x))\n",
    "        x = self.linear_4(x)\n",
    "        return x"
   ]
  },
  {
   "cell_type": "code",
   "execution_count": 14,
   "id": "e5a0bc74-076e-41e0-9db0-f1cf42ddd606",
   "metadata": {
    "tags": []
   },
   "outputs": [
    {
     "data": {
      "text/plain": [
       "<All keys matched successfully>"
      ]
     },
     "execution_count": 14,
     "metadata": {},
     "output_type": "execute_result"
    }
   ],
   "source": [
    "model = NSFWModel().cuda()\n",
    "npz = np.load('./weight/014/clip_autokeras_binary_nsfw.npz')\n",
    "model.load_state_dict({k: torch.tensor(v) for k, v in npz.items()})"
   ]
  },
  {
   "cell_type": "markdown",
   "id": "9c77a75d-2328-4e39-ae80-9fe2bc41cf48",
   "metadata": {},
   "source": [
    "## test on civitai"
   ]
  },
  {
   "cell_type": "code",
   "execution_count": 7,
   "id": "d77e4014-ebc7-4aef-871b-2e9fe32bd3d8",
   "metadata": {
    "tags": []
   },
   "outputs": [],
   "source": [
    "npz = np.load('../dataset/scrap/civitai-2023-11-14.npz', allow_pickle=True)\n",
    "\n",
    "id_to_index = {j:i for i, j in enumerate(npz['id'])}"
   ]
  },
  {
   "cell_type": "code",
   "execution_count": 8,
   "id": "52b54a92-320b-41f1-a7c2-b6e87573d294",
   "metadata": {
    "tags": []
   },
   "outputs": [],
   "source": [
    "INPUT_DIR = '../dataset/civitai-stable-diffusion-337k'"
   ]
  },
  {
   "cell_type": "code",
   "execution_count": 9,
   "id": "52dfbebc-768b-4b91-b874-be768faea666",
   "metadata": {
    "tags": []
   },
   "outputs": [
    {
     "data": {
      "application/vnd.jupyter.widget-view+json": {
       "model_id": "",
       "version_major": 2,
       "version_minor": 0
      },
      "text/plain": [
       "  0%|          | 0/80418 [00:00<?, ?it/s]"
      ]
     },
     "metadata": {},
     "output_type": "display_data"
    }
   ],
   "source": [
    "ids = list()\n",
    "vectors = list()\n",
    "for fname in tqdm(os.listdir(os.path.join(INPUT_DIR, '/clip/')), leave=False):\n",
    "    \n",
    "    fid = int(os.path.splitext(fname)[0])\n",
    "    if fid not in id_to_index:\n",
    "        continue\n",
    "    \n",
    "    vectors.append(np.load(os.path.join(INPUT_DIR, '/clip/', fname)))\n",
    "    \n",
    "    ids.append(fid)\n",
    "\n",
    "vectors = np.concatenate(vectors, axis=0)\n",
    "indices = list(map(id_to_index.get, ids))"
   ]
  },
  {
   "cell_type": "code",
   "execution_count": null,
   "id": "79caab1e-811a-420d-8d8f-13c39aede65c",
   "metadata": {},
   "outputs": [],
   "source": [
    "nsfw = npz['nsfw'][indices]"
   ]
  },
  {
   "cell_type": "code",
   "execution_count": 61,
   "id": "cb7174d7-0ebc-4981-a352-f4e8bd8e87d5",
   "metadata": {
    "tags": []
   },
   "outputs": [
    {
     "data": {
      "application/vnd.jupyter.widget-view+json": {
       "model_id": "",
       "version_major": 2,
       "version_minor": 0
      },
      "text/plain": [
       "  0%|          | 0/309 [00:00<?, ?it/s]"
      ]
     },
     "metadata": {},
     "output_type": "display_data"
    }
   ],
   "source": [
    "scores = get_score_from_embs(vectors, model, BATCH_SIZE)#, preprocess=lambda x: x / x.norm(dim=-1, keepdim=True))"
   ]
  },
  {
   "cell_type": "code",
   "execution_count": 29,
   "id": "06336da8-e2bb-4b07-8e1b-0427f8af988f",
   "metadata": {
    "tags": []
   },
   "outputs": [],
   "source": [
    "from sklearn.metrics import roc_auc_score, roc_curve, auc"
   ]
  },
  {
   "cell_type": "code",
   "execution_count": 62,
   "id": "36b0d05d-ad84-4e7e-a01f-29d89db47b73",
   "metadata": {
    "tags": []
   },
   "outputs": [
    {
     "data": {
      "text/plain": [
       "0.9443499579621821"
      ]
     },
     "execution_count": 62,
     "metadata": {},
     "output_type": "execute_result"
    }
   ],
   "source": [
    "roc_auc_score(nsfw, scores)"
   ]
  },
  {
   "cell_type": "code",
   "execution_count": 64,
   "id": "42621cdc-2bb7-46d9-a8c2-e9d9ef7948a1",
   "metadata": {
    "tags": []
   },
   "outputs": [
    {
     "data": {
      "image/png": "[encoded data removed]",
      "text/plain": [
       "<Figure size 640x480 with 1 Axes>"
      ]
     },
     "metadata": {},
     "output_type": "display_data"
    }
   ],
   "source": [
    "_ = pyplot.hist(scores[nsfw], bins=100, color='red', alpha=0.5)\n",
    "_ = pyplot.hist(scores[~nsfw], bins=100, color='blue', alpha=0.5)"
   ]
  },
  {
   "cell_type": "markdown",
   "id": "48ef415c-6e9b-464c-b546-f26616baf2df",
   "metadata": {
    "tags": []
   },
   "source": [
    "# nsfw_image_detection"
   ]
  },
  {
   "cell_type": "code",
   "execution_count": null,
   "id": "6d740703-5e58-47ab-a24e-4ee26225961f",
   "metadata": {
    "tags": []
   },
   "outputs": [],
   "source": [
    "# model = AutoModel.from_pretrained(\"Falconsai/nsfw_image_detection\", local_files_only=True).cuda().eval()\n",
    "\n",
    "classifier = pipeline(\"image-classification\", model=\"Falconsai/nsfw_image_detection\", device=0, batch_size=BATCH_SIZE)\n",
    "# img = Image.open(\"<path_to_image_file>\")\n",
    "# classifier(img)\n"
   ]
  },
  {
   "cell_type": "markdown",
   "id": "567d737a-84e4-4fad-bec9-be5ea94a71d3",
   "metadata": {},
   "source": [
    "## pre-compute scores"
   ]
  },
  {
   "cell_type": "code",
   "execution_count": 5,
   "id": "02eb9884-5fcf-41bc-9b4e-476cc9be29b5",
   "metadata": {
    "tags": []
   },
   "outputs": [],
   "source": [
    "PMT_PATH = './data/environmental/prompt.json'\n",
    "\n",
    "js = json.load(open(PMT_PATH))"
   ]
  },
  {
   "cell_type": "code",
   "execution_count": 9,
   "id": "4c1c1ae4-3eb0-461c-840c-b4b8929fd92a",
   "metadata": {
    "tags": []
   },
   "outputs": [],
   "source": [
    "file_names = [info['file_path'] for info in js.values()]\n",
    "file_names = [os.path.join('../kcg-ml-image-pipeline/output/dataset/image/', i.replace('_data.msgpack', '.jpg')) for i in file_names]"
   ]
  },
  {
   "cell_type": "code",
   "execution_count": 10,
   "id": "d11d4eef-88cb-4c80-9b5f-a102e115f1c9",
   "metadata": {
    "tags": []
   },
   "outputs": [
    {
     "data": {
      "application/vnd.jupyter.widget-view+json": {
       "model_id": "",
       "version_major": 2,
       "version_minor": 0
      },
      "text/plain": [
       "  0%|          | 0/297 [00:00<?, ?it/s]"
      ]
     },
     "metadata": {},
     "output_type": "display_data"
    },
    {
     "name": "stderr",
     "output_type": "stream",
     "text": [
      "/home/xhxie/snap/kk-digital/kcg-ml-image-pipeline/venv/lib/python3.10/site-packages/transformers/pipelines/base.py:1080: UserWarning: You seem to be using the pipelines sequentially on GPU. In order to maximize efficiency please use a dataset\n",
      "  warnings.warn(\n"
     ]
    }
   ],
   "source": [
    "results = list()\n",
    "\n",
    "for i in tqdm(range(0, len(file_names), BATCH_SIZE)):\n",
    "    \n",
    "    with torch.no_grad():\n",
    "\n",
    "        images = list()\n",
    "        for file_name in file_names[i:i+BATCH_SIZE]:\n",
    "            image = Image.open(file_name)\n",
    "            images.append(image)\n",
    "        \n",
    "        results.extend(classifier(images))"
   ]
  },
  {
   "cell_type": "code",
   "execution_count": 12,
   "id": "19561806-1d37-484e-a71b-5eeb50bd1c64",
   "metadata": {
    "tags": []
   },
   "outputs": [],
   "source": [
    "file_paths = [file_name.replace('../kcg-ml-image-pipeline/output/dataset/image/', '').replace('.jpg', '') for file_name in file_names]"
   ]
  },
  {
   "cell_type": "code",
   "execution_count": 14,
   "id": "38d52072-9c2d-48a3-bbd4-093c8439d000",
   "metadata": {
    "tags": []
   },
   "outputs": [],
   "source": [
    "scores = [[j['score'] for j in i if j['label'] == 'nsfw'][0] for i in results]"
   ]
  },
  {
   "cell_type": "code",
   "execution_count": 16,
   "id": "a4356097-d1d4-4a1f-b9a1-8ccd6765e3f4",
   "metadata": {
    "tags": []
   },
   "outputs": [],
   "source": [
    "np.savez(\n",
    "    './data/environmental-nsfw-score.npz',\n",
    "    file_names=np.array(file_names),\n",
    "    scores=np.array(scores),\n",
    ")"
   ]
  },
  {
   "cell_type": "code",
   "execution_count": null,
   "id": "3164a62d-95d0-4183-ab84-dfd0c2a83b2c",
   "metadata": {},
   "outputs": [],
   "source": []
  },
  {
   "cell_type": "code",
   "execution_count": 37,
   "id": "8023c238-7b57-4272-81fd-a046f85ed6f7",
   "metadata": {
    "tags": []
   },
   "outputs": [],
   "source": [
    "ZIP_PATH = './generated/generated-1116.zip'"
   ]
  },
  {
   "cell_type": "code",
   "execution_count": 38,
   "id": "75ca5964-f967-4bac-9165-64fb9a204baa",
   "metadata": {
    "tags": []
   },
   "outputs": [],
   "source": [
    "f = zipfile.ZipFile(ZIP_PATH)"
   ]
  },
  {
   "cell_type": "code",
   "execution_count": 39,
   "id": "b270b8dd-0f97-44ee-8dc3-f322c0509c01",
   "metadata": {
    "tags": []
   },
   "outputs": [],
   "source": [
    "file_names = list()\n",
    "\n",
    "files = set(f.namelist())\n",
    "\n",
    "for file_path in f.namelist():\n",
    "    \n",
    "    if file_path.startswith('generated/image/') and file_path.endswith('.jpg'):\n",
    "        \n",
    "        file_names.append(file_path)"
   ]
  },
  {
   "cell_type": "code",
   "execution_count": 40,
   "id": "7f73653c-2c59-4bc5-aa3e-840fc2c5c21d",
   "metadata": {
    "tags": []
   },
   "outputs": [
    {
     "data": {
      "application/vnd.jupyter.widget-view+json": {
       "model_id": "",
       "version_major": 2,
       "version_minor": 0
      },
      "text/plain": [
       "  0%|          | 0/73 [00:00<?, ?it/s]"
      ]
     },
     "metadata": {},
     "output_type": "display_data"
    },
    {
     "name": "stderr",
     "output_type": "stream",
     "text": [
      "/home/xhxie/snap/kk-digital/kcg-ml-image-pipeline/venv/lib/python3.10/site-packages/transformers/pipelines/base.py:1080: UserWarning: You seem to be using the pipelines sequentially on GPU. In order to maximize efficiency please use a dataset\n",
      "  warnings.warn(\n"
     ]
    }
   ],
   "source": [
    "results = list()\n",
    "\n",
    "for i in tqdm(range(0, len(file_names), BATCH_SIZE)):\n",
    "    \n",
    "    with torch.no_grad():\n",
    "\n",
    "        images = list()\n",
    "        for file_name in file_names[i:i+BATCH_SIZE]:\n",
    "            image = Image.open(f.open(file_name))\n",
    "            images.append(image)\n",
    "        \n",
    "        results.extend(classifier(images))"
   ]
  },
  {
   "cell_type": "code",
   "execution_count": 42,
   "id": "087f8d7c-f555-4a16-8940-7dd5ef0cdee9",
   "metadata": {
    "tags": []
   },
   "outputs": [],
   "source": [
    "file_paths = [file_name.replace('generated/image/', '').replace('.jpg', '') for file_name in file_names]"
   ]
  },
  {
   "cell_type": "code",
   "execution_count": 43,
   "id": "2f0531ac-2b2d-48e6-ac0c-252a96e08053",
   "metadata": {
    "tags": []
   },
   "outputs": [],
   "source": [
    "scores = [[j['score'] for j in i if j['label'] == 'nsfw'][0] for i in results]"
   ]
  },
  {
   "cell_type": "code",
   "execution_count": 44,
   "id": "f1594ee5-b172-465c-97ac-75c621e8703f",
   "metadata": {
    "tags": []
   },
   "outputs": [],
   "source": [
    "np.savez(\n",
    "    './data/generated-1116-nsfw-score.npz',\n",
    "    file_names=np.array(file_names),\n",
    "    scores=np.array(scores),\n",
    ")"
   ]
  },
  {
   "cell_type": "markdown",
   "id": "62dbc556-bda0-414d-9825-72d189247e2c",
   "metadata": {},
   "source": [
    "## load pre-computed scores & embeddings"
   ]
  },
  {
   "cell_type": "code",
   "execution_count": 10,
   "id": "907cf145-6da6-4792-9797-c51681de3c4e",
   "metadata": {
    "tags": []
   },
   "outputs": [],
   "source": [
    "score_list = list()\n",
    "# image_emb_list = list()\n",
    "text_emb_list = list()"
   ]
  },
  {
   "cell_type": "code",
   "execution_count": 11,
   "id": "d4d44622-e9ed-431d-b2d3-56563bb36fa7",
   "metadata": {},
   "outputs": [
    {
     "data": {
      "application/vnd.jupyter.widget-view+json": {
       "model_id": "",
       "version_major": 2,
       "version_minor": 0
      },
      "text/plain": [
       "  0%|          | 0/18543 [00:00<?, ?it/s]"
      ]
     },
     "metadata": {},
     "output_type": "display_data"
    },
    {
     "data": {
      "application/vnd.jupyter.widget-view+json": {
       "model_id": "",
       "version_major": 2,
       "version_minor": 0
      },
      "text/plain": [
       "  0%|          | 0/40000 [00:00<?, ?it/s]"
      ]
     },
     "metadata": {},
     "output_type": "display_data"
    },
    {
     "data": {
      "application/vnd.jupyter.widget-view+json": {
       "model_id": "",
       "version_major": 2,
       "version_minor": 0
      },
      "text/plain": [
       "  0%|          | 0/22186 [00:00<?, ?it/s]"
      ]
     },
     "metadata": {},
     "output_type": "display_data"
    }
   ],
   "source": [
    "for name in ['generated-1116', 'generated-1117', 'generated-1118']:\n",
    "\n",
    "    npz = np.load(f'./data/{name}-nsfw-score.npz', allow_pickle=True)\n",
    "    f = zipfile.ZipFile(f'./generated/{name}.zip')\n",
    "\n",
    "    file_names = npz['file_names']\n",
    "    scores = npz['scores']\n",
    "\n",
    "    image_embs = list()\n",
    "    text_embs = list()\n",
    "\n",
    "    for file_name in tqdm(file_names, leave=False):\n",
    "\n",
    "#         clip_path = file_name.replace('.jpg', '.npy').replace('/image/', '/clip/')\n",
    "#         image_embs.append(np.load(f.open(clip_path)))\n",
    "\n",
    "        clip_path = file_name.replace('.jpg', '.npz').replace('/image/', '/embedding/')\n",
    "        npz = np.load(f.open(clip_path))\n",
    "        text_embs.append(np.concatenate([npz['positive_pooler_output'], npz['negative_pooler_output']], axis=-1))\n",
    "\n",
    "    # image_embs = np.concatenate(image_embs, axis=0)\n",
    "    text_embs = np.concatenate(text_embs, axis=0)\n",
    "\n",
    "    score_list.append(scores)\n",
    "    # image_emb_list.append(image_embs)\n",
    "    text_emb_list.append(text_embs)    \n"
   ]
  },
  {
   "cell_type": "code",
   "execution_count": 68,
   "id": "05a59da6-7675-4b02-87bd-cc3c2294827f",
   "metadata": {
    "tags": []
   },
   "outputs": [
    {
     "data": {
      "application/vnd.jupyter.widget-view+json": {
       "model_id": "",
       "version_major": 2,
       "version_minor": 0
      },
      "text/plain": [
       "  0%|          | 0/27903 [00:00<?, ?it/s]"
      ]
     },
     "metadata": {},
     "output_type": "display_data"
    }
   ],
   "source": [
    "npz = np.load(f'./data/civitai-nsfw-score.npz', allow_pickle=True)\n",
    "\n",
    "file_names = npz['file_names']\n",
    "scores = npz['scores']\n",
    "\n",
    "image_embs = list()\n",
    "\n",
    "for file_name in tqdm(file_names, leave=False):\n",
    "\n",
    "    clip_path = os.path.join('../dataset/civitai-stable-diffusion-337k/clip/', f'{file_name}.npy')\n",
    "\n",
    "    image_embs.append(np.load(clip_path))\n",
    "\n",
    "image_embs = np.concatenate(image_embs, axis=0)\n",
    "\n",
    "score_list.append(scores)\n",
    "image_emb_list.append(image_embs)"
   ]
  },
  {
   "cell_type": "code",
   "execution_count": 21,
   "id": "96d67a69-fb0f-480f-9ec6-4f03d64b68f0",
   "metadata": {
    "tags": []
   },
   "outputs": [],
   "source": [
    "npz = np.load(f'./data/environmental-nsfw-score.npz', allow_pickle=True)\n",
    "\n",
    "file_names = npz['file_names']\n",
    "scores = npz['scores']\n",
    "\n",
    "path_to_index = {file_path.replace('../kcg-ml-image-pipeline/output/dataset/image/', '').replace('.jpg', ''): i for i, file_path in enumerate(file_names)}\n",
    "\n",
    "# score_list.append(scores)\n",
    "\n",
    "# image_embs = list()\n",
    "\n",
    "# for file_name in tqdm(file_names, leave=False):\n",
    "\n",
    "#     clip_path = file_name.replace('/image/', '/clip/').replace('.jpg', '_clip.msgpack')\n",
    "    \n",
    "#     image_embs.append(np.array(msgpack.load(open(clip_path, 'rb'))['clip-feature-vector']))\n",
    "\n",
    "# image_embs = np.concatenate(image_embs, axis=0)\n",
    "\n",
    "# image_emb_list.append(image_embs)"
   ]
  },
  {
   "cell_type": "code",
   "execution_count": 29,
   "id": "85c10f12-5b49-421e-be7e-f05ae02515ac",
   "metadata": {
    "tags": []
   },
   "outputs": [],
   "source": [
    "npz = np.load('./data/environmental/clip_text_emb.npz')\n",
    "\n",
    "indices = [path_to_index[file_name[:25]] for file_name in npz['file_paths']]\n",
    "text_embs = np.concatenate([npz['positive_pooler_outputs'], npz['negative_pooler_outputs']], axis=-1)\n",
    "\n",
    "score_list.append(scores[indices])\n",
    "text_emb_list.append(text_embs)"
   ]
  },
  {
   "cell_type": "code",
   "execution_count": 31,
   "id": "8ad14d96-46f4-4554-881b-65d517d02976",
   "metadata": {
    "tags": []
   },
   "outputs": [],
   "source": [
    "scores = np.concatenate(score_list, axis=0)\n",
    "# image_embs = np.concatenate(image_emb_list, axis=0).astype('float32')\n",
    "text_embs = np.concatenate(text_emb_list, axis=0)"
   ]
  },
  {
   "cell_type": "markdown",
   "id": "f1769f32-885a-403b-a929-4d8ea03ff89c",
   "metadata": {},
   "source": [
    "## build dataset"
   ]
  },
  {
   "cell_type": "code",
   "execution_count": 32,
   "id": "2154d9cf-6ea7-47a3-b94f-e9c6408eea88",
   "metadata": {
    "tags": []
   },
   "outputs": [],
   "source": [
    "# embs = image_embs\n",
    "embs = text_embs"
   ]
  },
  {
   "cell_type": "code",
   "execution_count": 33,
   "id": "15c9e183-d347-4dac-9cf9-c5cae6caee4a",
   "metadata": {
    "tags": []
   },
   "outputs": [],
   "source": [
    "from sklearn.model_selection import train_test_split\n",
    "from utils import init_weights"
   ]
  },
  {
   "cell_type": "code",
   "execution_count": 34,
   "id": "27aaa245-7a25-4dd1-9d17-b05ca7bbf06c",
   "metadata": {
    "tags": []
   },
   "outputs": [],
   "source": [
    "train_indices, val_indices = train_test_split(np.arange(embs.shape[0]), test_size=0.2, random_state=42)\n",
    "np.random.shuffle(train_indices)"
   ]
  },
  {
   "cell_type": "code",
   "execution_count": 35,
   "id": "f7b0df98-8370-42fe-af32-d1d2bfa94456",
   "metadata": {
    "tags": []
   },
   "outputs": [],
   "source": [
    "train_x = torch.tensor(embs[train_indices]).half().cuda()\n",
    "train_y = torch.tensor(scores[train_indices]).half().cuda()\n",
    "val_x = torch.tensor(embs[val_indices]).half()\n",
    "val_y = torch.tensor(scores[val_indices]).half()"
   ]
  },
  {
   "cell_type": "code",
   "execution_count": 36,
   "id": "6052d74f-47dd-4740-a3cc-91407eedd9fd",
   "metadata": {
    "tags": []
   },
   "outputs": [],
   "source": [
    "train_y = torch.logit(train_y.float() - 1e-6).half()\n",
    "val_y = torch.logit(val_y.float() - 1e-6).half()"
   ]
  },
  {
   "cell_type": "markdown",
   "id": "6a1e73de-e79f-4b4b-a620-c9a46a3a309c",
   "metadata": {},
   "source": [
    "## build model & train"
   ]
  },
  {
   "cell_type": "code",
   "execution_count": 50,
   "id": "e81966a3-a0ff-4363-955a-ce24843eaf4f",
   "metadata": {
    "tags": []
   },
   "outputs": [],
   "source": [
    "model = torch.nn.Linear(train_x.shape[-1], 1).cuda()\n",
    "\n",
    "init_weights(model)"
   ]
  },
  {
   "cell_type": "code",
   "execution_count": 51,
   "id": "0ef26e95-fb1c-4f85-a55c-805650311366",
   "metadata": {
    "tags": []
   },
   "outputs": [],
   "source": [
    "LR = 1e-3\n",
    "BATCH_SIZE = 4096\n",
    "optimizer = torch.optim.Adam(model.parameters(), lr=LR)"
   ]
  },
  {
   "cell_type": "code",
   "execution_count": null,
   "id": "2508a07c-1fbd-45fb-a8e6-294e785c86ce",
   "metadata": {
    "tags": []
   },
   "outputs": [],
   "source": [
    "scaler = torch.cuda.amp.GradScaler()\n",
    "\n",
    "mses, bces, val_mses = list(), list(), list()\n",
    "\n",
    "for epoch in tqdm(range(1000)):\n",
    "    \n",
    "    model.train()\n",
    "    \n",
    "    for i in range(0, train_x.shape[0], BATCH_SIZE):\n",
    "\n",
    "        with torch.cuda.amp.autocast(True):\n",
    "\n",
    "            optimizer.zero_grad()\n",
    "\n",
    "            y = model(train_x[i:i+BATCH_SIZE])\n",
    "\n",
    "        # backward\n",
    "\n",
    "        mse = torch.nn.functional.l1_loss(y, train_y[i:i+BATCH_SIZE, None])\n",
    "        bce = torch.nn.functional.binary_cross_entropy_with_logits(y, (train_y[i:i+BATCH_SIZE, None] > 0.).half(), pos_weight=torch.tensor(20.).cuda())\n",
    "        # mse = torch.nn.functional.mse_loss(y, train_y[i:i+BATCH_SIZE, None])\n",
    "        \n",
    "        loss = mse + bce * 0.1\n",
    "\n",
    "        scaler.scale(loss).backward()\n",
    "        scaler.step(optimizer)\n",
    "        scaler.update()\n",
    "    \n",
    "        bces.append(bce.detach().cpu().numpy())\n",
    "        mses.append(mse.detach().cpu().numpy())\n",
    "        \n",
    "    with torch.no_grad():\n",
    "        with torch.cuda.amp.autocast(True):\n",
    "    \n",
    "            for i in range(0, val_x.shape[0], BATCH_SIZE):\n",
    "                y = model(val_x[i:i+BATCH_SIZE].cuda())\n",
    "\n",
    "                mse = torch.nn.functional.l1_loss(y, val_y[i:i+BATCH_SIZE, None].cuda())\n",
    "                # mse = torch.nn.functional.mse_loss(y, val_y[i:i+BATCH_SIZE, None].cuda())\n",
    "\n",
    "                val_mses.append(mse.detach().cpu().numpy())\n",
    "        \n",
    "    if (epoch + 1) % 100 == 0:\n",
    "        print(f'{np.mean(mses):.4f} {np.mean(bces):.4f} {np.mean(val_mses):.4f}')\n",
    "        mses, bces, val_mses = list(), list(), list()"
   ]
  },
  {
   "cell_type": "code",
   "execution_count": 62,
   "id": "77f565b1-70da-4a64-8965-2c61484ea8f3",
   "metadata": {
    "tags": []
   },
   "outputs": [
    {
     "data": {
      "application/vnd.jupyter.widget-view+json": {
       "model_id": "",
       "version_major": 2,
       "version_minor": 0
      },
      "text/plain": [
       "  0%|          | 0/31 [00:00<?, ?it/s]"
      ]
     },
     "metadata": {},
     "output_type": "display_data"
    }
   ],
   "source": [
    "pred_scores = get_score_from_embs(embs, model, BATCH_SIZE)"
   ]
  },
  {
   "cell_type": "code",
   "execution_count": 63,
   "id": "1060db6b-91fb-4c53-9456-73da00bf3137",
   "metadata": {
    "tags": []
   },
   "outputs": [
    {
     "data": {
      "text/plain": [
       "[<matplotlib.lines.Line2D at 0x7f5ddb63f3a0>]"
      ]
     },
     "execution_count": 63,
     "metadata": {},
     "output_type": "execute_result"
    },
    {
     "data": {
      "image/png": "[encoded data removed]",
      "text/plain": [
       "<Figure size 640x480 with 1 Axes>"
      ]
     },
     "metadata": {},
     "output_type": "display_data"
    }
   ],
   "source": [
    "pyplot.plot(pred_scores, torch.logit(torch.tensor(scores) - 1e-6).detach().cpu().numpy(), '.', alpha=0.2)"
   ]
  },
  {
   "cell_type": "code",
   "execution_count": 56,
   "id": "3c4f74e4-64ed-423f-8e73-67c033679967",
   "metadata": {
    "tags": []
   },
   "outputs": [],
   "source": [
    "from sklearn.metrics import average_precision_score, roc_auc_score"
   ]
  },
  {
   "cell_type": "code",
   "execution_count": 65,
   "id": "e6aa5e72-f2f9-4705-b8c8-06c4d28ed504",
   "metadata": {
    "tags": []
   },
   "outputs": [
    {
     "data": {
      "text/plain": [
       "0.9252067312180519"
      ]
     },
     "execution_count": 65,
     "metadata": {},
     "output_type": "execute_result"
    }
   ],
   "source": [
    "roc_auc_score(scores > 0.5, pred_scores)"
   ]
  },
  {
   "cell_type": "code",
   "execution_count": 66,
   "id": "855aaba6-89c7-4944-b6c0-16e1efc6c8a5",
   "metadata": {
    "tags": []
   },
   "outputs": [
    {
     "data": {
      "text/plain": [
       "0.5489345648204119"
      ]
     },
     "execution_count": 66,
     "metadata": {},
     "output_type": "execute_result"
    }
   ],
   "source": [
    "average_precision_score(scores > 0.5, pred_scores)"
   ]
  },
  {
   "cell_type": "code",
   "execution_count": 57,
   "id": "c2266e66-8e45-49ef-84e4-7d508b3c0aa9",
   "metadata": {
    "tags": []
   },
   "outputs": [],
   "source": [
    "OUTPUT_PATH = './weight/014/nsfw-detector_vision.pt'\n",
    "\n",
    "torch.save(model.state_dict(), OUTPUT_PATH)"
   ]
  },
  {
   "cell_type": "code",
   "execution_count": null,
   "id": "6bb8cf8d-97c2-4122-9e91-2a251b64c27e",
   "metadata": {},
   "outputs": [],
   "source": []
  }
 ],
 "metadata": {
  "kernelspec": {
   "display_name": "kk",
   "language": "python",
   "name": "kk"
  },
  "language_info": {
   "codemirror_mode": {
    "name": "ipython",
    "version": 3
   },
   "file_extension": ".py",
   "mimetype": "text/x-python",
   "name": "python",
   "nbconvert_exporter": "python",
   "pygments_lexer": "ipython3",
   "version": "3.10.13"
  }
 },
 "nbformat": 4,
 "nbformat_minor": 5
}
